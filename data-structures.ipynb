{
 "cells": [
  {
   "cell_type": "markdown",
   "id": "e52d125d-969a-4112-8a30-94d239c1e2df",
   "metadata": {},
   "source": [
    "## Data Structures\n",
    "Composite data or *data structures* simplifies much of programming. \n",
    "Knowing how to program with algorithms using composite data is one of the basic skills of programming. \n",
    "\n",
    "### Sorting a list<a name=\"algorithm_sorting\"></a>\n",
    "The `sort` function can sort lists, but understanding how it works is a good example for programming.\n",
    "Suppose we have a list we want to sort from lowest to highest."
   ]
  },
  {
   "cell_type": "markdown",
   "id": "c95c7f9a-082e-4911-bd02-c7136e0d9338",
   "metadata": {},
   "source": [
    "<img  src=\"sort1.jpg\" width=\"300\">"
   ]
  },
  {
   "cell_type": "markdown",
   "id": "ea2ed473-b06b-4499-a9d6-d2785eee51a7",
   "metadata": {},
   "source": [
    "One way to sort the list is to start at the bottom and move the lowest number to the top. Here, 3 is swapped with 8, then 3 is swapped with 9."
   ]
  },
  {
   "cell_type": "markdown",
   "id": "9e67a9ba-03a9-47b2-bb47-8d0f9bd7cf8b",
   "metadata": {},
   "source": [
    "<img  src=\"sort2.jpg\" width=\"600\">"
   ]
  },
  {
   "cell_type": "markdown",
   "id": "66bbd336-a25a-4f07-82a8-be259d4c9343",
   "metadata": {},
   "source": [
    "The lowest number is now at the top. Next start at the bottom of the list and move the second highest number to be second in the list. Here, 8 is swapped with 9."
   ]
  },
  {
   "cell_type": "markdown",
   "id": "e4ca7ad2-2703-4ec1-be5c-e0c58d9180c4",
   "metadata": {},
   "source": [
    "<img  src=\"sort3.jpg\" width=\"400\">"
   ]
  },
  {
   "cell_type": "markdown",
   "id": "59658afa-6bce-4b24-baf6-5c0419f9789b",
   "metadata": {},
   "source": [
    "The second lowest number is in the second position and the list is now sorted. "
   ]
  },
  {
   "cell_type": "markdown",
   "id": "4092ff56-2b6c-4f22-8f11-49d2f8dabc48",
   "metadata": {},
   "source": [
    "The way we program this is to say what we want to do in English first.\n",
    "\n",
    "- Start with a list *n* long\n",
    "- *Bubble* the lowest item up to the top of the list\n",
    "- Bubble the next lowest item up to the second item in the list\n",
    "- Repeat this until we bubble the second highest number to the second-to-the-last item in the list\n",
    "\n",
    "We compare the last item in the list to the one above it, and swap them  if the last item is less.\n",
    "We do this until we compare the second item in the list to the first item in the list.\n",
    "We then compare the last item in the list to the one above it, and swap them if the last item is less.\n",
    "We compare and swap items until we compare to the second item in the list.\n",
    "This says that bubble up to the top of the list, to the second item of the list, until we compare to the second-to-the-last item in the list, or *n-1* times, because there are n-1 items between the top and the second-to-the-last item.\n",
    "\n",
    "We want a program that looks like this:\n",
    "```\n",
    "sort(L):\n",
    "  n = len(L)\n",
    "  # bubble the lowest item to the top, then the second, down to the second-to-last spot in the list\n",
    "  for i in 1 to n-1:\n",
    "    from j = n (the last item) to i-1 # the spot below the one we're bubbling to\n",
    "      compare the item at j to the item at j-1\n",
    "      swap them if the item at j is less than the item at j-1\n",
    "```      \n",
    "That is about it, except shifting the spots in the list because lists positions start at 0, not 1. Here is the program as a function, with some prints to track what it's doing."
   ]
  },
  {
   "cell_type": "code",
   "execution_count": null,
   "id": "b8ed4a74-2b6a-497b-8265-1648090e1db4",
   "metadata": {},
   "outputs": [],
   "source": [
    "def sort(L):\n",
    "    n = len(L)\n",
    "    print(f'at the start L is {L} and len(L) is {n}')\n",
    "    for i in range(n-1):\n",
    "        print(f'  bubbling the next lowest item to the position {i}')\n",
    "        for j in range(n-1, i, -1):\n",
    "            print(f'    comparing L[{j}] = {L[j]} to L[{j-1}] = {L[j-1]}')\n",
    "            if (L[j] < L[j-1]):\n",
    "                print(f'    swapping  L[{j}] = {L[j]} and L[{j-1}] = {L[j-1]}')\n",
    "                x = L[j]\n",
    "                L[j] = L[j-1]\n",
    "                L[j-1] = x\n",
    "        print(f'    L at round {i} is {L}')\n",
    "    \n",
    "L = [9, 8, 3]\n",
    "sort(L)\n",
    "print(f'at the end L is {L}')"
   ]
  },
  {
   "cell_type": "markdown",
   "id": "8faea419-a380-473d-bc69-9528b52b1340",
   "metadata": {},
   "source": [
    "The final list matches our diagram. The steps to write this program were:\n",
    "- coming up with a small test case that shows how the program works\n",
    "- thinking out an idea of how the program might work, here the key was *bubbling* the lowest element to it's right position each time\n",
    "- making a diagram of steps as the program runs\n",
    "- writing the idea in English in a way that the steps are understandable\n",
    "- writing the Python instructions, printing out variables at various steps as the program runs\n",
    "\n",
    "One way this program would be useful is that what we define as *lower* items might be more complicated than *the number value of the item is less*. \n",
    "The items might be strings, or *less* might be that a \"mouse\" might be less than a \"rabbit\", a \"rabbit\" might be less than a \"dog\", and so forth.\n",
    "We would change the comparison `L[j] < L[j-1]` to our own comparison to test if an item is *less* than another. \n",
    "We saw how `for` loops can control the bubbling, and that a small program can sort a list of any size."
   ]
  }
 ],
 "metadata": {
  "kernelspec": {
   "display_name": "Python 3 (ipykernel)",
   "language": "python",
   "name": "python3"
  },
  "language_info": {
   "codemirror_mode": {
    "name": "ipython",
    "version": 3
   },
   "file_extension": ".py",
   "mimetype": "text/x-python",
   "name": "python",
   "nbconvert_exporter": "python",
   "pygments_lexer": "ipython3",
   "version": "3.11.5"
  }
 },
 "nbformat": 4,
 "nbformat_minor": 5
}
