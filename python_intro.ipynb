{
 "cells": [
  {
   "cell_type": "markdown",
   "id": "f2d8b013-e759-43c5-b62e-edbbb7c974f9",
   "metadata": {
    "tags": []
   },
   "source": [
    "# Introduction to Data Processing with Python \n",
    "\n",
    "This is an introduction to Python for someone with little or no prior experience in programming.\n",
    "\n",
    "In this introduction we will cover:\n",
    "- Why we use computers to solve problems\n",
    "- Why we use programs to control how computers work\n",
    "- Why we use programming languages to write programs\n",
    "- Why Python is a good choice of a programming language\n",
    "\n",
    "This is designed for someone who:\n",
    "- knows their way around a computer, how to use a file list window to find files\n",
    "- can use a browser for the internet, how to open websites and download files on their computer\n",
    "- has a basic understanding of math, including variables, functions, and comparing numbers \n",
    "\n",
    "This will teach how to use computers to automate calculations and tasks using data.\n",
    "\n",
    "[Background](./background.ipynb)  \n",
    "[First Python program](./first-program.ipynb)  \n",
    "[Variables](./variables.ipynb)  \n",
    "[Data](./data.ipynb)  \n",
    "[Instruction control](./instruction-control.ipynb)  \n",
    "[Functions](./functions.ipynb)  \n",
    "[Regular expressions](./regular-expressions.ipynb)  \n",
    "[Files](./files.ipynb)  \n",
    "[Examples](./examples.ipynb)  \n",
    "[Data structures](./data-structures.ipynb)  \n",
    "[Data cleaning](./data-cleaning.ipynb)  \n",
    "[Glossary](./glossary.ipynb)  "
   ]
  },
  {
   "cell_type": "code",
   "execution_count": null,
   "id": "afa299c3",
   "metadata": {},
   "outputs": [],
   "source": []
  }
 ],
 "metadata": {
  "kernelspec": {
   "display_name": "Python 3 (ipykernel)",
   "language": "python",
   "name": "python3"
  },
  "language_info": {
   "codemirror_mode": {
    "name": "ipython",
    "version": 3
   },
   "file_extension": ".py",
   "mimetype": "text/x-python",
   "name": "python",
   "nbconvert_exporter": "python",
   "pygments_lexer": "ipython3",
   "version": "3.11.5"
  }
 },
 "nbformat": 4,
 "nbformat_minor": 5
}
