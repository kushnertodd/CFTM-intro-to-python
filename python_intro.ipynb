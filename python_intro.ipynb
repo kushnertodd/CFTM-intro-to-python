{
 "cells": [
  {
   "cell_type": "markdown",
   "id": "f2d8b013-e759-43c5-b62e-edbbb7c974f9",
   "metadata": {
    "tags": []
   },
   "source": [
    "# Introduction to Data Processing with Python \n",
    "\n",
    "This is an introduction to Python for someone with little or no prior experience in programming.\n",
    "\n",
    "In this introduction we will cover:\n",
    "- Why we use computers to solve problems\n",
    "- Why we use programs to control how computers work\n",
    "- Why we use programming languages to write programs\n",
    "- Why Python is a good choice of a programming language\n",
    "\n",
    "This is designed for someone who:\n",
    "- knows their way around a computer, how to use a file list window to find files\n",
    "- can use a browser for the internet, how to open websites and download files on their computer\n",
    "- has a basic understanding of math, including variables, functions, and comparing numbers \n",
    "\n",
    "This will teach how to use computers to automate calculations and tasks using data.\n",
    "\n"
   ]
  },
  {
   "cell_type": "markdown",
   "id": "fbe4d4b0-1dd5-458e-aab6-2903c533cdb9",
   "metadata": {},
   "source": [
    "# Computers\n",
    "\n",
    "Computers can solve problems involving any kind of *data* that can be store electronically, \n",
    "numbers and text.\n",
    "Computers can process large amounts of *data* faster and more accurately than people.\n",
    "They are good for tasks that are tedious and do not need a person to solve them.\n",
    "\n",
    "The advantage of computers is that they can process instructions tirelessly, faster and more accurately than people. "
   ]
  },
  {
   "cell_type": "markdown",
   "id": "942a7454-6f7d-490d-b0b0-f2624d496c8a",
   "metadata": {},
   "source": [
    "# Data\n",
    "\n",
    "*Data* can represent terms, facts, measurements, or statistics.\n",
    "data are \n",
    "number\n",
    "text\n",
    "  characters typed on the keyboard\n",
    "\n",
    "\n",
    "*Information* is the result of summarizing, classifying, and interpreting raw data so that it can be used to make decisions.\n",
    "\n",
    "For example, the temperature outside now is *data*. \n",
    "\n",
    "You can decide whether to go out in shorts or not based on it, but it has limited use.\n",
    "\n",
    "Combining that data into temperature trends for the week, or the minimum and maximum temperatures for a day, is *information* that can be used to make predictions about the future weather. \n",
    "\n",
    "*Data processing* converts data to information for any organization that needs to use data.\n",
    "\n",
    "\n",
    "\n",
    "Data processing consists of several steps.\n",
    "1. Collecting raw data from external sources.\n",
    "1. *Preprocessing* or *cleaning* data to reduce errors, duplications, inconsistencies, and inaccuracies.\n",
    "1. Storing usable data in files or databases to make it available to analyze.\n",
    "1. Interpreting data using methods such as statistics and data science to produce actionable information.\n",
    "1. Providing the resulting information for decision making and planning in a useful and understandable way.\n",
    "\n",
    "![image ](data-processing1.jpg)"
   ]
  },
  {
   "cell_type": "markdown",
   "id": "9469398d-0cb1-4d28-8ce4-9cceeb1bd8d6",
   "metadata": {},
   "source": [
    "# Programs\n",
    "Computers can store instructions to solve problems as *programs*.\n",
    "Storing *programs* allows using them rto epeatedly to solve problems.\n",
    "\n",
    "\n",
    "\n",
    "programs convert input to output\n",
    "input data\n",
    "output information\n",
    "inside process\n",
    "logic\n",
    "calculations\n",
    "\n",
    "\n",
    "Computers run programs made up of *instructions* that process data, like a recipe.\n",
    "- Programmers take input data, [*algorithms*](#glossary_algorithm), and the desired output to write Python programs.\n",
    "\n",
    "\n",
    "\n",
    "<img  src=\"data-processing2.jpg\" width=\"1000\">\n",
    "\n",
    "\n",
    "Programs are often written to perform manual work that already exists.\n",
    "The effort of writing programs is often repaid by automating tasks that are tedious and require little skill. \n"
   ]
  },
  {
   "cell_type": "markdown",
   "id": "1c4ea695-5c07-4e32-b2c5-69c233c429d6",
   "metadata": {},
   "source": [
    "# Statements \n",
    "\n",
    "\n",
    "Instructions or *statements* are steps that a computer can run.\n",
    "Statements are usually in a mathematical form, \n",
    "using *variables* and *functions* like a mathematical formula.\n",
    "\n",
    "\n",
    "instructions use expressions\n",
    "\n",
    "instructions are statements\n",
    "\n",
    "statements often in mathematical form a=b+c\n",
    "\n"
   ]
  },
  {
   "cell_type": "markdown",
   "id": "fbd91191-bdab-41a1-b6b6-304c883a9cf6",
   "metadata": {},
   "source": [
    "# Functions \n",
    "Functions are sequence of instructions like small program.\n",
    "Functions can run instructions may return values.\n",
    "Python gives a full list of available functions, including those discussed below, at this link.\n",
    "\n",
    "https://docs.python.org/3/library/functions.html\n"
   ]
  },
  {
   "cell_type": "markdown",
   "id": "141027b4-0a76-477c-b0ab-9c0434c70ec8",
   "metadata": {},
   "source": [
    "# Variables \n",
    "Variables are locations to store data"
   ]
  },
  {
   "cell_type": "markdown",
   "id": "91553a3b-208f-45c4-a2e2-2e55c8f8e869",
   "metadata": {},
   "source": [
    "# Programming languages\n",
    "- Computers [*CPUs*](#glossary_cpu) run instructions then convert input data to program output.\n",
    "but have to be told how to do it precisely and completely.\n",
    "\n",
    "programming language precise consistent\n",
    "\n",
    "english too exact unclear ambigous inconsistent to use as programming language\n",
    "\n",
    "Programming languages make programs easy to read and remember what they do."
   ]
  },
  {
   "cell_type": "markdown",
   "id": "f65d5f8b-ff83-4dee-97d3-e604f7dfe64f",
   "metadata": {},
   "source": [
    "## Python\n",
    "Python is a programming language that allows telling the computer exactly what to do.\n",
    "*Python* is a programming language that allows telling the computer what to do in a readable and easily understandable way.\n",
    "Python has many ways to read data, and includes many methods that can be used to process data.\n",
    "Python allows organizing data to make designing how to calculate with it easier.\n",
    "- Python translates Python code into machine instructions that the computer can run."
   ]
  },
  {
   "cell_type": "markdown",
   "id": "17ec9bde-ba7b-4272-a166-13811eb92b0b",
   "metadata": {},
   "source": [
    "## Program Code\n",
    "instructions coded in programming language\n",
    "= program code"
   ]
  },
  {
   "cell_type": "code",
   "execution_count": 11,
   "id": "3acd88df-65bb-4441-9437-a0a013bde005",
   "metadata": {},
   "outputs": [
    {
     "ename": "SyntaxError",
     "evalue": "invalid syntax (673356158.py, line 2)",
     "output_type": "error",
     "traceback": [
      "\u001b[1;36m  Input \u001b[1;32mIn [11]\u001b[1;36m\u001b[0m\n\u001b[1;33m    *Jupyter* allows mixing\u001b[0m\n\u001b[1;37m                     ^\u001b[0m\n\u001b[1;31mSyntaxError\u001b[0m\u001b[1;31m:\u001b[0m invalid syntax\n"
     ]
    }
   ],
   "source": [
    "## Jupyter\n",
    "*Jupyter* allows mixing \n",
    "explanations, notes, discussions with\n",
    "program code you can run."
   ]
  },
  {
   "cell_type": "code",
   "execution_count": null,
   "id": "472d022f-06b7-4183-9f69-4e10603cc035",
   "metadata": {
    "jp-MarkdownHeadingCollapsed": true,
    "tags": []
   },
   "outputs": [],
   "source": [
    "s=\"hi there\"\n",
    "l= [char for char in s]\n",
    "print(l)\n",
    "t=\"a-b-c--\"\n",
    "m=t.split(\"-\")\n",
    "print(m)"
   ]
  },
  {
   "cell_type": "markdown",
   "id": "561a9dac-ff32-44bf-851e-1cf128c5392a",
   "metadata": {},
   "source": [
    "## Instructions \n",
    "Each instruction is a single step the program takes as it runs.\n",
    "Instructions read data, \n",
    "do calculations,\n",
    "use logic to decide what later instructions to run,\n",
    "and write data from the program.\n",
    "Instructions are written in a readable language that is translated into a form that a computer can run. \n",
    "This will describe the kinds of instructions that a Python program can run, what they do, and how to write them. \n",
    "\n",
    "<img  src=\"program1.jpg\" width=\"600\">\n",
    "\n",
    "Many programs frequency perform the same tasks, \n",
    "so they use *functions* that collect groups of instructions together to save time programming.\n",
    "Functions are much like programs used within programs.\n",
    "Python provides a *library* of common program functions.\n",
    "Much of the effort learning to program is memorizing what these functions do and how to use them in programs.\n",
    "\n",
    "The following sections describe of basic types of data used in programs and useful functions to process them. \n",
    "The sections use knowledge from previous sections so you are meant to go through them one by one. \n",
    "When you are done, you will be able to write basic Python programs like the examples at the end. \n",
    "\n",
    "The Internet has a wealth of information to make programming easier and more effective. \n",
    "[python.org](python.org) and [w3schools.com](w3schools.com) are good sources of basic information on using Python. \n",
    "There are many useful [books](https://hackr.io/blog/best-python-books-for-beginners-and-advanced-programmers) on Python or further study and to use as references. \n",
    "Searching for the type of program you want to write and looking for examples you can use as samples can save you a lot of time programming. \n",
    "Python gives you an error you cannot understand, search for the error and you may find an explanation or solution on websites like [stackexchange.com](stackexchange.com) and [stackoverflow.com](stackoverflow.com)."
   ]
  },
  {
   "cell_type": "markdown",
   "id": "03f1e72d-50b2-4894-acb7-94b42e5a666e",
   "metadata": {
    "tags": []
   },
   "source": [
    "## Using Jupyter\n",
    "Jupyter is a web application that lets you write explanation and figures alongside program code that you can run inside a single *Notebook*, which allows you to run and test out program code. \n",
    "You can add your own explanations and notes that you can save and reload at your next session. \n",
    "You can perform and record experiments, and then you or others can rerun them at a later time. "
   ]
  },
  {
   "cell_type": "markdown",
   "id": "43bf417a-8763-4ee1-8019-115f40b41f67",
   "metadata": {},
   "source": [
    "A notebook is a series of *cells*. There are two kinds of cells, *Markdown* and program code.\n",
    "There is a menu and toolbar that give you functions to run, add, modify, and delete cells. \n",
    "\n",
    "<img  src=\"menu1.jpg\">"
   ]
  },
  {
   "cell_type": "markdown",
   "id": "b936e987-f1a3-4184-95f3-ab37f9ddf52f",
   "metadata": {},
   "source": [
    "Select a cell by clicking on it.\n",
    "Clicking the <img src=\"plus1.jpg\"> icon will add an empty cell below the current cell.\n",
    "A new cell is initially a program code cell.\n",
    "Program code can go into cells like the one following.\n",
    "You run code in Jupyter by selecting the cell and pressing `Shift+Enter`, or selecting **Run Cell** \n",
    "in the **Cell** menu. You can also click the <img src=\"triangle1.jpg\" align=\"top\"> icon on the menu above.\n",
    "The result of running the code will appear below the cell."
   ]
  },
  {
   "cell_type": "code",
   "execution_count": null,
   "id": "182b7fe5-9559-48f0-87ed-4edf86a3e99b",
   "metadata": {},
   "outputs": [],
   "source": [
    "print(\"Hello world\")"
   ]
  },
  {
   "cell_type": "markdown",
   "id": "e5b39f35-b914-4307-96cd-096748aadb51",
   "metadata": {},
   "source": [
    "<table><tr>\n",
    "<td><img src=\"markdown1.jpg\" align=\"top\"><br></td>\n",
    "<td>\n",
    "Explanations like this and notes go in Markdown cells.\n",
    "To change a new cell to a Markdown cell, select <b>Markdown</b> from the <b>Markdown</b> menu. \n",
    "</td>\n",
    "</tr></table>"
   ]
  },
  {
   "cell_type": "markdown",
   "id": "a90b8256-7d15-4dd6-bbc5-b74e4f317fa8",
   "metadata": {},
   "source": [
    "Explanations and notes go in Markdown cells.\n",
    "To change a new cell to a Markdown cell, select **Markdown** from the **Markdown** menu.\n",
    "<br>\n",
    "<img src=\"markdown1.jpg\">"
   ]
  },
  {
   "cell_type": "markdown",
   "id": "faa27a04-92ce-4e75-934b-bf736e1960db",
   "metadata": {},
   "source": [
    "Markdown lets you format explanation and note text. \n",
    "You can use punctuation like `#` to get headings,\n",
    "`*` to get italics and bold text, and `[]` and `()` to get web links."
   ]
  },
  {
   "cell_type": "markdown",
   "id": "5813a1fe-cc80-4e2a-93bd-d1808f0340b4",
   "metadata": {},
   "source": [
    "<table><tr>\n",
    "    <td>\n",
    "<code># You can add headings like this\n",
    "You can add *italics* or **bold** text.\n",
    "## There are sub headings\n",
    "You can include web links like this [Google](http://www.google.com).\n",
    "</code>\n",
    "    </td>\n",
    "    <td>\n",
    "<img src=\"markdown2.jpg\" width=\"300\">\n",
    "    </td>\n",
    "    </tr></table>"
   ]
  },
  {
   "cell_type": "markdown",
   "id": "d7fe5a08-c26e-47bf-9267-dedf80e5b1bf",
   "metadata": {},
   "source": [
    "You press `Shift-Enter` to format a Markdown cell. \n",
    "Can can press `Enter` on a selected cell or double-click on a formtted Markdown cell to edit it."
   ]
  },
  {
   "cell_type": "markdown",
   "id": "757b3a66-2c9c-4e7c-bdc1-34d63a79b906",
   "metadata": {},
   "source": [
    "You can cut or copy the current cell with the <img src=\"cut1.jpg\" align=\"top\"> and <img src=\"copy1.jpg\" align=\"top\"> icons,\n",
    "or with  **Cut Cells** or **Copy Cells** from the **Edit** menu.\n",
    "You can paste a cell with the <img  src=\"paste1.jpg\" align=\"top\"> icon,\n",
    "or with **Paste Cells Below**, **Paste Cells Above**, or **Paste Cells and Replace** from the **Edit** menu.\n",
    "You can delete the current cell or cells with **Delete Cells** from the **Edit** menu.\n",
    "\n",
    "<img src=\"menu2.jpg\" width=\"300\">"
   ]
  },
  {
   "cell_type": "markdown",
   "id": "28b36149-49dc-446f-bc1e-8f6b64c2b93a",
   "metadata": {},
   "source": [
    "There are also keyboard shortcuts, so `X` cuts the current cell, `C` copies it, `V` pastes below it, and `D D` deletes the current cell."
   ]
  },
  {
   "cell_type": "markdown",
   "id": "afbb03c5-60b4-4773-8c7e-b6494d140e10",
   "metadata": {
    "tags": []
   },
   "source": [
    "a"
   ]
  },
  {
   "cell_type": "markdown",
   "id": "2e5a8dd4-004e-4a24-b110-462ac035f923",
   "metadata": {},
   "source": [
    "This is our first program in Python.\n",
    "Run the code below by clicking on the cell and typing *Shift-Enter*."
   ]
  },
  {
   "cell_type": "code",
   "execution_count": null,
   "id": "0e906b65-15ad-4198-9c36-06e0754d0813",
   "metadata": {},
   "outputs": [],
   "source": [
    "print(\"Hello world.\")"
   ]
  },
  {
   "cell_type": "markdown",
   "id": "1127dd6e-eaaa-4168-9f5e-3a2dc4d02419",
   "metadata": {
    "tags": []
   },
   "source": [
    "Here is a first program that converts a temperature in Celsius to Fahrenheit. The formula is:\n",
    "\n",
    "&nbsp;&nbsp;&nbsp;&nbsp;Temperature in Fahrenheit = $\\frac{9}{5}$ x Temperature in Celsius\n",
    "\n",
    "Run the code below by clicking on the cell and typing *Shift-Enter*."
   ]
  },
  {
   "cell_type": "code",
   "execution_count": null,
   "id": "2e8bc04c-d379-44a0-809b-aa2f1bba43b1",
   "metadata": {},
   "outputs": [],
   "source": [
    "temp = eval(input('Enter a temperature in Celsius: '))\n",
    "print('In Fahrenheit, that is', 9/5 * temp + 32)"
   ]
  },
  {
   "cell_type": "markdown",
   "id": "e5216335-2b1d-407e-9c21-71f5fd3fc174",
   "metadata": {},
   "source": [
    "What the code does is this.\n",
    "\n",
    "- `input` is a *function* that takes the *string* `'Enter a temperature in Celsius: '` in quotes and prints it out.\n",
    "It then waits for you to type an answer and returns that as a *string*.\n",
    "- `eval` is a *function* that takes the *string* from `input` and converts it to a number.\n",
    "- The number is given a name by *assigning* it to the *variable* `temp` to remember to use later.\n",
    "- `print` is a *function* that takes the *string* in quotes and prints it out, along with the temperature in `temp` converted from Celsius to Fahrenheit.\n",
    "\n"
   ]
  },
  {
   "cell_type": "markdown",
   "id": "75e0ca00-3d8b-49c1-91bb-0af7e2c27459",
   "metadata": {},
   "source": [
    "*Strings* are text that can be inside either two double quotes `\"` or two single quotes `'`. \n",
    "The same quote starts and ends the string. "
   ]
  },
  {
   "cell_type": "code",
   "execution_count": null,
   "id": "ce457ed8-dfd0-4162-8965-1035bc4f669c",
   "metadata": {},
   "outputs": [],
   "source": [
    "print(\"this is a double-quoted string\")\n",
    "print('this is a single-quoted string')"
   ]
  },
  {
   "cell_type": "markdown",
   "id": "be07aa74-0e25-4f7b-a06a-c46f7a32eeaa",
   "metadata": {},
   "source": [
    "If you need to put a double quote in a string, you can use a single-quoted string. "
   ]
  },
  {
   "cell_type": "code",
   "execution_count": null,
   "id": "621c12cf-f7dc-4275-bb71-22579ca92b30",
   "metadata": {
    "tags": []
   },
   "outputs": [],
   "source": [
    "print(\"this is a double-quoted string with a single quote ' in it\")"
   ]
  },
  {
   "cell_type": "markdown",
   "id": "0dcfe411-71a6-4d1e-9b07-fd1976ef1a9e",
   "metadata": {},
   "source": [
    "If you need to put a single quote in a string, you can use a double-quoted string."
   ]
  },
  {
   "cell_type": "code",
   "execution_count": null,
   "id": "53e8a78e-5d0c-44ea-9c00-ee9d17d5c855",
   "metadata": {},
   "outputs": [],
   "source": [
    "print('this is a single-quoted string with a double quote \" in it')"
   ]
  },
  {
   "cell_type": "markdown",
   "id": "7fdbf7e6-5a34-4e30-a3a8-c7acc0eb1b9a",
   "metadata": {},
   "source": [
    "## Variables\n",
    "Programs pass values from instruction to instruction using *variables*. \n",
    "This stores 5 in a variable named `x` and prints it out.\n",
    " `=` assigns 5 to `x`. "
   ]
  },
  {
   "cell_type": "code",
   "execution_count": null,
   "id": "ff09d40d-863f-4f2e-baf4-7943bc83464d",
   "metadata": {},
   "outputs": [],
   "source": [
    "x = 5\n",
    "print(\"x is \", x)"
   ]
  },
  {
   "cell_type": "markdown",
   "id": "5639248d-06ec-4f17-8f62-876f0c0fb0fc",
   "metadata": {},
   "source": [
    "The variable can be shown like this, where `x` is a name for a place in which the value 5 is stored."
   ]
  },
  {
   "cell_type": "markdown",
   "id": "09eea754-9db3-4997-8759-6c99094a06e7",
   "metadata": {},
   "source": [
    "![image](variable1.jpg)"
   ]
  },
  {
   "cell_type": "markdown",
   "id": "5ab60da1-7393-49ec-837c-660b2b481ab2",
   "metadata": {},
   "source": [
    "Another way to print the variable `x` is with a *formatted string*, beginning with `f’` and ending with `'`. \n",
    "This prints out the value of the variable `x` in a formatted string, surrounding the variable `x` with `{` and `}`. \n",
    "Any Python value can be used between `{` and `}`. This can print a variable in a more concise way."
   ]
  },
  {
   "cell_type": "code",
   "execution_count": null,
   "id": "60182a9a-5ec0-4317-af3c-e49aec87f7a2",
   "metadata": {},
   "outputs": [],
   "source": [
    "x = 5\n",
    "print(f'x is {x}.')"
   ]
  },
  {
   "cell_type": "markdown",
   "id": "f78c4dba-b200-4d52-b8d3-c8cb2bd2fd03",
   "metadata": {},
   "source": [
    "A variable can be assigned a  value and then be assigned to another  value to replace it. This stores 5 in the variable `x`, and prints it out. \n",
    "It then stores 7 in `x` and prints it out."
   ]
  },
  {
   "cell_type": "code",
   "execution_count": null,
   "id": "fc807d22-dc64-48da-ac46-13562f952ace",
   "metadata": {},
   "outputs": [],
   "source": [
    "x = 5\n",
    "print(f'first x is {x}')\n",
    "x = 7\n",
    "print(f'then x is {x}')"
   ]
  },
  {
   "cell_type": "markdown",
   "id": "899bdb9c-ea0c-4628-8478-3db38ab34435",
   "metadata": {},
   "source": [
    "This can be shown like this, where `x` has the data 5 stored in it that is then replaced with the data 7, where `→` means \"set to new value\"."
   ]
  },
  {
   "cell_type": "markdown",
   "id": "33a8c823-7cb1-4567-80a4-7ce14623b845",
   "metadata": {},
   "source": [
    "![variable2.jpg](variable2.jpg)"
   ]
  },
  {
   "cell_type": "markdown",
   "id": "de12c4db-ee33-44a3-902a-8bce1c87c3aa",
   "metadata": {},
   "source": [
    "A variable can also be assigned the value of another variable. \n",
    "This stores 5 in the variable `x`, then assigns the variable `y` to the value of `x` and prints it out."
   ]
  },
  {
   "cell_type": "code",
   "execution_count": null,
   "id": "86ce5c3b-5610-448f-a971-f9746a1796b2",
   "metadata": {},
   "outputs": [],
   "source": [
    "x = 5\n",
    "y = x\n",
    "print(f'x is {x} and y is {y}')"
   ]
  },
  {
   "cell_type": "markdown",
   "id": "74924ce7-f81b-499c-9319-be05287d595d",
   "metadata": {},
   "source": [
    "![image](variable3.jpg)"
   ]
  },
  {
   "cell_type": "markdown",
   "id": "6343d991-1389-437f-b247-d3c2857395bb",
   "metadata": {},
   "source": [
    "Variables can store text strings as well as numbers.\n",
    "This stores a string in the variable `s` and prints it out."
   ]
  },
  {
   "cell_type": "code",
   "execution_count": null,
   "id": "4757f448-a86e-4f36-996c-3e9434aafa8f",
   "metadata": {},
   "outputs": [],
   "source": [
    "s = \"Hello world\"\n",
    "print(f'the text is \"{s}\"')"
   ]
  },
  {
   "cell_type": "markdown",
   "id": "391aa838-36c9-4488-b139-d4c70f4f4da8",
   "metadata": {},
   "source": [
    "### A note on variable names\n",
    "Variable names start with a [*lowercase*](#glossary_lowercase) letter, `a` to `z`, or an [*uppercase*](#glossary_uppercase) letter, `A` to `Z`, or `_`. They can have a `_`, letter, or number inside but no other punctuation in them. They can not have a number at the beginning. "
   ]
  },
  {
   "cell_type": "code",
   "execution_count": null,
   "id": "7ac42e82-477f-4f09-9c04-6a8c14cd26f5",
   "metadata": {},
   "outputs": [],
   "source": [
    "x = 2\n",
    "x_y = 3\n",
    "_x = 4\n",
    "print(f'x is {x}, x_y is {3}, _x is {4}')"
   ]
  },
  {
   "cell_type": "markdown",
   "id": "4ca4a674-89b6-47bc-897a-4a3bbdc61cbf",
   "metadata": {},
   "source": [
    "Capital and small letters matter, the variable name must always look exactly the same everywhere."
   ]
  },
  {
   "cell_type": "code",
   "execution_count": null,
   "id": "e9b9c309-db25-4980-b5d7-b61b545ceeb4",
   "metadata": {},
   "outputs": [],
   "source": [
    "X = 5\n",
    "x = 6\n",
    "print(f'X is {X}, x is {x}')"
   ]
  },
  {
   "cell_type": "markdown",
   "id": "3105fe3c-3567-4fa9-a504-7ba4988bb729",
   "metadata": {},
   "source": [
    "In the code here we will use different variable names for different types of data. They will be these:\n",
    "- `s`, `t`, `u`, `v`, and so on will have *string* values\n",
    "- `x`, `y`, `z`, and sometimes `n` will have number values"
   ]
  },
  {
   "cell_type": "markdown",
   "id": "ddc84f49-9a41-42f6-ba89-da8ee6f43501",
   "metadata": {
    "tags": []
   },
   "source": [
    "## Data\n",
    "Numbers and strings are only two types of data in Python. \n",
    "Numbers and strings start as *literal constants* and are the most basic types of data in Python. \n",
    "`\"hello\"` and `5` are literal constants.\n",
    "Python instructions can combine these values with different *operations* and can store them in variables. \n",
    "Instructions can use literal constants or can use the values stored in variables. \n",
    "Run this to add two values and store them in the variable `y`.\n"
   ]
  },
  {
   "cell_type": "code",
   "execution_count": null,
   "id": "40c13380-719a-459e-8921-37b20e35f63f",
   "metadata": {},
   "outputs": [],
   "source": [
    "x = 5\n",
    "y = x + 2\n",
    "print(f'x is {x} and x + 2 is {y}')"
   ]
  },
  {
   "cell_type": "markdown",
   "id": "f1dffd36-cddf-499c-921c-f7e2c8674b02",
   "metadata": {},
   "source": [
    "The sections below will show examples of operations available for these data types.\n",
    "\n",
    "### Numbers\n",
    "Numbers in Python are either *integers*, which are signed whole numbers, and *real numbers* that can have a fractional part. \n",
    "When you do arithmetic on them you can use either of the types."
   ]
  },
  {
   "cell_type": "code",
   "execution_count": null,
   "id": "a8881606-6b80-4db2-83b0-1ae8391cddbe",
   "metadata": {},
   "outputs": [],
   "source": [
    "x = 5 + 3.2\n",
    "print(f'5 + 3.2 is {x}')"
   ]
  },
  {
   "cell_type": "markdown",
   "id": "38580422-9c75-419f-a18a-c4f87725cee6",
   "metadata": {},
   "source": [
    "#### Number operators\n",
    "The usual arithmetic operators can be used, like addition `+` and subtraction `-`. \n"
   ]
  },
  {
   "cell_type": "code",
   "execution_count": null,
   "id": "286b839c-3a49-442d-8adc-9d2b4a25709d",
   "metadata": {},
   "outputs": [],
   "source": [
    "x = 5 + 3\n",
    "print(f'x = 5 + 3 is {x}')\n",
    "x = 4 - 1\n",
    "print(f'x = 4 - 1 is {x}')"
   ]
  },
  {
   "cell_type": "markdown",
   "id": "30e79e26-99a4-442a-951e-d2ebaf45ff64",
   "metadata": {},
   "source": [
    "You can do multiplication with `*` instead of `x`. "
   ]
  },
  {
   "cell_type": "code",
   "execution_count": null,
   "id": "0e25d00e-287e-449f-883a-afdfef9f87b4",
   "metadata": {},
   "outputs": [],
   "source": [
    "x = 4 * 3.2\n",
    "print(f'x = 4 * 3.2 is {x}')"
   ]
  },
  {
   "cell_type": "markdown",
   "id": "551e835f-3c3f-4c9f-8fd3-654a3a58b476",
   "metadata": {},
   "source": [
    "We do division with `\\` instead of $\\div$."
   ]
  },
  {
   "cell_type": "code",
   "execution_count": null,
   "id": "7c6b4e2f-08d6-49d9-812d-bbfd765251ca",
   "metadata": {},
   "outputs": [],
   "source": [
    "x = x / 2.0\n",
    "print(f'x / 2.0 is {x}')"
   ]
  },
  {
   "cell_type": "markdown",
   "id": "20d06b00-7e9f-49de-86a8-eb79b27e8c08",
   "metadata": {},
   "source": [
    "There are some special operators on numbers. \n",
    "We compute exponentials, say $3^2$, like this."
   ]
  },
  {
   "cell_type": "code",
   "execution_count": null,
   "id": "978498ca-9627-4a27-b0b6-72543f0b8c8c",
   "metadata": {},
   "outputs": [],
   "source": [
    "x = 3**2\n",
    "print(f'3**2 is {x}')"
   ]
  },
  {
   "cell_type": "markdown",
   "id": "eab106da-e40d-41e8-b9a3-2a4c3cd103e8",
   "metadata": {},
   "source": [
    "Another number operator is *modulo*, like \"9 modulo 2\", which gives the remainder after dividing 9 by 2. \n",
    "You can do modulo operations with `%`."
   ]
  },
  {
   "cell_type": "code",
   "execution_count": null,
   "id": "1ca02bd0-5110-426f-88d6-2fa4d770d405",
   "metadata": {},
   "outputs": [],
   "source": [
    "x = 9 % 2\n",
    "print(f'9 % 2 is {x}')"
   ]
  },
  {
   "cell_type": "markdown",
   "id": "f299a8cc-64c6-4b13-86bd-85d607038c1a",
   "metadata": {},
   "source": [
    "#### Operator shortcuts\n",
    "Some operators are used to change a variable's value, like `x = x + 1`. \n",
    "There is a shortcut for each of the operators `+`, `-`, `*`, `/`, `**`, and `%`.\n",
    "\n",
    "For addition, `x = x + 1`, the shortcut is `x += 1`. "
   ]
  },
  {
   "cell_type": "code",
   "execution_count": null,
   "id": "f385d08f-3548-47f0-ae9d-e4d814b19818",
   "metadata": {},
   "outputs": [],
   "source": [
    "x = 3\n",
    "print(f'x starts as {x}')\n",
    "x += 2\n",
    "print(f'x += 2 is {x}')"
   ]
  },
  {
   "cell_type": "markdown",
   "id": "3e5f4372-25ab-498b-9d40-ea5813f4a99b",
   "metadata": {},
   "source": [
    "For subtraction, `x = x - 1`, the shortcut is `x -= 1`"
   ]
  },
  {
   "cell_type": "code",
   "execution_count": null,
   "id": "728bf3fd-f21d-4e16-93dd-ee5343d1ac7d",
   "metadata": {},
   "outputs": [],
   "source": [
    "x -= 1\n",
    "print(f'x -= 1 is {x}')"
   ]
  },
  {
   "cell_type": "markdown",
   "id": "245ce61a-4193-4b98-811b-4e7889aa3368",
   "metadata": {},
   "source": [
    "For multiplication, `x = x * 4`, the shortcut is `x *= 4`."
   ]
  },
  {
   "cell_type": "code",
   "execution_count": null,
   "id": "09d8854a-a64c-4019-b53b-baea4e86331f",
   "metadata": {},
   "outputs": [],
   "source": [
    "x *= 4\n",
    "print(f'x *= 4 is {x}')"
   ]
  },
  {
   "cell_type": "markdown",
   "id": "e2e4b341-7683-4b1c-a381-337bf621ba06",
   "metadata": {},
   "source": [
    "For division, `x = x / 1`, the shortcut is `x /= 1`."
   ]
  },
  {
   "cell_type": "code",
   "execution_count": null,
   "id": "00939fae-5b4e-4b05-a962-76388423ffe9",
   "metadata": {},
   "outputs": [],
   "source": [
    "x /= 4\n",
    "print(f'x /= 4 is {x}')"
   ]
  },
  {
   "cell_type": "markdown",
   "id": "7038bfec-41b2-4fee-a9c7-5bd47b74f485",
   "metadata": {},
   "source": [
    "For applying exponents, `x = x ** 2`, the shortcut is `x **= 2`."
   ]
  },
  {
   "cell_type": "code",
   "execution_count": null,
   "id": "068c2ef1-0d66-4d08-b1f0-44ae0a63dd7c",
   "metadata": {},
   "outputs": [],
   "source": [
    "x **= 2\n",
    "print(f'x **= 2 is {x}')"
   ]
  },
  {
   "cell_type": "markdown",
   "id": "f59ba848-a923-4c06-a61f-585e82fa41c8",
   "metadata": {},
   "source": [
    "For `x = x + 3`, the shortcut is `x += 3`."
   ]
  },
  {
   "cell_type": "code",
   "execution_count": null,
   "id": "487f4f93-df47-4256-beb2-28bb9cfa3b0f",
   "metadata": {},
   "outputs": [],
   "source": [
    "x %= 3\n",
    "print(f'x %= 3 is as {x}')"
   ]
  },
  {
   "cell_type": "markdown",
   "id": "9682f79d-26cb-4f8a-8ea8-5ea1cdfb4d25",
   "metadata": {},
   "source": [
    "#### `abs` function\n",
    "The `abs` function is a function that gives a value when it is done. It takes a number that might be negative and gives the absolute value of it."
   ]
  },
  {
   "cell_type": "code",
   "execution_count": null,
   "id": "9738aa94-607d-447e-88be-eb2e6687c554",
   "metadata": {},
   "outputs": [],
   "source": [
    "x = 3\n",
    "y = -5\n",
    "z = -4.3\n",
    "print(f'abs({x}) is {abs(x)}.')\n",
    "print(f'abs({y}) is {abs(y)}.')\n",
    "print(f'abs({z}) is {abs(z)}.')"
   ]
  },
  {
   "cell_type": "markdown",
   "id": "84d0b598-3cd6-443f-987e-823212c84b6f",
   "metadata": {},
   "source": [
    "#### `max` function\n",
    "The value of the `max` function is the largest of the numbers give given to it as an argument.\n",
    "`(1, 12, 9)` is a *list* of numbers, which is discussed further below."
   ]
  },
  {
   "cell_type": "code",
   "execution_count": null,
   "id": "dbe7efc4-5c9c-45b0-9ad7-bba1f1fa7081",
   "metadata": {},
   "outputs": [],
   "source": [
    "L = (1, 12, 9)\n",
    "print(f'the maximum of {L} is {max(L)}')"
   ]
  },
  {
   "cell_type": "markdown",
   "id": "13dd4575-f427-4b03-a661-1434bcaca249",
   "metadata": {},
   "source": [
    "#### `min` function\n",
    "The value of the `min` function is the smallest of the numbers give given to it as an argument."
   ]
  },
  {
   "cell_type": "code",
   "execution_count": null,
   "id": "eaf8c306-5a71-47e8-b985-6019c67eba63",
   "metadata": {},
   "outputs": [],
   "source": [
    "L = (1, 12, 9)\n",
    "print(f'the minimum of {L} is {min(L)}')"
   ]
  },
  {
   "cell_type": "markdown",
   "id": "3829dd0c-7d69-4d37-871e-51674f0946b2",
   "metadata": {},
   "source": [
    "#### `round` function\n",
    "The `round` function takes a real number and reduces the size of the fraction. \n",
    "It gives the integer value without the fraction if only the number is given as the argument. \n",
    "If a second argument is a number, it will keep this many digits in the fractional part."
   ]
  },
  {
   "cell_type": "code",
   "execution_count": null,
   "id": "f108e3aa-5f28-4549-80b2-5f2146d9ecac",
   "metadata": {},
   "outputs": [],
   "source": [
    "x = 5.34\n",
    "y = 9.2345\n",
    "z = -8.431\n",
    "print(f'round({x}) is {round(x)}.')\n",
    "print(f'round({y}, 2) is {round(y, 2)}.')\n",
    "print(f'round({z}) is {round(z)}.')"
   ]
  },
  {
   "cell_type": "markdown",
   "id": "ae7225da-45a6-4ae0-975a-e50dca37eb1c",
   "metadata": {},
   "source": [
    "### Strings\n",
    "\n",
    "Strings are text that is made up of *characters*, which are letters, numbers, punctuation, and some special characters called *escape characters*. \n",
    "Strings have operations and functions that combine, remove, search, and replace for parts of text. \n",
    "This is the string `\"hello\"`. Each character has a *position* in the string, and the positions start counting from `0` rather than `1`.\n",
    "\n",
    "<img src=\"string1.jpg\" width=\"400\">"
   ]
  },
  {
   "cell_type": "markdown",
   "id": "523a1eeb-8208-4e79-9f3f-ab4aa6e387a9",
   "metadata": {},
   "source": [
    "#### Escape characters\n",
    "Escape characters are characters following a *backslash* character `\\` in a string. \n",
    "The backslash gives a special meaning to the character that follows it. \n",
    "`\\t` means the tab key on the keyboard, and `\\n` is the enter key, called a [*newline*](#glossary_newline). \n",
    "Because the backslash `\\`  changes the meaning of the character that follows it, to really get a backslash you need to use `\\\\`."
   ]
  },
  {
   "cell_type": "code",
   "execution_count": null,
   "id": "89d39bb2-a354-4b79-9af1-06c1ed2b5a23",
   "metadata": {},
   "outputs": [],
   "source": [
    "print('this is the tab \"\\t\" character')\n",
    "print('this is the enter \"\\n\" character')\n",
    "print('this is the backslash \"\\\\\" character')"
   ]
  },
  {
   "cell_type": "markdown",
   "id": "763de23f-111e-4d3a-be1d-202ad8285216",
   "metadata": {},
   "source": [
    "You can put a double quote in a double-quoted string by using backslash to escape it, an *escaped* double quote, that can go into a double-quoted string but not end the string. "
   ]
  },
  {
   "cell_type": "code",
   "execution_count": null,
   "id": "9d6eee31-3d96-46b1-8c03-15f391f3a0ca",
   "metadata": {},
   "outputs": [],
   "source": [
    "print(\"this is a double-quoted string with a double quote \\\" in it\")"
   ]
  },
  {
   "cell_type": "markdown",
   "id": "5bd8abb9-780f-4cb4-995d-2f0462da2815",
   "metadata": {},
   "source": [
    "An escaped single quote can be put in a single-quoted string the same way."
   ]
  },
  {
   "cell_type": "code",
   "execution_count": null,
   "id": "35b924ff-699d-4584-aa1b-5a934b9b1425",
   "metadata": {},
   "outputs": [],
   "source": [
    "print('this is a single-quoted string with a single quote \\' in it')"
   ]
  },
  {
   "cell_type": "markdown",
   "id": "36c11941-95b1-406b-9154-6c0068b0d44d",
   "metadata": {},
   "source": [
    "Putting a single quote in the formatted string starting with `f'` and ending with a `'` needs an escaped single quote. "
   ]
  },
  {
   "cell_type": "code",
   "execution_count": null,
   "id": "befb280c-63e7-474f-b274-61d28b84d404",
   "metadata": {},
   "outputs": [],
   "source": [
    "print(f'this is a formatted string with a single quote \\' in it')"
   ]
  },
  {
   "cell_type": "markdown",
   "id": "0cf775d5-8bd7-46b6-bdfe-4329a7c6ca0f",
   "metadata": {},
   "source": [
    "#### Operations on strings\n",
    "Strings can be combined with the `+` add operator. "
   ]
  },
  {
   "cell_type": "code",
   "execution_count": null,
   "id": "51d1c9d6-5c15-4600-8179-c0f2a55060a4",
   "metadata": {},
   "outputs": [],
   "source": [
    "s = \"Again and \"\n",
    "s = s + \"again ...\"\n",
    "print(f's is \"{s}\"')"
   ]
  },
  {
   "cell_type": "markdown",
   "id": "3e4bbef9-b84b-45e7-96fa-64e598390b7a",
   "metadata": {},
   "source": [
    "The `+=` shortcut works as well."
   ]
  },
  {
   "cell_type": "code",
   "execution_count": null,
   "id": "ff7b9a4d-fc2f-4585-af73-b4bcec0385ec",
   "metadata": {},
   "outputs": [],
   "source": [
    "s = \"Again and \"\n",
    "s += \"again ...\"\n",
    "print(f's is \"{s}\"')"
   ]
  },
  {
   "cell_type": "markdown",
   "id": "e92d0075-869c-4010-8649-91945a9e7fe9",
   "metadata": {},
   "source": [
    "Strings can be repeated with the `*` multiplication operator. "
   ]
  },
  {
   "cell_type": "code",
   "execution_count": null,
   "id": "8ec2d0a0-22d3-49c7-9987-854814b38f4f",
   "metadata": {},
   "outputs": [],
   "source": [
    "s = \"hello \" * 3\n",
    "print(f's is \"{s}\"')"
   ]
  },
  {
   "cell_type": "markdown",
   "id": "d07a7d08-7aa3-488e-a522-eabeb9b19305",
   "metadata": {},
   "source": [
    "The `*=` shortcut works as well."
   ]
  },
  {
   "cell_type": "code",
   "execution_count": null,
   "id": "6763697e-c682-423c-b0a7-f38071ce2c66",
   "metadata": {},
   "outputs": [],
   "source": [
    "s = \"hello \"\n",
    "s *= 3\n",
    "print(f's is \"{s}\"')"
   ]
  },
  {
   "cell_type": "markdown",
   "id": "bfe61d94-4976-4512-ba4e-9eb6bc52512d",
   "metadata": {},
   "source": [
    "#### Characters in strings\n",
    "Characters in strings can accessed with '[' and ']', where *string*`[`*position*`]` gives the character at *position* in the string. \n",
    "Python operators and functions count character positions from 0 rather than 1. \n",
    "The string can count *position* from the beginning of the string, or if *position* is negative, it can count from the back of the string. "
   ]
  },
  {
   "cell_type": "code",
   "execution_count": null,
   "id": "2872c2de-5b17-4d9f-aef9-2b37f3952fd6",
   "metadata": {},
   "outputs": [],
   "source": [
    "s = \"A red hat\"\n",
    "print(f's starts as \"{s}\"')\n",
    "print(\"positions:   012345678\")\n",
    "t = s[0]\n",
    "u = s[3]\n",
    "v = s[-1]\n",
    "print(f's[0] is \"{t}\"')\n",
    "print(f's[3] is \"{u}\"')\n",
    "print(f's[-1] is \"{v}\"')"
   ]
  },
  {
   "cell_type": "markdown",
   "id": "ca8798d1-decf-413a-bcdc-c620980c82b1",
   "metadata": {},
   "source": [
    "#### Slices\n",
    "Strings that are part of other strings are *slices* or *substrings*. \n",
    "The slice operator looks like *variable*`[`*start*`:`*end*`]` where the slice has all the characters from the character in the *start* position to the character *just before* the *end* position. \n",
    "\n",
    "A slice that has no *start* starts from the beginning of the string. \n",
    "A slice that has no *end* goes to the end of the string. "
   ]
  },
  {
   "cell_type": "code",
   "execution_count": null,
   "id": "93c8c38f-8cd7-4325-86b0-a35f42086bb0",
   "metadata": {},
   "outputs": [],
   "source": [
    "s = \"A red hat\"\n",
    "print(f's starts as \"{s}\"')\n",
    "print(\"positions:   012345678\")\n",
    "t = s[:1]\n",
    "print(f's[:1] is \"{t}\"')\n",
    "t = s[2:5]\n",
    "print(f's[2:5] is \"{t}\"')\n",
    "t = s[6:]\n",
    "print(f's[6:] is \"{t}\"')"
   ]
  },
  {
   "cell_type": "markdown",
   "id": "129c4b78-8d70-4eea-ab0a-b9022da3f91a",
   "metadata": {},
   "source": [
    "#### `len` function\n",
    "The `len` function gives the value of the string length."
   ]
  },
  {
   "cell_type": "code",
   "execution_count": null,
   "id": "4ffcb37c-d352-4e95-b85f-7f71b374c9b5",
   "metadata": {},
   "outputs": [],
   "source": [
    "s = \"A red hat\"\n",
    "length = len(s)\n",
    "print(f'len(\"{s}\") is {length}')"
   ]
  },
  {
   "cell_type": "markdown",
   "id": "8f707b54-a9f6-454b-995f-f72ce06db997",
   "metadata": {},
   "source": [
    "#### `find` function\n",
    "The `find` function gives the first position where you can find a substring in a string. \n",
    "The link https://docs.python.org/3/library/stdtypes.html#string-methods gives a full list of string functions."
   ]
  },
  {
   "cell_type": "code",
   "execution_count": null,
   "id": "59b027aa-a2ec-442e-aaf4-8b738db5fc88",
   "metadata": {},
   "outputs": [],
   "source": [
    "s = \"A red hat\"\n",
    "print(f's starts as \"{s}\"')\n",
    "print(\"positions:   012345678\")\n",
    "x = s.find(\"red\")\n",
    "print(f's.find(\"red\") is {x}')"
   ]
  },
  {
   "cell_type": "markdown",
   "id": "515060da-4ab6-4f80-a8cc-498ee93a6cd1",
   "metadata": {
    "tags": []
   },
   "source": [
    "#### `count` function\n",
    "The `count` function will count how many times a substring can be found in a string."
   ]
  },
  {
   "cell_type": "code",
   "execution_count": null,
   "id": "18706dc8-2843-43fc-bb00-3ba6a00972d3",
   "metadata": {},
   "outputs": [],
   "source": [
    "s = \"the cat in the hat is at the store.\"\n",
    "print(f's starts as \"{s}\"')\n",
    "x = s.count(\"the\")\n",
    "print(f's.count(\"the\") is {x}')\n",
    "x = s.count(\"at\")\n",
    "print(f's.count(\"at\") {x}')"
   ]
  },
  {
   "cell_type": "markdown",
   "id": "6202d681-b057-4386-9e99-f28e75c91898",
   "metadata": {},
   "source": [
    "#### `upper` function\n",
    "The `upper` function makes all alphabet characters in a string into capitals or [*uppercase*](#glossary_uppercase)."
   ]
  },
  {
   "cell_type": "code",
   "execution_count": null,
   "id": "8fb9b63c-4336-450c-a6fc-1d73737fd694",
   "metadata": {},
   "outputs": [],
   "source": [
    "s = \"the cat in the hat is at the store\"\n",
    "print(f's starts as \"{s}\"')\n",
    "t = s.upper()\n",
    "print(f's.upper() is \"{t}\".')"
   ]
  },
  {
   "cell_type": "markdown",
   "id": "096b3cb8-508f-4e1e-b52c-2263bab17004",
   "metadata": {},
   "source": [
    "#### `lower` function\n",
    "The `lower` function makes all alphabet characters  in a string into small letters or [*lowercase*](#glossary_lowercase)."
   ]
  },
  {
   "cell_type": "code",
   "execution_count": null,
   "id": "75ce1f89-8333-457c-b9dd-422937990169",
   "metadata": {},
   "outputs": [],
   "source": [
    "s = \"THE CAT IN THE HAT IS AT THE STORE\"\n",
    "print(f's starts as \"{s}\"')\n",
    "t = s.lower()\n",
    "print(f's.lower() is \"{t}\"')"
   ]
  },
  {
   "cell_type": "markdown",
   "id": "493dbda5-88ba-4cee-9392-403ba3015cad",
   "metadata": {},
   "source": [
    "#### `replace` function\n",
    "The `replace` function will find the substring of a string that matches a *pattern*, and replace it with another string.   "
   ]
  },
  {
   "cell_type": "code",
   "execution_count": null,
   "id": "d1cdfe81-dc5d-4b55-8066-4cfc0c44c727",
   "metadata": {},
   "outputs": [],
   "source": [
    "s = \"the red hat\"\n",
    "print(f's starts as \"{s}\"')\n",
    "t = s.replace(\"red\", \"blue\")\n",
    "print(f's.replace(\"red\", \"blue\") is \"{t}\"')"
   ]
  },
  {
   "cell_type": "markdown",
   "id": "01759e84-5c09-45e1-9294-8b8534ac860e",
   "metadata": {},
   "source": [
    "#### `str` function \n",
    "If you have a number, the `str` function will let you use it as a string. This is taking str() of an integer."
   ]
  },
  {
   "cell_type": "code",
   "execution_count": null,
   "id": "f5e5f435-97ac-48a2-81e4-b1d20baa1539",
   "metadata": {},
   "outputs": [],
   "source": [
    "x = 5\n",
    "s = str(x)\n",
    "print(f'str({x}) is \"{s}\"')"
   ]
  },
  {
   "cell_type": "markdown",
   "id": "5fed4ac4-3cca-44d1-a6fc-1fda3e5dd613",
   "metadata": {},
   "source": [
    "This is taking str() of a real number."
   ]
  },
  {
   "cell_type": "code",
   "execution_count": null,
   "id": "5c5e9eaf-d7ba-4dbf-a52f-758245a836a2",
   "metadata": {},
   "outputs": [],
   "source": [
    "x = 3.1\n",
    "s = str(x)\n",
    "print(f'str({x}) is \"{s}\"')"
   ]
  },
  {
   "cell_type": "markdown",
   "id": "39e0e2b5-3aa1-43cb-bf5c-3526184ff629",
   "metadata": {},
   "source": [
    "#### `int` function\n",
    "If you have a string but would like to use it as a number, the `int` function will make an integer out of it."
   ]
  },
  {
   "cell_type": "code",
   "execution_count": null,
   "id": "bb346e2b-3ff5-4113-8b30-7fdfce2ab74f",
   "metadata": {
    "tags": []
   },
   "outputs": [],
   "source": [
    "s = \"5\"\n",
    "x = int(s)\n",
    "print(f'int(\"{s}\") is {x}')"
   ]
  },
  {
   "cell_type": "markdown",
   "id": "da7ea7d1-8a95-4cf2-8cc2-1d31113f3020",
   "metadata": {},
   "source": [
    "If the string is not a number, you get an error."
   ]
  },
  {
   "cell_type": "code",
   "execution_count": null,
   "id": "7404e1b4-4312-4dcf-81b8-c640fa628cd1",
   "metadata": {
    "tags": []
   },
   "outputs": [],
   "source": [
    "s = \"invalid\"\n",
    "x = int(s)\n",
    "print(f'int(\"{s}\") is {x}')"
   ]
  },
  {
   "cell_type": "markdown",
   "id": "74a05b3d-ba57-4244-bc04-08cd911d39b1",
   "metadata": {
    "tags": []
   },
   "source": [
    "#### `float` function\n",
    "If you have a string but would like to use it as a number, the `float` function will make a real number out of it."
   ]
  },
  {
   "cell_type": "code",
   "execution_count": null,
   "id": "0986bcc9-b49d-44a9-906a-360e2c2a0e8a",
   "metadata": {
    "tags": []
   },
   "outputs": [],
   "source": [
    "s = \"3.1\"\n",
    "x = float(s)\n",
    "print(f'float(\"{s}\") is {x}')"
   ]
  },
  {
   "cell_type": "markdown",
   "id": "f61219df-8ce5-4801-b33c-d76a3ce2a512",
   "metadata": {
    "tags": []
   },
   "source": [
    "#### `input` function\n",
    "The `input` function can print a string on the console and wait for you to type some text, then give the text you typed as the value."
   ]
  },
  {
   "cell_type": "code",
   "execution_count": null,
   "id": "755385d2-310b-4d6c-8fd8-9a9f989921f1",
   "metadata": {},
   "outputs": [],
   "source": [
    "s = input('Enter some text: ')\n",
    "print(f'The text you typed is \"{s}\"')"
   ]
  },
  {
   "cell_type": "markdown",
   "id": "4d61cea8-d1f3-4dda-abf8-4025c3dd492e",
   "metadata": {},
   "source": [
    "#### `strip` function\n",
    "The `strip` function removes a *newline* at the end of a string. Lines read from a text file will end with a newline. Printing a file with a newline will add an extra blank line.\n",
    "\n",
    "<img src=\"strip1.jpg\" width=\"400\">"
   ]
  },
  {
   "cell_type": "code",
   "execution_count": null,
   "id": "be65c301-ee87-4b27-935d-8d119b1337a2",
   "metadata": {},
   "outputs": [],
   "source": [
    "s = \"line from file\\n\"\n",
    "print(s)\n",
    "print(s.strip())\n",
    "print(\"end of printing\")"
   ]
  },
  {
   "cell_type": "markdown",
   "id": "afea53dc-648e-45dd-97dc-fe5ad9e7d307",
   "metadata": {},
   "source": [
    "#### `Format` function\n",
    "The `format` function can make output look just the way you want. \n",
    "The format function looks like this.\n",
    "\n",
    "&nbsp;&nbsp;&nbsp;&nbsp;`'{:`*format* `:`*format* `...}.format(`*item*, *item*`)`\n",
    "\n",
    "where each *format* is listed below. \n",
    "\n",
    "This is an example of a `format` output that includes more than one *format*.\n",
    "\n",
    "&nbsp;&nbsp;&nbsp;&nbsp;`'{:17s}  ${:7.2f}'.format(name, total)`\n",
    "\n",
    "The `:3d` format will make a string out of an integer where the string is at least 3 characters wide, with spaces on the left if the integer is less than 3 characters long."
   ]
  },
  {
   "cell_type": "code",
   "execution_count": null,
   "id": "c065dc41-708d-4e0f-858a-9bff9b9c87e6",
   "metadata": {},
   "outputs": [],
   "source": [
    "s ='{:3d}'.format(2)\n",
    "t ='{:3d}'.format(65)\n",
    "u ='{:3d}'.format(138)\n",
    "print(f'\"{s}\" is the number 2 with format \":3d\"')\n",
    "print(f'\"{t}\" is the number 65 with format \":3d\"')\n",
    "print(f'\"{u}\" is the number 138 with format \":3d\"')"
   ]
  },
  {
   "cell_type": "markdown",
   "id": "8608a881-3b24-4d40-bb8e-dcc09522ed4f",
   "metadata": {},
   "source": [
    "The `:<3d` format will make a string out of an integer where the string is at least 3 characters wide, with spaces on the right if the integer is less than 3 characters long."
   ]
  },
  {
   "cell_type": "code",
   "execution_count": null,
   "id": "1154439b-45e8-420f-bc63-98d47a796dc5",
   "metadata": {},
   "outputs": [],
   "source": [
    "s ='{:<3d}'.format(2)\n",
    "t ='{:<3d}'.format(65)\n",
    "u ='{:<3d}'.format(138)\n",
    "print(f'\"{s}\" is the number 2 with format \"<:3d\"')\n",
    "print(f'\"{t}\" is the number 65 with format \"<:3d\"')\n",
    "print(f'\"{u}\" is the number 138 with format \"<:3d\"')"
   ]
  },
  {
   "cell_type": "markdown",
   "id": "db8395ea-c4b1-4702-9291-2c38a42fb0eb",
   "metadata": {},
   "source": [
    "The `:^3d` format will make a string out of an integer where the string is at least 3 characters wide but with the number in the middle if the integer is less than 3 characters long."
   ]
  },
  {
   "cell_type": "code",
   "execution_count": null,
   "id": "d3b1a79e-aecb-4b62-9eca-752d01fa0a42",
   "metadata": {},
   "outputs": [],
   "source": [
    "s ='{:^3d}'.format(2)\n",
    "t ='{:^3d}'.format(65)\n",
    "u ='{:^3d}'.format(138)\n",
    "print(f'\"{s}\" is the number 2 with format \"^:3d\"')\n",
    "print(f'\"{t}\" is the number 65 with format \"^:3d\"')\n",
    "print(f'\"{u}\" is the number 138 with format \"^:3d\"')"
   ]
  },
  {
   "cell_type": "markdown",
   "id": "1d9ef697-62df-4192-b8e1-74eddbf32a02",
   "metadata": {},
   "source": [
    "For real numbers, the `:2f` format will make a string out of a real number where the string has up to 2 numbers in the fraction, with zeros on the right if the fraction of the real number has less than 2 digits."
   ]
  },
  {
   "cell_type": "code",
   "execution_count": null,
   "id": "9583a2b9-b96f-4970-b667-278139e6c114",
   "metadata": {},
   "outputs": [],
   "source": [
    "s ='{:.2f}'.format(4)\n",
    "t ='{:.2f}'.format(1.9)\n",
    "u ='{:.2f}'.format(8.26)\n",
    "print(f'\"{s}\" is the 4 with format \":.2f\"')\n",
    "print(f'\"{t}\" is the 1.9 with format \":.2f\"')\n",
    "print(f'\"{u}\" is the 8.26 with format \":.2f\"')"
   ]
  },
  {
   "cell_type": "markdown",
   "id": "e51010f1-82e9-499e-9b2c-428b3714fcbd",
   "metadata": {},
   "source": [
    "For strings, he `:5s` format will make a string at least 5 characters wide but with spaces on the right if the string is less than 3 characters long. \n",
    "The `:>5s` will make the string at least 5 characters long but with spaces on the left, and `^5s` will make the string at least 5 characters long but in\n",
    "the center of the string."
   ]
  },
  {
   "cell_type": "code",
   "execution_count": null,
   "id": "a8bead56-b681-4a3d-a74b-226204a726a7",
   "metadata": {},
   "outputs": [],
   "source": [
    "s ='{:5s}'.format(\"one\")\n",
    "t ='{:>5s}'.format(\"one\")\n",
    "u ='{:^5s}'.format(\"one\")\n",
    "v ='{:^5s}'.format(\"eight\")\n",
    "print(f'\"{s}\" is the \"one\" with format \":5s\"')\n",
    "print(f'\"{t}\" is the \"one\" with format \":>5s\"')\n",
    "print(f'\"{u}\" is the \"one\" with format \":^5s\"')\n",
    "print(f'\"{v}\" is the \"eight\" with format \":5s\"')"
   ]
  },
  {
   "cell_type": "markdown",
   "id": "0aa312e8-767f-463c-bbd6-ff647ba1c4d0",
   "metadata": {},
   "source": [
    "## Compound Data Types\n",
    "There are *compound data types* that are collections of multiple data values that can be assigned to variables. \n",
    "Two of these are *lists* and *dictionaries*, and are used to store things like grocery lists and telephone books that collect items of basic data types together. \n",
    "\n",
    "Variable names for compound data types will be:\n",
    "- `L`, `M`, `N`, and so on will be lists\n",
    "- `D`, `E`, `F`, and so on will be dictionaries"
   ]
  },
  {
   "cell_type": "markdown",
   "id": "a38021ef-1d62-4f3e-9960-fe74d05016b5",
   "metadata": {},
   "source": [
    "### Lists\n",
    "The simplest compound data type are *lists*. \n",
    "Lists collect a series of other data type values in order between square brackets `[` and `]`. \n",
    "As with strings, the first element is 0 rather than 1."
   ]
  },
  {
   "cell_type": "code",
   "execution_count": null,
   "id": "ca0d087f-b58d-4948-bf27-fd56a507e757",
   "metadata": {},
   "outputs": [],
   "source": [
    "L = [5, 9, 1]\n",
    "print(f'L is {L}')"
   ]
  },
  {
   "cell_type": "markdown",
   "id": "b7d9ae42-3ea8-454a-82e1-f02fe22c4dbb",
   "metadata": {},
   "source": [
    "The list can be shown like this."
   ]
  },
  {
   "cell_type": "markdown",
   "id": "68ce29d5-d65f-4035-919a-359fa1e30066",
   "metadata": {},
   "source": [
    "![list1.jpg](list1.jpg)"
   ]
  },
  {
   "cell_type": "markdown",
   "id": "fd7b37eb-2e53-47d4-9dd8-716d2394294c",
   "metadata": {},
   "source": [
    "#### Operations on lists\n",
    "Lists can be combined with the `+` add operator. "
   ]
  },
  {
   "cell_type": "code",
   "execution_count": null,
   "id": "25c3196c-aeee-4e53-ac6d-0c143127485f",
   "metadata": {},
   "outputs": [],
   "source": [
    "L = [5, 9, 10]\n",
    "L = L + [4, 7]\n",
    "print(f'[5, 9, 10] + [4, 7] is {L}')"
   ]
  },
  {
   "cell_type": "markdown",
   "id": "25402114-3746-44ff-a6a1-f3bac9754424",
   "metadata": {},
   "source": [
    "The `+=` shortcut works as well."
   ]
  },
  {
   "cell_type": "code",
   "execution_count": null,
   "id": "f2e48add-707d-487d-bae4-3dc4dfd54a0f",
   "metadata": {},
   "outputs": [],
   "source": [
    "L = [5, 9, 10]\n",
    "L += [4, 7]\n",
    "print(f'[5, 9, 10] + [4, 7] is {L}')"
   ]
  },
  {
   "cell_type": "markdown",
   "id": "32763ae2-6904-4e66-8a41-6cf24d78011f",
   "metadata": {},
   "source": [
    "Lists can be repeated with the `*` multiplication operator. "
   ]
  },
  {
   "cell_type": "code",
   "execution_count": null,
   "id": "5dc2c886-e9c3-4de3-bca7-1b04b742b05a",
   "metadata": {},
   "outputs": [],
   "source": [
    "L = [1, 2] * 3\n",
    "print(f'[1, 2] * 3 is {L}')"
   ]
  },
  {
   "cell_type": "markdown",
   "id": "64afdae5-14d8-4f9c-ab3f-3cf2bb18ea73",
   "metadata": {},
   "source": [
    "The `*=` shortcut works as well."
   ]
  },
  {
   "cell_type": "code",
   "execution_count": null,
   "id": "963d4945-37c6-4cc6-94a2-4de817f5c624",
   "metadata": {},
   "outputs": [],
   "source": [
    "L = [4, 5]\n",
    "L *= 2\n",
    "print(f'[4, 5] * 2 is {L}')"
   ]
  },
  {
   "cell_type": "markdown",
   "id": "b4830550-7d6b-4157-ae90-6450991c09c2",
   "metadata": {},
   "source": [
    "#### Items in lists\n",
    "Each list item value can be accessed  with `[` and `]`, where *list*`[`*position*`]` gives the item at *position* in the list. \n",
    "List operators and functions count item positions from 0 rather than 1.\n",
    "The list can count *position* from the beginning of the list or if *position* is negative, it can count from the back of the list. "
   ]
  },
  {
   "cell_type": "code",
   "execution_count": null,
   "id": "d89273a5-8c39-43c2-81c3-dcac0d8e382b",
   "metadata": {},
   "outputs": [],
   "source": [
    "L = [5, 9, 1]\n",
    "x = L[0]\n",
    "y = L[-2]\n",
    "z = L[2]\n",
    "print(f'L is {L}')\n",
    "print(f'L[0] is {x}')\n",
    "print(f'L[-2] is {y}')\n",
    "print(f'L[2] is {z}')"
   ]
  },
  {
   "cell_type": "markdown",
   "id": "100239a7-40d9-411f-b960-18cfd686428c",
   "metadata": {},
   "source": [
    "The value of an list item can be changed in the list by assigning an item with its position in square brackets `[` and `]`. \n",
    "Like before, positions start from 0. "
   ]
  },
  {
   "cell_type": "code",
   "execution_count": null,
   "id": "09eee661-deaf-42f4-a3ce-e596a4485ebf",
   "metadata": {},
   "outputs": [],
   "source": [
    "L = [5, 9, 1]\n",
    "print(f'L starts as {L}')\n",
    "L[0] = 4 \n",
    "L[-2] = 6 \n",
    "L[2] = 2 \n",
    "print(f'L after changing is {L}')"
   ]
  },
  {
   "cell_type": "markdown",
   "id": "ca4ccde8-a2c8-4571-a5e9-f8daa8a1e60c",
   "metadata": {},
   "source": [
    "#### Lists and variables\n",
    "There is not room to store the whole list in a variable, so the variable stores a *pointer* to the list. \n",
    "That can be shown like this. "
   ]
  },
  {
   "cell_type": "markdown",
   "id": "d2faf1bd-2072-4da9-b7e2-8475420987d1",
   "metadata": {},
   "source": [
    "![list2.jpg](list2.jpg)"
   ]
  },
  {
   "cell_type": "markdown",
   "id": "6c162322-b668-4f11-a660-8d53204475c4",
   "metadata": {},
   "source": [
    "When a list is assigned to a variable and that variable is assigned to another variable, the entire list isn't copied into the second variable. \n",
    "Only the *pointer* is copied."
   ]
  },
  {
   "cell_type": "markdown",
   "id": "02432cc0-f6f2-42e8-96db-31b36431a0d0",
   "metadata": {},
   "source": [
    "![list3.jpg](list3.jpg)"
   ]
  },
  {
   "cell_type": "markdown",
   "id": "4332e3ad-ec80-429e-8683-aaa524aa8000",
   "metadata": {},
   "source": [
    "We can show that when both variables are pointing to the same list, when we change the list through the first variable we will see the change when looking through the second variable."
   ]
  },
  {
   "cell_type": "code",
   "execution_count": null,
   "id": "07cd58af-d7a6-4dfe-a40d-e606e64b6aa4",
   "metadata": {},
   "outputs": [],
   "source": [
    "L = [5, 9, 1]\n",
    "print(f'L starts as {L}.')\n",
    "M = L\n",
    "print(f'after M = L, M is {M}.')\n",
    "L[1] = 2\n",
    "print(f'after L[1] = 2, L is {L} and M is {M}.')"
   ]
  },
  {
   "cell_type": "markdown",
   "id": "e2fe1f03-825c-4dcf-b286-d22a324cdc6d",
   "metadata": {},
   "source": [
    "<img src=\"list4.jpg\" width=\"400\">"
   ]
  },
  {
   "cell_type": "markdown",
   "id": "9ebd275b-20b8-4c81-a59f-ce5f41f338be",
   "metadata": {},
   "source": [
    "#### `copy` function\n",
    "To assign a list to another variable and be able to change the list through the second variable without affecting the first list, the `copy` function makes a copy of the list before assigning it to the second variable. \n",
    "Changing the second list then doesn't change the first list."
   ]
  },
  {
   "cell_type": "code",
   "execution_count": null,
   "id": "6211f494-f0bf-4fb8-86c1-cfe3b6a48d9d",
   "metadata": {},
   "outputs": [],
   "source": [
    "L = [5, 9, 1]\n",
    "print(f'L starts as {L}.')\n",
    "M = L.copy()\n",
    "print(f'after M = L, M is {M}.')\n",
    "L[1] = 2\n",
    "print(f'L after L[1] = 2, L is {L} and M is {M}.')"
   ]
  },
  {
   "cell_type": "markdown",
   "id": "2869db64-6109-46ab-a791-d35fd142b64b",
   "metadata": {},
   "source": [
    "![list5.jpg](list5.jpg)"
   ]
  },
  {
   "cell_type": "markdown",
   "id": "df85ac78-596a-4268-bd4c-f23cfa54db04",
   "metadata": {},
   "source": [
    "#### Slices\n",
    "Lists that are part of other lists are *slices* or *sublists*. \n",
    "The slice operator looks like *variable*`[`*start*`:`*end*`]` where the slice are all the items from the item in the *start* position to the item *just before* the *end* position. \n",
    "The slice operator does not affect the original list, only the list slice is given as the slice\n",
    "value.\n",
    "\n",
    "A slice that has no *start* starts from the beginning of the list. \n",
    "A slice that has no *end* goes to the end of the list. "
   ]
  },
  {
   "cell_type": "code",
   "execution_count": null,
   "id": "85cc3ca0-884b-4d40-966c-4e389e21df2e",
   "metadata": {},
   "outputs": [],
   "source": [
    "L = [5, 19, 1, 10, 8, 21]\n",
    "print(f'L is {L}')\n",
    "x = L[:1]\n",
    "print(f'L[0:1] is {x}')\n",
    "x = L[:3]\n",
    "print(f'L[:3] is {x}')\n",
    "x = L[4:]\n",
    "print(f'L[4:] is {x}')"
   ]
  },
  {
   "cell_type": "markdown",
   "id": "f0ce2de8-001b-4ba7-9aef-6af8c49ff276",
   "metadata": {
    "tags": []
   },
   "source": [
    "#### `len` function\n",
    "The `len` function gives the value of the list length."
   ]
  },
  {
   "cell_type": "code",
   "execution_count": null,
   "id": "f0744bc1-ee9b-40e9-a567-d102587fcc14",
   "metadata": {},
   "outputs": [],
   "source": [
    "L = [5, 9, 1]\n",
    "x = len(L)\n",
    "print(f'len({L}) is {x}')"
   ]
  },
  {
   "cell_type": "markdown",
   "id": "20b5f9bc-5af4-4237-8f4b-d6cb638574a1",
   "metadata": {},
   "source": [
    "#### `append` function\n",
    "New items can be added at the end of the list with the `append` function."
   ]
  },
  {
   "cell_type": "code",
   "execution_count": null,
   "id": "d66e56da-e4e9-43ab-91bd-d684e49b07a1",
   "metadata": {},
   "outputs": [],
   "source": [
    "L = [5, 9, 1]\n",
    "print(f'L starts as {L}')\n",
    "L.append(15)\n",
    "print(f'after L.append(15), L is {L}')"
   ]
  },
  {
   "cell_type": "markdown",
   "id": "17d78244-20f1-45d2-8b04-8330a4219b18",
   "metadata": {},
   "source": [
    "When the `append` function is called for a list, \n",
    "the way it is called is *list*.`append(`*item*`)`. \n",
    "The list is still given to `append` as an argument even though it is not passed between `(` and `)`. \n",
    "When a list is given as an argument to a function, the pointer is given to the function.\n",
    "Those functions then can use the pointer to change the list,\n",
    "then the list will still be changed when the function is done. \n",
    "\n",
    "<img  src=\"list6.jpg\" width=\"400\">"
   ]
  },
  {
   "cell_type": "markdown",
   "id": "7b539f59-32cd-438d-8e16-b1696abdd300",
   "metadata": {},
   "source": [
    "#### `insert` function\n",
    "Items can be added in the beginning or the middle of the list with the `insert` function. \n",
    "The position where the item is added is the first argument to `insert`, starting from 0, and the item to add is the second argument. \n",
    "All the items after the one added are moved down the list. "
   ]
  },
  {
   "cell_type": "code",
   "execution_count": null,
   "id": "36eeeaae-fbf5-4855-9096-c8bd742e67d3",
   "metadata": {},
   "outputs": [],
   "source": [
    "L = [5, 9, 1]\n",
    "print(f'L starts as {L} and the length is {len(L)}. L[2] is {L[2]}.')\n",
    "L.insert(2, 4)\n",
    "print(f'L.insert(2, 4) is {L} and the length is {len(L)}. L[2] is {L[2]}.')"
   ]
  },
  {
   "cell_type": "markdown",
   "id": "fdd45dbb-a724-4eda-b1e7-7b93df5ea4ac",
   "metadata": {},
   "source": [
    "This shows `L.insert(2, 4)`.\n",
    "\n",
    "<img  src=\"list7.jpg\" width=\"400\">"
   ]
  },
  {
   "cell_type": "code",
   "execution_count": null,
   "id": "02a44c80-a6d2-4db1-8f16-8681d95ef3fa",
   "metadata": {},
   "outputs": [],
   "source": [
    "L = [5, 9, 1]\n",
    "print(f'L starts as {L} and the length is {len(L)}. L[2] is {L[2]}.')\n",
    "L.insert(0, 7)\n",
    "print(f'L.insert(0, 7) is {L} and the length is {len(L)}. L[2] is {L[2]}.')"
   ]
  },
  {
   "cell_type": "markdown",
   "id": "c226404a-6a0e-4e59-9e89-f11480cf4c57",
   "metadata": {
    "tags": []
   },
   "source": [
    "This shows `L.insert(0, 7)`.\n",
    "\n",
    "<img src=\"list8.jpg\"  width=\"400\">"
   ]
  },
  {
   "cell_type": "markdown",
   "id": "c83f4364-1052-40b6-b75b-db1004137de1",
   "metadata": {},
   "source": [
    "#### `pop` function\n",
    "An item at some position can be removed with the `pop` function. \n",
    "The position of the item to remove is the first argument to `pop`, starting from 0. \n",
    "All items after the one removed are moved up the list.\n",
    "The item removed is the value of `pop`."
   ]
  },
  {
   "cell_type": "code",
   "execution_count": null,
   "id": "7a78ca82-72dd-4afb-82c9-53b567637542",
   "metadata": {},
   "outputs": [],
   "source": [
    "L = [5, 9, 1]\n",
    "print(f'L starts as {L} and the length is {len(L)}.')\n",
    "x = L.pop(1)\n",
    "print(f'L after L.pop(1) is {L} and the length is {len(L)}. The item removed is {x}.')"
   ]
  },
  {
   "cell_type": "markdown",
   "id": "7b4a81f6-8e33-40b3-9789-ba8db54a322f",
   "metadata": {},
   "source": [
    "This shows `L.pop(1)`, which gives the 9 removed as the value.\n",
    "\n",
    "<img src=\"list9.jpg\" width=\"400\">"
   ]
  },
  {
   "cell_type": "markdown",
   "id": "68aeab40-d8d2-4620-8cf0-e079d61aaada",
   "metadata": {},
   "source": [
    "#### `remove` function\n",
    "The first item having some value can be removed from the with the `remove` function. \n",
    "The value of the item to remove is the first argument to `remove`. \n",
    "Only the first item having the value will be removed.\n",
    "All items after the one removed are moved up the list."
   ]
  },
  {
   "cell_type": "code",
   "execution_count": null,
   "id": "f2601b7a-9fe0-4de1-b248-a18778948d04",
   "metadata": {},
   "outputs": [],
   "source": [
    "L = [5, 9, 1, 9]\n",
    "print(f'L starts as {L} and the length is {len(L)}')\n",
    "L.remove(9)\n",
    "print(f'L after L.remove(9) is {L} and the length is {len(L)}.')"
   ]
  },
  {
   "cell_type": "markdown",
   "id": "adf7055b-58aa-4bb6-8388-6109bf776f1e",
   "metadata": {},
   "source": [
    "This is removing `9` a second time."
   ]
  },
  {
   "cell_type": "code",
   "execution_count": null,
   "id": "7805d9de-753b-41b6-8f77-a695ab78c66e",
   "metadata": {},
   "outputs": [],
   "source": [
    "L.remove(9)\n",
    "print(f'L after L.remove(9) is {L} and the length is {len(L)}.')"
   ]
  },
  {
   "cell_type": "markdown",
   "id": "4d97f07a-f4a0-4a2f-9f80-7f1043cec01d",
   "metadata": {},
   "source": [
    "This shows calling `L.remove(9)` twice.\n",
    "\n",
    "<img src=\"list11.jpg\" width=\"400\">"
   ]
  },
  {
   "cell_type": "markdown",
   "id": "85683344-c7bb-44d5-877f-287438534099",
   "metadata": {
    "tags": []
   },
   "source": [
    "#### `extend` function\n",
    "A list can be added to the end of a list with the `extend` function, like the `+` operator. \n",
    "The list to add at the end of the first list is the argument to `extend`."
   ]
  },
  {
   "cell_type": "code",
   "execution_count": null,
   "id": "2e093787-8b9f-4bdb-b3b2-3c178cc66978",
   "metadata": {},
   "outputs": [],
   "source": [
    "L = [5, 9, 1]\n",
    "print(f'L starts as {L} and the length is {len(L)}')\n",
    "M = [2, 4]\n",
    "L.extend(M)\n",
    "print(f'after L.extend(M), M is {M}, L is {L} and len(L) is {len(L)}.')"
   ]
  },
  {
   "cell_type": "markdown",
   "id": "e3b5a770-6e46-4e5f-b785-b22837438a20",
   "metadata": {},
   "source": [
    "This shows `L.extend(M)`.\n",
    "\n",
    "<img  src=\"list10.jpg\" width=\"700\">"
   ]
  },
  {
   "cell_type": "markdown",
   "id": "831dd3b9-f74c-4b11-9157-2287c7e03a60",
   "metadata": {},
   "source": [
    "#### `sum`, `min`, `max` functions\n",
    "\n",
    "Lists that are just numbers have functions to give the sum, minimum, and maximum. "
   ]
  },
  {
   "cell_type": "code",
   "execution_count": null,
   "id": "ee831d4a-8b3f-4dd4-9dd3-634dabf2312f",
   "metadata": {},
   "outputs": [],
   "source": [
    "L = [4, 1, 8, 2]\n",
    "print(f'sum({L}) = {sum(L)}')\n",
    "print(f'min({L}) = {min(L)}')\n",
    "print(f'max({L}) = {max(L)}')"
   ]
  },
  {
   "cell_type": "markdown",
   "id": "e23a7ed9-f60c-475a-b4d1-3e6c5eb48252",
   "metadata": {},
   "source": [
    "#### `sort` function\n",
    "Lists can be sorted with the `sort` function into increasing number or alphabetic order.\n",
    "This shows sorting a list of numbers."
   ]
  },
  {
   "cell_type": "code",
   "execution_count": null,
   "id": "37d4fce6-9ac9-448a-8da6-0fd7f7ffd590",
   "metadata": {},
   "outputs": [],
   "source": [
    "L = [4, 1, 8, 2]\n",
    "print(f'L starts as = {L}')\n",
    "L.sort()\n",
    "print(f'after L.sort() L = {L}')"
   ]
  },
  {
   "cell_type": "markdown",
   "id": "db0a981f-1295-4216-a1c4-3f3690d2930b",
   "metadata": {},
   "source": [
    "This shows `L` after `L.sort()`.\n",
    "\n",
    "<img  src=\"list12.jpg\" width=\"500\">"
   ]
  },
  {
   "cell_type": "markdown",
   "id": "a2d560c9-81e3-4959-9337-f224766694fb",
   "metadata": {},
   "source": [
    "This shows sorting a list of strings."
   ]
  },
  {
   "cell_type": "code",
   "execution_count": null,
   "id": "8b4a16c9-ad59-42f3-8f61-86e18e642602",
   "metadata": {},
   "outputs": [],
   "source": [
    "L = [\"horse\", \"cat\", \"ox\", \"dog\"]\n",
    "print(f'L starts as = {L}')\n",
    "L.sort()\n",
    "print(f'after L.sort() L = {L}')"
   ]
  },
  {
   "cell_type": "markdown",
   "id": "2b19ef63-fa96-4f16-8b00-6a8478093114",
   "metadata": {},
   "source": [
    "This shows `L` after `L.sort()`.\n",
    "\n",
    "<img  src=\"list13.jpg\" width=\"400\">"
   ]
  },
  {
   "cell_type": "markdown",
   "id": "f1f1c82e-2f2c-4667-9ff2-bc4d86aecf3d",
   "metadata": {},
   "source": [
    "#### `reverse` function\n",
    "Lists items can be reversed with the `reverse` function."
   ]
  },
  {
   "cell_type": "code",
   "execution_count": null,
   "id": "a5c90bfc-d613-409a-a637-1c318ce20417",
   "metadata": {},
   "outputs": [],
   "source": [
    "L = [4, 1, 8, 2]\n",
    "print(f'L starts as = {L}')\n",
    "L.reverse()\n",
    "print(f'after L.reverse() L = {L}')"
   ]
  },
  {
   "cell_type": "markdown",
   "id": "3c746e81-22d3-46a1-80ec-f0104aae6a47",
   "metadata": {},
   "source": [
    "This shows `L` after `L.reverse()`.\n",
    "\n",
    "<img src=\"reverse1.jpg\" width=\"400\">"
   ]
  },
  {
   "cell_type": "markdown",
   "id": "0010ffdf-550b-46b7-8307-f9d3e39797d1",
   "metadata": {},
   "source": [
    "#### Lists from strings: `split` function\n",
    "Lists can be created from strings with the `split` function.\n",
    "Using `split` with no arguments splits a string at spaces.\n",
    "\n",
    "<img src=\"split1.jpg\" width=\"400\">"
   ]
  },
  {
   "cell_type": "code",
   "execution_count": null,
   "id": "9d03c0e9-4b3d-4791-8b68-b5b687c63f31",
   "metadata": {},
   "outputs": [],
   "source": [
    "s = \"The cat in the hat\"\n",
    "print(f's starts as = \"{s}\"')\n",
    "L = s.split()\n",
    "print(f'after s.split() L is {L}')"
   ]
  },
  {
   "cell_type": "markdown",
   "id": "eeedcd35-d3d0-4f3c-8ff7-3c1b24b323ab",
   "metadata": {},
   "source": [
    "`split` can split strings separated by a particular string given as a second argument. "
   ]
  },
  {
   "cell_type": "code",
   "execution_count": null,
   "id": "e6806ba6-8e93-4741-be8f-e604b319b3b2",
   "metadata": {},
   "outputs": [],
   "source": [
    "s = \"first,second,third\"\n",
    "print(f's starts as = {s}')\n",
    "L = s.split(\",\")\n",
    "print(f'after s.split(\",\") L is {L}')"
   ]
  },
  {
   "cell_type": "markdown",
   "id": "f939ab09-ac9f-44b4-bbf5-49bb3e38fe9e",
   "metadata": {},
   "source": [
    "#### Strings from lists: `join` function\n",
    "Strings can be created from list items by joining the list items separated by a particular string."
   ]
  },
  {
   "cell_type": "code",
   "execution_count": null,
   "id": "2a08cb59-f1ee-4c2e-ac64-6cb2098e75d1",
   "metadata": {},
   "outputs": [],
   "source": [
    "L = [\"first\", \"second\", \"third\"]\n",
    "print(f'L starts as {L}')\n",
    "s = \" \".join(L)\n",
    "print(f'\" \".join(L) is \"{s}\"')\n",
    "L = [\"O\", \"N\", \"E\"]\n",
    "print(f'L starts as {L}')\n",
    "s = \"\".join(L)\n",
    "print(f'\"\".join(L) is \"{s}\"')"
   ]
  },
  {
   "cell_type": "markdown",
   "id": "fa5d678e-e220-4a8e-b713-02f5e1e753c2",
   "metadata": {},
   "source": [
    "This shows `\" \".join(L)`.\n",
    "\n",
    "<img src=\"join1.jpg\" width=\"400\">"
   ]
  },
  {
   "cell_type": "markdown",
   "id": "ca2fdb3f-52b8-4f81-9ec7-6109d4107364",
   "metadata": {},
   "source": [
    "### Dictionaries\n",
    "*Dictionaries* are a compound data type similar to *lists*. \n",
    "In a dictionary you look up a value using another value, a *key*, rather than looking up a value by position as in a list. \n",
    "This is like a real dictionary, you look up a definition of a word using the word. "
   ]
  },
  {
   "cell_type": "code",
   "execution_count": null,
   "id": "fdb25451-a1cd-4538-b5af-412b5cdb5df1",
   "metadata": {},
   "outputs": [],
   "source": [
    "D = {\"leaf\": \"green\", \"sky\": \"blue\", \"apple\": \"red\"}\n",
    "print(f'D is {D}')"
   ]
  },
  {
   "cell_type": "markdown",
   "id": "06e353fe-6ef9-493b-9b95-cf263bb9d233",
   "metadata": {},
   "source": [
    "The dictionary can be shown like this."
   ]
  },
  {
   "cell_type": "markdown",
   "id": "81691043-163b-4b48-bf7d-26e2480d2d3a",
   "metadata": {},
   "source": [
    "![dict1.jpg](dict1.jpg)"
   ]
  },
  {
   "cell_type": "markdown",
   "id": "238f70e8-e29b-4f83-9e4f-cf4a7c232115",
   "metadata": {},
   "source": [
    "#### Items in dictionaries\n",
    "Each dictionary item can be accessed with '[' and ']', where *dictionary*`[`*key*`]` gives the value that is assigned for that key in the dictionary. "
   ]
  },
  {
   "cell_type": "code",
   "execution_count": null,
   "id": "79ee67a7-7286-4218-acfe-b9b4d2d7a0af",
   "metadata": {},
   "outputs": [],
   "source": [
    "D = {\"leaf\": \"green\", \"sky\": \"blue\", \"apple\": \"red\"}\n",
    "leaf = D[\"leaf\"]\n",
    "apple = D[\"apple\"]\n",
    "print(f'D[\"leaf\"] is {leaf}')\n",
    "print(f'D[\"apple\"] is {apple}')"
   ]
  },
  {
   "cell_type": "markdown",
   "id": "4301966a-356b-430f-9d60-12e433374f70",
   "metadata": {},
   "source": [
    "The value of a dictionary item for a key can be changed by assigning that item with the key in square brackets `[` and `]`. "
   ]
  },
  {
   "cell_type": "code",
   "execution_count": null,
   "id": "d6806c30-f2bd-42a3-a82b-0ab21d6e527c",
   "metadata": {},
   "outputs": [],
   "source": [
    "D[\"apple\"] = \"honeycrisp\"\n",
    "print(f'after D[\"apple\"] = \"honeycrisp\", D[\"apple\"]  is \"{D[\"apple\"]}\"')"
   ]
  },
  {
   "cell_type": "markdown",
   "id": "9c9e4dfa-0156-432c-b63e-57aebf6d02ca",
   "metadata": {},
   "source": [
    "New dictionary items can be created by assigning a value with a new key in square brackets `[` and `]`. "
   ]
  },
  {
   "cell_type": "code",
   "execution_count": null,
   "id": "3a80f935-0f67-4ef7-8acb-623842f9e729",
   "metadata": {},
   "outputs": [],
   "source": [
    "D = { \"leaf\": \"green\", \"sky\": \"blue\", \"apple\": \"red\"}\n",
    "print(f'D starts as {D} length {len(D)}')\n",
    "D[\"earth\"] = \"brown\"\n",
    "print(f'after D[\"earth\"] = \"brown\", D is {D} length {len(D)}')"
   ]
  },
  {
   "cell_type": "markdown",
   "id": "bbaf98e3-4571-4e40-87eb-aea8b004109e",
   "metadata": {},
   "source": [
    "#### Dictionaries and variables\n",
    "There is not room to store whole dictionary in a variable, so the variable stores a *pointer* to the dictionary. \n",
    "That can be shown like this. "
   ]
  },
  {
   "cell_type": "markdown",
   "id": "6719f834-a677-44d3-b1c1-795688583f90",
   "metadata": {},
   "source": [
    "![dict2.jpg](dict2.jpg)"
   ]
  },
  {
   "cell_type": "markdown",
   "id": "b763fbfe-76c8-4a23-99f8-372ba3cec999",
   "metadata": {},
   "source": [
    "When a dictionary is assigned to a variable and that variable is assigned to another variable, the entire dictionary isn't copied into the second variable. \n",
    "Only the pointer is copied."
   ]
  },
  {
   "cell_type": "markdown",
   "id": "41d4b700-6150-4e8e-bc08-52bf970cd741",
   "metadata": {},
   "source": [
    "![dict3.jpg](dict3.jpg)"
   ]
  },
  {
   "cell_type": "markdown",
   "id": "7d40a3e5-6fec-454c-8338-221e52fb5b45",
   "metadata": {},
   "source": [
    "We can show that when both variables are pointing to the same dictionary, when we change the dictionary through the first variable, and we will se the change looking through the second variable."
   ]
  },
  {
   "cell_type": "code",
   "execution_count": null,
   "id": "61fdbc57-6597-451b-8b54-f802786c10ea",
   "metadata": {},
   "outputs": [],
   "source": [
    "D = { \"leaf\": \"green\", \"sky\": \"blue\", \"apple\": \"red\"}\n",
    "print(f'D starts as {D}.')\n",
    "E = D\n",
    "print(f'after E = D, E is {E}.')\n",
    "D[\"apple\"] = \"yellow\"\n",
    "print(f'after D[\"apple\"] = \"yellow\", D is {D} and E is {E}.')"
   ]
  },
  {
   "cell_type": "markdown",
   "id": "983ae227-03c4-4005-b751-5a47e319a096",
   "metadata": {},
   "source": [
    "<img src=\"dict4.jpg\" width=\"400\">"
   ]
  },
  {
   "cell_type": "markdown",
   "id": "98c45be3-d968-4d32-8549-1cb56db43a13",
   "metadata": {},
   "source": [
    "#### `copy` function\n",
    "To assign a dictionary  to another variable and be able to change the dictionary through the second variable without affecting the first dictionary , the `copy` function makes a copy of the dictionary before assigning it to the second variable. \n",
    "Changing the second dictionary then doesn't change the first dictionary."
   ]
  },
  {
   "cell_type": "code",
   "execution_count": null,
   "id": "2d57e8b3-893f-4312-8cfe-f22f59eaa710",
   "metadata": {},
   "outputs": [],
   "source": [
    "D = { \"leaf\": \"green\", \"sky\": \"blue\", \"apple\": \"red\"}\n",
    "print(f'D starts as {D}')\n",
    "E = D.copy()\n",
    "print(f'after E = D.copy(), E is {E}.')\n",
    "D[\"apple\"] = \"yellow\"\n",
    "print(f'after D[\"apple\"] = \"yellow\", D is {D} and E is {E}')"
   ]
  },
  {
   "cell_type": "markdown",
   "id": "6071e251-c07e-457e-bd85-afcc3da2f9a5",
   "metadata": {},
   "source": [
    "![dict5.jpg ](dict5.jpg)"
   ]
  },
  {
   "cell_type": "markdown",
   "id": "90f001f9-1071-4a88-baec-115a22b939d9",
   "metadata": {
    "tags": []
   },
   "source": [
    "#### `len` function\n",
    "The `len` function has the value of the dictionary length."
   ]
  },
  {
   "cell_type": "code",
   "execution_count": null,
   "id": "8fe8ebf8-c542-49df-aafa-0132bed0218e",
   "metadata": {},
   "outputs": [],
   "source": [
    "D = {\"leaf\": \"green\", \"sky\": \"blue\", \"apple\": \"red\"}\n",
    "print(f'D starts as {D}')\n",
    "x = len(D)\n",
    "print(f'{len(D)} is {x}')"
   ]
  },
  {
   "cell_type": "markdown",
   "id": "fbd26166-0ba7-4116-91bb-ebcb71fd6b14",
   "metadata": {},
   "source": [
    "#### `keys` function\n",
    "The `keys` function gives a list of the dictionary keys. The keys are not actually in `list` form, you need the `list` function to convert them to a list."
   ]
  },
  {
   "cell_type": "code",
   "execution_count": null,
   "id": "b612bd34-b551-4919-a220-09a2ae311dda",
   "metadata": {},
   "outputs": [],
   "source": [
    "D = {\"leaf\": \"green\", \"sky\": \"blue\", \"apple\": \"red\"}\n",
    "print(f'D starts as {D}')\n",
    "L = list(D.keys())\n",
    "print(f'D.keys() is {L}')"
   ]
  },
  {
   "cell_type": "markdown",
   "id": "277696fa-e18c-4330-a4c5-3dfe59aba726",
   "metadata": {},
   "source": [
    "#### `pop` function and `del` operator\n",
    "The `pop` function can remove an item from a dictionary. \n",
    "The key of the value to remove is the first argument to `pop`. \n",
    "The dictionary is one value smaller after `pop`. \n",
    "The `del` operator can remove an item too."
   ]
  },
  {
   "cell_type": "code",
   "execution_count": null,
   "id": "d9d764b2-cf43-4e0c-baeb-4c88c586c68f",
   "metadata": {},
   "outputs": [],
   "source": [
    "D = {\"leaf\": \"green\", \"sky\": \"blue\", \"apple\": \"red\"}\n",
    "print(f'D starts as {D}')\n",
    "D.pop(\"leaf\")\n",
    "print(f'after D.pop(\"leaf\"), D is {D}')\n",
    "del D[\"sky\"]\n",
    "print(f'after del D[\"sky\"], D is {D}')"
   ]
  },
  {
   "cell_type": "markdown",
   "id": "97e0464e-e51c-4a4e-b638-e4ed405d36f4",
   "metadata": {},
   "source": [
    "## Instruction control\n",
    "\n",
    "Programs may not want to run instructions just in the order they are given. \n",
    "You can run instructions only if something is true, repeat instructions while something is true, or for each item in a group. \n",
    "Examples are `if`, `while`, and `for` statements.\n",
    "\n",
    "### `If` statements\n",
    "An `if` statement can run instructions if something is true.\n",
    "An `if` statement looks like:\n",
    "\n",
    "\n",
    "`if` *condition*`:` \\\n",
    " &nbsp;&nbsp;&nbsp;&nbsp;*some instruction* \\\n",
    " &nbsp;&nbsp;&nbsp;&nbsp;*another instruction* \\\n",
    " &nbsp;&nbsp;&nbsp;&nbsp;*and more...* \\\n",
    "*instruction run after previous instructions*\n",
    "\n",
    "<img src=\"if3.jpg\" width=\"400\">\n",
    "\n",
    "An `if` statment tests a *condition*, like `x < 5`, and if true runs the indented instructions after it. \n",
    "The next un-indented instruction is run whether or not the `if` *condition* is true. \n",
    "The indents have to be one or more spaces, and must be the same for each instruction. \n",
    "Here the first test is true and a line is printed. \n",
    "The second test is not true so no line is printed for that. \n",
    "The last line is always printed."
   ]
  },
  {
   "cell_type": "code",
   "execution_count": null,
   "id": "bfb6358a-767d-495f-95aa-2e9042e56565",
   "metadata": {},
   "outputs": [],
   "source": [
    "x = 5\n",
    "if x > 3:\n",
    "    print(\"x is more than 3\")\n",
    "if x < 2:\n",
    "    print(\"x is less than 2\")\n",
    "print(\"after x tests\")"
   ]
  },
  {
   "cell_type": "markdown",
   "id": "838f8eed-5cc9-441b-94e7-9fc4b8055fe8",
   "metadata": {},
   "source": [
    "### Conditions\n",
    "Tests for `if` statements may use different operators or functions. An operator for a condition might be `>` in `x > 3`. "
   ]
  },
  {
   "cell_type": "code",
   "execution_count": null,
   "id": "0fc8b84b-0cda-4925-a727-9283c0a50961",
   "metadata": {},
   "outputs": [],
   "source": [
    "x = 5\n",
    "if x > 3:\n",
    "    print(f'x is > 3')"
   ]
  },
  {
   "cell_type": "markdown",
   "id": "f72a16e1-9dc3-4d9a-9ee7-c5b1073b48e1",
   "metadata": {},
   "source": [
    "In other cases a function might be used in the condition. "
   ]
  },
  {
   "cell_type": "code",
   "execution_count": null,
   "id": "e8dd991b-2b8f-404d-a81f-90ab1a9ef9f3",
   "metadata": {},
   "outputs": [],
   "source": [
    "s = \"hello\"\n",
    "if len(s) > 3:\n",
    "    print(f'len(s) is > 3')"
   ]
  },
  {
   "cell_type": "markdown",
   "id": "e94607ad-54d5-4873-a988-2e4cfa672cdf",
   "metadata": {},
   "source": [
    "#### Combining conditions\n",
    "Sometimes a condition might want to test more than one thing. \n",
    "An example is wanting a number to be between a lower and higher value. \n",
    "The `and` operator can do more than one test at a time."
   ]
  },
  {
   "cell_type": "code",
   "execution_count": null,
   "id": "c8a06a28-0e8b-4cc9-8b4d-12fedcfbaf99",
   "metadata": {},
   "outputs": [],
   "source": [
    "x = 4\n",
    "print(f'x starts as {x}')\n",
    "if x > 2 and x < 6:\n",
    "    print(f'{x} is between 2 and 6')\n",
    "if x > 5 and x < 9:\n",
    "    print(f'{x} is between 5 and 9')"
   ]
  },
  {
   "cell_type": "markdown",
   "id": "b6814cc8-03f8-45a6-bcb4-e39f24aa1f06",
   "metadata": {},
   "source": [
    "The `or` operator can test if either one test or another is true. \n",
    "Here the second test is true because when x is 4, it is less than 9 even if it is no more than 5."
   ]
  },
  {
   "cell_type": "code",
   "execution_count": null,
   "id": "6243fb69-efec-4937-912e-fbb566e64eac",
   "metadata": {},
   "outputs": [],
   "source": [
    "x = 4\n",
    "print(f'x starts as {x}')\n",
    "if x > 2 or x < 6:\n",
    "    print(f'{x} is more than 2 or less than 6')\n",
    "if x > 5 or x < 9:\n",
    "    print(f'{x} is more than 5 or less than 9')"
   ]
  },
  {
   "cell_type": "markdown",
   "id": "76f82c02-b201-43de-9c58-4bcdcd207685",
   "metadata": {},
   "source": [
    "The `not` operator can test whether a condition is false."
   ]
  },
  {
   "cell_type": "code",
   "execution_count": null,
   "id": "c1f0735e-ffc4-4355-ba45-ee074545fb66",
   "metadata": {},
   "outputs": [],
   "source": [
    "x = 3\n",
    "print(f'x starts as {x}')\n",
    "if x > 2:\n",
    "    print('x {x} is greater than 2')\n",
    "if not x < 1:\n",
    "    print('x {x} is not less than 1')"
   ]
  },
  {
   "cell_type": "markdown",
   "id": "2bce211a-39e1-4558-8c90-a956b4c2ab81",
   "metadata": {},
   "source": [
    "#### Tests with numbers\n",
    "\n",
    "There are lots of condition operators for numbers. \n",
    "`==` tests if numbers are the same."
   ]
  },
  {
   "cell_type": "code",
   "execution_count": null,
   "id": "90ac55e6-6c80-4959-8b13-b5d25492d30d",
   "metadata": {},
   "outputs": [],
   "source": [
    "s = input(\"type a number to test:\")\n",
    "x = int(s)\n",
    "if x == 3: \n",
    "    print(\"{x} is 3\")"
   ]
  },
  {
   "cell_type": "markdown",
   "id": "1cecbdff-8ef0-4c87-bd40-caabf51988e8",
   "metadata": {},
   "source": [
    "`>` tests if a number is more than another."
   ]
  },
  {
   "cell_type": "code",
   "execution_count": null,
   "id": "3a3fdd12-468d-464c-b754-55fdacdda83a",
   "metadata": {},
   "outputs": [],
   "source": [
    "s = input(\"type a number to test:\")\n",
    "x = int(s)\n",
    "if x > 3: \n",
    "    print(\"{x} is greater than 3\")"
   ]
  },
  {
   "cell_type": "markdown",
   "id": "0be71c1f-1cc2-4dfc-9f43-d01e064960ba",
   "metadata": {},
   "source": [
    "`<` tests if a number is less than another."
   ]
  },
  {
   "cell_type": "code",
   "execution_count": null,
   "id": "bf5fa17c-b9c0-4336-83a3-33108614e334",
   "metadata": {},
   "outputs": [],
   "source": [
    "s = input(\"type a number to test:\")\n",
    "x = int(s)\n",
    "if x >= 3: \n",
    "    print(\"{x} is greater than or equal to 3\")"
   ]
  },
  {
   "cell_type": "markdown",
   "id": "e45ad870-77e7-405b-aa53-7130570aa65d",
   "metadata": {},
   "source": [
    "`>=` tests if a number is the same or more than another."
   ]
  },
  {
   "cell_type": "code",
   "execution_count": null,
   "id": "3c15b654-1fce-4c2a-879a-0440845b6bcf",
   "metadata": {},
   "outputs": [],
   "source": [
    "s = input(\"type a number to test:\")\n",
    "x = int(s)\n",
    "if x < 3: \n",
    "    print(\"{x} is less than 3\")"
   ]
  },
  {
   "cell_type": "markdown",
   "id": "2838361e-7706-4b05-9313-f625e0a5dde4",
   "metadata": {},
   "source": [
    "`<=` tests if a number is the same or less than another."
   ]
  },
  {
   "cell_type": "code",
   "execution_count": null,
   "id": "5aa3781c-dd97-4d22-a3fc-5ff1ea443b4d",
   "metadata": {},
   "outputs": [],
   "source": [
    "s = input(\"type a number to test:\")\n",
    "x = int(s)\n",
    "if x <= 3: \n",
    "    print(\"{x} is less than or equal to 3\")"
   ]
  },
  {
   "cell_type": "markdown",
   "id": "020128bf-2412-4a49-bc1f-fc859dad210a",
   "metadata": {},
   "source": [
    "`!=` tests if numbers are not the same."
   ]
  },
  {
   "cell_type": "code",
   "execution_count": null,
   "id": "b6efa27b-fdee-43c7-90b6-e6ef2390b474",
   "metadata": {},
   "outputs": [],
   "source": [
    "s = input(\"type a number to test:\")\n",
    "x = int(s)\n",
    "if x != 3: \n",
    "    print(\"{x} is not 3\")"
   ]
  },
  {
   "cell_type": "markdown",
   "id": "d75bcc73-458a-4383-87d2-3c62bad25fa2",
   "metadata": {},
   "source": [
    "#### Tests with strings\n",
    "The `==` operator can test whether strings are the same. "
   ]
  },
  {
   "cell_type": "code",
   "execution_count": null,
   "id": "afb77bc2-262a-4fdb-a551-10b6f6ed6b6f",
   "metadata": {},
   "outputs": [],
   "source": [
    "s = input(f'type a string to test against \"test\":')\n",
    "t = \"test\"\n",
    "if s == t: \n",
    "    print(f'\"{s}\" is \"{t}\"')"
   ]
  },
  {
   "cell_type": "markdown",
   "id": "038d3a47-ef20-4040-bcdd-c001e91c98ff",
   "metadata": {},
   "source": [
    "The `!=` operator can test whether strings are different."
   ]
  },
  {
   "cell_type": "code",
   "execution_count": null,
   "id": "ed7ae036-514a-4a93-9505-13890c1a2c35",
   "metadata": {},
   "outputs": [],
   "source": [
    "s = input(f'type a string to test against \"test\":')\n",
    "t = \"test\"\n",
    "if s != t: \n",
    "    print(f'\"{s}\" is not \"{t}\"')    "
   ]
  },
  {
   "cell_type": "markdown",
   "id": "10406096-fef6-46e4-bc7c-9fc1f16e81fe",
   "metadata": {},
   "source": [
    "The `in` operator can test whether a string is part of another."
   ]
  },
  {
   "cell_type": "code",
   "execution_count": null,
   "id": "7c1fc1fd-55d0-40b2-b143-07986c962191",
   "metadata": {},
   "outputs": [],
   "source": [
    "s = input(f'type a string to test against \"test\":')\n",
    "t = \"test\"\n",
    "if t in s: \n",
    "    print(f'\"{s}\" is part of \"{t}\"')    "
   ]
  },
  {
   "cell_type": "markdown",
   "id": "31f512f9-59c3-4da3-8748-72be4c66e515",
   "metadata": {},
   "source": [
    "There a number of tests for the types of characters in a string using functions.\n",
    "`isalpha(`*string*`)` tests whether all characters in a string are letters between \"a\" and \"z\" or between \"A\" and \"Z\"."
   ]
  },
  {
   "cell_type": "code",
   "execution_count": null,
   "id": "2f7723a1-2408-43c4-a277-ca7d6d5c4880",
   "metadata": {},
   "outputs": [],
   "source": [
    "s = input(f'type a string to test:')\n",
    "if s.isalpha(): \n",
    "    print(f'\"{s}\" has all letters.')"
   ]
  },
  {
   "cell_type": "markdown",
   "id": "80832c5e-8e14-4584-be3c-ed24ab4c427a",
   "metadata": {},
   "source": [
    "`isdigit(`*string*`)` tests whether all characters in a string are numbers."
   ]
  },
  {
   "cell_type": "code",
   "execution_count": null,
   "id": "25ead186-9abb-4bca-a162-2ea339ee5af5",
   "metadata": {},
   "outputs": [],
   "source": [
    "s = input(f'type a string to test:')\n",
    "if s.isdigit(): \n",
    "    print(f'\"{s}\" has all digits.')"
   ]
  },
  {
   "cell_type": "markdown",
   "id": "4cb5e3f9-0a81-4963-8c2e-4100510abf29",
   "metadata": {},
   "source": [
    "`isalnum(`*string*`)` tests whether all characters in a string are numbers or letters."
   ]
  },
  {
   "cell_type": "code",
   "execution_count": null,
   "id": "cd595f10-1341-4beb-a7b5-13f6c08d276a",
   "metadata": {},
   "outputs": [],
   "source": [
    "s = input(f'type a string to test:')\n",
    "if s.isalnum(): \n",
    "    print(f'\"{s}\" has all numbers or letters.')"
   ]
  },
  {
   "cell_type": "markdown",
   "id": "6b0cb2ba-2172-43d6-a49c-4014f9c629b9",
   "metadata": {},
   "source": [
    "`isspace(`*string*`)` tests whether all characters in a string are spaces ."
   ]
  },
  {
   "cell_type": "code",
   "execution_count": null,
   "id": "8f84f4c5-0e86-45aa-92ae-7165512bfbd9",
   "metadata": {},
   "outputs": [],
   "source": [
    "s = input(f'type a string to test:')\n",
    "if s.isspace(): \n",
    "    print(f'\"{s}\" has all spaces.')"
   ]
  },
  {
   "cell_type": "markdown",
   "id": "6bff7573-3e64-491d-9ffc-6faba3b98634",
   "metadata": {},
   "source": [
    "#### Tests with lists\n",
    "The `in` operator tests if an item is in a list."
   ]
  },
  {
   "cell_type": "code",
   "execution_count": null,
   "id": "82a288ec-83c8-415f-a3c7-09057a2c5289",
   "metadata": {},
   "outputs": [],
   "source": [
    "L = [1, 3, 9]\n",
    "print(f'L starts as {L}')\n",
    "if 3 in L:\n",
    "    print(f'3 is in {L}')"
   ]
  },
  {
   "cell_type": "markdown",
   "id": "7560e898-8890-4463-830b-c9bd93b7763b",
   "metadata": {},
   "source": [
    "#### Tests with dictionary\n",
    "The `in` operator tests if a key is in a dictionary."
   ]
  },
  {
   "cell_type": "code",
   "execution_count": null,
   "id": "8943a27a-46ff-45b2-9cfd-35283d0d4ccb",
   "metadata": {},
   "outputs": [],
   "source": [
    "D = {\"sky\": \"blue\", \"leaf\": \"green\"}\n",
    "print(f'D starts as {D}')\n",
    "if \"sky\" in D:\n",
    "    print(f'\"sky\" is in {D}')"
   ]
  },
  {
   "cell_type": "markdown",
   "id": "d5b88480-039b-43eb-b8c1-07734875e75b",
   "metadata": {
    "tags": []
   },
   "source": [
    "### `else` statements\n",
    "\n",
    "You can test both whether a condition is true or false in one `if` statement with `else`. \n",
    "The instructions after the `if` are run if the condition is true and the instructions after `else` are run if the condition is not true.\n",
    "\n",
    "`if` *condition`:`\\\n",
    "&nbsp;&nbsp;&nbsp;&nbsp;*instruction*\\\n",
    "&nbsp;&nbsp;&nbsp;&nbsp;*instruction*\\\n",
    "`else:`\\\n",
    "&nbsp;&nbsp;&nbsp;&nbsp;*instruction*\\\n",
    "&nbsp;&nbsp;&nbsp;&nbsp;*instruction*\n",
    "\n",
    "<img  src=\"if1.jpg\" width=\"500\">"
   ]
  },
  {
   "cell_type": "code",
   "execution_count": null,
   "id": "f3c94fb0-dc99-4d69-9843-7b41840a959c",
   "metadata": {},
   "outputs": [],
   "source": [
    "s = input(f'type a string to test:')\n",
    "if s.isalpha(): \n",
    "    print(f'isalpha(\"{s}\") are all letters.')\n",
    "else: \n",
    "    print(f'isalpha(\"{s}\") is not all letters.')    "
   ]
  },
  {
   "cell_type": "markdown",
   "id": "65cbdeef-462c-4a0a-9324-145503dcbf87",
   "metadata": {},
   "source": [
    "### `elif` statements\n",
    "You can test a number of conditions in one `if` statement with `elif`. \n",
    "`elif` lets you test one condition after another. \n",
    "The instructions after the `if` are run if the condition is true and runs the instructions after the first `elif` when that condition is true. \n",
    "There can be an `else` at the end that runs if none of the conditions are true.\n",
    "\n",
    "`if` *condition*`:`\\\n",
    "&nbsp;&nbsp;&nbsp;&nbsp;*instruction*\\\n",
    "&nbsp;&nbsp;&nbsp;&nbsp;*instruction*\\\n",
    "`elif` *condition*`:`\\\n",
    "&nbsp;&nbsp;&nbsp;&nbsp;*instruction*\\\n",
    "&nbsp;&nbsp;&nbsp;&nbsp;*instruction*\\\n",
    "`elif` *condition*`:`\\\n",
    "&nbsp;&nbsp;&nbsp;&nbsp;*instruction*\\\n",
    "&nbsp;&nbsp;&nbsp;&nbsp;*instruction*\\\n",
    "`else:`\\\n",
    "&nbsp;&nbsp;&nbsp;&nbsp;*instruction*\\\n",
    "&nbsp;&nbsp;&nbsp;&nbsp;*instruction*\n",
    "\n",
    "<img src=\"if2.jpg\" width=\"600\">"
   ]
  },
  {
   "cell_type": "code",
   "execution_count": null,
   "id": "cbe2fa0a-643b-47dc-81c1-451fa306058b",
   "metadata": {},
   "outputs": [],
   "source": [
    "s = input(\"type a number to test:\")\n",
    "x = int(s)\n",
    "if x > 9: \n",
    "    print(\"{x} is greater than 9\")\n",
    "elif x >= 3: \n",
    "    print(\"{x} is between 3 and 9\")\n",
    "else: \n",
    "    print(\"{x} is less than 3\")"
   ]
  },
  {
   "cell_type": "markdown",
   "id": "b46fce5d-0c1b-4de6-9d5f-845fb1d5e93d",
   "metadata": {},
   "source": [
    "### `while` loop\n",
    "`if` statements let you run some instructions one time if some condition is true. \n",
    "`while` statements let you run some instructions multiple times until a condition is false. \n",
    "A while loop looks like:\n",
    "\n",
    "`while` *condition*`:`\\\n",
    "&nbsp;&nbsp;&nbsp;&nbsp;*instruction*\\\n",
    "&nbsp;&nbsp;&nbsp;&nbsp;*instruction*\n",
    "\n",
    "<img src=\"while1.jpg\" width=\"400\">\n",
    "\n",
    "There is one catch: the condition has to use some variables, and the instructions have to change the value of the variables so that at some time the condition becomes false. \n",
    "Otherwise the program will run those instructions forever. \n",
    "In this loop, `i` starts below 6, but goes up 1 each time so that it eventually becomes 6 and the loop stops."
   ]
  },
  {
   "cell_type": "code",
   "execution_count": null,
   "id": "6dd69f65-124f-44cf-a6b5-5e1b0b746738",
   "metadata": {},
   "outputs": [],
   "source": [
    "x = 2\n",
    "while x < 6:\n",
    "    print(f'x is {x}')\n",
    "    x += 1"
   ]
  },
  {
   "cell_type": "markdown",
   "id": "8717e59e-99e5-4e66-82ab-e96219241e89",
   "metadata": {},
   "source": [
    "This `while` loop can convert pounds to kilograms until you enter 0."
   ]
  },
  {
   "cell_type": "code",
   "execution_count": null,
   "id": "ea39489d-2809-4d3a-bf9b-538974fc0860",
   "metadata": {},
   "outputs": [],
   "source": [
    "s = \"\"\n",
    "while s != \"0\":\n",
    "    s = input(\"give the number of pounds to convert to kilograms, type 0 to stop:\")\n",
    "    x = int(s)\n",
    "    print(f'{x} pounds is {x * 2.2} kilograms')"
   ]
  },
  {
   "cell_type": "markdown",
   "id": "7f1cfd73-03d9-4233-b0be-8cf644ee7481",
   "metadata": {},
   "source": [
    "### `for` loop\n",
    "\n",
    "The `for` loop is like a `while` loop except that it runs instructions once for each item in a group. \n",
    "A `for` loop looks like this.\n",
    "\n",
    "`for` *item* `in` *group*`:`\\\n",
    "&nbsp;&nbsp;&nbsp;&nbsp;*instruction*\\\n",
    "&nbsp;&nbsp;&nbsp;&nbsp;*instruction*\n",
    "\n",
    "<img src=\"for1.jpg\" width=\"600\">\n",
    "\n",
    "This `for` loop runs for each character in a string."
   ]
  },
  {
   "cell_type": "code",
   "execution_count": null,
   "id": "2e094862-175a-43d2-a0d6-c2359bb851a4",
   "metadata": {},
   "outputs": [],
   "source": [
    "print(\"a for loop for a string\")\n",
    "s = \"abcd\"\n",
    "for c in s:\n",
    "    print(f'the next character of \"{s}\" is \"{c}\"')"
   ]
  },
  {
   "cell_type": "markdown",
   "id": "662a9aa2-86ca-498d-894c-e8b91648d534",
   "metadata": {},
   "source": [
    "This `for` loop runs for each item in a list."
   ]
  },
  {
   "cell_type": "code",
   "execution_count": null,
   "id": "1f014490-dd90-4903-9e17-b2bf589807ba",
   "metadata": {},
   "outputs": [],
   "source": [
    "print(\"a for loop for a list\")\n",
    "L = [\"first\", \"second\", \"third\"]\n",
    "for i in L:\n",
    "    print(f'the next item in \"{L}\" is \"{i}\"')"
   ]
  },
  {
   "cell_type": "markdown",
   "id": "1a0c43d0-ed86-411d-8d45-d6ad4c5fc67d",
   "metadata": {},
   "source": [
    "### `Range` function\n",
    "It's often useful to run a function some number of times.\n",
    "`for` loops often run for each number in a group of numbers. \n",
    "The `range` function creates a list of numbers for the `for` loop to run on. \n",
    "A `for` loop using `range(n)` with one argument loops through the numbers `0` to `n-1`. "
   ]
  },
  {
   "cell_type": "code",
   "execution_count": null,
   "id": "c35cc387-4bdb-43a9-96d6-de415d0f9566",
   "metadata": {},
   "outputs": [],
   "source": [
    "for i in range(4):\n",
    "    print(f'the next number in range(4) is {i}') "
   ]
  },
  {
   "cell_type": "markdown",
   "id": "759ce1df-de6e-4c84-88cd-146003eaf8b0",
   "metadata": {},
   "source": [
    "Using `range(m, n)` with two arguments will loop through the numbers `m` to `n-1`."
   ]
  },
  {
   "cell_type": "code",
   "execution_count": null,
   "id": "4d6a777a-cffc-45d0-8a63-e56fef04ba9b",
   "metadata": {},
   "outputs": [],
   "source": [
    "for i in range(2, 5):\n",
    "    print(f'the next number in range(2, 5) is {i}') "
   ]
  },
  {
   "cell_type": "markdown",
   "id": "88c4c72b-5c0a-4c8e-8024-3e935699b8d6",
   "metadata": {},
   "source": [
    "Using `range(m, n, step)` can add `step` each time until the number is more than `n-1`."
   ]
  },
  {
   "cell_type": "code",
   "execution_count": null,
   "id": "82bf024c-c852-4d53-85ba-42613ae538e4",
   "metadata": {},
   "outputs": [],
   "source": [
    "for i in range(3, 9, 2):\n",
    "    print(f'the next number in range(3, 9, 2) is {i}') "
   ]
  },
  {
   "cell_type": "markdown",
   "id": "c3405fde-d9ed-4e41-981f-281425a6d79c",
   "metadata": {},
   "source": [
    "Using `range(m, n, -1)` the loop can count down from `m` to `n+1`."
   ]
  },
  {
   "cell_type": "code",
   "execution_count": null,
   "id": "68fdab13-ce35-4af1-ac33-25484ea5fce7",
   "metadata": {},
   "outputs": [],
   "source": [
    "for i in range(5, 2, -1):\n",
    "    print(f'the next number in range(5, 2) is {i}') "
   ]
  },
  {
   "cell_type": "markdown",
   "id": "1e8a5ef6-2034-40fa-b776-a6c24be34d0e",
   "metadata": {},
   "source": [
    "### Computing a square root\n",
    "\n",
    "Python has a `sqrt` function to compute a square root of a number."
   ]
  },
  {
   "cell_type": "code",
   "execution_count": null,
   "id": "e307d2b4-ef34-4141-b67c-4630d11d3bcb",
   "metadata": {},
   "outputs": [],
   "source": [
    "import math\n",
    "x = int(input('Give the number you want the square root of:'))\n",
    "print(f'the square root of {x} is {math.sqrt(x)}')"
   ]
  },
  {
   "cell_type": "markdown",
   "id": "3d2365ed-d23d-431e-aabb-d2953d99bff4",
   "metadata": {},
   "source": [
    "`sqrt` is one of the functions Python supplies for common tasks to save us time programming. \n",
    "`import math` says we will use the `math` *module* where a module is a group of functions. \n",
    "We call `math.sqrt` to tell Python that `sqrt` is part of the `math` module. \n",
    "\n",
    "We can compute the square root ourselves by using a formula. \n",
    "If we make a *guess* of the square root and divide the number by it, if the guess is right we will get the same number back."
   ]
  },
  {
   "cell_type": "code",
   "execution_count": null,
   "id": "18ca1224-add0-464a-af88-c28e634db8a0",
   "metadata": {
    "tags": []
   },
   "outputs": [],
   "source": [
    "x = 9\n",
    "y = 9/3\n",
    "\n",
    "print(f'making a guess that 3 is the square root of {x}, the result of dividing {x} by 3 is {y}')"
   ]
  },
  {
   "cell_type": "markdown",
   "id": "3ed12acc-23d1-40b1-8d1f-4f6bd1102d72",
   "metadata": {},
   "source": [
    "If the guess is wrong, the result of dividing will be different, but the right guess will be somewhere between the two.\n",
    "\n",
    "We'll try an idea for the program. \n",
    "- If we have a number, we make a guess and divide it into the number. \n",
    "- If the guess and the result of dividing it into the number are the same, we've found the square root.\n",
    "- If they are not the same, we can try a new guess that is the number halfway between the guess and the result.\n",
    "\n",
    "The number halfway between two numbers is the average, or $\\frac{guess + \\frac{guess}{number}}{2}$."
   ]
  },
  {
   "cell_type": "code",
   "execution_count": null,
   "id": "c1724c7c-00dd-4f90-9fd5-1137a08f7ef2",
   "metadata": {},
   "outputs": [],
   "source": [
    "x = 9\n",
    "y = 2\n",
    "z = x/y\n",
    "print(f'dividing {x} by 2 gives {y}, and the average of the two is {(y + z) / 2}')"
   ]
  },
  {
   "cell_type": "markdown",
   "id": "12f6bf8c-0c5a-4276-84ea-bf5c7d9f17aa",
   "metadata": {},
   "source": [
    "It turns out the second step is not as easy as we think.\n",
    "The guess will almost always be a real number, and those two numbers might be very close but still not the same.\n",
    "Instead of the being the *same*, we will test whether their difference is less than some small number, say `0.001`.\n",
    "We'll also use some different variable names to try to keep track of things better.\n",
    "We'll try half of the number as the first guess."
   ]
  },
  {
   "cell_type": "code",
   "execution_count": null,
   "id": "f92a8b2c-51dd-42cf-9ec7-e04b8a0924ad",
   "metadata": {},
   "outputs": [],
   "source": [
    "import math\n",
    "x = int(input('Give the number you want the square root of:'))\n",
    "guess = x / 2\n",
    "next_guess = (x / guess) / 2\n",
    "tries = 0\n",
    "while abs(guess - next_guess) > 0.001:\n",
    "    tries += 1\n",
    "    guess = next_guess\n",
    "    next_guess = (guess + x / guess) / 2\n",
    "    print(f'try {tries}, the guess is {round(guess, 4)}, the next guess is {round(next_guess, 4)}, and the difference is {round(abs(guess - next_guess), 4)}')\n",
    "print(f'the final guess is {round(guess, 4)} and the square root from math.sqrt({x}) is {round(math.sqrt(x), 4)}')"
   ]
  },
  {
   "cell_type": "markdown",
   "id": "ce6d2123-ebdb-457a-8831-0f379433eb83",
   "metadata": {},
   "source": [
    "Try a large number and see how many tries it takes. \n",
    "It usually won't take that many.\n",
    "The program did not take many instructions."
   ]
  },
  {
   "cell_type": "markdown",
   "id": "65dbe7ee-2d78-4a16-9a07-9ec89bcc41b7",
   "metadata": {},
   "source": [
    "### Finding the factors of a number\n",
    "\n",
    "The factors of a number are those that divide evenly into the number. \n",
    "If we have a factor, then the number divided by the factor has a remainder of `0`.\n",
    "We can find the remainder with the *modulo* operator `%`.\n",
    "\n",
    "We can test that we have all the factors in a `while` loop.\n",
    "We know we have all the factors when dividing all of them into the number gives `1`.\n",
    "A factor may occur more than once, so we need a `while` loop inside the `while` loop to test each factor more than once.\n",
    "'1' is always a factor of the number, so we'll start testing with `2`."
   ]
  },
  {
   "cell_type": "code",
   "execution_count": null,
   "id": "b3b5730b-f609-4d73-b88d-1c21d8776de6",
   "metadata": {},
   "outputs": [],
   "source": [
    "number = int(input('Give the number you want the factors of:'))\n",
    "factor = 2\n",
    "factors = []\n",
    "x = number\n",
    "while (x != 1):\n",
    "    while x % factor == 0:\n",
    "        factors.append(factor)\n",
    "        x = x / factor\n",
    "    factor += 1\n",
    "print(f'the factors of {number} are {factors}')"
   ]
  },
  {
   "cell_type": "markdown",
   "id": "78605359-e300-4a59-838e-04945c009387",
   "metadata": {},
   "source": [
    "### Finding prime numbers\n",
    "The only factors a prime numbers have are 1 and the number. \n",
    "Prime numbers are very useful for cryptography and are good to know. \n",
    "We will use the factor example above as a *function* to find this. \n",
    "A number is prime when there are only two factors, 1 and the number itself.\n",
    "You will give us the largest number to test as prime"
   ]
  },
  {
   "cell_type": "code",
   "execution_count": null,
   "id": "4946ec03-0dec-474c-a566-7232af25fa81",
   "metadata": {},
   "outputs": [],
   "source": [
    "def factors(number):\n",
    "    factors = []\n",
    "    factor = 2\n",
    "    x = number\n",
    "    while (x != 1):\n",
    "        while x % factor == 0:\n",
    "            factors.append(factor)\n",
    "            x = x / factor\n",
    "        factor += 1\n",
    "    return factors\n",
    "\n",
    "largest_prime = int(input('Give the largest prime number you want the search for:'))\n",
    "primes = []\n",
    "for i in range(2, largest_prime + 1):\n",
    "    factors_of_i = factors(i)\n",
    "    if len(factors_of_i) == 1:\n",
    "        primes.append(i)\n",
    "print(f'the prime numbers up to of {largest_prime} are {primes}')"
   ]
  },
  {
   "cell_type": "markdown",
   "id": "0b3dee40-d01f-4161-8f1f-73ff190288c3",
   "metadata": {},
   "source": [
    "Another way to test for prime numbers is the *sieve of Erathsenes*, named after the person who invented the method. \n",
    "You start by assuming all numbers up to the largest number are prime.\n",
    "For numbers less than the prime, you know that two times the number, three times the number, and so on up to the largest prime are not prime because they have at least two factors.\n",
    "For each number, you then go through the list and mark the number as not prime.\n",
    "You do not need to test even numbers after 2, because 2 will mark all even numbers after it.\n",
    "We use a list comprehension to create a list of True's las long as the largest prime number.\n",
    "We will set each element to False that is a multiple of the number being tested."
   ]
  },
  {
   "cell_type": "code",
   "execution_count": null,
   "id": "9845f3ae-ef9a-4ced-b06f-09a975bf38b7",
   "metadata": {},
   "outputs": [],
   "source": [
    "largest_prime = int(input('Give the largest prime number you want the search for:'))\n",
    "numbers = [True for i in range(largest_prime)]\n",
    "for i in range(2, largest_prime):\n",
    "    next_nonprime = i * 2\n",
    "    while next_nonprime <= largest_prime:\n",
    "        numbers[next_nonprime - 1] = False\n",
    "        next_nonprime += i\n",
    "primes = []\n",
    "for i in range(1, largest_prime):\n",
    "    if numbers[i]:\n",
    "        primes.append(i + 1)\n",
    "print(f'the prime numbers up to {largest_prime} are {primes}')"
   ]
  },
  {
   "cell_type": "markdown",
   "id": "ba18e0b1-9a39-4701-b7d1-7bad2cd837dd",
   "metadata": {
    "tags": []
   },
   "source": [
    "Try finding the primes up to 30000 with both programs.\n",
    "The Sieve of Erasthenes should be a lot faster"
   ]
  },
  {
   "cell_type": "markdown",
   "id": "cc6069eb-bfad-4cad-8e5a-ed4d1ab78723",
   "metadata": {},
   "source": [
    "## List comprehensions"
   ]
  },
  {
   "cell_type": "markdown",
   "id": "2397c585-f244-4b40-b55c-f8353ec6927d",
   "metadata": {},
   "source": [
    "Lists can be made using `for` loops. \n",
    "A *list comprehension* has a `for` loop inside `[` and `]` to create the items in a list. \n",
    "List comprehensions look like:\n",
    "\n",
    "`[`*formula* `for` *variable* `in` *group*`]`\n",
    "\n",
    "where the *formula* gives a value using the *variable* and the *variable* has the value of each item in the group.\n",
    "This can be an easy shorthand compared to creating the list manually."
   ]
  },
  {
   "cell_type": "code",
   "execution_count": null,
   "id": "c61deb53-2f96-46bb-9a00-fa5a8889dfd6",
   "metadata": {},
   "outputs": [],
   "source": [
    "L = []\n",
    "for i in range(5):\n",
    "  L.append(i)\n",
    "print(f'L produced manually is {L}')\n",
    "L = [i for i in range(5)]\n",
    "print(f'[i for i in range(5)] produces {L}')\n",
    "L = [2*i for i in range(5)]\n",
    "print(f'[2*i for i in range(5)] produces {L}')\n",
    "L = [c for c in \"abc\"]\n",
    "print(f'[c for c in \"abc\"] produces {L}')"
   ]
  },
  {
   "cell_type": "markdown",
   "id": "5f469772-4ff9-4112-a0f7-62c4e9af3c00",
   "metadata": {},
   "source": [
    "If the formula does not use the variable, the list will just repeat the value of the formula."
   ]
  },
  {
   "cell_type": "code",
   "execution_count": null,
   "id": "f78ccca3-2200-4710-8d8f-cb0ca6bbe14f",
   "metadata": {},
   "outputs": [],
   "source": [
    "L = [1 for i in range(5)]\n",
    "print(f'[1 for i in range(5)] produces {L}')"
   ]
  },
  {
   "cell_type": "markdown",
   "id": "579ca169-1d1b-4f9a-8538-9ddb9d6a3f59",
   "metadata": {},
   "source": [
    "List comprehensions can make creating many different kinds of lists easier because any formula or `for` loop can be used."
   ]
  },
  {
   "cell_type": "markdown",
   "id": "a1737244-3636-4c72-8590-ba6945b805d5",
   "metadata": {},
   "source": [
    "## Dictionary comprehensions\n",
    "\n",
    "Dictionaries can be made using `for` loops. \n",
    "A *dictionary comprehension* has a `for` loop inside `{` and `}` to create the items in a dictionary. \n",
    "Dictionary comprehensions look like:\n",
    "\n",
    "`[`*key*: *value* `for` *variable* `in` *group*`]`\n",
    "\n",
    "where the *key* gives a value for the key and the *value*  gives the key value, either or both using the *variable*."
   ]
  },
  {
   "cell_type": "code",
   "execution_count": null,
   "id": "cba31fbb-bcd7-4c09-9d6a-64c2c3f8a486",
   "metadata": {},
   "outputs": [],
   "source": [
    "keys = [\"sky\", \"leaf\"]\n",
    "print(f'keys starts as {keys}')\n",
    "values = [\"blue\", \"green\"]\n",
    "print(f'keys starts as {keys}')\n",
    "colors = {keys[i]: values[i] for i in range(len(keys))}\n",
    "print('{keys[i]: values[i] for i in range(len(keys))} is ', end=\"\")\n",
    "print(f'{colors}')"
   ]
  },
  {
   "cell_type": "markdown",
   "id": "4bf725eb-b3e7-4347-aff8-2651ca5932fb",
   "metadata": {},
   "source": [
    "Dictionary comprehensions can make creating many different kinds of dictionaries easier because any formula or `for` loop can be used."
   ]
  },
  {
   "cell_type": "markdown",
   "id": "d23ad8bb-2661-45c8-b787-4ca69b89d60c",
   "metadata": {},
   "source": [
    "## Functions\n",
    "When a group of instructions need to be used many times in programs, *functions* save time in programming. \n",
    "Functions can take values as *arguments*, and return values if needed. \n",
    "Python offers a library of useful functions.\n",
    "Functions are defined with `def`.\n",
    "This is an example of a function with no arguments."
   ]
  },
  {
   "cell_type": "code",
   "execution_count": null,
   "id": "4b6090a9-5d43-4f23-93df-5127b0133d29",
   "metadata": {},
   "outputs": [],
   "source": [
    "def hello():\n",
    "    print(\"hello\")\n",
    "print(f'hello() does this:')\n",
    "hello()"
   ]
  },
  {
   "cell_type": "markdown",
   "id": "a2cecc84-ec73-4ef8-b3a2-13841bda632b",
   "metadata": {},
   "source": [
    "This is an example of a function with arguments."
   ]
  },
  {
   "cell_type": "code",
   "execution_count": null,
   "id": "a62545d8-5894-4767-8634-de2be5667318",
   "metadata": {},
   "outputs": [],
   "source": [
    "def print_this(s):\n",
    "    print(s)\n",
    "print(f'print_this(\"hello\") does this:')\n",
    "print_this(\"hello\")    "
   ]
  },
  {
   "cell_type": "markdown",
   "id": "d169b1b4-62c0-48cd-9607-caf1eaef7236",
   "metadata": {},
   "source": [
    "This is an example of a function that returns a value."
   ]
  },
  {
   "cell_type": "code",
   "execution_count": null,
   "id": "5cf4c1dd-550c-4706-a164-e1c77abd9281",
   "metadata": {},
   "outputs": [],
   "source": [
    "def increase(x):\n",
    "    return x+1\n",
    "print(f'increase(5) gives this: {increase(5)}')"
   ]
  },
  {
   "cell_type": "markdown",
   "id": "f8491bf6-6028-42c1-b09e-3c54ea969a2f",
   "metadata": {},
   "source": [
    "Variables can only be used inside a function. \n",
    "Variables with the same name inside a function and in the instructions that call them are different. "
   ]
  },
  {
   "cell_type": "code",
   "execution_count": null,
   "id": "e8c47ef1-2849-4206-b754-858e76a5252c",
   "metadata": {},
   "outputs": [],
   "source": [
    "def variable_test():\n",
    "    x = 3\n",
    "    print(f'in variable_test, after x = 3, x is {x}')\n",
    "x = 5\n",
    "print(f'x starts as {x}')\n",
    "variable_test()\n",
    "print(f'in the main program after variable_test(), x is {x}')"
   ]
  },
  {
   "cell_type": "markdown",
   "id": "d11f8b54-2ad1-4936-a57c-578f3ee4a5d9",
   "metadata": {},
   "source": [
    "## Regular Expressions\n",
    "*Regular expressions* are *patterns* that match parts of strings. \n",
    "A regular expression can tell if a string matches a pattern.\n",
    "Regular expressions are defined inside a Python library called `re`.\n",
    "`import` allows using a Python library in a program.\n",
    "\n",
    "The variable name `p` will be used to store patterns."
   ]
  },
  {
   "cell_type": "code",
   "execution_count": null,
   "id": "27dce34a-dfb7-42c8-a46e-02697fefad39",
   "metadata": {},
   "outputs": [],
   "source": [
    "import re\n",
    "s = \"this needs to be matched\"\n",
    "print(f's starts as \"{s}\"')\n",
    "p = \"match\"\n",
    "print(f'p starts as \"{p}\"')\n",
    "if re.search(p, s):\n",
    "    print(f're.search(p, s) is True')"
   ]
  },
  {
   "cell_type": "markdown",
   "id": "d17453e7-c169-4e71-a596-cd66006ff9fe",
   "metadata": {},
   "source": [
    "A pattern is made of normal string keyboard characters and escape characters, but some characters and escape characters have special meaning in patterns. \n",
    "- period `.` matches any character\n",
    "- the escape character `\\.` is needed to match a period, because a period has a special meaning\n",
    "- the escape character `\\d` matches any number character, or *digit*, 0 to 9\n",
    "- the escape character `\\D` is the opposite of `\\d` and matches anything that is not a digit\n",
    "- the escape character `\\w` matches any digit or alphabet character a to z, or A to Z\n",
    "- the escape character `\\W` is the opposite of `\\w` and matches anything that is not a digit or alphabet character\n",
    "- the escape character `\\s` matches any *space character* which are spaces `\" \"`, tabs `\\t`, or newlines `\\n`\n",
    "- the escape character `\\S` is the opposite of `\\s` and matches anything that is not a space character\n",
    "\n",
    "<img src=\"regex1.jpg\" width=\"300\">"
   ]
  },
  {
   "cell_type": "code",
   "execution_count": null,
   "id": "bb0d5611-d034-42c7-ab57-7e658a92902f",
   "metadata": {},
   "outputs": [],
   "source": [
    "import re\n",
    "s = \"there are 12 months in the year\"\n",
    "print(f's starts as \"{s}\"')\n",
    "p = \"\\d\\d\"\n",
    "print(f'p starts as \"{p}\"')\n",
    "if re.search(p, s):\n",
    "    print(f're.search(p, s) is True')"
   ]
  },
  {
   "cell_type": "markdown",
   "id": "108d1feb-6f79-436c-a110-032be5ae748f",
   "metadata": {},
   "source": [
    "There are special characters that control how characters match in a pattern.\n",
    "- plus `+` means the normal character or escape character just before it will match one or more of that character in the string\n",
    "- star `*` means the normal character or escape character just before it will match zero or more of that character in the string\n",
    "- question mark `?` means the normal character or escape character just before it will match if that character is in the string but will still match if it is missing\n",
    "- caret `^` at the beginning of the pattern means the pattern must match starting at the beginning of the string\n",
    "- dollar sign `$` at the end of the pattern means the pattern must matsh ending at the end of the string\n",
    "- to match a plus, star, question mark, caret, or dollar sign, the escape character version must be used, `\\+`, `\\*`. `\\?`, `\\^`, or `\\$`"
   ]
  },
  {
   "cell_type": "code",
   "execution_count": null,
   "id": "d6a71d4e-2162-4aaf-9e0d-a33cff5cf289",
   "metadata": {},
   "outputs": [],
   "source": [
    "import re\n",
    "s = \"there are 12 months in the year\"\n",
    "print(f's starts as \"{s}\"')\n",
    "p = \"\\d+\"\n",
    "print(f'p starts as \"{p}\"')\n",
    "if re.search(p, s):\n",
    "   print(f're.search(p, s) is True')"
   ]
  },
  {
   "cell_type": "markdown",
   "id": "4135a94c-b350-4db7-980a-ea764389933f",
   "metadata": {},
   "source": [
    "The pattern to match a date like '*month*/*day*/*year*, where month and day are two digits like \"03/05/2011\", is `\\d\\d/\\d\\d/\\d\\d\\d\\d`, where the `\\d` are escape characters and slash `/` matches a normal slash.\n",
    "\n",
    "<img src=\"regex2.jpg\" width=\"200\">"
   ]
  },
  {
   "cell_type": "code",
   "execution_count": null,
   "id": "25370a51-e653-40a6-aa2c-62a50115de78",
   "metadata": {},
   "outputs": [],
   "source": [
    "import re\n",
    "s = \"03/05/2011\"\n",
    "print(f's starts as \"{s}\"')\n",
    "p = \"\\d\\d/\\d\\d/\\d\\d\\d\\d\"\n",
    "print(f'p starts as \"{p}\"')\n",
    "if re.search(p, s):\n",
    "   print(f're.search(p, s) is True')"
   ]
  },
  {
   "cell_type": "markdown",
   "id": "2e05857a-72f2-44e0-87cf-68574bbfb773",
   "metadata": {},
   "source": [
    "There are special characters to control how many times characters will match in a pattern.\n",
    "- `{`*count*`}` will match the character just before it *count* times\n",
    "- `{`*min-count*`,`*max-count*`}` will match the character just before it at least *min-count* times but at most *max-count* times\n",
    "The pattern to match a date can be `\\d{2}/\\d{2}/\\d{4}` this way.\n",
    "\n",
    "<img src=\"regex3.jpg\" width=\"200\">"
   ]
  },
  {
   "cell_type": "code",
   "execution_count": null,
   "id": "3f53f228-c5cd-48ef-ad81-9798a733f6f8",
   "metadata": {},
   "outputs": [],
   "source": [
    "import re\n",
    "s = \"03/05/2011\"\n",
    "print(f's starts as \"{s}\"')\n",
    "p = \"\\d{2}/\\d{2}/\\d{4}\"\n",
    "print(f'p starts as \"{p}\"')\n",
    "if re.search(p, s):\n",
    "   print(f're.search(p, s) is True')"
   ]
  },
  {
   "cell_type": "markdown",
   "id": "49ee864e-a452-481f-a226-a0829d5acffa",
   "metadata": {},
   "source": [
    "Groups of characters and escape characters can match together using `(` and `)`."
   ]
  },
  {
   "cell_type": "code",
   "execution_count": null,
   "id": "0c5bf59b-bac3-416d-973d-c5e44b217e69",
   "metadata": {},
   "outputs": [],
   "source": [
    "import re\n",
    "s = \"banana\"\n",
    "print(f's starts as \"{s}\"')\n",
    "p = \"(an){2}\"\n",
    "print(f'p starts as \"{p}\"')\n",
    "if re.search(p, s):\n",
    "   print(f're.search(p, s) is True')"
   ]
  },
  {
   "cell_type": "markdown",
   "id": "cb36118b-abe4-453a-b24d-67d912a2e2c9",
   "metadata": {},
   "source": [
    "The `|` can be used in a group inside `(` and `)` to let either of two patterns to match."
   ]
  },
  {
   "cell_type": "code",
   "execution_count": null,
   "id": "3f5fa30e-4654-4646-a7dd-88c249a7440d",
   "metadata": {},
   "outputs": [],
   "source": [
    "import re\n",
    "s = \"this has been a long day\"\n",
    "print(f's starts as \"{s}\"')\n",
    "p = \"a (long|short) day\"\n",
    "print(f'p starts as \"{p}\"')\n",
    "if re.search(p, s):\n",
    "  print(f're.search(p, s) is True')"
   ]
  },
  {
   "cell_type": "markdown",
   "id": "8e2d540b-80cc-4243-b2f8-5d22a2b8f9be",
   "metadata": {},
   "source": [
    "When you match a pattern with escape characters, you can get the exact part of the string matched with the `group` function."
   ]
  },
  {
   "cell_type": "code",
   "execution_count": null,
   "id": "85846c33-469b-4ba5-9fbd-cefa27b3133f",
   "metadata": {},
   "outputs": [],
   "source": [
    "import re\n",
    "s = \"today 03/05/2011 is March 5th, 2011\"\n",
    "print(f's starts as \"{s}\"')\n",
    "p = \"\\d{2}/\\d{2}/\\d{4}\"\n",
    "print(f'p starts as \"{p}\"')\n",
    "m = re.search(p, s)\n",
    "if m:\n",
    "    print(f'after re.search(p, s), m.group() is \"{m.group()}\"')"
   ]
  },
  {
   "cell_type": "markdown",
   "id": "35ef1bd0-01e6-4f14-9b10-8c9542b22221",
   "metadata": {},
   "source": [
    "By grouping parts of the pattern with `(` and `)`, the `group` function can give the part of the string matched by each group.\n",
    "\n",
    "<img src=\"regex4.jpg\" width=\"300\">"
   ]
  },
  {
   "cell_type": "code",
   "execution_count": null,
   "id": "14a0e69c-6bbc-46a1-a902-58aa40c69774",
   "metadata": {},
   "outputs": [],
   "source": [
    "import re\n",
    "s = \"on 03/05/2011 it rained\"\n",
    "print(f's starts as \"{s}\"')\n",
    "p = \"(\\d{2})/(\\d{2})/(\\d{4})\"\n",
    "print(f'p starts as \"{p}\"')\n",
    "m = re.search(p, s)\n",
    "if m:\n",
    "    print(f'after re.search(p, s), m.group() is \"{m.group()}\"')\n",
    "    print(f'm.group(1) is the month \"{m.group(1)}\"')\n",
    "    print(f'm.group(2) is the day \"{m.group(2)}\"')\n",
    "    print(f'm.group(3) is the year \"{m.group(3)}\"')"
   ]
  },
  {
   "cell_type": "markdown",
   "id": "7719602f-179e-4638-a668-b8c2301a7c43",
   "metadata": {},
   "source": [
    "Building a regular expression can be tricky, and you can use tools like `regex101.com` to visualize how a given regular expression will match some input text."
   ]
  },
  {
   "cell_type": "markdown",
   "id": "7cabdbd7-9278-48b1-bd4d-c6d7b9944d31",
   "metadata": {
    "jp-MarkdownHeadingCollapsed": true,
    "tags": []
   },
   "source": [
    "### Roman Numerals\n",
    "The problem is converting Roman numerals like `III` to 3. \n",
    "The Roman up to v look like this.\n",
    "```\n",
    "4    3    2    1\n",
    "IV   III  II    I\n",
    "```\n",
    "\n",
    "We can use regular expressions to recognize these.\n",
    "We can show one to three, which are `I`, `II`, or `III`, as 1, 2, or 3 `I`'s.\n",
    "This can match the regular expression `I{1,3}`.\n",
    "We can test this using `re.search`."
   ]
  },
  {
   "cell_type": "markdown",
   "id": "1c074c43-ef1c-40b6-b263-aa683f72fc3c",
   "metadata": {},
   "source": [
    "## Files\n",
    "Files hold data that programs use.\n",
    "- Programs can read data from files.\n",
    "- Programs can write data to files.\n",
    "- Programs can add data to files that already are there.\n",
    "A file can be treated like a list by looping through it, which will execute the code for each line in that file.\n",
    "\n",
    "Each line will have the newline (\"\\n\") at the end, which usually should be strip()-ed out.\n",
    "\n",
    "### `Open` and `Close` functions\n",
    "The `open` function gets a program ready to read or write a file.\n",
    "- `open(`*file-name*`)` gets the program ready to read a file.\n",
    "- `open(`*file-name*`, 'w')` gets the program ready to write a file.\n",
    "- `open(`*file-name*`, 'a')` gets the program ready to add to a file that already exists.\n",
    "\n",
    "`open` returns a *file descriptor* used to read or write to the file. \n",
    "The `close` function is used complete reading or writing to a file descriptor.\n",
    "\n",
    "`files.txt` contains these lines.\n",
    "​\n",
    "```\n",
    "05/20/2021 $20.11 Office supplies\n",
    "12/01/2021 $123.11 Desk chair\n",
    "06/14/2021 $50.82 Telephone bill\n",
    "```\n",
    "\n",
    "The variable names `f`, `g`, and so on will be used for file descriptors."
   ]
  },
  {
   "cell_type": "code",
   "execution_count": null,
   "id": "dc51ed2d-521f-4182-a318-e6ee9a10f030",
   "metadata": {},
   "outputs": [],
   "source": [
    "f = open(\"file.txt\", \"r\")\n",
    "for s in f:\n",
    "  print(s.strip())\n",
    "f.close()"
   ]
  },
  {
   "cell_type": "markdown",
   "id": "39ec1189-35da-40a8-99be-1265d984000a",
   "metadata": {},
   "source": [
    "# Examples\n",
    "These are examples of programs that put together what we've learned.\n",
    "\n",
    "## File processing\n",
    "One of the most common uses of computers is to process file data. \n",
    "Much of the data used in data processing starts as text that can be read in files.\n",
    "File processing programs read data in files, analyze it somehow, and save the data in some useful way.\n",
    "\n",
    "### Summarizing groups of records\n",
    "The program below reads the office supply purchase data from the file `file.txt` used above and prints a summary of the purchases with the total cost.\n",
    "\n",
    "This example uses regular expressions to separate the different items on each record.\n",
    "These are regular expressions to pull out the date, cost, and name of supplies.\n",
    "- date `(\\d{2})/(\\d{2})/(\\d{4})`\n",
    "- cost `\\$(\\d+\\.\\d+)` where `\\$` and `\\.` are escaped characters because `$` and `.` are special characters\n",
    "- name of supplies `(.*)` where `.*` matches all the text after the cost\n",
    "\n",
    "`import re` is needed to start using regular expressions. \n",
    "The function `m.group(1)` returns the string matching the first part of the\n",
    "regular expression in parentheses, here `(\\d{2}/\\d{2}/\\d{4})`.\n",
    "\n",
    "<img src=\"regex5.jpg\" width=\"400\">"
   ]
  },
  {
   "cell_type": "code",
   "execution_count": null,
   "id": "f446f31c-b12b-44b3-ac85-ce31e2200af9",
   "metadata": {},
   "outputs": [],
   "source": [
    "import re\n",
    "p = \"(\\d{2}/\\d{2}/\\d{4}) \\$(\\d+\\.\\d+) (.*)\"\n",
    "f = open(\"file.txt\", \"r\")\n",
    "total = 0.0\n",
    "for line in f:\n",
    "    m = re.search(p, line)\n",
    "    print()\n",
    "    print(line.strip())\n",
    "    if m:\n",
    "        date = m.group(1)\n",
    "        cost = m.group(2)\n",
    "        name = m.group(3)\n",
    "        total += float(cost)\n",
    "        print(f'date {date} cost ${cost} name \"{name}\"')\n",
    "    else:\n",
    "        print(\"    line is not the right format\")\n",
    "f.close()\n",
    "print()\n",
    "print(f'total cost: ${total}')"
   ]
  },
  {
   "cell_type": "markdown",
   "id": "559e2172-8cc3-4c4d-8dc6-4ed0824b72f5",
   "metadata": {},
   "source": [
    "### Summarizing groups of records by type\n",
    "This example uses regular expressions to add the cost of items in the file and accumulating them by type.\n",
    "The example uses the file `orders.txt`, which is a data source for purchases of cell phone, cable TV, and internet services.\n",
    "This example Each line has the format:\n",
    "- date\n",
    "- customer\n",
    "- cost\n",
    "- service purchased\n",
    "\n",
    "The program takes the date, name, cost, and service purchased and totals the purchases by name and service type.\n",
    "`orders.txt` contains these lines.\n",
    "\n",
    "```\n",
    "01/05/2022 Colin Heath $70.00 Phone-Cell\n",
    "01/11/2022 Courtney Collins $14.99 Cable-HBO\n",
    "01/12/2022 John Johnson $70.00 Phone-Cell\n",
    "01/17/2022 Colin Heath $50.00 Internet-100MB\n",
    "02/18/2022 John Johnson $80.00 Internet-1GB\n",
    "02/21/2022 Courtney Collins $6.99 Cable-Hulu\n",
    "02/23/2022 Colin Heath $6.99 Cable-Hulu\n",
    "03/07/2022 Courtney Collins $50.00 Internet-100MB\n",
    "```\n",
    "\n",
    "These are regular expressions to pull out the date, cost, and name of supplies.\n",
    "- date `(\\d{2})/(\\d{2})/(\\d{4})`\n",
    "- first name `(\\w+)`\n",
    "- last name `(\\w+)`\n",
    "- cost `\\$(\\d+\\.\\d+)` where `\\$` and `\\.` are escaped characters because `$` and `.` are special characters\n",
    "- name of service `(.*)` where `.*` matches all the text after the cost\n",
    "\n",
    "These are notes about the program.\n",
    "- The dictionaries *customers* and *services* are used to hold the total cost for the purchases for each person and each service.\n",
    "- The function `add_to` totals the cost of an item by customer and service. \n",
    "- The first time the cost is assigned to the dictionary entry for the item, because the item is not yet in the dictionary. After that it adds the cost to the total for that dictionary item. \n",
    "- The results are printed in a readable way using the string function `format`.\n",
    "- `import re` is needed to start using regular expressions. \n",
    "\n",
    "<img src=\"regex6.jpg\" width=\"400\">"
   ]
  },
  {
   "cell_type": "code",
   "execution_count": null,
   "id": "546cae7d-a5cb-4001-95ba-bce0ce202e2e",
   "metadata": {},
   "outputs": [],
   "source": [
    "import re\n",
    "\n",
    "def print_totals(item, dict):\n",
    "    keys = list(dict.keys())\n",
    "    keys.sort()\n",
    "    item_header = '{:17s}'.format(item)\n",
    "    print(f'{item_header}  costs')\n",
    "    print(\"-----------------  --------\")\n",
    "    for key in keys:\n",
    "        name = key\n",
    "        total = dict[key]\n",
    "        print('{:17s}  ${:7.2f}'.format(name, total))\n",
    "\n",
    "def add_to(customers, name, services, item, cost):\n",
    "    if name in customers:\n",
    "        customers[name] += cost\n",
    "    else:\n",
    "        customers[name] = cost\n",
    "    if item in services:\n",
    "        services[item] += cost\n",
    "    else:\n",
    "        services[item] = cost\n",
    "\n",
    "p = \"(\\d{2}/\\d{2}/\\d{4}) (\\w+) (\\w+) \\$(\\d+\\.\\d+) (.*)\"\n",
    "f = open(\"orders.txt\", \"r\")\n",
    "customers = {}\n",
    "services = {}\n",
    "print('date         name                 service         cost')\n",
    "print('------------ -------------------- --------------- --------')\n",
    "for s in f:\n",
    "    line = s.strip()\n",
    "    m = re.search(p, line)\n",
    "    if m:\n",
    "        date = m.group(1)\n",
    "        first = m.group(2)\n",
    "        last = m.group(3)\n",
    "        full_name = f'{last}, {first}'\n",
    "        cost = m.group(4)\n",
    "        cost_float = float(cost)\n",
    "        service = m.group(5)\n",
    "        print('{:12s} {:20s} {:15s} ${:7.2f}'.format(date, full_name, service, cost_float))\n",
    "        add_to(customers, full_name, services, service, cost_float)\n",
    "    else:\n",
    "        print(\"    line is not the right format\")\n",
    "        print(line)\n",
    "f.close()\n",
    "print()\n",
    "print(f'total cost for customers')\n",
    "print_totals(\"customers\", customers)\n",
    "print()\n",
    "print(f'total cost for services')\n",
    "print_totals(\"services\", services)\n"
   ]
  },
  {
   "cell_type": "markdown",
   "id": "b3d3155b-3640-40c1-bcdf-44b3cde13c35",
   "metadata": {},
   "source": [
    "### *Joining* two data sources\n",
    "Often program data comes in two or more data sources. \n",
    "These may be in files, or in <a href=\"#glossary_database\">*databases*</a>,\n",
    "where the data are records containing different data items.\n",
    "Two data sources may have records that describe the same thing.\n",
    "\n",
    "This example combines data describing movies in two files.\n",
    "The example uses the file `movies.txt`, which is a data source for movies and when they were released, and the file `actors.txt`, which is a data source for the actors\n",
    "in those movies.\n",
    "\n",
    "Each line of `movies.txt` has the format:\n",
    "- name of the movie\n",
    "- date released\n",
    "\n",
    "Each line of `actors.txt` has the format:\n",
    "- name of an actor\n",
    "- a movie they starred in\n",
    "\n",
    "The program combines the data in both files by taking a movie name from `actors.txt` and finding the movie's release date from `movies.txt`, \n",
    "and printing one line with these data items.\n",
    "- actor\n",
    "- movie\n",
    "- release date\n",
    "\n",
    "The program pulls out the actor, movie, and release date from the records, \n",
    "but we want to allow spaces in the movie name so we separate the data items\n",
    "with `,` instead of a space.\n",
    "\n",
    "`movies.txt` contains these lines.\n",
    "```\n",
    "Forrest Gump,1994\n",
    "Kate & Leopold,1998\n",
    "```\n",
    "\n",
    "`actors.txt` contains these lines.\n",
    "```\n",
    "Meg Ryan,Kate & Leopold\n",
    "Tom Hanks,Forrest Gump\n",
    "```\n",
    "\n",
    "The actors dictionary is this.\n",
    "\n",
    "<img src=\"actors1.jpg\" width=\"700\">\n",
    "\n",
    "The movies dictionary is this.\n",
    "\n",
    "<img src=\"movies1.jpg\" width=\"700\">\n",
    "\n",
    "The actors and movies dictionaries are joined by the movie.\n",
    "\n",
    "<img src=\"join2.jpg\" width=\"400\">"
   ]
  },
  {
   "cell_type": "code",
   "execution_count": null,
   "id": "c2dfa7f9-8c3f-417c-9236-c8de619693a3",
   "metadata": {},
   "outputs": [],
   "source": [
    "def print_actors(movies, actors):\n",
    "    actor_names = list(actors.keys())\n",
    "    actor_names.sort()\n",
    "    print(f'actor         movie              release date')\n",
    "    print(\"------------  -----------------  ------------\")\n",
    "    for actor in actor_names:\n",
    "        movie = actors[actor]\n",
    "        release_date = movies[movie]\n",
    "        print('{:12s}  {:17s}  {:4s}'.format(actor, movie, release_date))\n",
    "\n",
    "def add_actor(actors, line):\n",
    "    items = line.split(\",\")\n",
    "    actor = items[0]\n",
    "    movie = items[1]\n",
    "    actors[actor] = movie\n",
    "\n",
    "def add_movie(movies, line):\n",
    "    items = line.split(\",\")\n",
    "    movie = items[0]\n",
    "    release_date = items[1]\n",
    "    movies[movie] = release_date\n",
    "\n",
    "f = open(\"actors.txt\", \"r\")\n",
    "actors = {}\n",
    "for s in f:\n",
    "    line = s.strip()\n",
    "    add_actor(actors, line)\n",
    "f.close()\n",
    "\n",
    "g = open(\"movies.txt\", \"r\")\n",
    "movies = {}\n",
    "for s in g:\n",
    "    line = s.strip()\n",
    "    add_movie(movies, line)\n",
    "g.close()\n",
    "\n",
    "print_actors(movies, actors)"
   ]
  },
  {
   "cell_type": "markdown",
   "id": "e52d125d-969a-4112-8a30-94d239c1e2df",
   "metadata": {},
   "source": [
    "## Data Structures\n",
    "Composite data or *data structures* simplifies much of programming. \n",
    "Knowing how to program with algorithms using composite data is one of the basic skills of programming. \n",
    "\n",
    "### Sorting a list<a name=\"algorithm_sorting\"></a>\n",
    "The `sort` function can sort lists, but understanding how it works is a good example for programming.\n",
    "Suppose we have a list we want to sort from lowest to highest."
   ]
  },
  {
   "cell_type": "markdown",
   "id": "c95c7f9a-082e-4911-bd02-c7136e0d9338",
   "metadata": {},
   "source": [
    "<img  src=\"sort1.jpg\" width=\"300\">"
   ]
  },
  {
   "cell_type": "markdown",
   "id": "ea2ed473-b06b-4499-a9d6-d2785eee51a7",
   "metadata": {},
   "source": [
    "One way to sort the list is to start at the bottom and move the lowest number to the top. Here, 3 is swapped with 8, then 3 is swapped with 9."
   ]
  },
  {
   "cell_type": "markdown",
   "id": "9e67a9ba-03a9-47b2-bb47-8d0f9bd7cf8b",
   "metadata": {},
   "source": [
    "<img  src=\"sort2.jpg\" width=\"600\">"
   ]
  },
  {
   "cell_type": "markdown",
   "id": "66bbd336-a25a-4f07-82a8-be259d4c9343",
   "metadata": {},
   "source": [
    "The lowest number is now at the top. Next start at the bottom of the list and move the second highest number to be second in the list. Here, 8 is swapped with 9."
   ]
  },
  {
   "cell_type": "markdown",
   "id": "e4ca7ad2-2703-4ec1-be5c-e0c58d9180c4",
   "metadata": {},
   "source": [
    "<img  src=\"sort3.jpg\" width=\"400\">"
   ]
  },
  {
   "cell_type": "markdown",
   "id": "59658afa-6bce-4b24-baf6-5c0419f9789b",
   "metadata": {},
   "source": [
    "The second lowest number is in the second position and the list is now sorted. "
   ]
  },
  {
   "cell_type": "markdown",
   "id": "4092ff56-2b6c-4f22-8f11-49d2f8dabc48",
   "metadata": {},
   "source": [
    "The way we program this is to say what we want to do in English first.\n",
    "\n",
    "- Start with a list *n* long\n",
    "- *Bubble* the lowest item up to the top of the list\n",
    "- Bubble the next lowest item up to the second item in the list\n",
    "- Repeat this until we bubble the second highest number to the second-to-the-last item in the list\n",
    "\n",
    "We compare the last item in the list to the one above it, and swap them  if the last item is less.\n",
    "We do this until we compare the second item in the list to the first item in the list.\n",
    "We then compare the last item in the list to the one above it, and swap them if the last item is less.\n",
    "We compare and swap items until we compare to the second item in the list.\n",
    "This says that bubble up to the top of the list, to the second item of the list, until we compare to the second-to-the-last item in the list, or *n-1* times, because there are n-1 items between the top and the second-to-the-last item.\n",
    "\n",
    "We want a program that looks like this:\n",
    "```\n",
    "sort(L):\n",
    "  n = len(L)\n",
    "  # bubble the lowest item to the top, then the second, down to the second-to-last spot in the list\n",
    "  for i in 1 to n-1:\n",
    "    from j = n (the last item) to i-1 # the spot below the one we're bubbling to\n",
    "      compare the item at j to the item at j-1\n",
    "      swap them if the item at j is less than the item at j-1\n",
    "```      \n",
    "That is about it, except shifting the spots in the list because lists positions start at 0, not 1. Here is the program as a function, with some prints to track what it's doing."
   ]
  },
  {
   "cell_type": "code",
   "execution_count": null,
   "id": "b8ed4a74-2b6a-497b-8265-1648090e1db4",
   "metadata": {},
   "outputs": [],
   "source": [
    "def sort(L):\n",
    "    n = len(L)\n",
    "    print(f'at the start L is {L} and len(L) is {n}')\n",
    "    for i in range(n-1):\n",
    "        print(f'  bubbling the next lowest item to the position {i}')\n",
    "        for j in range(n-1, i, -1):\n",
    "            print(f'    comparing L[{j}] = {L[j]} to L[{j-1}] = {L[j-1]}')\n",
    "            if (L[j] < L[j-1]):\n",
    "                print(f'    swapping  L[{j}] = {L[j]} and L[{j-1}] = {L[j-1]}')\n",
    "                x = L[j]\n",
    "                L[j] = L[j-1]\n",
    "                L[j-1] = x\n",
    "        print(f'    L at round {i} is {L}')\n",
    "    \n",
    "L = [9, 8, 3]\n",
    "sort(L)\n",
    "print(f'at the end L is {L}')"
   ]
  },
  {
   "cell_type": "markdown",
   "id": "8faea419-a380-473d-bc69-9528b52b1340",
   "metadata": {},
   "source": [
    "The final list matches our diagram. The steps to write this program were:\n",
    "- coming up with a small test case that shows how the program works\n",
    "- thinking out an idea of how the program might work, here the key was *bubbling* the lowest element to it's right position each time\n",
    "- making a diagram of steps as the program runs\n",
    "- writing the idea in English in a way that the steps are understandable\n",
    "- writing the Python instructions, printing out variables at various steps as the program runs\n",
    "\n",
    "One way this program would be useful is that what we define as *lower* items might be more complicated than *the number value of the item is less*. \n",
    "The items might be strings, or *less* might be that a \"mouse\" might be less than a \"rabbit\", a \"rabbit\" might be less than a \"dog\", and so forth.\n",
    "We would change the comparison `L[j] < L[j-1]` to our own comparison to test if an item is *less* than another. \n",
    "We saw how `for` loops can control the bubbling, and that a small program can sort a list of any size."
   ]
  },
  {
   "cell_type": "markdown",
   "id": "5c1972f0-f796-4739-a904-935c9e5ca526",
   "metadata": {},
   "source": [
    "## Data Cleaning\n",
    "\n",
    "A common task in Data Science is cleaning raw data to make it usable for further analysis.\n",
    "Following are types of data that cleaning will correct or remove.\n",
    "\n",
    "- incorrectly formatted\n",
    "- duplicate fields or lines\n",
    "- inconsistent, non-standard, or mislabeled categories or classes \n",
    "- corrupted, invalid, inaccuate, irrelevant, outliers, or incomplete\n",
    "- has typos, misspellings, or syntax errors\n",
    "- missing codes, data, or fields\n"
   ]
  },
  {
   "cell_type": "markdown",
   "id": "f2ba2576-ab6a-42e1-b43e-ffa7e4eca9f3",
   "metadata": {},
   "source": [
    "### Removing duplicate lines in a file"
   ]
  },
  {
   "cell_type": "markdown",
   "id": "cfd9aa84-88f1-44f8-a01a-7656d4b9995d",
   "metadata": {},
   "source": [
    "A common task in data cleaning is removing duplicates in files. \n",
    "In this example we have a file with duplicate lines, and we want to remove the duplicates so we just have unique lines in the file. In this case we have a sample data file with some duplicate lines. \n",
    "Before removing duplicate lines, the file may need to be [*sorted*](#algorithms_sorting) first.\n",
    "The program idea is that we look at the *previous line* to decide if a line is a duplicate: \n",
    "- case 1: the previous line is the same, then the current line is a duplicate\n",
    "- case 2: the previous line is not the same, then the current line is new and should be kept (printed back out)\n",
    "\n",
    "We then see there are two more cases:\n",
    "- case 3: the first line in the file. There is no previous line, so the current line is new and should be kept.\n",
    "- case 4: we run out of lines in the file. There is no current line, so there is nothing we have to do.\n",
    "\n",
    "We can see in this case that:\n",
    "- the first line is A, line 0 (we always count from 0, this is case 3 so we print it\n",
    "- the second line, line 1, is B, this is case 2 so we print it\n",
    "- the third line, line 2, is B, this is case 1 and we ignore it\n",
    "- the fourth line, line 3, is C, this is case 2 so we print it\n",
    "- the fifth line, line 4, is D, this is case 2 so we print it\n",
    "- the sixth line, line 4, is D, this is case 1 so we ignore it"
   ]
  },
  {
   "cell_type": "markdown",
   "id": "e6aeee14-1e78-4037-8a76-930ce76fa0f2",
   "metadata": {},
   "source": [
    "![duplicate1.jpg](duplicate1.jpg)"
   ]
  },
  {
   "cell_type": "markdown",
   "id": "71686519-a5b6-41bf-a1ca-799e187c8d80",
   "metadata": {},
   "source": [
    "We can now write the program. `last` is the last line we saw. `first` tells us whether we are at the first line of the file, which is case 3. We read all the lines of the file, and don't need to do anything at the end, just close the file.\n",
    "\n",
    "Let's say the file `duplicates.txt` is this:\n",
    "```\n",
    "A\n",
    "B\n",
    "B\n",
    "C\n",
    "D\n",
    "D\n",
    "```\n",
    "This is the program. `strip` is used because the line actually has a `newline`, \"\\n\", at the end which we can ignore. \n",
    "The line beginning with `#` is a *comment*.\n",
    "It is for notes we make to about what the program is doing, it is ignored when the program runs.\n",
    "The first time we read a line, `first` is `True`, we have case 3 and we print the line.\n",
    "We use `elif` to test the line after the first is read and `first` is set to `False`.\n",
    "If the test is true, the line is different from the last and we have case 2, and we print the line.\n",
    "If the test is false, the line is the same as the last and we have case 1, and we ignore the line."
   ]
  },
  {
   "cell_type": "code",
   "execution_count": null,
   "id": "4979e62d-1584-41fd-a918-f92036620cc9",
   "metadata": {},
   "outputs": [],
   "source": [
    "first = True\n",
    "f = open(\"duplicates.txt\", \"r\")\n",
    "for line in f:\n",
    "    current = line.strip()\n",
    "    if first:\n",
    "        first = False\n",
    "        last = current\n",
    "        print(current)\n",
    "    elif current != last:\n",
    "        print(current)\n",
    "    # otherwise, if current == last it is a duplicate and we ignore it\n",
    "    last = current\n",
    "f.close()"
   ]
  },
  {
   "cell_type": "markdown",
   "id": "5db520f6-9b42-4e53-9a7d-465d40de2b3f",
   "metadata": {},
   "source": [
    "### Another way to remove duplicate lines\n",
    "\n",
    "If the purpose is to remove duplicates and the order of the lines do not matter, this is another way to remove duplicate lines. \n",
    "A dictionary has only unique keys.\n",
    "When a dictionary is first assigned with a key, a new entry is created.\n",
    "The second time the dictionary is assigned with the key, no new entry is created but the previous value is replaced.\n",
    "By using the line that is read as the key, they keys will only keep one copy of it.\n",
    "We can read the file, assign a dictionary entry with the line as the key with any value, and print the keys at the end.\n",
    "\n",
    "In this\n",
    "Let's say the file `duplicates.txt` is this:\n",
    "```\n",
    "D\n",
    "D\n",
    "A\n",
    "C\n",
    "B\n",
    "B\n",
    "```\n",
    "In this case the lines with the duplication removed come out in the same order, but that is not guaranteed. This is show as this.\n",
    "\n",
    "<img src=\"duplicate2.jpg\" width=\"600\">"
   ]
  },
  {
   "cell_type": "code",
   "execution_count": null,
   "id": "17d67b64-e7c2-4dd5-8fb7-6a06674c011c",
   "metadata": {},
   "outputs": [],
   "source": [
    "f = open(\"unordered-duplicates.txt\", \"r\")\n",
    "unique_lines = {}\n",
    "for line in f:\n",
    "    current = line.strip()\n",
    "    unique_lines[current] = 1\n",
    "f.close()\n",
    "print('unique lines:')\n",
    "for line in unique_lines.keys():\n",
    "    print(line)"
   ]
  },
  {
   "cell_type": "markdown",
   "id": "6066c191-b6ca-4028-ac47-4568c236cfd9",
   "metadata": {},
   "source": [
    "### Fixing inconsistent codes\n",
    "\n",
    "Another data cleaning task is replacing inconsistent spelling with one recognizable value.\n",
    "\"Not applicable\" may be used as \"NA\" or \"N/A\". \n",
    "\"Drive\" may be \"Dr.\" or \"Dr\".\n",
    "A dictionary can have the incorrect spelling as the key and the correct spelling as the value.\n",
    "\n",
    "Let's say the file `misspellings.txt` is this:\n",
    "```\n",
    "Smith,John,N/A,230 Overland Dr.\n",
    "Jones,Michael,NA,34 Blue Ridge Drive\n",
    "Lund,Mary,Not applicable,Main St\n",
    "```"
   ]
  },
  {
   "cell_type": "code",
   "execution_count": null,
   "id": "d1ca6bf7-15af-4e44-bddd-4d86760a4cf3",
   "metadata": {},
   "outputs": [],
   "source": [
    "misspellings = {\"N/A\": \"NA\", \"Not applicable\": \"NA\", \"Drive\": \"Dr\", \"Dr.\": \"Dr\"}\n",
    "f = open(\"misspellings.txt\", \"r\")\n",
    "for line in f:\n",
    "    current = line.strip()\n",
    "    for term in misspellings.keys():\n",
    "        current = current.replace(term, misspellings[term])\n",
    "    print(current)\n",
    "f.close()"
   ]
  },
  {
   "cell_type": "markdown",
   "id": "ab297f56-d61d-41fa-befe-1a07477de54c",
   "metadata": {},
   "source": [
    "# Glossary"
   ]
  },
  {
   "cell_type": "markdown",
   "id": "1bac5030-7b67-4276-8cb5-50d5bcd9ea73",
   "metadata": {},
   "source": [
    "<a name=\"glossary_algorithm\"></a>*Algorithms* are general designs for common program tasks, such as organizing, searching for, or transforming data."
   ]
  },
  {
   "cell_type": "markdown",
   "id": "51230c18-50fe-4dd9-a490-f6d61701e781",
   "metadata": {},
   "source": [
    "<a name=\"glossary_data\"></a>*Data* are terms, facts, measurements, or statistics that when processed become *information*."
   ]
  },
  {
   "cell_type": "markdown",
   "id": "273df392-480a-472b-9156-0e5b7569656e",
   "metadata": {},
   "source": [
    "<a name=\"glossary_cpu\"></a>*CPU* is the computer *central processing unit* that runs low-level machine instructions."
   ]
  },
  {
   "cell_type": "markdown",
   "id": "a1f6b8fa-081c-4638-ba50-657a7d3b2333",
   "metadata": {},
   "source": [
    "<a name=\"glossary_database\"></a>*Databases* hold data much like text files,\n",
    "except that databases can hold types of data other than text, such as images. \n",
    "Databases also usually can read records based on the data in them,\n",
    "such as names, dates, or any other part of the record. \n",
    "These are called *keys*."
   ]
  },
  {
   "cell_type": "markdown",
   "id": "4fd82209-251e-44fd-bf11-24a53c7852fa",
   "metadata": {
    "tags": []
   },
   "source": [
    "<a name=\"glossary_information\"></a>*Information* is data that is preprocessed, organized, analyzed, and interpreted."
   ]
  },
  {
   "cell_type": "markdown",
   "id": "59c8b29f-7f15-42a1-9ed1-56f1de467a67",
   "metadata": {},
   "source": [
    "<a name=\"glossary_web_lowercase\"></a>*Lowercase* letters are characters from `a` to `z`. "
   ]
  },
  {
   "cell_type": "markdown",
   "id": "d158d0f6-fcad-434e-90e4-5a4e0dcdf720",
   "metadata": {},
   "source": [
    "<a name=\"glossary_newline\"></a>*Newline* is a character that is not visible, but causes the printing to start on a new line."
   ]
  },
  {
   "cell_type": "markdown",
   "id": "5f7abd72-fa05-4e2f-99ef-33b0f8adcbc0",
   "metadata": {},
   "source": [
    "<a name=\"glossary_text\"></a>*Text* is letters, numbers, and punctuation much as you would type on a keyboard. Text may include European letters like &ouml;, &eacute;, &icirc; and &ntilde;.  "
   ]
  },
  {
   "cell_type": "markdown",
   "id": "636bf6c8-2c66-4c84-bac9-6ff146e0e9e1",
   "metadata": {},
   "source": [
    "<a name=\"glossary_web_uppercase\"></a>*Uppercase* letters are characters from `A` to `Z`. "
   ]
  },
  {
   "cell_type": "markdown",
   "id": "d37b2360-b610-4f01-8cd2-fe3879e6954f",
   "metadata": {},
   "source": [
    "<a name=\"glossary_web_browser\"></a>A *web browser* is a program to navigate the Internet, such as Chrome, Edge, Firefox, or Safari."
   ]
  }
 ],
 "metadata": {
  "kernelspec": {
   "display_name": "Python 3 (ipykernel)",
   "language": "python",
   "name": "python3"
  },
  "language_info": {
   "codemirror_mode": {
    "name": "ipython",
    "version": 3
   },
   "file_extension": ".py",
   "mimetype": "text/x-python",
   "name": "python",
   "nbconvert_exporter": "python",
   "pygments_lexer": "ipython3",
   "version": "3.10.8"
  }
 },
 "nbformat": 4,
 "nbformat_minor": 5
}
