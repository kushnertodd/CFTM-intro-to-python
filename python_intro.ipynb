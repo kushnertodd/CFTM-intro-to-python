{
 "cells": [
  {
   "cell_type": "markdown",
   "id": "f2d8b013-e759-43c5-b62e-edbbb7c974f9",
   "metadata": {
    "tags": []
   },
   "source": [
    "# Introduction to Programming with Python \n",
    "\n",
    "This is an introduction to Python for someone with little or no prior experience in programming.\n",
    "\n",
    "In this introduction we will cover Python basics and will teach how to use programs to automate calculations and tasks using data.\n",
    "\n",
    "This is designed for someone who:\n",
    "- knows their way around a computer, how to use a file list window to find files\n",
    "- can use a browser for the internet, how to open websites and download files on their computer\n",
    "- has a basic understanding of math, including variables, functions, and comparing numbers \n",
    "\n",
    "[Background](./notebooks/background.ipynb)  \n",
    "[Jupyter](./notebooks/jupyter.ipynb)  \n",
    "[First Python program](./notebooks/first-program.ipynb)  \n",
    "[Variables](./notebooks/variables.ipynb)  \n",
    "[Functions](./notebooks/functions.ipynb)  \n",
    "[Instruction control](./notebooks/instruction-control.ipynb)  \n",
    "[Data Types](./notebooks/data.ipynb)  \n",
    "[Data structures](./notebooks/data-structures.ipynb)  \n",
    "[Regular expressions](./notebooks/regular-expressions.ipynb)  \n",
    "[Files](./notebooks/files.ipynb)  \n",
    "[Examples](./notebooks/examples.ipynb)  \n",
    "[Data cleaning](./notebooks/data-cleaning.ipynb)  \n",
    "[Glossary](./notebooks/glossary.ipynb)  "
   ]
  },
  {
   "cell_type": "code",
   "execution_count": null,
   "id": "ba6629c1",
   "metadata": {},
   "outputs": [],
   "source": []
  }
 ],
 "metadata": {
  "kernelspec": {
   "display_name": "Python 3 (ipykernel)",
   "language": "python",
   "name": "python3"
  },
  "language_info": {
   "codemirror_mode": {
    "name": "ipython",
    "version": 3
   },
   "file_extension": ".py",
   "mimetype": "text/x-python",
   "name": "python",
   "nbconvert_exporter": "python",
   "pygments_lexer": "ipython3",
   "version": "3.11.5"
  }
 },
 "nbformat": 4,
 "nbformat_minor": 5
}
