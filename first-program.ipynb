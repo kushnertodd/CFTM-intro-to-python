{
 "cells": [
  {
   "cell_type": "markdown",
   "id": "4be631c3",
   "metadata": {},
   "source": [
    "# First Python program\n",
    "\n",
    "This is our first program in Python.\n",
    "Run the code below by clicking on the cell and typing *Shift-Enter*."
   ]
  },
  {
   "cell_type": "code",
   "execution_count": null,
   "id": "cd608086",
   "metadata": {},
   "outputs": [],
   "source": [
    "print(\"Hello world.\")"
   ]
  },
  {
   "cell_type": "markdown",
   "id": "bbd69698",
   "metadata": {},
   "source": [
    "Here is a first program that converts a temperature in Celsius to Fahrenheit. The formula is:\n",
    "\n",
    "&nbsp;&nbsp;&nbsp;&nbsp;Temperature in Fahrenheit = $\\frac{9}{5}$ x Temperature in Celsius\n",
    "\n",
    "Run the code below by clicking on the cell and typing *Shift-Enter*."
   ]
  },
  {
   "cell_type": "code",
   "execution_count": null,
   "id": "fd145ef6",
   "metadata": {},
   "outputs": [],
   "source": [
    "temp = eval(input('Enter a temperature in Celsius: '))\n",
    "print('In Fahrenheit, that is', 9/5 * temp + 32)"
   ]
  },
  {
   "cell_type": "markdown",
   "id": "76f86495",
   "metadata": {},
   "source": [
    "What the code does is this.\n",
    "\n",
    "- `input` is a *function* that takes the *string* `'Enter a temperature in Celsius: '` in quotes and prints it out.\n",
    "It then waits for you to type an answer and returns that as a *string*.\n",
    "- `eval` is a *function* that takes the *string* from `input` and converts it to a number.\n",
    "- The number is given a name by *assigning* it to the *variable* `temp` to remember to use later.\n",
    "- `print` is a *function* that takes the *string* in quotes and prints it out, along with the temperature in `temp` converted from Celsius to Fahrenheit.\n",
    "\n",
    "*Strings* are text that can be inside either two double quotes `\"` or two single quotes `'`. \n",
    "The same quote starts and ends the string. "
   ]
  },
  {
   "cell_type": "code",
   "execution_count": null,
   "id": "fcad48f3",
   "metadata": {},
   "outputs": [],
   "source": [
    "print(\"this is a double-quoted string\")\n",
    "print('this is a single-quoted string')"
   ]
  },
  {
   "cell_type": "markdown",
   "id": "16989fcc",
   "metadata": {},
   "source": [
    "If you need to put a double quote in a string, you can use a single-quoted string. "
   ]
  },
  {
   "cell_type": "code",
   "execution_count": null,
   "id": "8639e982",
   "metadata": {},
   "outputs": [],
   "source": [
    "print(\"this is a double-quoted string with a single quote ' in it\")"
   ]
  },
  {
   "cell_type": "markdown",
   "id": "1de1e7c6",
   "metadata": {},
   "source": [
    "If you need to put a single quote in a string, you can use a double-quoted string."
   ]
  },
  {
   "cell_type": "code",
   "execution_count": null,
   "id": "3aaabb9f",
   "metadata": {},
   "outputs": [],
   "source": [
    "print('this is a single-quoted string with a double quote \" in it')"
   ]
  }
 ],
 "metadata": {
  "kernelspec": {
   "display_name": "Python 3 (ipykernel)",
   "language": "python",
   "name": "python3"
  },
  "language_info": {
   "codemirror_mode": {
    "name": "ipython",
    "version": 3
   },
   "file_extension": ".py",
   "mimetype": "text/x-python",
   "name": "python",
   "nbconvert_exporter": "python",
   "pygments_lexer": "ipython3",
   "version": "3.11.5"
  }
 },
 "nbformat": 4,
 "nbformat_minor": 5
}
