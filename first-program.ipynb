{
 "cells": [
  {
   "cell_type": "markdown",
   "id": "4be631c3",
   "metadata": {},
   "source": [
    "# First Python program\n",
    "\n",
    "This is our first program in Python.\n",
    "Run the code below by clicking on the cell and typing *Shift-Enter*."
   ]
  },
  {
   "cell_type": "code",
   "execution_count": null,
   "id": "cd608086",
   "metadata": {},
   "outputs": [],
   "source": [
    "print(\"Hello world.\")"
   ]
  },
  {
   "cell_type": "markdown",
   "id": "bbd69698",
   "metadata": {},
   "source": [
    "Thie program converts a temperature from Celsius to Fahrenheit. The formula is:\n",
    "\n",
    "&nbsp;&nbsp;&nbsp;&nbsp;Temperature in Fahrenheit = $\\frac{9}{5}$ x Temperature in Celsius\n",
    "\n",
    "Run the code below by clicking on the cell and typing *Shift-Enter*."
   ]
  },
  {
   "cell_type": "code",
   "execution_count": 2,
   "id": "fd145ef6",
   "metadata": {},
   "outputs": [
    {
     "name": "stdout",
     "output_type": "stream",
     "text": [
      "Enter a temperature in Celsius: 15\n",
      "That temperature in Fahrenheit is 59.0\n"
     ]
    }
   ],
   "source": [
    "temp = eval(input('Enter a temperature in Celsius: '))\n",
    "print('That temperature in Fahrenheit is', 9/5 * temp + 32)"
   ]
  },
  {
   "cell_type": "markdown",
   "id": "76f86495",
   "metadata": {},
   "source": [
    "What the code does is this.\n",
    "\n",
    "- `input` prompts the user with the *string* `'Enter a temperature in Celsius: '`.\n",
    "It then waits to read an answer and returns that string.\n",
    "- `eval` takes the string from `input` and converts it to a number which can be assigned to the *variable* `temp`.\n",
    "- `print` prints the temperature in `temp` converted from Celsius to Fahrenheit.\n",
    "\n",
    "## Strings\n",
    "*Strings* are text that can be inside either two double quotes `\"` or two single quotes `'`. \n",
    "The same quote starts and ends the string. "
   ]
  },
  {
   "cell_type": "code",
   "execution_count": 3,
   "id": "fcad48f3",
   "metadata": {},
   "outputs": [
    {
     "name": "stdout",
     "output_type": "stream",
     "text": [
      "this is a double-quoted string\n",
      "this is a single-quoted string\n"
     ]
    }
   ],
   "source": [
    "print(\"this is a double-quoted string.\")\n",
    "print('this is a single-quoted string.')"
   ]
  },
  {
   "cell_type": "markdown",
   "id": "16989fcc",
   "metadata": {},
   "source": [
    "If you need to put a double quote in a string, you can use a single-quoted string. \n",
    "If you need to put a single quote in a string, you can use a double-quoted string."
   ]
  },
  {
   "cell_type": "code",
   "execution_count": 4,
   "id": "8639e982",
   "metadata": {},
   "outputs": [
    {
     "name": "stdout",
     "output_type": "stream",
     "text": [
      "this is a double-quoted string with a single quote ' in it\n",
      "this is a single-quoted string with a double quote \" in it\n"
     ]
    }
   ],
   "source": [
    "print(\"this is a double-quoted string with a single quote ' in it.\")\n",
    "print('this is a single-quoted string with a double quote \" in it.')"
   ]
  },
  {
   "cell_type": "markdown",
   "id": "1de1e7c6",
   "metadata": {},
   "source": [
    "If you need to put both a double quote and a single quote in a string, you can use a single-quoted or double-quoted string,\n",
    "you use an *escape character* backward-quote `\\` to keep that quote from ending the string."
   ]
  },
  {
   "cell_type": "code",
   "execution_count": 8,
   "id": "3aaabb9f",
   "metadata": {},
   "outputs": [
    {
     "name": "stdout",
     "output_type": "stream",
     "text": [
      "this double-quoted string has both a double quote \" and single quote ' inside.\n",
      "this single-quoted string has both a double quote \" and single quote ' inside.\n"
     ]
    }
   ],
   "source": [
    "print(\"this double-quoted string has both a double quote \\\" and single quote ' inside.\")\n",
    "print('this single-quoted string has both a double quote \" and single quote \\' inside.')"
   ]
  }
 ],
 "metadata": {
  "kernelspec": {
   "display_name": "Python 3 (ipykernel)",
   "language": "python",
   "name": "python3"
  },
  "language_info": {
   "codemirror_mode": {
    "name": "ipython",
    "version": 3
   },
   "file_extension": ".py",
   "mimetype": "text/x-python",
   "name": "python",
   "nbconvert_exporter": "python",
   "pygments_lexer": "ipython3",
   "version": "3.11.5"
  }
 },
 "nbformat": 4,
 "nbformat_minor": 5
}
