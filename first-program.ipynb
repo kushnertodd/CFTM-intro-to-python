{
 "cells": [
  {
   "cell_type": "markdown",
   "id": "4be631c3",
   "metadata": {},
   "source": [
    "# First Python program\n",
    "\n",
    "This is our first program in Python.\n",
    "Run the code below by clicking on the cell and typing *Shift-Enter*."
   ]
  },
  {
   "cell_type": "code",
   "execution_count": null,
   "id": "cd608086",
   "metadata": {},
   "outputs": [],
   "source": [
    "print(\"Hello world.\")"
   ]
  },
  {
   "cell_type": "markdown",
   "id": "bbd69698",
   "metadata": {},
   "source": [
    "Thie program converts a temperature from Celsius to Fahrenheit. The formula is:\n",
    "\n",
    "&nbsp;&nbsp;&nbsp;&nbsp;Temperature in Fahrenheit = $\\frac{9}{5}$ x Temperature in Celsius\n",
    "\n",
    "Run the code below by clicking on the cell and typing *Shift-Enter*."
   ]
  },
  {
   "cell_type": "code",
   "execution_count": 2,
   "id": "fd145ef6",
   "metadata": {},
   "outputs": [
    {
     "name": "stdout",
     "output_type": "stream",
     "text": [
      "Enter a temperature in Celsius: 15\n",
      "That temperature in Fahrenheit is 59.0\n"
     ]
    }
   ],
   "source": [
    "temp = eval(input('Enter a temperature in Celsius: '))\n",
    "print('That temperature in Fahrenheit is', 9/5 * temp + 32)"
   ]
  },
  {
   "cell_type": "markdown",
   "id": "76f86495",
   "metadata": {},
   "source": [
    "What the code does is this.\n",
    "\n",
    "- `input` prompts the user with the *string* `'Enter a temperature in Celsius: '`.\n",
    "It then waits to read an answer and returns that string.\n",
    "- `eval` takes the string from `input` and converts it to a number which can be assigned to the *variable* `temp`.\n",
    "- `print` prints the temperature in `temp` converted from Celsius to Fahrenheit.\n"
   ]
  }
 ],
 "metadata": {
  "kernelspec": {
   "display_name": "Python 3 (ipykernel)",
   "language": "python",
   "name": "python3"
  },
  "language_info": {
   "codemirror_mode": {
    "name": "ipython",
    "version": 3
   },
   "file_extension": ".py",
   "mimetype": "text/x-python",
   "name": "python",
   "nbconvert_exporter": "python",
   "pygments_lexer": "ipython3",
   "version": "3.11.5"
  }
 },
 "nbformat": 4,
 "nbformat_minor": 5
}
