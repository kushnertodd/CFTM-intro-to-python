{
 "cells": [
  {
   "cell_type": "markdown",
   "id": "ddc84f49-9a41-42f6-ba89-da8ee6f43501",
   "metadata": {
    "tags": []
   },
   "source": [
    "# Data\n",
    "Numbers and strings are only two types of data in Python. \n",
    "Numbers and strings start as *literal constants* and are the most basic types of data in Python. \n",
    "`\"hello\"` and `5` are literal constants.\n",
    "Python instructions can combine these values with different *operations* and can store them in variables. \n",
    "Instructions can use literal constants or can use the values stored in variables. \n",
    "Run this to add two values and store them in the variable `y`.\n",
    "\n",
    "[Numbers](#numbers)    \n",
    "[Strings](#strings)  \n",
    "[Compound Data Types](#compound-data-types)  \n",
    "[Lists](#lists)  \n",
    "[Dictionaries](#dictionaries)\n"
   ]
  },
  {
   "cell_type": "code",
   "execution_count": null,
   "id": "40c13380-719a-459e-8921-37b20e35f63f",
   "metadata": {},
   "outputs": [],
   "source": [
    "x = 5\n",
    "y = x + 2\n",
    "print(f'x is {x} and x + 2 is {y}')"
   ]
  },
  {
   "cell_type": "markdown",
   "id": "f1dffd36-cddf-499c-921c-f7e2c8674b02",
   "metadata": {},
   "source": [
    "The sections below will show examples of operations available for these data types.\n",
    "\n",
    "<a id=\"numbers\"></a>\n",
    "## Numbers\n",
    "Numbers in Python are either *integers*, which are signed whole numbers, and *real numbers* that can have a fractional part. \n",
    "When you do arithmetic on them you can use either of the types."
   ]
  },
  {
   "cell_type": "code",
   "execution_count": null,
   "id": "a8881606-6b80-4db2-83b0-1ae8391cddbe",
   "metadata": {},
   "outputs": [],
   "source": [
    "x = 5 + 3.2\n",
    "print(f'5 + 3.2 is {x}')"
   ]
  },
  {
   "cell_type": "markdown",
   "id": "38580422-9c75-419f-a18a-c4f87725cee6",
   "metadata": {},
   "source": [
    "#### Number operators\n",
    "The usual arithmetic operators can be used, like addition `+` and subtraction `-`. \n"
   ]
  },
  {
   "cell_type": "code",
   "execution_count": null,
   "id": "286b839c-3a49-442d-8adc-9d2b4a25709d",
   "metadata": {},
   "outputs": [],
   "source": [
    "x = 5 + 3\n",
    "print(f'x = 5 + 3 is {x}')\n",
    "x = 4 - 1\n",
    "print(f'x = 4 - 1 is {x}')"
   ]
  },
  {
   "cell_type": "markdown",
   "id": "30e79e26-99a4-442a-951e-d2ebaf45ff64",
   "metadata": {},
   "source": [
    "You can do multiplication with `*` instead of `x`. "
   ]
  },
  {
   "cell_type": "code",
   "execution_count": null,
   "id": "0e25d00e-287e-449f-883a-afdfef9f87b4",
   "metadata": {},
   "outputs": [],
   "source": [
    "x = 4 * 3.2\n",
    "print(f'x = 4 * 3.2 is {x}')"
   ]
  },
  {
   "cell_type": "markdown",
   "id": "551e835f-3c3f-4c9f-8fd3-654a3a58b476",
   "metadata": {},
   "source": [
    "We do division with `\\` instead of $\\div$."
   ]
  },
  {
   "cell_type": "code",
   "execution_count": null,
   "id": "7c6b4e2f-08d6-49d9-812d-bbfd765251ca",
   "metadata": {},
   "outputs": [],
   "source": [
    "x = x / 2.0\n",
    "print(f'x / 2.0 is {x}')"
   ]
  },
  {
   "cell_type": "markdown",
   "id": "20d06b00-7e9f-49de-86a8-eb79b27e8c08",
   "metadata": {},
   "source": [
    "There are some special operators on numbers. \n",
    "We compute exponentials, say $3^2$, like this."
   ]
  },
  {
   "cell_type": "code",
   "execution_count": null,
   "id": "978498ca-9627-4a27-b0b6-72543f0b8c8c",
   "metadata": {},
   "outputs": [],
   "source": [
    "x = 3**2\n",
    "print(f'3**2 is {x}')"
   ]
  },
  {
   "cell_type": "markdown",
   "id": "eab106da-e40d-41e8-b9a3-2a4c3cd103e8",
   "metadata": {},
   "source": [
    "Another number operator is *modulo*, like \"9 modulo 2\", which gives the remainder after dividing 9 by 2. \n",
    "You can do modulo operations with `%`."
   ]
  },
  {
   "cell_type": "code",
   "execution_count": null,
   "id": "1ca02bd0-5110-426f-88d6-2fa4d770d405",
   "metadata": {},
   "outputs": [],
   "source": [
    "x = 9 % 2\n",
    "print(f'9 % 2 is {x}')"
   ]
  },
  {
   "cell_type": "markdown",
   "id": "f299a8cc-64c6-4b13-86bd-85d607038c1a",
   "metadata": {},
   "source": [
    "#### Operator shortcuts\n",
    "Some operators are used to change a variable's value, like `x = x + 1`. \n",
    "There is a shortcut for each of the operators `+`, `-`, `*`, `/`, `**`, and `%`.\n",
    "\n",
    "For addition, `x = x + 1`, the shortcut is `x += 1`. "
   ]
  },
  {
   "cell_type": "code",
   "execution_count": null,
   "id": "f385d08f-3548-47f0-ae9d-e4d814b19818",
   "metadata": {},
   "outputs": [],
   "source": [
    "x = 3\n",
    "print(f'x starts as {x}')\n",
    "x += 2\n",
    "print(f'x += 2 is {x}')"
   ]
  },
  {
   "cell_type": "markdown",
   "id": "3e5f4372-25ab-498b-9d40-ea5813f4a99b",
   "metadata": {},
   "source": [
    "For subtraction, `x = x - 1`, the shortcut is `x -= 1`"
   ]
  },
  {
   "cell_type": "code",
   "execution_count": null,
   "id": "728bf3fd-f21d-4e16-93dd-ee5343d1ac7d",
   "metadata": {},
   "outputs": [],
   "source": [
    "x -= 1\n",
    "print(f'x -= 1 is {x}')"
   ]
  },
  {
   "cell_type": "markdown",
   "id": "245ce61a-4193-4b98-811b-4e7889aa3368",
   "metadata": {},
   "source": [
    "For multiplication, `x = x * 4`, the shortcut is `x *= 4`."
   ]
  },
  {
   "cell_type": "code",
   "execution_count": null,
   "id": "09d8854a-a64c-4019-b53b-baea4e86331f",
   "metadata": {},
   "outputs": [],
   "source": [
    "x *= 4\n",
    "print(f'x *= 4 is {x}')"
   ]
  },
  {
   "cell_type": "markdown",
   "id": "e2e4b341-7683-4b1c-a381-337bf621ba06",
   "metadata": {},
   "source": [
    "For division, `x = x / 1`, the shortcut is `x /= 1`."
   ]
  },
  {
   "cell_type": "code",
   "execution_count": null,
   "id": "00939fae-5b4e-4b05-a962-76388423ffe9",
   "metadata": {},
   "outputs": [],
   "source": [
    "x /= 4\n",
    "print(f'x /= 4 is {x}')"
   ]
  },
  {
   "cell_type": "markdown",
   "id": "7038bfec-41b2-4fee-a9c7-5bd47b74f485",
   "metadata": {},
   "source": [
    "For applying exponents, `x = x ** 2`, the shortcut is `x **= 2`."
   ]
  },
  {
   "cell_type": "code",
   "execution_count": null,
   "id": "068c2ef1-0d66-4d08-b1f0-44ae0a63dd7c",
   "metadata": {},
   "outputs": [],
   "source": [
    "x **= 2\n",
    "print(f'x **= 2 is {x}')"
   ]
  },
  {
   "cell_type": "markdown",
   "id": "f59ba848-a923-4c06-a61f-585e82fa41c8",
   "metadata": {},
   "source": [
    "For `x = x + 3`, the shortcut is `x += 3`."
   ]
  },
  {
   "cell_type": "code",
   "execution_count": null,
   "id": "487f4f93-df47-4256-beb2-28bb9cfa3b0f",
   "metadata": {},
   "outputs": [],
   "source": [
    "x %= 3\n",
    "print(f'x %= 3 is as {x}')"
   ]
  },
  {
   "cell_type": "markdown",
   "id": "9682f79d-26cb-4f8a-8ea8-5ea1cdfb4d25",
   "metadata": {},
   "source": [
    "#### `abs` function\n",
    "The `abs` function is a function that gives a value when it is done. It takes a number that might be negative and gives the absolute value of it."
   ]
  },
  {
   "cell_type": "code",
   "execution_count": null,
   "id": "9738aa94-607d-447e-88be-eb2e6687c554",
   "metadata": {},
   "outputs": [],
   "source": [
    "x = 3\n",
    "y = -5\n",
    "z = -4.3\n",
    "print(f'abs({x}) is {abs(x)}.')\n",
    "print(f'abs({y}) is {abs(y)}.')\n",
    "print(f'abs({z}) is {abs(z)}.')"
   ]
  },
  {
   "cell_type": "markdown",
   "id": "84d0b598-3cd6-443f-987e-823212c84b6f",
   "metadata": {},
   "source": [
    "#### `max` function\n",
    "The value of the `max` function is the largest of the numbers give given to it as an argument.\n",
    "`(1, 12, 9)` is a *list* of numbers, which is discussed further below."
   ]
  },
  {
   "cell_type": "code",
   "execution_count": null,
   "id": "dbe7efc4-5c9c-45b0-9ad7-bba1f1fa7081",
   "metadata": {},
   "outputs": [],
   "source": [
    "L = (1, 12, 9)\n",
    "print(f'the maximum of {L} is {max(L)}')"
   ]
  },
  {
   "cell_type": "markdown",
   "id": "13dd4575-f427-4b03-a661-1434bcaca249",
   "metadata": {},
   "source": [
    "#### `min` function\n",
    "The value of the `min` function is the smallest of the numbers give given to it as an argument."
   ]
  },
  {
   "cell_type": "code",
   "execution_count": null,
   "id": "eaf8c306-5a71-47e8-b985-6019c67eba63",
   "metadata": {},
   "outputs": [],
   "source": [
    "L = (1, 12, 9)\n",
    "print(f'the minimum of {L} is {min(L)}')"
   ]
  },
  {
   "cell_type": "markdown",
   "id": "3829dd0c-7d69-4d37-871e-51674f0946b2",
   "metadata": {},
   "source": [
    "#### `round` function\n",
    "The `round` function takes a real number and reduces the size of the fraction. \n",
    "It gives the integer value without the fraction if only the number is given as the argument. \n",
    "If a second argument is a number, it will keep this many digits in the fractional part."
   ]
  },
  {
   "cell_type": "code",
   "execution_count": null,
   "id": "f108e3aa-5f28-4549-80b2-5f2146d9ecac",
   "metadata": {},
   "outputs": [],
   "source": [
    "x = 5.34\n",
    "y = 9.2345\n",
    "z = -8.431\n",
    "print(f'round({x}) is {round(x)}.')\n",
    "print(f'round({y}, 2) is {round(y, 2)}.')\n",
    "print(f'round({z}) is {round(z)}.')"
   ]
  },
  {
   "cell_type": "markdown",
   "id": "ae7225da-45a6-4ae0-975a-e50dca37eb1c",
   "metadata": {},
   "source": [
    "<a id=\"strings\"></a>\n",
    "## Strings\n",
    "\n",
    "Strings are text that is made up of *characters*, which are letters, numbers, punctuation, and some special characters called *escape characters*. \n",
    "Strings have operations and functions that combine, remove, search, and replace for parts of text. \n",
    "This is the string `\"hello\"`. Each character has a *position* in the string, and the positions start counting from `0` rather than `1`.\n",
    "\n",
    "<img src=\"string1.jpg\" width=\"400\">"
   ]
  },
  {
   "cell_type": "markdown",
   "id": "523a1eeb-8208-4e79-9f3f-ab4aa6e387a9",
   "metadata": {},
   "source": [
    "#### Escape characters\n",
    "Escape characters are characters following a *backslash* character `\\` in a string. \n",
    "The backslash gives a special meaning to the character that follows it. \n",
    "`\\t` means the tab key on the keyboard, and `\\n` is the enter key, called a [*newline*](#glossary_newline). \n",
    "Because the backslash `\\`  changes the meaning of the character that follows it, to really get a backslash you need to use `\\\\`."
   ]
  },
  {
   "cell_type": "code",
   "execution_count": null,
   "id": "89d39bb2-a354-4b79-9af1-06c1ed2b5a23",
   "metadata": {},
   "outputs": [],
   "source": [
    "print('this is the tab \"\\t\" character')\n",
    "print('this is the enter \"\\n\" character')\n",
    "print('this is the backslash \"\\\\\" character')"
   ]
  },
  {
   "cell_type": "markdown",
   "id": "763de23f-111e-4d3a-be1d-202ad8285216",
   "metadata": {},
   "source": [
    "You can put a double quote in a double-quoted string by using backslash to escape it, an *escaped* double quote, that can go into a double-quoted string but not end the string. "
   ]
  },
  {
   "cell_type": "code",
   "execution_count": null,
   "id": "9d6eee31-3d96-46b1-8c03-15f391f3a0ca",
   "metadata": {},
   "outputs": [],
   "source": [
    "print(\"this is a double-quoted string with a double quote \\\" in it\")"
   ]
  },
  {
   "cell_type": "markdown",
   "id": "5bd8abb9-780f-4cb4-995d-2f0462da2815",
   "metadata": {},
   "source": [
    "An escaped single quote can be put in a single-quoted string the same way."
   ]
  },
  {
   "cell_type": "code",
   "execution_count": null,
   "id": "35b924ff-699d-4584-aa1b-5a934b9b1425",
   "metadata": {},
   "outputs": [],
   "source": [
    "print('this is a single-quoted string with a single quote \\' in it')"
   ]
  },
  {
   "cell_type": "markdown",
   "id": "36c11941-95b1-406b-9154-6c0068b0d44d",
   "metadata": {},
   "source": [
    "Putting a single quote in the formatted string starting with `f'` and ending with a `'` needs an escaped single quote. "
   ]
  },
  {
   "cell_type": "code",
   "execution_count": null,
   "id": "befb280c-63e7-474f-b274-61d28b84d404",
   "metadata": {},
   "outputs": [],
   "source": [
    "print(f'this is a formatted string with a single quote \\' in it')"
   ]
  },
  {
   "cell_type": "markdown",
   "id": "0cf775d5-8bd7-46b6-bdfe-4329a7c6ca0f",
   "metadata": {},
   "source": [
    "#### Operations on strings\n",
    "Strings can be combined with the `+` add operator. "
   ]
  },
  {
   "cell_type": "code",
   "execution_count": null,
   "id": "51d1c9d6-5c15-4600-8179-c0f2a55060a4",
   "metadata": {},
   "outputs": [],
   "source": [
    "s = \"Again and \"\n",
    "s = s + \"again ...\"\n",
    "print(f's is \"{s}\"')"
   ]
  },
  {
   "cell_type": "markdown",
   "id": "3e4bbef9-b84b-45e7-96fa-64e598390b7a",
   "metadata": {},
   "source": [
    "The `+=` shortcut works as well."
   ]
  },
  {
   "cell_type": "code",
   "execution_count": null,
   "id": "ff7b9a4d-fc2f-4585-af73-b4bcec0385ec",
   "metadata": {},
   "outputs": [],
   "source": [
    "s = \"Again and \"\n",
    "s += \"again ...\"\n",
    "print(f's is \"{s}\"')"
   ]
  },
  {
   "cell_type": "markdown",
   "id": "e92d0075-869c-4010-8649-91945a9e7fe9",
   "metadata": {},
   "source": [
    "Strings can be repeated with the `*` multiplication operator. "
   ]
  },
  {
   "cell_type": "code",
   "execution_count": null,
   "id": "8ec2d0a0-22d3-49c7-9987-854814b38f4f",
   "metadata": {},
   "outputs": [],
   "source": [
    "s = \"hello \" * 3\n",
    "print(f's is \"{s}\"')"
   ]
  },
  {
   "cell_type": "markdown",
   "id": "d07a7d08-7aa3-488e-a522-eabeb9b19305",
   "metadata": {},
   "source": [
    "The `*=` shortcut works as well."
   ]
  },
  {
   "cell_type": "code",
   "execution_count": null,
   "id": "6763697e-c682-423c-b0a7-f38071ce2c66",
   "metadata": {},
   "outputs": [],
   "source": [
    "s = \"hello \"\n",
    "s *= 3\n",
    "print(f's is \"{s}\"')"
   ]
  },
  {
   "cell_type": "markdown",
   "id": "bfe61d94-4976-4512-ba4e-9eb6bc52512d",
   "metadata": {},
   "source": [
    "#### Characters in strings\n",
    "Characters in strings can accessed with '[' and ']', where *string*`[`*position*`]` gives the character at *position* in the string. \n",
    "Python operators and functions count character positions from 0 rather than 1. \n",
    "The string can count *position* from the beginning of the string, or if *position* is negative, it can count from the back of the string. "
   ]
  },
  {
   "cell_type": "code",
   "execution_count": null,
   "id": "2872c2de-5b17-4d9f-aef9-2b37f3952fd6",
   "metadata": {},
   "outputs": [],
   "source": [
    "s = \"A red hat\"\n",
    "print(f's starts as \"{s}\"')\n",
    "print(\"positions:   012345678\")\n",
    "t = s[0]\n",
    "u = s[3]\n",
    "v = s[-1]\n",
    "print(f's[0] is \"{t}\"')\n",
    "print(f's[3] is \"{u}\"')\n",
    "print(f's[-1] is \"{v}\"')"
   ]
  },
  {
   "cell_type": "markdown",
   "id": "ca8798d1-decf-413a-bcdc-c620980c82b1",
   "metadata": {},
   "source": [
    "#### Slices\n",
    "Strings that are part of other strings are *slices* or *substrings*. \n",
    "The slice operator looks like *variable*`[`*start*`:`*end*`]` where the slice has all the characters from the character in the *start* position to the character *just before* the *end* position. \n",
    "\n",
    "A slice that has no *start* starts from the beginning of the string. \n",
    "A slice that has no *end* goes to the end of the string. "
   ]
  },
  {
   "cell_type": "code",
   "execution_count": null,
   "id": "93c8c38f-8cd7-4325-86b0-a35f42086bb0",
   "metadata": {},
   "outputs": [],
   "source": [
    "s = \"A red hat\"\n",
    "print(f's starts as \"{s}\"')\n",
    "print(\"positions:   012345678\")\n",
    "t = s[:1]\n",
    "print(f's[:1] is \"{t}\"')\n",
    "t = s[2:5]\n",
    "print(f's[2:5] is \"{t}\"')\n",
    "t = s[6:]\n",
    "print(f's[6:] is \"{t}\"')"
   ]
  },
  {
   "cell_type": "markdown",
   "id": "129c4b78-8d70-4eea-ab0a-b9022da3f91a",
   "metadata": {},
   "source": [
    "#### `len` function\n",
    "The `len` function gives the value of the string length."
   ]
  },
  {
   "cell_type": "code",
   "execution_count": null,
   "id": "4ffcb37c-d352-4e95-b85f-7f71b374c9b5",
   "metadata": {},
   "outputs": [],
   "source": [
    "s = \"A red hat\"\n",
    "length = len(s)\n",
    "print(f'len(\"{s}\") is {length}')"
   ]
  },
  {
   "cell_type": "markdown",
   "id": "8f707b54-a9f6-454b-995f-f72ce06db997",
   "metadata": {},
   "source": [
    "#### `find` function\n",
    "The `find` function gives the first position where you can find a substring in a string. \n",
    "The link https://docs.python.org/3/library/stdtypes.html#string-methods gives a full list of string functions."
   ]
  },
  {
   "cell_type": "code",
   "execution_count": null,
   "id": "59b027aa-a2ec-442e-aaf4-8b738db5fc88",
   "metadata": {},
   "outputs": [],
   "source": [
    "s = \"A red hat\"\n",
    "print(f's starts as \"{s}\"')\n",
    "print(\"positions:   012345678\")\n",
    "x = s.find(\"red\")\n",
    "print(f's.find(\"red\") is {x}')"
   ]
  },
  {
   "cell_type": "markdown",
   "id": "515060da-4ab6-4f80-a8cc-498ee93a6cd1",
   "metadata": {
    "tags": []
   },
   "source": [
    "#### `count` function\n",
    "The `count` function will count how many times a substring can be found in a string."
   ]
  },
  {
   "cell_type": "code",
   "execution_count": null,
   "id": "18706dc8-2843-43fc-bb00-3ba6a00972d3",
   "metadata": {},
   "outputs": [],
   "source": [
    "s = \"the cat in the hat is at the store.\"\n",
    "print(f's starts as \"{s}\"')\n",
    "x = s.count(\"the\")\n",
    "print(f's.count(\"the\") is {x}')\n",
    "x = s.count(\"at\")\n",
    "print(f's.count(\"at\") {x}')"
   ]
  },
  {
   "cell_type": "markdown",
   "id": "6202d681-b057-4386-9e99-f28e75c91898",
   "metadata": {},
   "source": [
    "#### `upper` function\n",
    "The `upper` function makes all alphabet characters in a string into capitals or [*uppercase*](#glossary_uppercase)."
   ]
  },
  {
   "cell_type": "code",
   "execution_count": null,
   "id": "8fb9b63c-4336-450c-a6fc-1d73737fd694",
   "metadata": {},
   "outputs": [],
   "source": [
    "s = \"the cat in the hat is at the store\"\n",
    "print(f's starts as \"{s}\"')\n",
    "t = s.upper()\n",
    "print(f's.upper() is \"{t}\".')"
   ]
  },
  {
   "cell_type": "markdown",
   "id": "096b3cb8-508f-4e1e-b52c-2263bab17004",
   "metadata": {},
   "source": [
    "#### `lower` function\n",
    "The `lower` function makes all alphabet characters  in a string into small letters or [*lowercase*](#glossary_lowercase)."
   ]
  },
  {
   "cell_type": "code",
   "execution_count": null,
   "id": "75ce1f89-8333-457c-b9dd-422937990169",
   "metadata": {},
   "outputs": [],
   "source": [
    "s = \"THE CAT IN THE HAT IS AT THE STORE\"\n",
    "print(f's starts as \"{s}\"')\n",
    "t = s.lower()\n",
    "print(f's.lower() is \"{t}\"')"
   ]
  },
  {
   "cell_type": "markdown",
   "id": "493dbda5-88ba-4cee-9392-403ba3015cad",
   "metadata": {},
   "source": [
    "#### `replace` function\n",
    "The `replace` function will find the substring of a string that matches a *pattern*, and replace it with another string.   "
   ]
  },
  {
   "cell_type": "code",
   "execution_count": null,
   "id": "d1cdfe81-dc5d-4b55-8066-4cfc0c44c727",
   "metadata": {},
   "outputs": [],
   "source": [
    "s = \"the red hat\"\n",
    "print(f's starts as \"{s}\"')\n",
    "t = s.replace(\"red\", \"blue\")\n",
    "print(f's.replace(\"red\", \"blue\") is \"{t}\"')"
   ]
  },
  {
   "cell_type": "markdown",
   "id": "01759e84-5c09-45e1-9294-8b8534ac860e",
   "metadata": {},
   "source": [
    "#### `str` function \n",
    "If you have a number, the `str` function will let you use it as a string. This is taking str() of an integer."
   ]
  },
  {
   "cell_type": "code",
   "execution_count": null,
   "id": "f5e5f435-97ac-48a2-81e4-b1d20baa1539",
   "metadata": {},
   "outputs": [],
   "source": [
    "x = 5\n",
    "s = str(x)\n",
    "print(f'str({x}) is \"{s}\"')"
   ]
  },
  {
   "cell_type": "markdown",
   "id": "5fed4ac4-3cca-44d1-a6fc-1fda3e5dd613",
   "metadata": {},
   "source": [
    "This is taking str() of a real number."
   ]
  },
  {
   "cell_type": "code",
   "execution_count": null,
   "id": "5c5e9eaf-d7ba-4dbf-a52f-758245a836a2",
   "metadata": {},
   "outputs": [],
   "source": [
    "x = 3.1\n",
    "s = str(x)\n",
    "print(f'str({x}) is \"{s}\"')"
   ]
  },
  {
   "cell_type": "markdown",
   "id": "39e0e2b5-3aa1-43cb-bf5c-3526184ff629",
   "metadata": {},
   "source": [
    "#### `int` function\n",
    "If you have a string but would like to use it as a number, the `int` function will make an integer out of it."
   ]
  },
  {
   "cell_type": "code",
   "execution_count": null,
   "id": "bb346e2b-3ff5-4113-8b30-7fdfce2ab74f",
   "metadata": {
    "tags": []
   },
   "outputs": [],
   "source": [
    "s = \"5\"\n",
    "x = int(s)\n",
    "print(f'int(\"{s}\") is {x}')"
   ]
  },
  {
   "cell_type": "markdown",
   "id": "da7ea7d1-8a95-4cf2-8cc2-1d31113f3020",
   "metadata": {},
   "source": [
    "If the string is not a number, you get an error."
   ]
  },
  {
   "cell_type": "code",
   "execution_count": null,
   "id": "7404e1b4-4312-4dcf-81b8-c640fa628cd1",
   "metadata": {
    "tags": []
   },
   "outputs": [],
   "source": [
    "s = \"invalid\"\n",
    "x = int(s)\n",
    "print(f'int(\"{s}\") is {x}')"
   ]
  },
  {
   "cell_type": "markdown",
   "id": "74a05b3d-ba57-4244-bc04-08cd911d39b1",
   "metadata": {
    "tags": []
   },
   "source": [
    "#### `float` function\n",
    "If you have a string but would like to use it as a number, the `float` function will make a real number out of it."
   ]
  },
  {
   "cell_type": "code",
   "execution_count": null,
   "id": "0986bcc9-b49d-44a9-906a-360e2c2a0e8a",
   "metadata": {
    "tags": []
   },
   "outputs": [],
   "source": [
    "s = \"3.1\"\n",
    "x = float(s)\n",
    "print(f'float(\"{s}\") is {x}')"
   ]
  },
  {
   "cell_type": "markdown",
   "id": "f61219df-8ce5-4801-b33c-d76a3ce2a512",
   "metadata": {
    "tags": []
   },
   "source": [
    "#### `input` function\n",
    "The `input` function can print a string on the console and wait for you to type some text, then give the text you typed as the value."
   ]
  },
  {
   "cell_type": "code",
   "execution_count": null,
   "id": "755385d2-310b-4d6c-8fd8-9a9f989921f1",
   "metadata": {},
   "outputs": [],
   "source": [
    "s = input('Enter some text: ')\n",
    "print(f'The text you typed is \"{s}\"')"
   ]
  },
  {
   "cell_type": "markdown",
   "id": "4d61cea8-d1f3-4dda-abf8-4025c3dd492e",
   "metadata": {},
   "source": [
    "#### `strip` function\n",
    "The `strip` function removes a *newline* at the end of a string. Lines read from a text file will end with a newline. Printing a file with a newline will add an extra blank line.\n",
    "\n",
    "<img src=\"strip1.jpg\" width=\"400\">"
   ]
  },
  {
   "cell_type": "code",
   "execution_count": null,
   "id": "be65c301-ee87-4b27-935d-8d119b1337a2",
   "metadata": {},
   "outputs": [],
   "source": [
    "s = \"line from file\\n\"\n",
    "print(s)\n",
    "print(s.strip())\n",
    "print(\"end of printing\")"
   ]
  },
  {
   "cell_type": "markdown",
   "id": "afea53dc-648e-45dd-97dc-fe5ad9e7d307",
   "metadata": {},
   "source": [
    "#### `Format` function\n",
    "The `format` function can make output look just the way you want. \n",
    "The format function looks like this.\n",
    "\n",
    "&nbsp;&nbsp;&nbsp;&nbsp;`'{:`*format* `:`*format* `...}.format(`*item*, *item*`)`\n",
    "\n",
    "where each *format* is listed below. \n",
    "\n",
    "This is an example of a `format` output that includes more than one *format*.\n",
    "\n",
    "&nbsp;&nbsp;&nbsp;&nbsp;`'{:17s}  ${:7.2f}'.format(name, total)`\n",
    "\n",
    "The `:3d` format will make a string out of an integer where the string is at least 3 characters wide, with spaces on the left if the integer is less than 3 characters long."
   ]
  },
  {
   "cell_type": "code",
   "execution_count": null,
   "id": "c065dc41-708d-4e0f-858a-9bff9b9c87e6",
   "metadata": {},
   "outputs": [],
   "source": [
    "s ='{:3d}'.format(2)\n",
    "t ='{:3d}'.format(65)\n",
    "u ='{:3d}'.format(138)\n",
    "print(f'\"{s}\" is the number 2 with format \":3d\"')\n",
    "print(f'\"{t}\" is the number 65 with format \":3d\"')\n",
    "print(f'\"{u}\" is the number 138 with format \":3d\"')"
   ]
  },
  {
   "cell_type": "markdown",
   "id": "8608a881-3b24-4d40-bb8e-dcc09522ed4f",
   "metadata": {},
   "source": [
    "The `:<3d` format will make a string out of an integer where the string is at least 3 characters wide, with spaces on the right if the integer is less than 3 characters long."
   ]
  },
  {
   "cell_type": "code",
   "execution_count": null,
   "id": "1154439b-45e8-420f-bc63-98d47a796dc5",
   "metadata": {},
   "outputs": [],
   "source": [
    "s ='{:<3d}'.format(2)\n",
    "t ='{:<3d}'.format(65)\n",
    "u ='{:<3d}'.format(138)\n",
    "print(f'\"{s}\" is the number 2 with format \"<:3d\"')\n",
    "print(f'\"{t}\" is the number 65 with format \"<:3d\"')\n",
    "print(f'\"{u}\" is the number 138 with format \"<:3d\"')"
   ]
  },
  {
   "cell_type": "markdown",
   "id": "db8395ea-c4b1-4702-9291-2c38a42fb0eb",
   "metadata": {},
   "source": [
    "The `:^3d` format will make a string out of an integer where the string is at least 3 characters wide but with the number in the middle if the integer is less than 3 characters long."
   ]
  },
  {
   "cell_type": "code",
   "execution_count": null,
   "id": "d3b1a79e-aecb-4b62-9eca-752d01fa0a42",
   "metadata": {},
   "outputs": [],
   "source": [
    "s ='{:^3d}'.format(2)\n",
    "t ='{:^3d}'.format(65)\n",
    "u ='{:^3d}'.format(138)\n",
    "print(f'\"{s}\" is the number 2 with format \"^:3d\"')\n",
    "print(f'\"{t}\" is the number 65 with format \"^:3d\"')\n",
    "print(f'\"{u}\" is the number 138 with format \"^:3d\"')"
   ]
  },
  {
   "cell_type": "markdown",
   "id": "1d9ef697-62df-4192-b8e1-74eddbf32a02",
   "metadata": {},
   "source": [
    "For real numbers, the `:2f` format will make a string out of a real number where the string has up to 2 numbers in the fraction, with zeros on the right if the fraction of the real number has less than 2 digits."
   ]
  },
  {
   "cell_type": "code",
   "execution_count": null,
   "id": "9583a2b9-b96f-4970-b667-278139e6c114",
   "metadata": {},
   "outputs": [],
   "source": [
    "s ='{:.2f}'.format(4)\n",
    "t ='{:.2f}'.format(1.9)\n",
    "u ='{:.2f}'.format(8.26)\n",
    "print(f'\"{s}\" is the 4 with format \":.2f\"')\n",
    "print(f'\"{t}\" is the 1.9 with format \":.2f\"')\n",
    "print(f'\"{u}\" is the 8.26 with format \":.2f\"')"
   ]
  },
  {
   "cell_type": "markdown",
   "id": "e51010f1-82e9-499e-9b2c-428b3714fcbd",
   "metadata": {},
   "source": [
    "For strings, he `:5s` format will make a string at least 5 characters wide but with spaces on the right if the string is less than 3 characters long. \n",
    "The `:>5s` will make the string at least 5 characters long but with spaces on the left, and `^5s` will make the string at least 5 characters long but in\n",
    "the center of the string."
   ]
  },
  {
   "cell_type": "code",
   "execution_count": null,
   "id": "a8bead56-b681-4a3d-a74b-226204a726a7",
   "metadata": {},
   "outputs": [],
   "source": [
    "s ='{:5s}'.format(\"one\")\n",
    "t ='{:>5s}'.format(\"one\")\n",
    "u ='{:^5s}'.format(\"one\")\n",
    "v ='{:^5s}'.format(\"eight\")\n",
    "print(f'\"{s}\" is the \"one\" with format \":5s\"')\n",
    "print(f'\"{t}\" is the \"one\" with format \":>5s\"')\n",
    "print(f'\"{u}\" is the \"one\" with format \":^5s\"')\n",
    "print(f'\"{v}\" is the \"eight\" with format \":5s\"')"
   ]
  },
  {
   "cell_type": "markdown",
   "id": "0aa312e8-767f-463c-bbd6-ff647ba1c4d0",
   "metadata": {},
   "source": [
    "<a id=\"compound-data-types\"></a>\n",
    "## Compound Data Types\n",
    "There are *compound data types* that are collections of multiple data values that can be assigned to variables. \n",
    "Two of these are *lists* and *dictionaries*, and are used to store things like grocery lists and telephone books that collect items of basic data types together. \n",
    "\n",
    "Variable names for compound data types will be:\n",
    "- `L`, `M`, `N`, and so on will be lists\n",
    "- `D`, `E`, `F`, and so on will be dictionaries"
   ]
  },
  {
   "cell_type": "markdown",
   "id": "a38021ef-1d62-4f3e-9960-fe74d05016b5",
   "metadata": {},
   "source": [
    "\n",
    "<a id=\"lists\"></a>\n",
    "## Lists\n",
    "The simplest compound data type are *lists*. \n",
    "Lists collect a series of other data type values in order between square brackets `[` and `]`. \n",
    "As with strings, the first element is 0 rather than 1."
   ]
  },
  {
   "cell_type": "code",
   "execution_count": null,
   "id": "ca0d087f-b58d-4948-bf27-fd56a507e757",
   "metadata": {},
   "outputs": [],
   "source": [
    "L = [5, 9, 1]\n",
    "print(f'L is {L}')"
   ]
  },
  {
   "cell_type": "markdown",
   "id": "b7d9ae42-3ea8-454a-82e1-f02fe22c4dbb",
   "metadata": {},
   "source": [
    "The list can be shown like this."
   ]
  },
  {
   "cell_type": "markdown",
   "id": "68ce29d5-d65f-4035-919a-359fa1e30066",
   "metadata": {},
   "source": [
    "![list1.jpg](list1.jpg)"
   ]
  },
  {
   "cell_type": "markdown",
   "id": "fd7b37eb-2e53-47d4-9dd8-716d2394294c",
   "metadata": {},
   "source": [
    "#### Operations on lists\n",
    "Lists can be combined with the `+` add operator. "
   ]
  },
  {
   "cell_type": "code",
   "execution_count": null,
   "id": "25c3196c-aeee-4e53-ac6d-0c143127485f",
   "metadata": {},
   "outputs": [],
   "source": [
    "L = [5, 9, 10]\n",
    "L = L + [4, 7]\n",
    "print(f'[5, 9, 10] + [4, 7] is {L}')"
   ]
  },
  {
   "cell_type": "markdown",
   "id": "25402114-3746-44ff-a6a1-f3bac9754424",
   "metadata": {},
   "source": [
    "The `+=` shortcut works as well."
   ]
  },
  {
   "cell_type": "code",
   "execution_count": null,
   "id": "f2e48add-707d-487d-bae4-3dc4dfd54a0f",
   "metadata": {},
   "outputs": [],
   "source": [
    "L = [5, 9, 10]\n",
    "L += [4, 7]\n",
    "print(f'[5, 9, 10] + [4, 7] is {L}')"
   ]
  },
  {
   "cell_type": "markdown",
   "id": "32763ae2-6904-4e66-8a41-6cf24d78011f",
   "metadata": {},
   "source": [
    "Lists can be repeated with the `*` multiplication operator. "
   ]
  },
  {
   "cell_type": "code",
   "execution_count": null,
   "id": "5dc2c886-e9c3-4de3-bca7-1b04b742b05a",
   "metadata": {},
   "outputs": [],
   "source": [
    "L = [1, 2] * 3\n",
    "print(f'[1, 2] * 3 is {L}')"
   ]
  },
  {
   "cell_type": "markdown",
   "id": "64afdae5-14d8-4f9c-ab3f-3cf2bb18ea73",
   "metadata": {},
   "source": [
    "The `*=` shortcut works as well."
   ]
  },
  {
   "cell_type": "code",
   "execution_count": null,
   "id": "963d4945-37c6-4cc6-94a2-4de817f5c624",
   "metadata": {},
   "outputs": [],
   "source": [
    "L = [4, 5]\n",
    "L *= 2\n",
    "print(f'[4, 5] * 2 is {L}')"
   ]
  },
  {
   "cell_type": "markdown",
   "id": "b4830550-7d6b-4157-ae90-6450991c09c2",
   "metadata": {},
   "source": [
    "#### Items in lists\n",
    "Each list item value can be accessed  with `[` and `]`, where *list*`[`*position*`]` gives the item at *position* in the list. \n",
    "List operators and functions count item positions from 0 rather than 1.\n",
    "The list can count *position* from the beginning of the list or if *position* is negative, it can count from the back of the list. "
   ]
  },
  {
   "cell_type": "code",
   "execution_count": null,
   "id": "d89273a5-8c39-43c2-81c3-dcac0d8e382b",
   "metadata": {},
   "outputs": [],
   "source": [
    "L = [5, 9, 1]\n",
    "x = L[0]\n",
    "y = L[-2]\n",
    "z = L[2]\n",
    "print(f'L is {L}')\n",
    "print(f'L[0] is {x}')\n",
    "print(f'L[-2] is {y}')\n",
    "print(f'L[2] is {z}')"
   ]
  },
  {
   "cell_type": "markdown",
   "id": "100239a7-40d9-411f-b960-18cfd686428c",
   "metadata": {},
   "source": [
    "The value of an list item can be changed in the list by assigning an item with its position in square brackets `[` and `]`. \n",
    "Like before, positions start from 0. "
   ]
  },
  {
   "cell_type": "code",
   "execution_count": null,
   "id": "09eee661-deaf-42f4-a3ce-e596a4485ebf",
   "metadata": {},
   "outputs": [],
   "source": [
    "L = [5, 9, 1]\n",
    "print(f'L starts as {L}')\n",
    "L[0] = 4 \n",
    "L[-2] = 6 \n",
    "L[2] = 2 \n",
    "print(f'L after changing is {L}')"
   ]
  },
  {
   "cell_type": "markdown",
   "id": "ca4ccde8-a2c8-4571-a5e9-f8daa8a1e60c",
   "metadata": {},
   "source": [
    "#### Lists and variables\n",
    "There is not room to store the whole list in a variable, so the variable stores a *pointer* to the list. \n",
    "That can be shown like this. "
   ]
  },
  {
   "cell_type": "markdown",
   "id": "d2faf1bd-2072-4da9-b7e2-8475420987d1",
   "metadata": {},
   "source": [
    "![list2.jpg](list2.jpg)"
   ]
  },
  {
   "cell_type": "markdown",
   "id": "6c162322-b668-4f11-a660-8d53204475c4",
   "metadata": {},
   "source": [
    "When a list is assigned to a variable and that variable is assigned to another variable, the entire list isn't copied into the second variable. \n",
    "Only the *pointer* is copied."
   ]
  },
  {
   "cell_type": "markdown",
   "id": "02432cc0-f6f2-42e8-96db-31b36431a0d0",
   "metadata": {},
   "source": [
    "![list3.jpg](list3.jpg)"
   ]
  },
  {
   "cell_type": "markdown",
   "id": "4332e3ad-ec80-429e-8683-aaa524aa8000",
   "metadata": {},
   "source": [
    "We can show that when both variables are pointing to the same list, when we change the list through the first variable we will see the change when looking through the second variable."
   ]
  },
  {
   "cell_type": "code",
   "execution_count": null,
   "id": "07cd58af-d7a6-4dfe-a40d-e606e64b6aa4",
   "metadata": {},
   "outputs": [],
   "source": [
    "L = [5, 9, 1]\n",
    "print(f'L starts as {L}.')\n",
    "M = L\n",
    "print(f'after M = L, M is {M}.')\n",
    "L[1] = 2\n",
    "print(f'after L[1] = 2, L is {L} and M is {M}.')"
   ]
  },
  {
   "cell_type": "markdown",
   "id": "e2fe1f03-825c-4dcf-b286-d22a324cdc6d",
   "metadata": {},
   "source": [
    "<img src=\"list4.jpg\" width=\"400\">"
   ]
  },
  {
   "cell_type": "markdown",
   "id": "9ebd275b-20b8-4c81-a59f-ce5f41f338be",
   "metadata": {},
   "source": [
    "#### `copy` function\n",
    "To assign a list to another variable and be able to change the list through the second variable without affecting the first list, the `copy` function makes a copy of the list before assigning it to the second variable. \n",
    "Changing the second list then doesn't change the first list."
   ]
  },
  {
   "cell_type": "code",
   "execution_count": null,
   "id": "6211f494-f0bf-4fb8-86c1-cfe3b6a48d9d",
   "metadata": {},
   "outputs": [],
   "source": [
    "L = [5, 9, 1]\n",
    "print(f'L starts as {L}.')\n",
    "M = L.copy()\n",
    "print(f'after M = L, M is {M}.')\n",
    "L[1] = 2\n",
    "print(f'L after L[1] = 2, L is {L} and M is {M}.')"
   ]
  },
  {
   "cell_type": "markdown",
   "id": "2869db64-6109-46ab-a791-d35fd142b64b",
   "metadata": {},
   "source": [
    "![list5.jpg](list5.jpg)"
   ]
  },
  {
   "cell_type": "markdown",
   "id": "df85ac78-596a-4268-bd4c-f23cfa54db04",
   "metadata": {},
   "source": [
    "#### Slices\n",
    "Lists that are part of other lists are *slices* or *sublists*. \n",
    "The slice operator looks like *variable*`[`*start*`:`*end*`]` where the slice are all the items from the item in the *start* position to the item *just before* the *end* position. \n",
    "The slice operator does not affect the original list, only the list slice is given as the slice\n",
    "value.\n",
    "\n",
    "A slice that has no *start* starts from the beginning of the list. \n",
    "A slice that has no *end* goes to the end of the list. "
   ]
  },
  {
   "cell_type": "code",
   "execution_count": null,
   "id": "85cc3ca0-884b-4d40-966c-4e389e21df2e",
   "metadata": {},
   "outputs": [],
   "source": [
    "L = [5, 19, 1, 10, 8, 21]\n",
    "print(f'L is {L}')\n",
    "x = L[:1]\n",
    "print(f'L[0:1] is {x}')\n",
    "x = L[:3]\n",
    "print(f'L[:3] is {x}')\n",
    "x = L[4:]\n",
    "print(f'L[4:] is {x}')"
   ]
  },
  {
   "cell_type": "markdown",
   "id": "f0ce2de8-001b-4ba7-9aef-6af8c49ff276",
   "metadata": {
    "tags": []
   },
   "source": [
    "#### `len` function\n",
    "The `len` function gives the value of the list length."
   ]
  },
  {
   "cell_type": "code",
   "execution_count": null,
   "id": "f0744bc1-ee9b-40e9-a567-d102587fcc14",
   "metadata": {},
   "outputs": [],
   "source": [
    "L = [5, 9, 1]\n",
    "x = len(L)\n",
    "print(f'len({L}) is {x}')"
   ]
  },
  {
   "cell_type": "markdown",
   "id": "20b5f9bc-5af4-4237-8f4b-d6cb638574a1",
   "metadata": {},
   "source": [
    "#### `append` function\n",
    "New items can be added at the end of the list with the `append` function."
   ]
  },
  {
   "cell_type": "code",
   "execution_count": null,
   "id": "d66e56da-e4e9-43ab-91bd-d684e49b07a1",
   "metadata": {},
   "outputs": [],
   "source": [
    "L = [5, 9, 1]\n",
    "print(f'L starts as {L}')\n",
    "L.append(15)\n",
    "print(f'after L.append(15), L is {L}')"
   ]
  },
  {
   "cell_type": "markdown",
   "id": "17d78244-20f1-45d2-8b04-8330a4219b18",
   "metadata": {},
   "source": [
    "When the `append` function is called for a list, \n",
    "the way it is called is *list*.`append(`*item*`)`. \n",
    "The list is still given to `append` as an argument even though it is not passed between `(` and `)`. \n",
    "When a list is given as an argument to a function, the pointer is given to the function.\n",
    "Those functions then can use the pointer to change the list,\n",
    "then the list will still be changed when the function is done. \n",
    "\n",
    "<img  src=\"list6.jpg\" width=\"400\">"
   ]
  },
  {
   "cell_type": "markdown",
   "id": "7b539f59-32cd-438d-8e16-b1696abdd300",
   "metadata": {},
   "source": [
    "#### `insert` function\n",
    "Items can be added in the beginning or the middle of the list with the `insert` function. \n",
    "The position where the item is added is the first argument to `insert`, starting from 0, and the item to add is the second argument. \n",
    "All the items after the one added are moved down the list. "
   ]
  },
  {
   "cell_type": "code",
   "execution_count": null,
   "id": "36eeeaae-fbf5-4855-9096-c8bd742e67d3",
   "metadata": {},
   "outputs": [],
   "source": [
    "L = [5, 9, 1]\n",
    "print(f'L starts as {L} and the length is {len(L)}. L[2] is {L[2]}.')\n",
    "L.insert(2, 4)\n",
    "print(f'L.insert(2, 4) is {L} and the length is {len(L)}. L[2] is {L[2]}.')"
   ]
  },
  {
   "cell_type": "markdown",
   "id": "fdd45dbb-a724-4eda-b1e7-7b93df5ea4ac",
   "metadata": {},
   "source": [
    "This shows `L.insert(2, 4)`.\n",
    "\n",
    "<img  src=\"list7.jpg\" width=\"400\">"
   ]
  },
  {
   "cell_type": "code",
   "execution_count": null,
   "id": "02a44c80-a6d2-4db1-8f16-8681d95ef3fa",
   "metadata": {},
   "outputs": [],
   "source": [
    "L = [5, 9, 1]\n",
    "print(f'L starts as {L} and the length is {len(L)}. L[2] is {L[2]}.')\n",
    "L.insert(0, 7)\n",
    "print(f'L.insert(0, 7) is {L} and the length is {len(L)}. L[2] is {L[2]}.')"
   ]
  },
  {
   "cell_type": "markdown",
   "id": "c226404a-6a0e-4e59-9e89-f11480cf4c57",
   "metadata": {
    "tags": []
   },
   "source": [
    "This shows `L.insert(0, 7)`.\n",
    "\n",
    "<img src=\"list8.jpg\"  width=\"400\">"
   ]
  },
  {
   "cell_type": "markdown",
   "id": "c83f4364-1052-40b6-b75b-db1004137de1",
   "metadata": {},
   "source": [
    "#### `pop` function\n",
    "An item at some position can be removed with the `pop` function. \n",
    "The position of the item to remove is the first argument to `pop`, starting from 0. \n",
    "All items after the one removed are moved up the list.\n",
    "The item removed is the value of `pop`."
   ]
  },
  {
   "cell_type": "code",
   "execution_count": null,
   "id": "7a78ca82-72dd-4afb-82c9-53b567637542",
   "metadata": {},
   "outputs": [],
   "source": [
    "L = [5, 9, 1]\n",
    "print(f'L starts as {L} and the length is {len(L)}.')\n",
    "x = L.pop(1)\n",
    "print(f'L after L.pop(1) is {L} and the length is {len(L)}. The item removed is {x}.')"
   ]
  },
  {
   "cell_type": "markdown",
   "id": "7b4a81f6-8e33-40b3-9789-ba8db54a322f",
   "metadata": {},
   "source": [
    "This shows `L.pop(1)`, which gives the 9 removed as the value.\n",
    "\n",
    "<img src=\"list9.jpg\" width=\"400\">"
   ]
  },
  {
   "cell_type": "markdown",
   "id": "68aeab40-d8d2-4620-8cf0-e079d61aaada",
   "metadata": {},
   "source": [
    "#### `remove` function\n",
    "The first item having some value can be removed from the with the `remove` function. \n",
    "The value of the item to remove is the first argument to `remove`. \n",
    "Only the first item having the value will be removed.\n",
    "All items after the one removed are moved up the list."
   ]
  },
  {
   "cell_type": "code",
   "execution_count": null,
   "id": "f2601b7a-9fe0-4de1-b248-a18778948d04",
   "metadata": {},
   "outputs": [],
   "source": [
    "L = [5, 9, 1, 9]\n",
    "print(f'L starts as {L} and the length is {len(L)}')\n",
    "L.remove(9)\n",
    "print(f'L after L.remove(9) is {L} and the length is {len(L)}.')"
   ]
  },
  {
   "cell_type": "markdown",
   "id": "adf7055b-58aa-4bb6-8388-6109bf776f1e",
   "metadata": {},
   "source": [
    "This is removing `9` a second time."
   ]
  },
  {
   "cell_type": "code",
   "execution_count": null,
   "id": "7805d9de-753b-41b6-8f77-a695ab78c66e",
   "metadata": {},
   "outputs": [],
   "source": [
    "L.remove(9)\n",
    "print(f'L after L.remove(9) is {L} and the length is {len(L)}.')"
   ]
  },
  {
   "cell_type": "markdown",
   "id": "4d97f07a-f4a0-4a2f-9f80-7f1043cec01d",
   "metadata": {},
   "source": [
    "This shows calling `L.remove(9)` twice.\n",
    "\n",
    "<img src=\"list11.jpg\" width=\"400\">"
   ]
  },
  {
   "cell_type": "markdown",
   "id": "85683344-c7bb-44d5-877f-287438534099",
   "metadata": {
    "tags": []
   },
   "source": [
    "#### `extend` function\n",
    "A list can be added to the end of a list with the `extend` function, like the `+` operator. \n",
    "The list to add at the end of the first list is the argument to `extend`."
   ]
  },
  {
   "cell_type": "code",
   "execution_count": null,
   "id": "2e093787-8b9f-4bdb-b3b2-3c178cc66978",
   "metadata": {},
   "outputs": [],
   "source": [
    "L = [5, 9, 1]\n",
    "print(f'L starts as {L} and the length is {len(L)}')\n",
    "M = [2, 4]\n",
    "L.extend(M)\n",
    "print(f'after L.extend(M), M is {M}, L is {L} and len(L) is {len(L)}.')"
   ]
  },
  {
   "cell_type": "markdown",
   "id": "e3b5a770-6e46-4e5f-b785-b22837438a20",
   "metadata": {},
   "source": [
    "This shows `L.extend(M)`.\n",
    "\n",
    "<img  src=\"list10.jpg\" width=\"700\">"
   ]
  },
  {
   "cell_type": "markdown",
   "id": "831dd3b9-f74c-4b11-9157-2287c7e03a60",
   "metadata": {},
   "source": [
    "#### `sum`, `min`, `max` functions\n",
    "\n",
    "Lists that are just numbers have functions to give the sum, minimum, and maximum. "
   ]
  },
  {
   "cell_type": "code",
   "execution_count": null,
   "id": "ee831d4a-8b3f-4dd4-9dd3-634dabf2312f",
   "metadata": {},
   "outputs": [],
   "source": [
    "L = [4, 1, 8, 2]\n",
    "print(f'sum({L}) = {sum(L)}')\n",
    "print(f'min({L}) = {min(L)}')\n",
    "print(f'max({L}) = {max(L)}')"
   ]
  },
  {
   "cell_type": "markdown",
   "id": "e23a7ed9-f60c-475a-b4d1-3e6c5eb48252",
   "metadata": {},
   "source": [
    "#### `sort` function\n",
    "Lists can be sorted with the `sort` function into increasing number or alphabetic order.\n",
    "This shows sorting a list of numbers."
   ]
  },
  {
   "cell_type": "code",
   "execution_count": null,
   "id": "37d4fce6-9ac9-448a-8da6-0fd7f7ffd590",
   "metadata": {},
   "outputs": [],
   "source": [
    "L = [4, 1, 8, 2]\n",
    "print(f'L starts as = {L}')\n",
    "L.sort()\n",
    "print(f'after L.sort() L = {L}')"
   ]
  },
  {
   "cell_type": "markdown",
   "id": "db0a981f-1295-4216-a1c4-3f3690d2930b",
   "metadata": {},
   "source": [
    "This shows `L` after `L.sort()`.\n",
    "\n",
    "<img  src=\"list12.jpg\" width=\"500\">"
   ]
  },
  {
   "cell_type": "markdown",
   "id": "a2d560c9-81e3-4959-9337-f224766694fb",
   "metadata": {},
   "source": [
    "This shows sorting a list of strings."
   ]
  },
  {
   "cell_type": "code",
   "execution_count": null,
   "id": "8b4a16c9-ad59-42f3-8f61-86e18e642602",
   "metadata": {},
   "outputs": [],
   "source": [
    "L = [\"horse\", \"cat\", \"ox\", \"dog\"]\n",
    "print(f'L starts as = {L}')\n",
    "L.sort()\n",
    "print(f'after L.sort() L = {L}')"
   ]
  },
  {
   "cell_type": "markdown",
   "id": "2b19ef63-fa96-4f16-8b00-6a8478093114",
   "metadata": {},
   "source": [
    "This shows `L` after `L.sort()`.\n",
    "\n",
    "<img  src=\"list13.jpg\" width=\"400\">"
   ]
  },
  {
   "cell_type": "markdown",
   "id": "f1f1c82e-2f2c-4667-9ff2-bc4d86aecf3d",
   "metadata": {},
   "source": [
    "#### `reverse` function\n",
    "Lists items can be reversed with the `reverse` function."
   ]
  },
  {
   "cell_type": "code",
   "execution_count": null,
   "id": "a5c90bfc-d613-409a-a637-1c318ce20417",
   "metadata": {},
   "outputs": [],
   "source": [
    "L = [4, 1, 8, 2]\n",
    "print(f'L starts as = {L}')\n",
    "L.reverse()\n",
    "print(f'after L.reverse() L = {L}')"
   ]
  },
  {
   "cell_type": "markdown",
   "id": "3c746e81-22d3-46a1-80ec-f0104aae6a47",
   "metadata": {},
   "source": [
    "This shows `L` after `L.reverse()`.\n",
    "\n",
    "<img src=\"reverse1.jpg\" width=\"400\">"
   ]
  },
  {
   "cell_type": "markdown",
   "id": "0010ffdf-550b-46b7-8307-f9d3e39797d1",
   "metadata": {},
   "source": [
    "#### Lists from strings: `split` function\n",
    "Lists can be created from strings with the `split` function.\n",
    "Using `split` with no arguments splits a string at spaces.\n",
    "\n",
    "<img src=\"split1.jpg\" width=\"400\">"
   ]
  },
  {
   "cell_type": "code",
   "execution_count": null,
   "id": "9d03c0e9-4b3d-4791-8b68-b5b687c63f31",
   "metadata": {},
   "outputs": [],
   "source": [
    "s = \"The cat in the hat\"\n",
    "print(f's starts as = \"{s}\"')\n",
    "L = s.split()\n",
    "print(f'after s.split() L is {L}')"
   ]
  },
  {
   "cell_type": "markdown",
   "id": "eeedcd35-d3d0-4f3c-8ff7-3c1b24b323ab",
   "metadata": {},
   "source": [
    "`split` can split strings separated by a particular string given as a second argument. "
   ]
  },
  {
   "cell_type": "code",
   "execution_count": null,
   "id": "e6806ba6-8e93-4741-be8f-e604b319b3b2",
   "metadata": {},
   "outputs": [],
   "source": [
    "s = \"first,second,third\"\n",
    "print(f's starts as = {s}')\n",
    "L = s.split(\",\")\n",
    "print(f'after s.split(\",\") L is {L}')"
   ]
  },
  {
   "cell_type": "markdown",
   "id": "f939ab09-ac9f-44b4-bbf5-49bb3e38fe9e",
   "metadata": {},
   "source": [
    "#### Strings from lists: `join` function\n",
    "Strings can be created from list items by joining the list items separated by a particular string."
   ]
  },
  {
   "cell_type": "code",
   "execution_count": null,
   "id": "2a08cb59-f1ee-4c2e-ac64-6cb2098e75d1",
   "metadata": {},
   "outputs": [],
   "source": [
    "L = [\"first\", \"second\", \"third\"]\n",
    "print(f'L starts as {L}')\n",
    "s = \" \".join(L)\n",
    "print(f'\" \".join(L) is \"{s}\"')\n",
    "L = [\"O\", \"N\", \"E\"]\n",
    "print(f'L starts as {L}')\n",
    "s = \"\".join(L)\n",
    "print(f'\"\".join(L) is \"{s}\"')"
   ]
  },
  {
   "cell_type": "markdown",
   "id": "fa5d678e-e220-4a8e-b713-02f5e1e753c2",
   "metadata": {},
   "source": [
    "This shows `\" \".join(L)`.\n",
    "\n",
    "<img src=\"join1.jpg\" width=\"400\">"
   ]
  },
  {
   "cell_type": "markdown",
   "id": "ca2fdb3f-52b8-4f81-9ec7-6109d4107364",
   "metadata": {},
   "source": [
    "<a id=\"dictionaries\"></a>\n",
    "## Dictionaries\n",
    "*Dictionaries* are a compound data type similar to *lists*. \n",
    "In a dictionary you look up a value using another value, a *key*, rather than looking up a value by position as in a list. \n",
    "This is like a real dictionary, you look up a definition of a word using the word. "
   ]
  },
  {
   "cell_type": "code",
   "execution_count": null,
   "id": "fdb25451-a1cd-4538-b5af-412b5cdb5df1",
   "metadata": {},
   "outputs": [],
   "source": [
    "D = {\"leaf\": \"green\", \"sky\": \"blue\", \"apple\": \"red\"}\n",
    "print(f'D is {D}')"
   ]
  },
  {
   "cell_type": "markdown",
   "id": "06e353fe-6ef9-493b-9b95-cf263bb9d233",
   "metadata": {},
   "source": [
    "The dictionary can be shown like this."
   ]
  },
  {
   "cell_type": "markdown",
   "id": "81691043-163b-4b48-bf7d-26e2480d2d3a",
   "metadata": {},
   "source": [
    "![dict1.jpg](dict1.jpg)"
   ]
  },
  {
   "cell_type": "markdown",
   "id": "238f70e8-e29b-4f83-9e4f-cf4a7c232115",
   "metadata": {},
   "source": [
    "#### Items in dictionaries\n",
    "Each dictionary item can be accessed with '[' and ']', where *dictionary*`[`*key*`]` gives the value that is assigned for that key in the dictionary. "
   ]
  },
  {
   "cell_type": "code",
   "execution_count": null,
   "id": "79ee67a7-7286-4218-acfe-b9b4d2d7a0af",
   "metadata": {},
   "outputs": [],
   "source": [
    "D = {\"leaf\": \"green\", \"sky\": \"blue\", \"apple\": \"red\"}\n",
    "leaf = D[\"leaf\"]\n",
    "apple = D[\"apple\"]\n",
    "print(f'D[\"leaf\"] is {leaf}')\n",
    "print(f'D[\"apple\"] is {apple}')"
   ]
  },
  {
   "cell_type": "markdown",
   "id": "4301966a-356b-430f-9d60-12e433374f70",
   "metadata": {},
   "source": [
    "The value of a dictionary item for a key can be changed by assigning that item with the key in square brackets `[` and `]`. "
   ]
  },
  {
   "cell_type": "code",
   "execution_count": null,
   "id": "d6806c30-f2bd-42a3-a82b-0ab21d6e527c",
   "metadata": {},
   "outputs": [],
   "source": [
    "D[\"apple\"] = \"honeycrisp\"\n",
    "print(f'after D[\"apple\"] = \"honeycrisp\", D[\"apple\"]  is \"{D[\"apple\"]}\"')"
   ]
  },
  {
   "cell_type": "markdown",
   "id": "9c9e4dfa-0156-432c-b63e-57aebf6d02ca",
   "metadata": {},
   "source": [
    "New dictionary items can be created by assigning a value with a new key in square brackets `[` and `]`. "
   ]
  },
  {
   "cell_type": "code",
   "execution_count": null,
   "id": "3a80f935-0f67-4ef7-8acb-623842f9e729",
   "metadata": {},
   "outputs": [],
   "source": [
    "D = { \"leaf\": \"green\", \"sky\": \"blue\", \"apple\": \"red\"}\n",
    "print(f'D starts as {D} length {len(D)}')\n",
    "D[\"earth\"] = \"brown\"\n",
    "print(f'after D[\"earth\"] = \"brown\", D is {D} length {len(D)}')"
   ]
  },
  {
   "cell_type": "markdown",
   "id": "bbaf98e3-4571-4e40-87eb-aea8b004109e",
   "metadata": {},
   "source": [
    "#### Dictionaries and variables\n",
    "There is not room to store whole dictionary in a variable, so the variable stores a *pointer* to the dictionary. \n",
    "That can be shown like this. "
   ]
  },
  {
   "cell_type": "markdown",
   "id": "6719f834-a677-44d3-b1c1-795688583f90",
   "metadata": {},
   "source": [
    "![dict2.jpg](dict2.jpg)"
   ]
  },
  {
   "cell_type": "markdown",
   "id": "b763fbfe-76c8-4a23-99f8-372ba3cec999",
   "metadata": {},
   "source": [
    "When a dictionary is assigned to a variable and that variable is assigned to another variable, the entire dictionary isn't copied into the second variable. \n",
    "Only the pointer is copied."
   ]
  },
  {
   "cell_type": "markdown",
   "id": "41d4b700-6150-4e8e-bc08-52bf970cd741",
   "metadata": {},
   "source": [
    "![dict3.jpg](dict3.jpg)"
   ]
  },
  {
   "cell_type": "markdown",
   "id": "7d40a3e5-6fec-454c-8338-221e52fb5b45",
   "metadata": {},
   "source": [
    "We can show that when both variables are pointing to the same dictionary, when we change the dictionary through the first variable, and we will se the change looking through the second variable."
   ]
  },
  {
   "cell_type": "code",
   "execution_count": null,
   "id": "61fdbc57-6597-451b-8b54-f802786c10ea",
   "metadata": {},
   "outputs": [],
   "source": [
    "D = { \"leaf\": \"green\", \"sky\": \"blue\", \"apple\": \"red\"}\n",
    "print(f'D starts as {D}.')\n",
    "E = D\n",
    "print(f'after E = D, E is {E}.')\n",
    "D[\"apple\"] = \"yellow\"\n",
    "print(f'after D[\"apple\"] = \"yellow\", D is {D} and E is {E}.')"
   ]
  },
  {
   "cell_type": "markdown",
   "id": "983ae227-03c4-4005-b751-5a47e319a096",
   "metadata": {},
   "source": [
    "<img src=\"dict4.jpg\" width=\"400\">"
   ]
  },
  {
   "cell_type": "markdown",
   "id": "98c45be3-d968-4d32-8549-1cb56db43a13",
   "metadata": {},
   "source": [
    "#### `copy` function\n",
    "To assign a dictionary  to another variable and be able to change the dictionary through the second variable without affecting the first dictionary , the `copy` function makes a copy of the dictionary before assigning it to the second variable. \n",
    "Changing the second dictionary then doesn't change the first dictionary."
   ]
  },
  {
   "cell_type": "code",
   "execution_count": null,
   "id": "2d57e8b3-893f-4312-8cfe-f22f59eaa710",
   "metadata": {},
   "outputs": [],
   "source": [
    "D = { \"leaf\": \"green\", \"sky\": \"blue\", \"apple\": \"red\"}\n",
    "print(f'D starts as {D}')\n",
    "E = D.copy()\n",
    "print(f'after E = D.copy(), E is {E}.')\n",
    "D[\"apple\"] = \"yellow\"\n",
    "print(f'after D[\"apple\"] = \"yellow\", D is {D} and E is {E}')"
   ]
  },
  {
   "cell_type": "markdown",
   "id": "6071e251-c07e-457e-bd85-afcc3da2f9a5",
   "metadata": {},
   "source": [
    "![dict5.jpg ](dict5.jpg)"
   ]
  },
  {
   "cell_type": "markdown",
   "id": "90f001f9-1071-4a88-baec-115a22b939d9",
   "metadata": {
    "tags": []
   },
   "source": [
    "#### `len` function\n",
    "The `len` function has the value of the dictionary length."
   ]
  },
  {
   "cell_type": "code",
   "execution_count": null,
   "id": "8fe8ebf8-c542-49df-aafa-0132bed0218e",
   "metadata": {},
   "outputs": [],
   "source": [
    "D = {\"leaf\": \"green\", \"sky\": \"blue\", \"apple\": \"red\"}\n",
    "print(f'D starts as {D}')\n",
    "x = len(D)\n",
    "print(f'{len(D)} is {x}')"
   ]
  },
  {
   "cell_type": "markdown",
   "id": "fbd26166-0ba7-4116-91bb-ebcb71fd6b14",
   "metadata": {},
   "source": [
    "#### `keys` function\n",
    "The `keys` function gives a list of the dictionary keys. The keys are not actually in `list` form, you need the `list` function to convert them to a list."
   ]
  },
  {
   "cell_type": "code",
   "execution_count": null,
   "id": "b612bd34-b551-4919-a220-09a2ae311dda",
   "metadata": {},
   "outputs": [],
   "source": [
    "D = {\"leaf\": \"green\", \"sky\": \"blue\", \"apple\": \"red\"}\n",
    "print(f'D starts as {D}')\n",
    "L = list(D.keys())\n",
    "print(f'D.keys() is {L}')"
   ]
  },
  {
   "cell_type": "markdown",
   "id": "277696fa-e18c-4330-a4c5-3dfe59aba726",
   "metadata": {},
   "source": [
    "#### `pop` function and `del` operator\n",
    "The `pop` function can remove an item from a dictionary. \n",
    "The key of the value to remove is the first argument to `pop`. \n",
    "The dictionary is one value smaller after `pop`. \n",
    "The `del` operator can remove an item too."
   ]
  },
  {
   "cell_type": "code",
   "execution_count": null,
   "id": "d9d764b2-cf43-4e0c-baeb-4c88c586c68f",
   "metadata": {},
   "outputs": [],
   "source": [
    "D = {\"leaf\": \"green\", \"sky\": \"blue\", \"apple\": \"red\"}\n",
    "print(f'D starts as {D}')\n",
    "D.pop(\"leaf\")\n",
    "print(f'after D.pop(\"leaf\"), D is {D}')\n",
    "del D[\"sky\"]\n",
    "print(f'after del D[\"sky\"], D is {D}')"
   ]
  }
 ],
 "metadata": {
  "kernelspec": {
   "display_name": "Python 3 (ipykernel)",
   "language": "python",
   "name": "python3"
  },
  "language_info": {
   "codemirror_mode": {
    "name": "ipython",
    "version": 3
   },
   "file_extension": ".py",
   "mimetype": "text/x-python",
   "name": "python",
   "nbconvert_exporter": "python",
   "pygments_lexer": "ipython3",
   "version": "3.11.5"
  }
 },
 "nbformat": 4,
 "nbformat_minor": 5
}
