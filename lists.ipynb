{
 "cells": [
  {
   "cell_type": "markdown",
   "id": "a38021ef-1d62-4f3e-9960-fe74d05016b5",
   "metadata": {},
   "source": [
    "\n",
    "<a id=\"lists\"></a>\n",
    "# Lists\n",
    "The simplest compound data type are *lists*. \n",
    "Lists collect a series of other data type values in order between square brackets `[` and `]`. \n",
    "As with strings, the first element is 0 rather than 1."
   ]
  },
  {
   "cell_type": "code",
   "execution_count": 1,
   "id": "ca0d087f-b58d-4948-bf27-fd56a507e757",
   "metadata": {},
   "outputs": [
    {
     "name": "stdout",
     "output_type": "stream",
     "text": [
      "[5, 9, 1]\n"
     ]
    }
   ],
   "source": [
    "L = [5, 9, 1]\n",
    "print(L)"
   ]
  },
  {
   "cell_type": "markdown",
   "id": "b7d9ae42-3ea8-454a-82e1-f02fe22c4dbb",
   "metadata": {},
   "source": [
    "The list can be shown like this."
   ]
  },
  {
   "cell_type": "markdown",
   "id": "68ce29d5-d65f-4035-919a-359fa1e30066",
   "metadata": {},
   "source": [
    "![list1.jpg](list1.jpg)"
   ]
  },
  {
   "cell_type": "markdown",
   "id": "fd7b37eb-2e53-47d4-9dd8-716d2394294c",
   "metadata": {},
   "source": [
    "## Operations on lists\n",
    "Lists can be combined with the `+` add operator. "
   ]
  },
  {
   "cell_type": "code",
   "execution_count": 2,
   "id": "25c3196c-aeee-4e53-ac6d-0c143127485f",
   "metadata": {
    "collapsed": true
   },
   "outputs": [
    {
     "name": "stdout",
     "output_type": "stream",
     "text": [
      "[5, 9, 10] + [4, 7] is  [5, 9, 10, 4, 7]\n"
     ]
    }
   ],
   "source": [
    "L = [5, 9, 10]\n",
    "L = L + [4, 7]\n",
    "print(\"[5, 9, 10] + [4, 7] is \", L)"
   ]
  },
  {
   "cell_type": "markdown",
   "id": "25402114-3746-44ff-a6a1-f3bac9754424",
   "metadata": {},
   "source": [
    "The `+=` shortcut works as well."
   ]
  },
  {
   "cell_type": "code",
   "execution_count": 6,
   "id": "f2e48add-707d-487d-bae4-3dc4dfd54a0f",
   "metadata": {
    "collapsed": true
   },
   "outputs": [
    {
     "name": "stdout",
     "output_type": "stream",
     "text": [
      "[5, 9, 10] + [4, 7] is  [5, 9, 10, 4, 7]\n"
     ]
    }
   ],
   "source": [
    "L = [5, 9, 10]\n",
    "L += [4, 7]\n",
    "print(\"[5, 9, 10] + [4, 7] is \", L)"
   ]
  },
  {
   "cell_type": "markdown",
   "id": "32763ae2-6904-4e66-8a41-6cf24d78011f",
   "metadata": {},
   "source": [
    "Lists can be repeated with the `*` multiplication operator. "
   ]
  },
  {
   "cell_type": "code",
   "execution_count": 5,
   "id": "5dc2c886-e9c3-4de3-bca7-1b04b742b05a",
   "metadata": {
    "collapsed": true
   },
   "outputs": [
    {
     "name": "stdout",
     "output_type": "stream",
     "text": [
      "[1, 2] * 3 is  [1, 2, 1, 2, 1, 2]\n"
     ]
    }
   ],
   "source": [
    "L = [1, 2] * 3\n",
    "print(\"[1, 2] * 3 is \", L)"
   ]
  },
  {
   "cell_type": "markdown",
   "id": "64afdae5-14d8-4f9c-ab3f-3cf2bb18ea73",
   "metadata": {},
   "source": [
    "The `*=` shortcut works as well."
   ]
  },
  {
   "cell_type": "code",
   "execution_count": 4,
   "id": "963d4945-37c6-4cc6-94a2-4de817f5c624",
   "metadata": {
    "collapsed": true
   },
   "outputs": [
    {
     "name": "stdout",
     "output_type": "stream",
     "text": [
      "[4, 5] * 2 is  [4, 5, 4, 5]\n"
     ]
    }
   ],
   "source": [
    "L = [4, 5]\n",
    "L *= 2\n",
    "print(\"[4, 5] * 2 is \", L)"
   ]
  },
  {
   "cell_type": "markdown",
   "id": "b4830550-7d6b-4157-ae90-6450991c09c2",
   "metadata": {},
   "source": [
    "## Items in lists\n",
    "Each list item value can be accessed  with `[` and `]`, where *list*`[`*position*`]` gives the item at *position* in the list. \n",
    "List operators and functions count item positions from 0 rather than 1.\n",
    "The list can count *position* from the beginning of the list or if *position* is negative, it can count from the back of the list. "
   ]
  },
  {
   "cell_type": "code",
   "execution_count": 31,
   "id": "d89273a5-8c39-43c2-81c3-dcac0d8e382b",
   "metadata": {
    "collapsed": true
   },
   "outputs": [
    {
     "name": "stdout",
     "output_type": "stream",
     "text": [
      "x is  5\n",
      "y is  9\n",
      "z is  1\n"
     ]
    }
   ],
   "source": [
    "L = [5, 9, 1]\n",
    "x = L[0]\n",
    "y = L[-2]\n",
    "z = L[2]\n",
    "print(\"x is \", x)\n",
    "print(\"y is \", y)\n",
    "print(\"z is \", z)"
   ]
  },
  {
   "cell_type": "markdown",
   "id": "100239a7-40d9-411f-b960-18cfd686428c",
   "metadata": {},
   "source": [
    "The value of an list item can be changed in the list by assigning an item with its position in square brackets `[` and `]`. \n",
    "Like before, positions start from 0. "
   ]
  },
  {
   "cell_type": "code",
   "execution_count": 7,
   "id": "09eee661-deaf-42f4-a3ce-e596a4485ebf",
   "metadata": {
    "collapsed": true
   },
   "outputs": [
    {
     "name": "stdout",
     "output_type": "stream",
     "text": [
      "[4, 6, 2]\n"
     ]
    }
   ],
   "source": [
    "L = [5, 9, 1]\n",
    "L[0] = 4 \n",
    "L[-2] = 6 \n",
    "L[2] = 2 \n",
    "print(L)"
   ]
  },
  {
   "cell_type": "markdown",
   "id": "ca4ccde8-a2c8-4571-a5e9-f8daa8a1e60c",
   "metadata": {},
   "source": [
    "## Lists and variables\n",
    "There is not room to store the whole list in a variable, so the variable stores a *pointer* to the list. \n",
    "That can be shown like this. "
   ]
  },
  {
   "cell_type": "markdown",
   "id": "d2faf1bd-2072-4da9-b7e2-8475420987d1",
   "metadata": {},
   "source": [
    "![list2.jpg](list2.jpg)"
   ]
  },
  {
   "cell_type": "markdown",
   "id": "6c162322-b668-4f11-a660-8d53204475c4",
   "metadata": {},
   "source": [
    "When a list is assigned to a variable and that variable is assigned to another variable, the entire list isn't copied into the second variable. \n",
    "Only the *pointer* is copied."
   ]
  },
  {
   "cell_type": "markdown",
   "id": "02432cc0-f6f2-42e8-96db-31b36431a0d0",
   "metadata": {},
   "source": [
    "![list3.jpg](list3.jpg)"
   ]
  },
  {
   "cell_type": "markdown",
   "id": "4332e3ad-ec80-429e-8683-aaa524aa8000",
   "metadata": {},
   "source": [
    "We can show that when both variables are pointing to the same list, when we change the list through the first variable we will see the change when looking through the second variable."
   ]
  },
  {
   "cell_type": "code",
   "execution_count": 8,
   "id": "07cd58af-d7a6-4dfe-a40d-e606e64b6aa4",
   "metadata": {
    "collapsed": true
   },
   "outputs": [
    {
     "name": "stdout",
     "output_type": "stream",
     "text": [
      "[5, 9, 1]\n",
      "after L[1] = 2, L is  [5, 2, 1]  and M is  [5, 2, 1]\n"
     ]
    }
   ],
   "source": [
    "L = [5, 9, 1]\n",
    "M = L\n",
    "print(M)\n",
    "L[1] = 2\n",
    "print(\"after L[1] = 2, L is \", L, \" and M is \", M)"
   ]
  },
  {
   "cell_type": "markdown",
   "id": "e2fe1f03-825c-4dcf-b286-d22a324cdc6d",
   "metadata": {},
   "source": [
    "<img src=\"list4.jpg\" width=\"400\">"
   ]
  },
  {
   "cell_type": "markdown",
   "id": "9ebd275b-20b8-4c81-a59f-ce5f41f338be",
   "metadata": {},
   "source": [
    "## `copy` function\n",
    "To assign a list to another variable and be able to change the list through the second variable without affecting the first list, the `copy` function makes a copy of the list before assigning it to the second variable. \n",
    "Changing the second list then doesn't change the first list."
   ]
  },
  {
   "cell_type": "code",
   "execution_count": 9,
   "id": "6211f494-f0bf-4fb8-86c1-cfe3b6a48d9d",
   "metadata": {
    "collapsed": true
   },
   "outputs": [
    {
     "name": "stdout",
     "output_type": "stream",
     "text": [
      "[5, 9, 1]\n",
      "after L[1] = 2, L is  [5, 2, 1]  and M is  [5, 9, 1]\n"
     ]
    }
   ],
   "source": [
    "L = [5, 9, 1]\n",
    "M = L.copy()\n",
    "print(M)\n",
    "L[1] = 2\n",
    "print(\"after L[1] = 2, L is \", L, \" and M is \", M)"
   ]
  },
  {
   "cell_type": "markdown",
   "id": "2869db64-6109-46ab-a791-d35fd142b64b",
   "metadata": {},
   "source": [
    "![list5.jpg](list5.jpg)"
   ]
  },
  {
   "cell_type": "markdown",
   "id": "df85ac78-596a-4268-bd4c-f23cfa54db04",
   "metadata": {},
   "source": [
    "## Slices\n",
    "Lists that are part of other lists are *slices* or *sublists*. \n",
    "The slice operator looks like *variable*`[`*start*`:`*end*`]` where the slice are all the items from the item in the *start* position to the item *just before* the *end* position. \n",
    "The slice operator does not affect the original list, only the list slice is given as the slice\n",
    "value.\n",
    "\n",
    "A slice that has no *start* starts from the beginning of the list. \n",
    "A slice that has no *end* goes to the end of the list. "
   ]
  },
  {
   "cell_type": "code",
   "execution_count": 10,
   "id": "85cc3ca0-884b-4d40-966c-4e389e21df2e",
   "metadata": {
    "collapsed": true
   },
   "outputs": [
    {
     "name": "stdout",
     "output_type": "stream",
     "text": [
      "L[0:1] is  [5]\n",
      "L[:3] is  [5, 19, 1]\n",
      "L[4:] is  [8, 21]\n"
     ]
    }
   ],
   "source": [
    "L = [5, 19, 1, 10, 8, 21]\n",
    "x = L[:1]\n",
    "print(\"L[0:1] is \", x)\n",
    "x = L[:3]\n",
    "print(\"L[:3] is \", x)\n",
    "x = L[4:]\n",
    "print(\"L[4:] is \", x)"
   ]
  },
  {
   "cell_type": "markdown",
   "id": "f0ce2de8-001b-4ba7-9aef-6af8c49ff276",
   "metadata": {
    "tags": []
   },
   "source": [
    "## `len` function\n",
    "The `len` function gives the value of the list length."
   ]
  },
  {
   "cell_type": "code",
   "execution_count": 12,
   "id": "f0744bc1-ee9b-40e9-a567-d102587fcc14",
   "metadata": {
    "collapsed": true
   },
   "outputs": [
    {
     "name": "stdout",
     "output_type": "stream",
     "text": [
      "len( [5, 9, 1] ) is  3\n"
     ]
    }
   ],
   "source": [
    "L = [5, 9, 1]\n",
    "x = len(L)\n",
    "print(\"len(\", L, \") is \", x)"
   ]
  },
  {
   "cell_type": "markdown",
   "id": "20b5f9bc-5af4-4237-8f4b-d6cb638574a1",
   "metadata": {},
   "source": [
    "## `append` function\n",
    "New items can be added at the end of the list with the `append` function."
   ]
  },
  {
   "cell_type": "code",
   "execution_count": 13,
   "id": "d66e56da-e4e9-43ab-91bd-d684e49b07a1",
   "metadata": {
    "collapsed": true
   },
   "outputs": [
    {
     "name": "stdout",
     "output_type": "stream",
     "text": [
      "after L.append(15), L is  [5, 9, 1, 15]\n"
     ]
    }
   ],
   "source": [
    "L = [5, 9, 1]\n",
    "L.append(15)\n",
    "print(\"after L.append(15), L is \", L)"
   ]
  },
  {
   "cell_type": "markdown",
   "id": "17d78244-20f1-45d2-8b04-8330a4219b18",
   "metadata": {},
   "source": [
    "When the `append` function is called for a list, \n",
    "the way it is called is *list*.`append(`*item*`)`. \n",
    "The list is still given to `append` as an argument even though it is not passed between `(` and `)`. \n",
    "When a list is given as an argument to a function, the pointer is given to the function.\n",
    "Those functions then can use the pointer to change the list,\n",
    "then the list will still be changed when the function is done. \n",
    "\n",
    "<img  src=\"list6.jpg\" width=\"400\">"
   ]
  },
  {
   "cell_type": "markdown",
   "id": "7b539f59-32cd-438d-8e16-b1696abdd300",
   "metadata": {},
   "source": [
    "## `insert` function\n",
    "Items can be added in the beginning or the middle of the list with the `insert` function. \n",
    "The position where the item is added is the first argument to `insert`, starting from 0, and the item to add is the second argument. \n",
    "All the items after the one added are moved down the list. "
   ]
  },
  {
   "cell_type": "code",
   "execution_count": 54,
   "id": "36eeeaae-fbf5-4855-9096-c8bd742e67d3",
   "metadata": {
    "collapsed": true
   },
   "outputs": [
    {
     "name": "stdout",
     "output_type": "stream",
     "text": [
      "after L.insert(2, 4), L is  [5, 9, 4, 1]\n"
     ]
    }
   ],
   "source": [
    "L = [5, 9, 1]\n",
    "L.insert(2, 4)\n",
    "print(\"after L.insert(2, 4), L is \", L)"
   ]
  },
  {
   "cell_type": "markdown",
   "id": "fdd45dbb-a724-4eda-b1e7-7b93df5ea4ac",
   "metadata": {},
   "source": [
    "This shows `L.insert(2, 4)`.\n",
    "\n",
    "<img  src=\"list7.jpg\" width=\"400\">"
   ]
  },
  {
   "cell_type": "code",
   "execution_count": 55,
   "id": "02a44c80-a6d2-4db1-8f16-8681d95ef3fa",
   "metadata": {
    "collapsed": true
   },
   "outputs": [
    {
     "name": "stdout",
     "output_type": "stream",
     "text": [
      "after L.insert(0, 7), L is  [7, 5, 9, 1]\n"
     ]
    }
   ],
   "source": [
    "L = [5, 9, 1]\n",
    "L.insert(0, 7)\n",
    "print(\"after L.insert(0, 7), L is \", L)"
   ]
  },
  {
   "cell_type": "markdown",
   "id": "c226404a-6a0e-4e59-9e89-f11480cf4c57",
   "metadata": {
    "tags": []
   },
   "source": [
    "This shows `L.insert(0, 7)`.\n",
    "\n",
    "<img src=\"list8.jpg\"  width=\"400\">"
   ]
  },
  {
   "cell_type": "markdown",
   "id": "c83f4364-1052-40b6-b75b-db1004137de1",
   "metadata": {},
   "source": [
    "## `pop` function\n",
    "An item at some position can be removed with the `pop` function. \n",
    "The position of the item to remove is the first argument to `pop`, starting from 0. \n",
    "All items after the one removed are moved up the list.\n",
    "The item removed is the value of `pop`."
   ]
  },
  {
   "cell_type": "code",
   "execution_count": 53,
   "id": "7a78ca82-72dd-4afb-82c9-53b567637542",
   "metadata": {
    "collapsed": true
   },
   "outputs": [
    {
     "name": "stdout",
     "output_type": "stream",
     "text": [
      "after L.pop(1), L is  [5, 1]  and the item removed is  9\n"
     ]
    }
   ],
   "source": [
    "L = [5, 9, 1]\n",
    "x = L.pop(1)\n",
    "print(\"after L.pop(1), L is \", L, \" and the item removed is \", x)"
   ]
  },
  {
   "cell_type": "markdown",
   "id": "7b4a81f6-8e33-40b3-9789-ba8db54a322f",
   "metadata": {},
   "source": [
    "This shows `L.pop(1)`, which gives the 9 removed as the value.\n",
    "\n",
    "<img src=\"list9.jpg\" width=\"400\">"
   ]
  },
  {
   "cell_type": "markdown",
   "id": "68aeab40-d8d2-4620-8cf0-e079d61aaada",
   "metadata": {},
   "source": [
    "## `remove` function\n",
    "The first item having some value can be removed from the with the `remove` function. \n",
    "The value of the item to remove is the first argument to `remove`. \n",
    "Only the first item having the value will be removed.\n",
    "All items after the one removed are moved up the list."
   ]
  },
  {
   "cell_type": "code",
   "execution_count": 52,
   "id": "f2601b7a-9fe0-4de1-b248-a18778948d04",
   "metadata": {
    "collapsed": true
   },
   "outputs": [
    {
     "name": "stdout",
     "output_type": "stream",
     "text": [
      "after L.remove(9), L is  [5, 1, 9]\n",
      "after L.remove(9) again, L is  [5, 1]\n"
     ]
    }
   ],
   "source": [
    "L = [5, 9, 1, 9]\n",
    "L.remove(9)\n",
    "print(\"after L.remove(9), L is \", L)\n",
    "L.remove(9)\n",
    "print(\"after L.remove(9) again, L is \", L)"
   ]
  },
  {
   "cell_type": "markdown",
   "id": "4d97f07a-f4a0-4a2f-9f80-7f1043cec01d",
   "metadata": {},
   "source": [
    "This shows calling `L.remove(9)` twice.\n",
    "\n",
    "<img src=\"list11.jpg\" width=\"400\">"
   ]
  },
  {
   "cell_type": "markdown",
   "id": "85683344-c7bb-44d5-877f-287438534099",
   "metadata": {
    "tags": []
   },
   "source": [
    "## `extend` function\n",
    "A list can be added to the end of a list with the `extend` function, like the `+` operator. \n",
    "The list to add at the end of the first list is the argument to `extend`."
   ]
  },
  {
   "cell_type": "code",
   "execution_count": 21,
   "id": "2e093787-8b9f-4bdb-b3b2-3c178cc66978",
   "metadata": {
    "collapsed": true
   },
   "outputs": [
    {
     "name": "stdout",
     "output_type": "stream",
     "text": [
      "after L.extend(M), L is  [5, 9, 1, 2, 4]\n"
     ]
    }
   ],
   "source": [
    "L = [5, 9, 1]\n",
    "M = [2, 4]\n",
    "L.extend(M)\n",
    "print(\"after L.extend(M), L is \", L)"
   ]
  },
  {
   "cell_type": "markdown",
   "id": "e3b5a770-6e46-4e5f-b785-b22837438a20",
   "metadata": {},
   "source": [
    "This shows `L.extend(M)`.\n",
    "\n",
    "<img  src=\"list10.jpg\" width=\"700\">"
   ]
  },
  {
   "cell_type": "markdown",
   "id": "831dd3b9-f74c-4b11-9157-2287c7e03a60",
   "metadata": {},
   "source": [
    "## `sum`, `min`, `max` functions\n",
    "\n",
    "Lists that are just numbers have functions to give the sum, minimum, and maximum. "
   ]
  },
  {
   "cell_type": "code",
   "execution_count": 48,
   "id": "ee831d4a-8b3f-4dd4-9dd3-634dabf2312f",
   "metadata": {
    "collapsed": true
   },
   "outputs": [
    {
     "name": "stdout",
     "output_type": "stream",
     "text": [
      "sum( [4, 1, 8, 2] ) =  15\n",
      "min( [4, 1, 8, 2] ) =  1\n",
      "max( [4, 1, 8, 2] ) =  8\n"
     ]
    }
   ],
   "source": [
    "L = [4, 1, 8, 2]\n",
    "print(\"sum(\", L, \") = \", sum(L))\n",
    "print(\"min(\", L, \") = \", min(L))\n",
    "print(\"max(\", L, \") = \", max(L))"
   ]
  },
  {
   "cell_type": "markdown",
   "id": "e23a7ed9-f60c-475a-b4d1-3e6c5eb48252",
   "metadata": {},
   "source": [
    "#### `sort` function\n",
    "Lists can be sorted with the `sort` function into increasing number or alphabetic order.\n",
    "This shows sorting a list of numbers."
   ]
  },
  {
   "cell_type": "code",
   "execution_count": 22,
   "id": "37d4fce6-9ac9-448a-8da6-0fd7f7ffd590",
   "metadata": {
    "collapsed": true
   },
   "outputs": [
    {
     "name": "stdout",
     "output_type": "stream",
     "text": [
      "after L.sort(), L =  [1, 2, 4, 8]\n"
     ]
    }
   ],
   "source": [
    "L = [4, 1, 8, 2]\n",
    "L.sort()\n",
    "print(\"after L.sort(), L = \", L)"
   ]
  },
  {
   "cell_type": "markdown",
   "id": "db0a981f-1295-4216-a1c4-3f3690d2930b",
   "metadata": {},
   "source": [
    "This shows `L` after `L.sort()`.\n",
    "\n",
    "<img  src=\"list12.jpg\" width=\"500\">"
   ]
  },
  {
   "cell_type": "markdown",
   "id": "a2d560c9-81e3-4959-9337-f224766694fb",
   "metadata": {},
   "source": [
    "This shows sorting a list of strings."
   ]
  },
  {
   "cell_type": "code",
   "execution_count": 45,
   "id": "8b4a16c9-ad59-42f3-8f61-86e18e642602",
   "metadata": {
    "collapsed": true
   },
   "outputs": [
    {
     "name": "stdout",
     "output_type": "stream",
     "text": [
      "after L.sort(), L =  ['cat', 'dog', 'horse', 'ox']\n"
     ]
    }
   ],
   "source": [
    "L = [\"horse\", \"cat\", \"ox\", \"dog\"]\n",
    "L.sort()\n",
    "print(\"after L.sort(), L = \", L)"
   ]
  },
  {
   "cell_type": "markdown",
   "id": "2b19ef63-fa96-4f16-8b00-6a8478093114",
   "metadata": {},
   "source": [
    "This shows `L` after `L.sort()`.\n",
    "\n",
    "<img  src=\"list13.jpg\" width=\"400\">"
   ]
  },
  {
   "cell_type": "markdown",
   "id": "f1f1c82e-2f2c-4667-9ff2-bc4d86aecf3d",
   "metadata": {},
   "source": [
    "## `reverse` function\n",
    "Lists items can be reversed with the `reverse` function."
   ]
  },
  {
   "cell_type": "code",
   "execution_count": 56,
   "id": "a5c90bfc-d613-409a-a637-1c318ce20417",
   "metadata": {
    "collapsed": true
   },
   "outputs": [
    {
     "name": "stdout",
     "output_type": "stream",
     "text": [
      "after L.reverse(), L is  [2, 8, 1, 4]\n"
     ]
    }
   ],
   "source": [
    "L = [4, 1, 8, 2]\n",
    "L.reverse()\n",
    "print(\"after L.reverse(), L is \", L)"
   ]
  },
  {
   "cell_type": "markdown",
   "id": "3c746e81-22d3-46a1-80ec-f0104aae6a47",
   "metadata": {},
   "source": [
    "This shows `L` after `L.reverse()`.\n",
    "\n",
    "<img src=\"reverse1.jpg\" width=\"400\">"
   ]
  },
  {
   "cell_type": "markdown",
   "id": "0010ffdf-550b-46b7-8307-f9d3e39797d1",
   "metadata": {},
   "source": [
    "## Lists from strings: `split` function\n",
    "Lists can be created from strings with the `split` function.\n",
    "Using `split` with no arguments splits a string at spaces.\n",
    "\n",
    "<img src=\"split1.jpg\" width=\"400\">"
   ]
  },
  {
   "cell_type": "code",
   "execution_count": 41,
   "id": "9d03c0e9-4b3d-4791-8b68-b5b687c63f31",
   "metadata": {
    "collapsed": true
   },
   "outputs": [
    {
     "name": "stdout",
     "output_type": "stream",
     "text": [
      "s.split(\",\") is  ['The cat in the hat']\n"
     ]
    }
   ],
   "source": [
    "s = \"The cat in the hat\"\n",
    "print('s.split(\",\") is ', s.split(\",\"))"
   ]
  },
  {
   "cell_type": "markdown",
   "id": "eeedcd35-d3d0-4f3c-8ff7-3c1b24b323ab",
   "metadata": {},
   "source": [
    "`split` can split strings separated by a particular string given as a second argument. "
   ]
  },
  {
   "cell_type": "code",
   "execution_count": 40,
   "id": "e6806ba6-8e93-4741-be8f-e604b319b3b2",
   "metadata": {
    "collapsed": true
   },
   "outputs": [
    {
     "name": "stdout",
     "output_type": "stream",
     "text": [
      "s.split(\",\") is  ['first', 'second', 'third']\n"
     ]
    }
   ],
   "source": [
    "s = \"first,second,third\"\n",
    "print('s.split(\",\") is ', s.split(\",\"))"
   ]
  },
  {
   "cell_type": "markdown",
   "id": "f939ab09-ac9f-44b4-bbf5-49bb3e38fe9e",
   "metadata": {},
   "source": [
    "## Strings from lists: `join` function\n",
    "Strings can be created from list items by joining the list items separated by a particular string."
   ]
  },
  {
   "cell_type": "code",
   "execution_count": 39,
   "id": "2a08cb59-f1ee-4c2e-ac64-6cb2098e75d1",
   "metadata": {
    "collapsed": true
   },
   "outputs": [
    {
     "name": "stdout",
     "output_type": "stream",
     "text": [
      "\" \".join( ['first', 'second', 'third'] ) is  first second third\n",
      "\"\".join( ['O', 'N', 'E'] ) is  ONE\n"
     ]
    }
   ],
   "source": [
    "L = [\"first\", \"second\", \"third\"]\n",
    "print('\" \".join(', L, \") is \", \" \".join(L))\n",
    "L = [\"O\", \"N\", \"E\"]\n",
    "print('\"\".join(', L, \") is \", \"\".join(L))"
   ]
  },
  {
   "cell_type": "markdown",
   "id": "fa5d678e-e220-4a8e-b713-02f5e1e753c2",
   "metadata": {},
   "source": [
    "This shows `\" \".join(L)`.\n",
    "\n",
    "<img src=\"join1.jpg\" width=\"400\">"
   ]
  }
 ],
 "metadata": {
  "kernelspec": {
   "display_name": "Python 3 (ipykernel)",
   "language": "python",
   "name": "python3"
  },
  "language_info": {
   "codemirror_mode": {
    "name": "ipython",
    "version": 3
   },
   "file_extension": ".py",
   "mimetype": "text/x-python",
   "name": "python",
   "nbconvert_exporter": "python",
   "pygments_lexer": "ipython3",
   "version": "3.11.5"
  }
 },
 "nbformat": 4,
 "nbformat_minor": 5
}
