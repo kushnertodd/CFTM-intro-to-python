{
 "cells": [
  {
   "cell_type": "markdown",
   "id": "7cbab922",
   "metadata": {},
   "source": [
    "# Background\n",
    "\n",
    "[Computers](#computers)  \n",
    "[Python](#python)  \n",
    "\n",
    "<a id=\"computers\"></a>\n",
    "## Computers\n",
    "\n",
    "Some problems can be abstracted to be represented by *data*, such as measures, counts, facts, or labels, provided a method can be created to sove problems using that data.\n",
    "Computers process data exceptionally faster and more accurately than humans.\n",
    "Programs encode methods to solve problems\n",
    "\n",
    "<a id=\"python\"></a>\n",
    "## Python\n",
    "Python is a programming language that simplifies writing programs.\n",
    "Python allows organizing data to make writing programs easier and writing instructions to process that data.\n"
   ]
  },
  {
   "cell_type": "code",
   "execution_count": null,
   "id": "610550cd",
   "metadata": {},
   "outputs": [],
   "source": []
  }
 ],
 "metadata": {
  "kernelspec": {
   "display_name": "Python 3 (ipykernel)",
   "language": "python",
   "name": "python3"
  },
  "language_info": {
   "codemirror_mode": {
    "name": "ipython",
    "version": 3
   },
   "file_extension": ".py",
   "mimetype": "text/x-python",
   "name": "python",
   "nbconvert_exporter": "python",
   "pygments_lexer": "ipython3",
   "version": "3.11.5"
  }
 },
 "nbformat": 4,
 "nbformat_minor": 5
}
