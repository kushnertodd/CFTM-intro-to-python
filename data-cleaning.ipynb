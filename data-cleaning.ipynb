{
 "cells": [
  {
   "cell_type": "markdown",
   "id": "5c1972f0-f796-4739-a904-935c9e5ca526",
   "metadata": {},
   "source": [
    "## Data Cleaning\n",
    "\n",
    "A common task in Data Science is cleaning raw data to make it usable for further analysis.\n",
    "Following are types of data that cleaning will correct or remove.\n",
    "\n",
    "- incorrectly formatted\n",
    "- duplicate fields or lines\n",
    "- inconsistent, non-standard, or mislabeled categories or classes \n",
    "- corrupted, invalid, inaccuate, irrelevant, outliers, or incomplete\n",
    "- has typos, misspellings, or syntax errors\n",
    "- missing codes, data, or fields\n"
   ]
  },
  {
   "cell_type": "markdown",
   "id": "f2ba2576-ab6a-42e1-b43e-ffa7e4eca9f3",
   "metadata": {},
   "source": [
    "### Removing duplicate lines in a file"
   ]
  },
  {
   "cell_type": "markdown",
   "id": "cfd9aa84-88f1-44f8-a01a-7656d4b9995d",
   "metadata": {},
   "source": [
    "A common task in data cleaning is removing duplicates in files. \n",
    "In this example we have a file with duplicate lines, and we want to remove the duplicates so we just have unique lines in the file. In this case we have a sample data file with some duplicate lines. \n",
    "Before removing duplicate lines, the file may need to be [*sorted*](#algorithms_sorting) first.\n",
    "The program idea is that we look at the *previous line* to decide if a line is a duplicate: \n",
    "- case 1: the previous line is the same, then the current line is a duplicate\n",
    "- case 2: the previous line is not the same, then the current line is new and should be kept (printed back out)\n",
    "\n",
    "We then see there are two more cases:\n",
    "- case 3: the first line in the file. There is no previous line, so the current line is new and should be kept.\n",
    "- case 4: we run out of lines in the file. There is no current line, so there is nothing we have to do.\n",
    "\n",
    "We can see in this case that:\n",
    "- the first line is A, line 0 (we always count from 0, this is case 3 so we print it\n",
    "- the second line, line 1, is B, this is case 2 so we print it\n",
    "- the third line, line 2, is B, this is case 1 and we ignore it\n",
    "- the fourth line, line 3, is C, this is case 2 so we print it\n",
    "- the fifth line, line 4, is D, this is case 2 so we print it\n",
    "- the sixth line, line 4, is D, this is case 1 so we ignore it"
   ]
  },
  {
   "cell_type": "markdown",
   "id": "e6aeee14-1e78-4037-8a76-930ce76fa0f2",
   "metadata": {},
   "source": [
    "![duplicate1.jpg](duplicate1.jpg)"
   ]
  },
  {
   "cell_type": "markdown",
   "id": "71686519-a5b6-41bf-a1ca-799e187c8d80",
   "metadata": {},
   "source": [
    "We can now write the program. `last` is the last line we saw. `first` tells us whether we are at the first line of the file, which is case 3. We read all the lines of the file, and don't need to do anything at the end, just close the file.\n",
    "\n",
    "Let's say the file `duplicates.txt` is this:\n",
    "```\n",
    "A\n",
    "B\n",
    "B\n",
    "C\n",
    "D\n",
    "D\n",
    "```\n",
    "This is the program. `strip` is used because the line actually has a `newline`, \"\\n\", at the end which we can ignore. \n",
    "The line beginning with `#` is a *comment*.\n",
    "It is for notes we make to about what the program is doing, it is ignored when the program runs.\n",
    "The first time we read a line, `first` is `True`, we have case 3 and we print the line.\n",
    "We use `elif` to test the line after the first is read and `first` is set to `False`.\n",
    "If the test is true, the line is different from the last and we have case 2, and we print the line.\n",
    "If the test is false, the line is the same as the last and we have case 1, and we ignore the line."
   ]
  },
  {
   "cell_type": "code",
   "execution_count": null,
   "id": "4979e62d-1584-41fd-a918-f92036620cc9",
   "metadata": {},
   "outputs": [],
   "source": [
    "first = True\n",
    "f = open(\"duplicates.txt\", \"r\")\n",
    "for line in f:\n",
    "    current = line.strip()\n",
    "    if first:\n",
    "        first = False\n",
    "        last = current\n",
    "        print(current)\n",
    "    elif current != last:\n",
    "        print(current)\n",
    "    # otherwise, if current == last it is a duplicate and we ignore it\n",
    "    last = current\n",
    "f.close()"
   ]
  },
  {
   "cell_type": "markdown",
   "id": "5db520f6-9b42-4e53-9a7d-465d40de2b3f",
   "metadata": {},
   "source": [
    "### Another way to remove duplicate lines\n",
    "\n",
    "If the purpose is to remove duplicates and the order of the lines do not matter, this is another way to remove duplicate lines. \n",
    "A dictionary has only unique keys.\n",
    "When a dictionary is first assigned with a key, a new entry is created.\n",
    "The second time the dictionary is assigned with the key, no new entry is created but the previous value is replaced.\n",
    "By using the line that is read as the key, they keys will only keep one copy of it.\n",
    "We can read the file, assign a dictionary entry with the line as the key with any value, and print the keys at the end.\n",
    "\n",
    "In this\n",
    "Let's say the file `duplicates.txt` is this:\n",
    "```\n",
    "D\n",
    "D\n",
    "A\n",
    "C\n",
    "B\n",
    "B\n",
    "```\n",
    "In this case the lines with the duplication removed come out in the same order, but that is not guaranteed. This is show as this.\n",
    "\n",
    "<img src=\"duplicate2.jpg\" width=\"600\">"
   ]
  },
  {
   "cell_type": "code",
   "execution_count": null,
   "id": "17d67b64-e7c2-4dd5-8fb7-6a06674c011c",
   "metadata": {},
   "outputs": [],
   "source": [
    "f = open(\"unordered-duplicates.txt\", \"r\")\n",
    "unique_lines = {}\n",
    "for line in f:\n",
    "    current = line.strip()\n",
    "    unique_lines[current] = 1\n",
    "f.close()\n",
    "print('unique lines:')\n",
    "for line in unique_lines.keys():\n",
    "    print(line)"
   ]
  },
  {
   "cell_type": "markdown",
   "id": "6066c191-b6ca-4028-ac47-4568c236cfd9",
   "metadata": {},
   "source": [
    "### Fixing inconsistent codes\n",
    "\n",
    "Another data cleaning task is replacing inconsistent spelling with one recognizable value.\n",
    "\"Not applicable\" may be used as \"NA\" or \"N/A\". \n",
    "\"Drive\" may be \"Dr.\" or \"Dr\".\n",
    "A dictionary can have the incorrect spelling as the key and the correct spelling as the value.\n",
    "\n",
    "Let's say the file `misspellings.txt` is this:\n",
    "```\n",
    "Smith,John,N/A,230 Overland Dr.\n",
    "Jones,Michael,NA,34 Blue Ridge Drive\n",
    "Lund,Mary,Not applicable,Main St\n",
    "```"
   ]
  },
  {
   "cell_type": "code",
   "execution_count": null,
   "id": "d1ca6bf7-15af-4e44-bddd-4d86760a4cf3",
   "metadata": {},
   "outputs": [],
   "source": [
    "misspellings = {\"N/A\": \"NA\", \"Not applicable\": \"NA\", \"Drive\": \"Dr\", \"Dr.\": \"Dr\"}\n",
    "f = open(\"misspellings.txt\", \"r\")\n",
    "for line in f:\n",
    "    current = line.strip()\n",
    "    for term in misspellings.keys():\n",
    "        current = current.replace(term, misspellings[term])\n",
    "    print(current)\n",
    "f.close()"
   ]
  }
 ],
 "metadata": {
  "kernelspec": {
   "display_name": "Python 3 (ipykernel)",
   "language": "python",
   "name": "python3"
  },
  "language_info": {
   "codemirror_mode": {
    "name": "ipython",
    "version": 3
   },
   "file_extension": ".py",
   "mimetype": "text/x-python",
   "name": "python",
   "nbconvert_exporter": "python",
   "pygments_lexer": "ipython3",
   "version": "3.11.5"
  }
 },
 "nbformat": 4,
 "nbformat_minor": 5
}
