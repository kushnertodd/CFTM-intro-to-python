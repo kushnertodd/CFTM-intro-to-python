{
 "cells": [
  {
   "cell_type": "code",
   "execution_count": null,
   "id": "7b42df93",
   "metadata": {},
   "outputs": [],
   "source": [
    "# Using Jupyter\n",
    "Jupyter is a web application that lets you write explanation and figures alongside program code that you can run inside a single *Notebook*, which allows you to run and test out program code. \n",
    "You can add your own explanations and notes that you can save and reload at your next session. \n",
    "You can perform and record experiments, and then you or others can rerun them at a later time. \n",
    "\n",
    "A notebook is a series of *cells*. There are two kinds of cells, *Markdown* and program code.\n",
    "There is a menu and toolbar that give you functions to run, add, modify, and delete cells. \n",
    "\n",
    "<img  src=\"menu1.jpg\">\n",
    "\n",
    "Select a cell by clicking on it.\n",
    "Clicking the <img src=\"plus1.jpg\"> icon will add an empty cell below the current cell.\n",
    "A new cell is initially a program code cell.\n",
    "Program code can go into cells like the one following.\n",
    "You run code in Jupyter by selecting the cell and pressing `Shift+Enter`, or selecting **Run Cell** \n",
    "in the **Cell** menu. You can also click the <img src=\"triangle1.jpg\" align=\"top\"> icon on the menu above.\n",
    "The result of running the code will appear below the cell.\n"
   ]
  },
  {
   "cell_type": "code",
   "execution_count": null,
   "id": "33ba5110",
   "metadata": {},
   "outputs": [],
   "source": [
    "print(\"Hello world\")"
   ]
  },
  {
   "cell_type": "markdown",
   "id": "cb43fd43",
   "metadata": {},
   "source": [
    "<table><tr>\n",
    "<td><img src=\"markdown1.jpg\" align=\"top\"><br></td>\n",
    "<td>\n",
    "Explanations like this and notes go in Markdown cells.\n",
    "To change a new cell to a Markdown cell, select <b>Markdown</b> from the <b>Markdown</b> menu. \n",
    "</td>\n",
    "</tr></table>\n",
    "\n",
    "Explanations and notes go in Markdown cells.\n",
    "To change a new cell to a Markdown cell, select **Markdown** from the **Markdown** menu.\n",
    "<br>\n",
    "<img src=\"markdown1.jpg\">\n",
    "\n",
    "Markdown lets you format explanation and note text. \n",
    "You can use punctuation like `#` to get headings,\n",
    "`*` to get italics and bold text, and `[]` and `()` to get web links.\n",
    "\n",
    "<table><tr>\n",
    "    <td>\n",
    "<code># You can add headings like this\n",
    "You can add *italics* or **bold** text.\n",
    "## There are sub headings\n",
    "You can include web links like this [Google](http://www.google.com).\n",
    "</code>\n",
    "    </td>\n",
    "    <td>\n",
    "<img src=\"markdown2.jpg\" width=\"300\">\n",
    "    </td>\n",
    "    </tr></table>\n",
    "    \n",
    "You press `Shift-Enter` to format a Markdown cell. \n",
    "Can can press `Enter` on a selected cell or double-click on a formtted Markdown cell to edit it.\n",
    "\n",
    "You can cut or copy the current cell with the <img src=\"cut1.jpg\" align=\"top\"> and <img src=\"copy1.jpg\" align=\"top\"> icons,\n",
    "or with  **Cut Cells** or **Copy Cells** from the **Edit** menu.\n",
    "You can paste a cell with the <img  src=\"paste1.jpg\" align=\"top\"> icon,\n",
    "or with **Paste Cells Below**, **Paste Cells Above**, or **Paste Cells and Replace** from the **Edit** menu.\n",
    "You can delete the current cell or cells with **Delete Cells** from the **Edit** menu.\n",
    "\n",
    "<img src=\"menu2.jpg\" width=\"300\">\n",
    "\n",
    "There are also keyboard shortcuts, so `X` cuts the current cell, `C` copies it, `V` pastes below it, and `D D` deletes the current cell.\n",
    "\n",
    "\n"
   ]
  },
  {
   "cell_type": "code",
   "execution_count": null,
   "id": "e136fb13",
   "metadata": {},
   "outputs": [],
   "source": []
  },
  {
   "cell_type": "markdown",
   "id": "a3722bab",
   "metadata": {},
   "source": []
  }
 ],
 "metadata": {
  "kernelspec": {
   "display_name": "Python 3 (ipykernel)",
   "language": "python",
   "name": "python3"
  },
  "language_info": {
   "codemirror_mode": {
    "name": "ipython",
    "version": 3
   },
   "file_extension": ".py",
   "mimetype": "text/x-python",
   "name": "python",
   "nbconvert_exporter": "python",
   "pygments_lexer": "ipython3",
   "version": "3.11.5"
  }
 },
 "nbformat": 4,
 "nbformat_minor": 5
}
