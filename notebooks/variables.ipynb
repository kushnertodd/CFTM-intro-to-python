{
 "cells": [
  {
   "cell_type": "markdown",
   "id": "58c94c69",
   "metadata": {},
   "source": [
    "## Variables\n",
    "*Variables* are symbols for values in a program.\n",
    "Unlike variables in mathematics, which are symbols for one value, programs can change the values in variables. \n",
    "Initially variables have no value. \n",
    "Running this program gives an error."
   ]
  },
  {
   "cell_type": "code",
   "execution_count": 5,
   "id": "f947a663",
   "metadata": {
    "collapsed": true
   },
   "outputs": [
    {
     "ename": "NameError",
     "evalue": "name 'n' is not defined",
     "output_type": "error",
     "traceback": [
      "\u001b[1;31m---------------------------------------------------------------------------\u001b[0m",
      "\u001b[1;31mNameError\u001b[0m                                 Traceback (most recent call last)",
      "Cell \u001b[1;32mIn[5], line 1\u001b[0m\n\u001b[1;32m----> 1\u001b[0m \u001b[38;5;28mprint\u001b[39m(n)\n",
      "\u001b[1;31mNameError\u001b[0m: name 'n' is not defined"
     ]
    }
   ],
   "source": [
    "print(n)"
   ]
  },
  {
   "cell_type": "markdown",
   "id": "ea307f73",
   "metadata": {},
   "source": [
    "This stores 5 in a variable named `x` and prints it out.\n",
    " `=` assigns 5 to `x`. "
   ]
  },
  {
   "cell_type": "code",
   "execution_count": 6,
   "id": "b959830f",
   "metadata": {
    "collapsed": true
   },
   "outputs": [
    {
     "data": {
      "text/plain": [
       "5"
      ]
     },
     "execution_count": 6,
     "metadata": {},
     "output_type": "execute_result"
    }
   ],
   "source": [
    "x = 5\n",
    "x"
   ]
  },
  {
   "cell_type": "markdown",
   "id": "d5f6b7de",
   "metadata": {},
   "source": [
    "The variable can be shown like this, where `x` is a name for a place in which the value 5 is stored.\n",
    "![image](variable1.jpg)"
   ]
  },
  {
   "cell_type": "markdown",
   "id": "90eeb57e",
   "metadata": {},
   "source": [
    "A variable can be assigned a  value and then be assigned  another  value to replace it. \n",
    "This stores 5 in the variable `x`, prints it out, then stores 7 in `x` and prints it out."
   ]
  },
  {
   "cell_type": "code",
   "execution_count": null,
   "id": "76aece95",
   "metadata": {},
   "outputs": [],
   "source": [
    "x = 5\n",
    "print(\"first x is \", x)\n",
    "x = 7\n",
    "print(\"then x is \", x)"
   ]
  },
  {
   "cell_type": "markdown",
   "id": "409944f3",
   "metadata": {},
   "source": [
    "This can be shown like this, where `x` stores the value 5, which is then replaced with the data 7.\n",
    "`→` means \"set to new value\".\n",
    "![variable2.jpg](variable2.jpg)\n",
    "A variable can also be assigned the value of another variable. \n",
    "This stores 5 in `x`, then assigns that value to the variable `y` and prints it out."
   ]
  },
  {
   "cell_type": "code",
   "execution_count": null,
   "id": "9b438088",
   "metadata": {},
   "outputs": [],
   "source": [
    "x = 5\n",
    "y = x\n",
    "print(\"x is \", x, \" and y is \", y)"
   ]
  },
  {
   "cell_type": "markdown",
   "id": "4cc447ea",
   "metadata": {},
   "source": [
    "![image](variable3.jpg)\n",
    "Variables can store many different types of data besides numbers.\n",
    "This stores a string in the variable `s` and prints it out."
   ]
  },
  {
   "cell_type": "code",
   "execution_count": null,
   "id": "fc018780",
   "metadata": {},
   "outputs": [],
   "source": [
    "s = \"Hello world\"\n",
    "print(\"s is \", s)"
   ]
  },
  {
   "cell_type": "markdown",
   "id": "981e62a7",
   "metadata": {},
   "source": [
    "### A note on variable names\n",
    "Variable names start with a [*lowercase*](#glossary_lowercase) letter, `a` to `z`, or an [*uppercase*](#glossary_uppercase) letter, `A` to `Z`, or `_`. They can have a `_`, letter, or number inside but no other punctuation in them. They can not have a number at the beginning. "
   ]
  },
  {
   "cell_type": "code",
   "execution_count": 1,
   "id": "25025f6a",
   "metadata": {
    "collapsed": true
   },
   "outputs": [
    {
     "name": "stdout",
     "output_type": "stream",
     "text": [
      "x is  2  x_y is  3 , _x is  4\n"
     ]
    }
   ],
   "source": [
    "x = 2\n",
    "x_y = 3\n",
    "_x = 4\n",
    "print(\"x is \", x, \" x_y is \", x_y, \", _x is \", _x)"
   ]
  },
  {
   "cell_type": "markdown",
   "id": "5bb3bb26",
   "metadata": {},
   "source": [
    "Capital and small letters matter, the variable name must always look exactly the same everywhere."
   ]
  },
  {
   "cell_type": "code",
   "execution_count": 2,
   "id": "eb9828bf",
   "metadata": {
    "collapsed": true
   },
   "outputs": [
    {
     "name": "stdout",
     "output_type": "stream",
     "text": [
      "X is  5  x is  6\n"
     ]
    }
   ],
   "source": [
    "X = 5\n",
    "x = 6\n",
    "print(\"X is \", X, \" x is \", x)"
   ]
  }
 ],
 "metadata": {
  "kernelspec": {
   "display_name": "Python 3 (ipykernel)",
   "language": "python",
   "name": "python3"
  },
  "language_info": {
   "codemirror_mode": {
    "name": "ipython",
    "version": 3
   },
   "file_extension": ".py",
   "mimetype": "text/x-python",
   "name": "python",
   "nbconvert_exporter": "python",
   "pygments_lexer": "ipython3",
   "version": "3.11.5"
  }
 },
 "nbformat": 4,
 "nbformat_minor": 5
}
