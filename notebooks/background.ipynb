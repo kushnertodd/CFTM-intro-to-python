{
 "cells": [
  {
   "cell_type": "markdown",
   "id": "7cbab922",
   "metadata": {},
   "source": [
    "# Background\n",
    "\n",
    "[Computers](#computers)  \n",
    "[Python](#python)  \n",
    "\n",
    "<a id=\"computers\"></a>\n",
    "# Computers\n",
    "\n",
    "Computers are suited to solve problems can be abstracted to be represented mathematically by *data*, such as measures, counts, facts, or labels, provided a method can be created to sove problems using that data.\n",
    "*Programs* encode methods to solve problems.\n",
    "\n",
    "Computers process data exceptionally faster and more accurately than humans.\n",
    "\n",
    "Certain problems are especially appropriate to solve using computers.\n",
    "\n",
    "## Finance \n",
    "\n",
    "Financial problems are are based on money, which is a mathematical abstraction of wealth.\n",
    "\n",
    "- Trillions of dollars of financial transactions occur each year with hardly a shred of paper exchanged.\n",
    "Much of the world's wealth exists only in computers.\n",
    "\n",
    "- Insurance largely involves statistical representations of risk.\n",
    "Accident data, lifespan measures based on health, and property loss are analyzed to estimate appropriate insurance costs.\n",
    "\n",
    "- Income and cost of living estimates are used to measure economic health.\n",
    "\n",
    "## Communications\n",
    "\n",
    "Phone, image, and Internet data are transferred constantly.\n",
    "Computers store and route information between destinations.\n",
    "Data communications has transformed life.\n",
    "\n",
    "<a id=\"python\"></a>\n",
    "# Python\n",
    "Python is a programming language that simplifies writing programs.\n",
    "Python allows organizing data to make writing programs easier and writing instructions to process that data.\n",
    "It has several advantages over other programming languages.\n",
    "- It is easier to learn than most programming languages.\n",
    "- It is a widespread language, available on almost all types of computers.\n",
    "- It has wide support for many common problems, and resources to learn how to solve them.\n",
    "- It is easier to run and to develop programs than many languages.\n",
    "\n",
    "<a id=\"mathematical-basics\"></a>\n",
    "# Mathematical basics\n",
    "You must understand various mathematical concepts to program.\n",
    "These sections include some programming specific information you may not have seen,\n",
    "you might take a look even if you are familiar with them.\n",
    "These include:\n",
    "\n",
    "|Concept |Description |\n",
    "|:- |:- |\n",
    "|[Arithmetic](./arithmetic.ipynb) |Basic operations and properties of numbers |\n",
    "|[Algebra](./algebra.ipynb) |Solves problems using mathematical expressions |\n",
    "|[Number Systems](./number-systems.ipynb)|Representing numbers as numerals |"
   ]
  },
  {
   "cell_type": "code",
   "execution_count": null,
   "id": "610550cd",
   "metadata": {},
   "outputs": [],
   "source": []
  }
 ],
 "metadata": {
  "kernelspec": {
   "display_name": "Python 3 (ipykernel)",
   "language": "python",
   "name": "python3"
  },
  "language_info": {
   "codemirror_mode": {
    "name": "ipython",
    "version": 3
   },
   "file_extension": ".py",
   "mimetype": "text/x-python",
   "name": "python",
   "nbconvert_exporter": "python",
   "pygments_lexer": "ipython3",
   "version": "3.11.5"
  }
 },
 "nbformat": 4,
 "nbformat_minor": 5
}
