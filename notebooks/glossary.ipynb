{
 "cells": [
  {
   "cell_type": "markdown",
   "id": "ab297f56-d61d-41fa-befe-1a07477de54c",
   "metadata": {},
   "source": [
    "# Glossary"
   ]
  },
  {
   "cell_type": "markdown",
   "id": "1bac5030-7b67-4276-8cb5-50d5bcd9ea73",
   "metadata": {},
   "source": [
    "<a name=\"glossary_algorithm\"></a>*Algorithms* are general designs for common program tasks, such as organizing, searching for, or transforming data."
   ]
  },
  {
   "cell_type": "markdown",
   "id": "51230c18-50fe-4dd9-a490-f6d61701e781",
   "metadata": {},
   "source": [
    "<a name=\"glossary_data\"></a>*Data* are terms, facts, measurements, or statistics that when processed become *information*."
   ]
  },
  {
   "cell_type": "markdown",
   "id": "273df392-480a-472b-9156-0e5b7569656e",
   "metadata": {},
   "source": [
    "<a name=\"glossary_cpu\"></a>*CPU* is the computer *central processing unit* that runs low-level machine instructions."
   ]
  },
  {
   "cell_type": "markdown",
   "id": "a1f6b8fa-081c-4638-ba50-657a7d3b2333",
   "metadata": {},
   "source": [
    "<a name=\"glossary_database\"></a>*Databases* hold data much like text files,\n",
    "except that databases can hold types of data other than text, such as images. \n",
    "Databases also usually can read records based on the data in them,\n",
    "such as names, dates, or any other part of the record. \n",
    "These are called *keys*."
   ]
  },
  {
   "cell_type": "markdown",
   "id": "4fd82209-251e-44fd-bf11-24a53c7852fa",
   "metadata": {
    "tags": []
   },
   "source": [
    "<a name=\"glossary_information\"></a>*Information* is data that is preprocessed, organized, analyzed, and interpreted."
   ]
  },
  {
   "cell_type": "markdown",
   "id": "59c8b29f-7f15-42a1-9ed1-56f1de467a67",
   "metadata": {},
   "source": [
    "<a name=\"glossary_web_lowercase\"></a>*Lowercase* letters are characters from `a` to `z`. "
   ]
  },
  {
   "cell_type": "markdown",
   "id": "d158d0f6-fcad-434e-90e4-5a4e0dcdf720",
   "metadata": {},
   "source": [
    "<a name=\"glossary_newline\"></a>*Newline* is a character that is not visible, but causes the printing to start on a new line."
   ]
  },
  {
   "cell_type": "markdown",
   "id": "5f7abd72-fa05-4e2f-99ef-33b0f8adcbc0",
   "metadata": {},
   "source": [
    "<a name=\"glossary_text\"></a>*Text* is letters, numbers, and punctuation much as you would type on a keyboard. Text may include European letters like &ouml;, &eacute;, &icirc; and &ntilde;.  "
   ]
  },
  {
   "cell_type": "markdown",
   "id": "636bf6c8-2c66-4c84-bac9-6ff146e0e9e1",
   "metadata": {},
   "source": [
    "<a name=\"glossary_web_uppercase\"></a>*Uppercase* letters are characters from `A` to `Z`. "
   ]
  },
  {
   "cell_type": "markdown",
   "id": "d37b2360-b610-4f01-8cd2-fe3879e6954f",
   "metadata": {},
   "source": [
    "<a name=\"glossary_web_browser\"></a>A *web browser* is a program to navigate the Internet, such as Chrome, Edge, Firefox, or Safari."
   ]
  }
 ],
 "metadata": {
  "kernelspec": {
   "display_name": "Python 3 (ipykernel)",
   "language": "python",
   "name": "python3"
  },
  "language_info": {
   "codemirror_mode": {
    "name": "ipython",
    "version": 3
   },
   "file_extension": ".py",
   "mimetype": "text/x-python",
   "name": "python",
   "nbconvert_exporter": "python",
   "pygments_lexer": "ipython3",
   "version": "3.11.5"
  }
 },
 "nbformat": 4,
 "nbformat_minor": 5
}
