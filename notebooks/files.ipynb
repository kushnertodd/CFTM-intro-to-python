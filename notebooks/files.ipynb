{
 "cells": [
  {
   "cell_type": "markdown",
   "id": "1c074c43-ef1c-40b6-b263-aa683f72fc3c",
   "metadata": {},
   "source": [
    "## Files\n",
    "Files hold data that programs use.\n",
    "- Programs can read data from files.\n",
    "- Programs can write data to files.\n",
    "- Programs can add data to files that already are there.\n",
    "A file can be treated like a list by looping through it, which will execute the code for each line in that file.\n",
    "\n",
    "Each line will have the newline (\"\\n\") at the end, which usually should be strip()-ed out.\n",
    "\n",
    "### `Open` and `Close` functions\n",
    "The `open` function gets a program ready to read or write a file.\n",
    "- `open(`*file-name*`)` gets the program ready to read a file.\n",
    "- `open(`*file-name*`, 'w')` gets the program ready to write a file.\n",
    "- `open(`*file-name*`, 'a')` gets the program ready to add to a file that already exists.\n",
    "\n",
    "`open` returns a *file descriptor* used to read or write to the file. \n",
    "The `close` function is used complete reading or writing to a file descriptor.\n",
    "\n",
    "`files.txt` contains these lines.\n",
    "​\n",
    "```\n",
    "05/20/2021 $20.11 Office supplies\n",
    "12/01/2021 $123.11 Desk chair\n",
    "06/14/2021 $50.82 Telephone bill\n",
    "```\n",
    "\n",
    "The variable names `f`, `g`, and so on will be used for file descriptors."
   ]
  },
  {
   "cell_type": "markdown",
   "id": "01eccd53",
   "metadata": {},
   "source": [
    "## Reading data from files\n",
    "`in` in a `for` loop can read lines from a file."
   ]
  },
  {
   "cell_type": "code",
   "execution_count": null,
   "id": "dc51ed2d-521f-4182-a318-e6ee9a10f030",
   "metadata": {},
   "outputs": [],
   "source": [
    "f = open(\"file.txt\", \"r\")\n",
    "for s in f:\n",
    "  print(s.strip())\n",
    "f.close()"
   ]
  }
 ],
 "metadata": {
  "kernelspec": {
   "display_name": "Python 3 (ipykernel)",
   "language": "python",
   "name": "python3"
  },
  "language_info": {
   "codemirror_mode": {
    "name": "ipython",
    "version": 3
   },
   "file_extension": ".py",
   "mimetype": "text/x-python",
   "name": "python",
   "nbconvert_exporter": "python",
   "pygments_lexer": "ipython3",
   "version": "3.11.5"
  }
 },
 "nbformat": 4,
 "nbformat_minor": 5
}
