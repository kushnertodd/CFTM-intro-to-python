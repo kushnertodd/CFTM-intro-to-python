{
 "cells": [
  {
   "cell_type": "markdown",
   "id": "97e0464e-e51c-4a4e-b638-e4ed405d36f4",
   "metadata": {},
   "source": [
    "# Instruction control\n",
    "\n",
    "Programs are composed of *instructions*, that generally are evaluated in order as they appear in programs.\n",
    "Programs may not want to run instructions just in the order they are given. \n",
    "The power of computers is to run instructions under control of logic, and to repeat instructions many times.\n",
    "Instructions can be run outside the usual order in a number of ways.\n",
    "- Only if values are true or false.\n",
    "- Repeatedly under control of logic.\n",
    "- For each item in a group. \n",
    "\n",
    "Examples are `if`, `while`, and `for` statements.\n",
    "\n",
    "[If statements](#if-statements)  \n",
    "[Conditions](#conditions)  \n",
    "[else statements](#else-statements)  \n",
    "[elif statements](#elif-statements)  \n",
    "[while loop](#while-loop)  \n",
    "[for loop](#for-loop)  \n",
    "[Range function](#range-function)  \n",
    "\n",
    "\n",
    "<a id=\"if-statements\"></a>\n",
    "## `If` statements\n",
    "An `if` statement can run instructions if something is true.\n",
    "An `if` statement looks like:\n",
    "\n",
    "\n",
    "`if` *condition*`:` \\\n",
    " &nbsp;&nbsp;&nbsp;&nbsp;*some instruction* \\\n",
    " &nbsp;&nbsp;&nbsp;&nbsp;*another instruction* \\\n",
    " &nbsp;&nbsp;&nbsp;&nbsp;*and more...* \\\n",
    "*instruction run after previous instructions*\n",
    "\n",
    "<img src=\"if3.jpg\" width=\"400\">\n",
    "\n",
    "An `if` statment tests a *condition*, like `x < 5`, and if true runs the indented instructions after it. \n",
    "The next un-indented instruction is run whether or not the `if` *condition* is true. \n",
    "The indents have to be one or more spaces, and must be the same for each instruction. \n",
    "\n",
    "In this example, the first test prints whether an input is over 3.  \n",
    "The second test prints whether the input is less than 2.   \n",
    "If the input is exactly 2, no line is printed."
   ]
  },
  {
   "cell_type": "code",
   "execution_count": 3,
   "id": "bfb6358a-767d-495f-95aa-2e9042e56565",
   "metadata": {
    "collapsed": true
   },
   "outputs": [
    {
     "name": "stdout",
     "output_type": "stream",
     "text": [
      "number to test: 2\n",
      "after x tests\n"
     ]
    }
   ],
   "source": [
    "x = int(input(\"number to test: \"))\n",
    "if x > 3:\n",
    "    print(\"x is more than 3\")\n",
    "if x < 2:\n",
    "    print(\"x is less than 2\")"
   ]
  },
  {
   "cell_type": "markdown",
   "id": "838f8eed-5cc9-441b-94e7-9fc4b8055fe8",
   "metadata": {},
   "source": [
    "<a id=\"conditions\"></a>\n",
    "## Conditions\n",
    "Tests for `if` statements may use different operators or functions. An operator for a condition might be `>` in `x > 3`. "
   ]
  },
  {
   "cell_type": "code",
   "execution_count": 8,
   "id": "0fc8b84b-0cda-4925-a727-9283c0a50961",
   "metadata": {
    "collapsed": true
   },
   "outputs": [
    {
     "name": "stdout",
     "output_type": "stream",
     "text": [
      "x is > 3\n"
     ]
    }
   ],
   "source": [
    "x = 5\n",
    "if x > 3:\n",
    "    print(\"x is > 3\")"
   ]
  },
  {
   "cell_type": "markdown",
   "id": "f72a16e1-9dc3-4d9a-9ee7-c5b1073b48e1",
   "metadata": {},
   "source": [
    "In other cases a function might be used in the condition. "
   ]
  },
  {
   "cell_type": "code",
   "execution_count": 9,
   "id": "e8dd991b-2b8f-404d-a81f-90ab1a9ef9f3",
   "metadata": {
    "collapsed": true
   },
   "outputs": [
    {
     "name": "stdout",
     "output_type": "stream",
     "text": [
      "len(s) is > 3\n"
     ]
    }
   ],
   "source": [
    "s = \"hello\"\n",
    "if len(s) > 3:\n",
    "    print(\"len(s) is > 3\")"
   ]
  },
  {
   "cell_type": "markdown",
   "id": "4f151f35",
   "metadata": {},
   "source": [
    "These are available numeric operators.\n",
    "\n",
    "|operator |description\n",
    "|:- |:-\n",
    "|== |equal to\n",
    "|!= |not equal to\n",
    "|> |greater than\n",
    "|>= |greater than or equal to\n",
    "|< |less than\n",
    "|<= |less than or equal\n",
    "\n",
    "Note that the test for equal values uses `==`, to avoid confusion with `=` that assigns values to variables. \n"
   ]
  },
  {
   "cell_type": "markdown",
   "id": "32e2a286",
   "metadata": {},
   "source": [
    "`==` tests if numbers are the same."
   ]
  },
  {
   "cell_type": "code",
   "execution_count": 13,
   "id": "fc9b3016",
   "metadata": {
    "collapsed": true
   },
   "outputs": [
    {
     "name": "stdout",
     "output_type": "stream",
     "text": [
      "type a number to test:3\n",
      "3  is 3\n"
     ]
    }
   ],
   "source": [
    "s = input(\"type a number to test: \")\n",
    "x = int(s)\n",
    "if x == 3: \n",
    "    print(x, \" is 3\")"
   ]
  },
  {
   "cell_type": "markdown",
   "id": "ec5976b7",
   "metadata": {},
   "source": [
    "`!=` tests if numbers are not equal."
   ]
  },
  {
   "cell_type": "code",
   "execution_count": null,
   "id": "efa217bb",
   "metadata": {},
   "outputs": [],
   "source": [
    "s = input(\"type a number to test: \")\n",
    "x = int(s)\n",
    "if x != 3: \n",
    "    print(x, \" is not 3\")"
   ]
  },
  {
   "cell_type": "raw",
   "id": "17e02923",
   "metadata": {},
   "source": [
    "`>` tests if a number is greater than another."
   ]
  },
  {
   "cell_type": "code",
   "execution_count": 14,
   "id": "262c5e75",
   "metadata": {
    "collapsed": true
   },
   "outputs": [
    {
     "name": "stdout",
     "output_type": "stream",
     "text": [
      "type a number to test:3\n"
     ]
    }
   ],
   "source": [
    "s = input(\"type a number to test: \")\n",
    "x = int(s)\n",
    "if x > 3: \n",
    "    print(x, \" is greater than 3\")"
   ]
  },
  {
   "cell_type": "markdown",
   "id": "79f8a13c",
   "metadata": {},
   "source": [
    "`<` tests if a number is less than another."
   ]
  },
  {
   "cell_type": "code",
   "execution_count": null,
   "id": "8b846026",
   "metadata": {
    "collapsed": true
   },
   "outputs": [],
   "source": [
    "s = input(\"type a number to test:\")\n",
    "x = int(s)\n",
    "if x >= 3: \n",
    "    print(x, \" is greater than or equal to 3\")"
   ]
  },
  {
   "cell_type": "markdown",
   "id": "0e01b644",
   "metadata": {},
   "source": [
    "`>=` tests if a number is the same or greater than another."
   ]
  },
  {
   "cell_type": "code",
   "execution_count": null,
   "id": "57bf37d1",
   "metadata": {},
   "outputs": [],
   "source": [
    "s = input(\"type a number to test: \")\n",
    "x = int(s)\n",
    "if x < 3: \n",
    "    print(x, \" is less than 3\")"
   ]
  },
  {
   "cell_type": "markdown",
   "id": "428c2d71",
   "metadata": {},
   "source": [
    "`<=` tests if a number is the same or less than another."
   ]
  },
  {
   "cell_type": "code",
   "execution_count": null,
   "id": "8574e452",
   "metadata": {},
   "outputs": [],
   "source": [
    "s = input(\"type a number to test: \")\n",
    "x = int(s)\n",
    "if x <= 3: \n",
    "    print(x, \" is less than or equal to 3\")"
   ]
  },
  {
   "cell_type": "markdown",
   "id": "e94607ad-54d5-4873-a988-2e4cfa672cdf",
   "metadata": {},
   "source": [
    "#### Combining conditions\n",
    "Sometimes a condition might want to include more than one test. \n",
    "An example is testing whether a number is between two values. \n",
    "The `and` operator can test two conditions together.\n",
    "This test prints if a number is between 2 and 6 and between 5 and 9, or prints nothing otherwise."
   ]
  },
  {
   "cell_type": "code",
   "execution_count": 6,
   "id": "c8a06a28-0e8b-4cc9-8b4d-12fedcfbaf99",
   "metadata": {
    "collapsed": true
   },
   "outputs": [
    {
     "name": "stdout",
     "output_type": "stream",
     "text": [
      "number to test:6\n",
      "6  is between 5 and 9\n"
     ]
    }
   ],
   "source": [
    "x = int(input(\"number to test: \"))\n",
    "if x > 2 and x < 6:\n",
    "    print(x, \" is between 2 and 6\")\n",
    "if x > 5 and x < 9:\n",
    "    print(x, \" is between 5 and 9\")"
   ]
  },
  {
   "cell_type": "markdown",
   "id": "b6814cc8-03f8-45a6-bcb4-e39f24aa1f06",
   "metadata": {},
   "source": [
    "The `or` operator either of two tests. \n",
    "This tests whether a number is less than 2 or more than 6."
   ]
  },
  {
   "cell_type": "code",
   "execution_count": 6,
   "id": "6243fb69-efec-4937-912e-fbb566e64eac",
   "metadata": {
    "collapsed": true
   },
   "outputs": [
    {
     "name": "stdout",
     "output_type": "stream",
     "text": [
      "4 is more than 2 or less than 6\n",
      "4 is more than 5 or less than 9\n"
     ]
    }
   ],
   "source": [
    "x = int(input(\"number to test: \"))\n",
    "if x < 2 or x > 6:\n",
    "    print(x, \" is less than 2 or greater than 6\")"
   ]
  },
  {
   "cell_type": "markdown",
   "id": "76f82c02-b201-43de-9c58-4bcdcd207685",
   "metadata": {},
   "source": [
    "The `not` operator can test whether a condition is false."
   ]
  },
  {
   "cell_type": "code",
   "execution_count": 9,
   "id": "c1f0735e-ffc4-4355-ba45-ee074545fb66",
   "metadata": {
    "collapsed": true
   },
   "outputs": [
    {
     "name": "stdout",
     "output_type": "stream",
     "text": [
      "number to test:0\n"
     ]
    }
   ],
   "source": [
    "x = int(input(\"number to test: \"))\n",
    "if x > 2:\n",
    "    print(x, \" is greater than 2\")\n",
    "if not x < 1:\n",
    "    print(x, \" is not less than 1\")"
   ]
  },
  {
   "cell_type": "markdown",
   "id": "d75bcc73-458a-4383-87d2-3c62bad25fa2",
   "metadata": {},
   "source": [
    "#### Tests with strings\n",
    "The `==` operator can test whether strings are the same. "
   ]
  },
  {
   "cell_type": "code",
   "execution_count": null,
   "id": "afb77bc2-262a-4fdb-a551-10b6f6ed6b6f",
   "metadata": {},
   "outputs": [],
   "source": [
    "s = input('type a string to test against \"test\": ')\n",
    "t = \"test\"\n",
    "if s == t: \n",
    "    print(s, \" is \", t)"
   ]
  },
  {
   "cell_type": "markdown",
   "id": "038d3a47-ef20-4040-bcdd-c001e91c98ff",
   "metadata": {},
   "source": [
    "The `!=` operator can test whether strings are different."
   ]
  },
  {
   "cell_type": "code",
   "execution_count": null,
   "id": "ed7ae036-514a-4a93-9505-13890c1a2c35",
   "metadata": {},
   "outputs": [],
   "source": [
    "s = input('type a string to test against \"test\": ')\n",
    "t = \"test\"\n",
    "if s != t: \n",
    "    print(s, \" is not \", t)    "
   ]
  },
  {
   "cell_type": "markdown",
   "id": "10406096-fef6-46e4-bc7c-9fc1f16e81fe",
   "metadata": {},
   "source": [
    "The `in` operator can test whether a string is part of another."
   ]
  },
  {
   "cell_type": "code",
   "execution_count": null,
   "id": "7c1fc1fd-55d0-40b2-b143-07986c962191",
   "metadata": {},
   "outputs": [],
   "source": [
    "s = input('type a string to test against \"test\": ')\n",
    "t = \"test\"\n",
    "if t in s: \n",
    "    print(s, \" is part of \", t)    "
   ]
  },
  {
   "cell_type": "markdown",
   "id": "31f512f9-59c3-4da3-8748-72be4c66e515",
   "metadata": {},
   "source": [
    "There a number of tests for the types of characters in a string using functions.\n",
    "`isalpha(`*string*`)` tests whether all characters in a string are letters between \"a\" and \"z\" or between \"A\" and \"Z\"."
   ]
  },
  {
   "cell_type": "code",
   "execution_count": null,
   "id": "2f7723a1-2408-43c4-a277-ca7d6d5c4880",
   "metadata": {},
   "outputs": [],
   "source": [
    "s = input(\"type a string to test: \")\n",
    "if s.isalpha(): \n",
    "    print(s, \" has all letters\")"
   ]
  },
  {
   "cell_type": "markdown",
   "id": "80832c5e-8e14-4584-be3c-ed24ab4c427a",
   "metadata": {},
   "source": [
    "`isdigit(`*string*`)` tests whether all characters in a string are numbers."
   ]
  },
  {
   "cell_type": "code",
   "execution_count": null,
   "id": "25ead186-9abb-4bca-a162-2ea339ee5af5",
   "metadata": {},
   "outputs": [],
   "source": [
    "s = input(\"type a string to test: \")\n",
    "if s.isdigit(): \n",
    "    print(s, \" has all digits')"
   ]
  },
  {
   "cell_type": "markdown",
   "id": "4cb5e3f9-0a81-4963-8c2e-4100510abf29",
   "metadata": {},
   "source": [
    "`isalnum(`*string*`)` tests whether all characters in a string are numbers or letters."
   ]
  },
  {
   "cell_type": "code",
   "execution_count": null,
   "id": "cd595f10-1341-4beb-a7b5-13f6c08d276a",
   "metadata": {},
   "outputs": [],
   "source": [
    "s = input(\"type a string to test: \")\n",
    "if s.isalnum(): \n",
    "    print(s, \" has all numbers or letters')"
   ]
  },
  {
   "cell_type": "markdown",
   "id": "6b0cb2ba-2172-43d6-a49c-4014f9c629b9",
   "metadata": {},
   "source": [
    "`isspace(`*string*`)` tests whether all characters in a string are spaces ."
   ]
  },
  {
   "cell_type": "code",
   "execution_count": null,
   "id": "8f84f4c5-0e86-45aa-92ae-7165512bfbd9",
   "metadata": {},
   "outputs": [],
   "source": [
    "s = input(\"type a string to test: \")\n",
    "if s.isspace(): \n",
    "    print(s, \" has all spaces\")"
   ]
  },
  {
   "cell_type": "markdown",
   "id": "6bff7573-3e64-491d-9ffc-6faba3b98634",
   "metadata": {},
   "source": [
    "#### Tests with lists\n",
    "The `in` operator tests if an item is in a list."
   ]
  },
  {
   "cell_type": "code",
   "execution_count": 15,
   "id": "82a288ec-83c8-415f-a3c7-09057a2c5289",
   "metadata": {
    "collapsed": true
   },
   "outputs": [
    {
     "name": "stdout",
     "output_type": "stream",
     "text": [
      "3 is in  [1, 3, 9]\n"
     ]
    }
   ],
   "source": [
    "L = [1, 3, 9]\n",
    "if 3 in L:\n",
    "    print(\"3 is in \", L)"
   ]
  },
  {
   "cell_type": "markdown",
   "id": "7560e898-8890-4463-830b-c9bd93b7763b",
   "metadata": {},
   "source": [
    "## Tests with dictionary\n",
    "The `in` operator tests if a key is in a dictionary."
   ]
  },
  {
   "cell_type": "code",
   "execution_count": 16,
   "id": "8943a27a-46ff-45b2-9cfd-35283d0d4ccb",
   "metadata": {
    "collapsed": true
   },
   "outputs": [
    {
     "name": "stdout",
     "output_type": "stream",
     "text": [
      "\"sky\" is in  {'sky': 'blue', 'leaf': 'green'}\n"
     ]
    }
   ],
   "source": [
    "D = {\"sky\": \"blue\", \"leaf\": \"green\"}\n",
    "if \"sky\" in D:\n",
    "    print('\"sky\" is in ', D)"
   ]
  },
  {
   "cell_type": "markdown",
   "id": "d5b88480-039b-43eb-b8c1-07734875e75b",
   "metadata": {
    "tags": []
   },
   "source": [
    "<a id=\"else-statements\"></a>\n",
    "## `else` statements\n",
    "\n",
    "You can test both whether a condition is true or false in one `if` statement with `else`. \n",
    "The instructions after the `if` are run if the condition is true and the instructions after `else` are run if the condition is not true.\n",
    "\n",
    "`if` *condition`:`\\\n",
    "&nbsp;&nbsp;&nbsp;&nbsp;*instruction*\\\n",
    "&nbsp;&nbsp;&nbsp;&nbsp;*instruction*\\\n",
    "`else:`\\\n",
    "&nbsp;&nbsp;&nbsp;&nbsp;*instruction*\\\n",
    "&nbsp;&nbsp;&nbsp;&nbsp;*instruction*\n",
    "\n",
    "<img  src=\"if1.jpg\" width=\"500\">"
   ]
  },
  {
   "cell_type": "code",
   "execution_count": null,
   "id": "f3c94fb0-dc99-4d69-9843-7b41840a959c",
   "metadata": {
    "collapsed": true
   },
   "outputs": [],
   "source": [
    "s = input(\"type a string to test: \")\n",
    "if s.isalpha(): \n",
    "    print(\"isalpha(\", s, \") are all letters\")\n",
    "else: \n",
    "    print(\"isalpha(\", s, \") is not all letters\")    "
   ]
  },
  {
   "cell_type": "markdown",
   "id": "65cbdeef-462c-4a0a-9324-145503dcbf87",
   "metadata": {},
   "source": [
    "<a id=\"elif-statements\"></a>\n",
    "## `elif` statements\n",
    "You can test a number of conditions in one `if` statement with `elif`. \n",
    "`elif` lets you test one condition after another. \n",
    "The instructions after the `if` are run if the condition is true and runs the instructions after the first `elif` when that condition is true. \n",
    "There can be an `else` at the end that runs if none of the conditions are true.\n",
    "\n",
    "`if` *condition*`:`\\\n",
    "&nbsp;&nbsp;&nbsp;&nbsp;*instruction*\\\n",
    "&nbsp;&nbsp;&nbsp;&nbsp;*instruction*\\\n",
    "`elif` *condition*`:`\\\n",
    "&nbsp;&nbsp;&nbsp;&nbsp;*instruction*\\\n",
    "&nbsp;&nbsp;&nbsp;&nbsp;*instruction*\\\n",
    "`elif` *condition*`:`\\\n",
    "&nbsp;&nbsp;&nbsp;&nbsp;*instruction*\\\n",
    "&nbsp;&nbsp;&nbsp;&nbsp;*instruction*\\\n",
    "`else:`\\\n",
    "&nbsp;&nbsp;&nbsp;&nbsp;*instruction*\\\n",
    "&nbsp;&nbsp;&nbsp;&nbsp;*instruction*\n",
    "\n",
    "<img src=\"if2.jpg\" width=\"600\">"
   ]
  },
  {
   "cell_type": "code",
   "execution_count": null,
   "id": "cbe2fa0a-643b-47dc-81c1-451fa306058b",
   "metadata": {},
   "outputs": [],
   "source": [
    "s = input(\"type a number to test: \")\n",
    "x = int(s)\n",
    "if x > 9: \n",
    "    print(\"{x} is greater than 9\")\n",
    "elif x >= 3: \n",
    "    print(\"{x} is between 3 and 9\")\n",
    "else: \n",
    "    print(\"{x} is less than 3\")"
   ]
  },
  {
   "cell_type": "markdown",
   "id": "b46fce5d-0c1b-4de6-9d5f-845fb1d5e93d",
   "metadata": {},
   "source": [
    "<a id=\"while-loop\"></a>\n",
    "## `while` loop\n",
    "`if` statements let you run some instructions one time if some condition is true. \n",
    "`while` statements let you run some instructions multiple times until a condition is false. \n",
    "A while loop looks like:\n",
    "\n",
    "`while` *condition*`:`\\\n",
    "&nbsp;&nbsp;&nbsp;&nbsp;*instruction*\\\n",
    "&nbsp;&nbsp;&nbsp;&nbsp;*instruction*\n",
    "\n",
    "<img src=\"while1.jpg\" width=\"400\">\n",
    "\n",
    "There is one catch: the condition has to use some variables, and the instructions have to change the value of the variables so that at some time the condition becomes false. \n",
    "Otherwise the program will run those instructions forever. \n",
    "In this loop, `i` starts below 6, but goes up 1 each time so that it eventually becomes 6 and the loop stops."
   ]
  },
  {
   "cell_type": "code",
   "execution_count": 21,
   "id": "6dd69f65-124f-44cf-a6b5-5e1b0b746738",
   "metadata": {
    "collapsed": true
   },
   "outputs": [
    {
     "name": "stdout",
     "output_type": "stream",
     "text": [
      "x is  2\n",
      "x is  3\n",
      "x is  4\n",
      "x is  5\n"
     ]
    }
   ],
   "source": [
    "x = 2\n",
    "while x < 6:\n",
    "    print(\"x is \", x)\n",
    "    x += 1"
   ]
  },
  {
   "cell_type": "markdown",
   "id": "8717e59e-99e5-4e66-82ab-e96219241e89",
   "metadata": {},
   "source": [
    "This `while` loop can convert pounds to kilograms until you enter 0."
   ]
  },
  {
   "cell_type": "code",
   "execution_count": null,
   "id": "ea39489d-2809-4d3a-bf9b-538974fc0860",
   "metadata": {
    "collapsed": true
   },
   "outputs": [
    {
     "name": "stdout",
     "output_type": "stream",
     "text": [
      "give the number of pounds to convert to kilograms, type 0 to stop: 3\n",
      "3  pounds is  6.6000000000000005  kilograms\n"
     ]
    }
   ],
   "source": [
    "s = \"\"\n",
    "while s != \"0\":\n",
    "    s = input(\"give the number of pounds to convert to kilograms, type 0 to stop: \")\n",
    "    x = int(s)\n",
    "    print(x, \" pounds is \", x * 2.2, \" kilograms\")"
   ]
  },
  {
   "cell_type": "markdown",
   "id": "7f1cfd73-03d9-4233-b0be-8cf644ee7481",
   "metadata": {},
   "source": [
    "<a id=\"for-loop\"></a>\n",
    "## `for` loop\n",
    "\n",
    "The `for` loop is like a `while` loop except that it runs instructions once for each item in a group. \n",
    "A `for` loop looks like this.\n",
    "\n",
    "`for` *item* `in` *group*`:`\\\n",
    "&nbsp;&nbsp;&nbsp;&nbsp;*instruction*\\\n",
    "&nbsp;&nbsp;&nbsp;&nbsp;*instruction*\n",
    "\n",
    "<img src=\"for1.jpg\" width=\"600\">\n",
    "\n",
    "This `for` loop runs for each character in a string."
   ]
  },
  {
   "cell_type": "code",
   "execution_count": 3,
   "id": "2e094862-175a-43d2-a0d6-c2359bb851a4",
   "metadata": {
    "collapsed": true
   },
   "outputs": [
    {
     "name": "stdout",
     "output_type": "stream",
     "text": [
      "a for loop for a string\n",
      "the next character of  abcd  is  a\n",
      "the next character of  abcd  is  b\n",
      "the next character of  abcd  is  c\n",
      "the next character of  abcd  is  d\n"
     ]
    }
   ],
   "source": [
    "print(\"a for loop for a string\")\n",
    "s = \"abcd\"\n",
    "for c in s:\n",
    "    print(\"the next character of \", s, \" is \", c)"
   ]
  },
  {
   "cell_type": "markdown",
   "id": "662a9aa2-86ca-498d-894c-e8b91648d534",
   "metadata": {},
   "source": [
    "This `for` loop runs for each item in a list."
   ]
  },
  {
   "cell_type": "code",
   "execution_count": 4,
   "id": "1f014490-dd90-4903-9e17-b2bf589807ba",
   "metadata": {
    "collapsed": true
   },
   "outputs": [
    {
     "name": "stdout",
     "output_type": "stream",
     "text": [
      "a for loop for a list\n",
      "the next item in  ['first', 'second', 'third']  is  first\n",
      "the next item in  ['first', 'second', 'third']  is  second\n",
      "the next item in  ['first', 'second', 'third']  is  third\n"
     ]
    }
   ],
   "source": [
    "print(\"a for loop for a list\")\n",
    "L = [\"first\", \"second\", \"third\"]\n",
    "for i in L:\n",
    "    print(\"the next item in \", L, \" is \", i)"
   ]
  },
  {
   "cell_type": "markdown",
   "id": "1a0c43d0-ed86-411d-8d45-d6ad4c5fc67d",
   "metadata": {},
   "source": [
    "<a id=\"range-function\"></a>\n",
    "## `Range` function\n",
    "It's often useful to run a function some number of times.\n",
    "`for` loops often run for each number in a group of numbers. \n",
    "The `range` function creates a list of numbers for the `for` loop to run on. \n",
    "A `for` loop using `range(n)` with one argument loops through the numbers `0` to `n-1`. "
   ]
  },
  {
   "cell_type": "code",
   "execution_count": 28,
   "id": "c35cc387-4bdb-43a9-96d6-de415d0f9566",
   "metadata": {
    "collapsed": true
   },
   "outputs": [
    {
     "name": "stdout",
     "output_type": "stream",
     "text": [
      "the next number in range(4) is  0\n",
      "the next number in range(4) is  1\n",
      "the next number in range(4) is  2\n",
      "the next number in range(4) is  3\n"
     ]
    }
   ],
   "source": [
    "for i in range(4):\n",
    "    print(\"the next number in range(4) is \", i) "
   ]
  },
  {
   "cell_type": "markdown",
   "id": "759ce1df-de6e-4c84-88cd-146003eaf8b0",
   "metadata": {},
   "source": [
    "Using `range(m, n)` with two arguments will loop through the numbers `m` to `n-1`."
   ]
  },
  {
   "cell_type": "code",
   "execution_count": 27,
   "id": "4d6a777a-cffc-45d0-8a63-e56fef04ba9b",
   "metadata": {
    "collapsed": true
   },
   "outputs": [
    {
     "name": "stdout",
     "output_type": "stream",
     "text": [
      "the next number in range(2, 5) is  2\n",
      "the next number in range(2, 5) is  3\n",
      "the next number in range(2, 5) is  4\n"
     ]
    }
   ],
   "source": [
    "for i in range(2, 5):\n",
    "    print(\"the next number in range(2, 5) is \", i) "
   ]
  },
  {
   "cell_type": "markdown",
   "id": "88c4c72b-5c0a-4c8e-8024-3e935699b8d6",
   "metadata": {},
   "source": [
    "Using `range(m, n, step)` can add `step` each time until the number is more than `n-1`."
   ]
  },
  {
   "cell_type": "code",
   "execution_count": 26,
   "id": "82bf024c-c852-4d53-85ba-42613ae538e4",
   "metadata": {
    "collapsed": true
   },
   "outputs": [
    {
     "name": "stdout",
     "output_type": "stream",
     "text": [
      "the next number in range(3, 9, 2) is  3\n",
      "the next number in range(3, 9, 2) is  5\n",
      "the next number in range(3, 9, 2) is  7\n"
     ]
    }
   ],
   "source": [
    "for i in range(3, 9, 2):\n",
    "    print(\"the next number in range(3, 9, 2) is \", i) "
   ]
  },
  {
   "cell_type": "markdown",
   "id": "c3405fde-d9ed-4e41-981f-281425a6d79c",
   "metadata": {},
   "source": [
    "Using `range(m, n, -1)` the loop can count down from `m` to `n+1`."
   ]
  },
  {
   "cell_type": "code",
   "execution_count": 25,
   "id": "68fdab13-ce35-4af1-ac33-25484ea5fce7",
   "metadata": {
    "collapsed": true
   },
   "outputs": [
    {
     "name": "stdout",
     "output_type": "stream",
     "text": [
      "the next number in range(5, 2) is  5\n",
      "the next number in range(5, 2) is  4\n",
      "the next number in range(5, 2) is  3\n"
     ]
    }
   ],
   "source": [
    "for i in range(5, 2, -1):\n",
    "    print(\"the next number in range(5, 2) is \", i) "
   ]
  },
  {
   "cell_type": "markdown",
   "id": "1e8a5ef6-2034-40fa-b776-a6c24be34d0e",
   "metadata": {},
   "source": [
    "## Computing a square root\n",
    "\n",
    "Python has a `sqrt` function to compute a square root of a number."
   ]
  },
  {
   "cell_type": "code",
   "execution_count": 24,
   "id": "e307d2b4-ef34-4141-b67c-4630d11d3bcb",
   "metadata": {
    "collapsed": true
   },
   "outputs": [
    {
     "name": "stdout",
     "output_type": "stream",
     "text": [
      "Give the number you want the square root of: 6\n",
      "the square root of  6  is  2.449489742783178\n"
     ]
    }
   ],
   "source": [
    "import math\n",
    "x = int(input('Give the number you want the square root of: '))\n",
    "print(\"the square root of \", x, \" is \", math.sqrt(x))"
   ]
  },
  {
   "cell_type": "markdown",
   "id": "3d2365ed-d23d-431e-aabb-d2953d99bff4",
   "metadata": {},
   "source": [
    "`sqrt` is one of the functions Python supplies for common tasks to save us time programming. \n",
    "`import math` says we will use the `math` *module* where a module is a group of functions. \n",
    "We call `math.sqrt` to tell Python that `sqrt` is part of the `math` module. \n",
    "\n",
    "We can compute the square root ourselves by using a formula. \n",
    "If we make a *guess* of the square root and divide the number by it, if the guess is right we will get the same number back."
   ]
  },
  {
   "cell_type": "code",
   "execution_count": 23,
   "id": "18ca1224-add0-464a-af88-c28e634db8a0",
   "metadata": {
    "collapsed": true,
    "tags": []
   },
   "outputs": [
    {
     "name": "stdout",
     "output_type": "stream",
     "text": [
      "making a guess that 3 is the square root of  9  the result of dividing  9  by 3 is  3.0\n"
     ]
    }
   ],
   "source": [
    "x = 9\n",
    "y = 9/3\n",
    "\n",
    "print(\"making a guess that 3 is the square root of \", x, \" the result of dividing \", x, \" by 3 is \", y)"
   ]
  },
  {
   "cell_type": "markdown",
   "id": "3ed12acc-23d1-40b1-8d1f-4f6bd1102d72",
   "metadata": {},
   "source": [
    "If the guess is wrong, the result of dividing will be different, but the right guess will be somewhere between the two.\n",
    "\n",
    "We'll try an idea for the program. \n",
    "- If we have a number, we make a guess and divide it into the number. \n",
    "- If the guess and the result of dividing it into the number are the same, we've found the square root.\n",
    "- If they are not the same, we can try a new guess that is the number halfway between the guess and the result.\n",
    "\n",
    "The number halfway between two numbers is the average, or $\\frac{guess + \\frac{guess}{number}}{2}$."
   ]
  },
  {
   "cell_type": "code",
   "execution_count": 22,
   "id": "c1724c7c-00dd-4f90-9fd5-1137a08f7ef2",
   "metadata": {},
   "outputs": [
    {
     "name": "stdout",
     "output_type": "stream",
     "text": [
      "dividing  9  by 2 gives  2 , and the average of the two is  3.25\n"
     ]
    }
   ],
   "source": [
    "x = 9\n",
    "y = 2\n",
    "z = x/y\n",
    "print(\"dividing \", x, \" by 2 gives \", y, \", and the average of the two is \", (y + z) / 2)"
   ]
  },
  {
   "cell_type": "markdown",
   "id": "12f6bf8c-0c5a-4276-84ea-bf5c7d9f17aa",
   "metadata": {},
   "source": [
    "It turns out the second step is not as easy as we think.\n",
    "The guess will almost always be a real number, and those two numbers might be very close but still not the same.\n",
    "Instead of the being the *same*, we will test whether their difference is less than some small number, say `0.001`.\n",
    "We'll also use some different variable names to try to keep track of things better.\n",
    "We'll try half of the number as the first guess."
   ]
  },
  {
   "cell_type": "code",
   "execution_count": 21,
   "id": "f92a8b2c-51dd-42cf-9ec7-e04b8a0924ad",
   "metadata": {
    "collapsed": true
   },
   "outputs": [
    {
     "name": "stdout",
     "output_type": "stream",
     "text": [
      "Give the number you want the square root for: 5\n",
      "try  1 , the guess is  1.0 , the next guess is  3.0 , and the difference is  2.0\n",
      "try  2 , the guess is  3.0 , the next guess is  2.3333 , and the difference is  0.6667\n",
      "try  3 , the guess is  2.3333 , the next guess is  2.2381 , and the difference is  0.0952\n",
      "try  4 , the guess is  2.2381 , the next guess is  2.2361 , and the difference is  0.002\n",
      "try  5 , the guess is  2.2361 , the next guess is  2.2361 , and the difference is  0.0\n",
      "the final guess is  2.2361  and the square root from math.sqrt( 5 ) is  2.2361\n"
     ]
    }
   ],
   "source": [
    "import math\n",
    "x = int(input('Give the number you want the square root for: '))\n",
    "guess = x / 2\n",
    "next_guess = (x / guess) / 2\n",
    "tries = 0\n",
    "while abs(guess - next_guess) > 0.001:\n",
    "    tries += 1\n",
    "    guess = next_guess\n",
    "    next_guess = (guess + x / guess) / 2\n",
    "    print(\"try \", tries, \", the guess is \", round(guess, 4), \", the next guess is \", round(next_guess, 4), \", and the difference is \", round(abs(guess - next_guess), 4))\n",
    "print(\"the final guess is \", round(guess, 4), \" and the square root from math.sqrt(\", x, \") is \", round(math.sqrt(x), 4))"
   ]
  },
  {
   "cell_type": "markdown",
   "id": "ce6d2123-ebdb-457a-8831-0f379433eb83",
   "metadata": {},
   "source": [
    "Try a large number and see how many tries it takes. \n",
    "It usually won't take that many.\n",
    "The program did not take many instructions."
   ]
  },
  {
   "cell_type": "markdown",
   "id": "65dbe7ee-2d78-4a16-9a07-9ec89bcc41b7",
   "metadata": {},
   "source": [
    "## Finding the factors of a number\n",
    "\n",
    "The factors of a number are those that divide evenly into the number. \n",
    "If we have a factor, then the number divided by the factor has a remainder of `0`.\n",
    "We can find the remainder with the *modulo* operator `%`.\n",
    "\n",
    "We can test that we have all the factors in a `while` loop.\n",
    "We know we have all the factors when dividing all of them into the number gives `1`.\n",
    "A factor may occur more than once, so we need a `while` loop inside the `while` loop to test each factor more than once.\n",
    "'1' is always a factor of the number, so we'll start testing with `2`."
   ]
  },
  {
   "cell_type": "code",
   "execution_count": 20,
   "id": "b3b5730b-f609-4d73-b88d-1c21d8776de6",
   "metadata": {
    "collapsed": true
   },
   "outputs": [
    {
     "name": "stdout",
     "output_type": "stream",
     "text": [
      "Give the number you want the factors of: 5\n",
      "the factors of  5  are  [5]\n"
     ]
    }
   ],
   "source": [
    "number = int(input('Give the number you want the factors of: '))\n",
    "factor = 2\n",
    "factors = []\n",
    "x = number\n",
    "while (x != 1):\n",
    "    while x % factor == 0:\n",
    "        factors.append(factor)\n",
    "        x = x / factor\n",
    "    factor += 1\n",
    "print(\"the factors of \", number, \" are \", factors)"
   ]
  },
  {
   "cell_type": "markdown",
   "id": "78605359-e300-4a59-838e-04945c009387",
   "metadata": {},
   "source": [
    "## Finding prime numbers\n",
    "The only factors a prime numbers have are 1 and the number. \n",
    "Prime numbers are very useful for cryptography and are good to know. \n",
    "We will use the factor example above as a *function* to find this. \n",
    "A number is prime when there are only two factors, 1 and the number itself.\n",
    "You will give us the largest number to test as prime"
   ]
  },
  {
   "cell_type": "code",
   "execution_count": 19,
   "id": "4946ec03-0dec-474c-a566-7232af25fa81",
   "metadata": {
    "collapsed": true
   },
   "outputs": [
    {
     "name": "stdout",
     "output_type": "stream",
     "text": [
      "Give the largest prime number you want the search for: 6\n",
      "the prime numbers up to of  6  are  [2, 3, 5]\n"
     ]
    }
   ],
   "source": [
    "def factors(number):\n",
    "    factors = []\n",
    "    factor = 2\n",
    "    x = number\n",
    "    while (x != 1):\n",
    "        while x % factor == 0:\n",
    "            factors.append(factor)\n",
    "            x = x / factor\n",
    "        factor += 1\n",
    "    return factors\n",
    "\n",
    "largest_prime = int(input('Give the largest prime number you want the search for: '))\n",
    "primes = []\n",
    "for i in range(2, largest_prime + 1):\n",
    "    factors_of_i = factors(i)\n",
    "    if len(factors_of_i) == 1:\n",
    "        primes.append(i)\n",
    "print(\"the prime numbers up to of \", largest_prime, \" are \", primes)"
   ]
  },
  {
   "cell_type": "markdown",
   "id": "0b3dee40-d01f-4161-8f1f-73ff190288c3",
   "metadata": {},
   "source": [
    "Another way to test for prime numbers is the *sieve of Erathsenes*, named after the person who invented the method. \n",
    "You start by assuming all numbers up to the largest number are prime.\n",
    "For numbers less than the prime, you know that two times the number, three times the number, and so on up to the largest prime are not prime because they have at least two factors.\n",
    "For each number, you then go through the list and mark the number as not prime.\n",
    "You do not need to test even numbers after 2, because 2 will mark all even numbers after it.\n",
    "We use a list comprehension to create a list of True's las long as the largest prime number.\n",
    "We will set each element to False that is a multiple of the number being tested."
   ]
  },
  {
   "cell_type": "code",
   "execution_count": 18,
   "id": "9845f3ae-ef9a-4ced-b06f-09a975bf38b7",
   "metadata": {
    "collapsed": true
   },
   "outputs": [
    {
     "name": "stdout",
     "output_type": "stream",
     "text": [
      "Give the largest prime number you want the search for: 6\n",
      "the prime numbers up to  6  are  [2, 3, 5]\n"
     ]
    }
   ],
   "source": [
    "largest_prime = int(input('Give the largest prime number you want the search for: '))\n",
    "numbers = [True for i in range(largest_prime)]\n",
    "for i in range(2, largest_prime):\n",
    "    next_nonprime = i * 2\n",
    "    while next_nonprime <= largest_prime:\n",
    "        numbers[next_nonprime - 1] = False\n",
    "        next_nonprime += i\n",
    "primes = []\n",
    "for i in range(1, largest_prime):\n",
    "    if numbers[i]:\n",
    "        primes.append(i + 1)\n",
    "print(\"the prime numbers up to \", largest_prime, \" are \", primes)"
   ]
  },
  {
   "cell_type": "markdown",
   "id": "ba18e0b1-9a39-4701-b7d1-7bad2cd837dd",
   "metadata": {
    "tags": []
   },
   "source": [
    "Try finding the primes up to 30000 with both programs.\n",
    "The Sieve of Erasthenes should be a lot faster."
   ]
  }
 ],
 "metadata": {
  "kernelspec": {
   "display_name": "Python 3 (ipykernel)",
   "language": "python",
   "name": "python3"
  },
  "language_info": {
   "codemirror_mode": {
    "name": "ipython",
    "version": 3
   },
   "file_extension": ".py",
   "mimetype": "text/x-python",
   "name": "python",
   "nbconvert_exporter": "python",
   "pygments_lexer": "ipython3",
   "version": "3.11.5"
  }
 },
 "nbformat": 4,
 "nbformat_minor": 5
}
