{
 "cells": [
  {
   "cell_type": "markdown",
   "id": "39ec1189-35da-40a8-99be-1265d984000a",
   "metadata": {},
   "source": [
    "# Examples\n",
    "These are examples of programs that put together what we've learned.\n",
    "\n",
    "[Data structures](data-structures.ipynb)  \n",
    "[File processing](file-processing.ipynb)  \n",
    "[Data cleaning](data-cleaning.ipynb)  \n"
   ]
  }
 ],
 "metadata": {
  "kernelspec": {
   "display_name": "Python 3 (ipykernel)",
   "language": "python",
   "name": "python3"
  },
  "language_info": {
   "codemirror_mode": {
    "name": "ipython",
    "version": 3
   },
   "file_extension": ".py",
   "mimetype": "text/x-python",
   "name": "python",
   "nbconvert_exporter": "python",
   "pygments_lexer": "ipython3",
   "version": "3.11.5"
  }
 },
 "nbformat": 4,
 "nbformat_minor": 5
}
