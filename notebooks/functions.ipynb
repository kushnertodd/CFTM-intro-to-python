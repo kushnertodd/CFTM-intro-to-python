{
 "cells": [
  {
   "cell_type": "markdown",
   "id": "d23ad8bb-2661-45c8-b787-4ca69b89d60c",
   "metadata": {},
   "source": [
    "## Functions\n",
    "When a group of instructions need to be used many times in programs, *functions* save time in programming. \n",
    "Functions can take values as *arguments*, and return values if needed. \n",
    "Python offers a library of useful functions.\n",
    "Functions are defined with `def`.\n",
    "This is an example of a function with no arguments."
   ]
  },
  {
   "cell_type": "code",
   "execution_count": 6,
   "id": "4b6090a9-5d43-4f23-93df-5127b0133d29",
   "metadata": {
    "collapsed": true
   },
   "outputs": [
    {
     "name": "stdout",
     "output_type": "stream",
     "text": [
      "hello() prints this.\n",
      "hello\n"
     ]
    }
   ],
   "source": [
    "def hello():\n",
    "    print(\"hello\")\n",
    "print(\"hello() prints this.\")\n",
    "hello()"
   ]
  },
  {
   "cell_type": "markdown",
   "id": "a2cecc84-ec73-4ef8-b3a2-13841bda632b",
   "metadata": {},
   "source": [
    "This is an example of a function with arguments."
   ]
  },
  {
   "cell_type": "code",
   "execution_count": 4,
   "id": "a62545d8-5894-4767-8634-de2be5667318",
   "metadata": {
    "collapsed": true
   },
   "outputs": [
    {
     "name": "stdout",
     "output_type": "stream",
     "text": [
      "this prints \"hello\".\n",
      "hello\n"
     ]
    }
   ],
   "source": [
    "def print_this(s):\n",
    "    print(s)\n",
    "print('this prints \"hello\".')\n",
    "print_this(\"hello\")    "
   ]
  },
  {
   "cell_type": "markdown",
   "id": "d169b1b4-62c0-48cd-9607-caf1eaef7236",
   "metadata": {},
   "source": [
    "Function can return a value."
   ]
  },
  {
   "cell_type": "code",
   "execution_count": 1,
   "id": "5cf4c1dd-550c-4706-a164-e1c77abd9281",
   "metadata": {
    "collapsed": true
   },
   "outputs": [
    {
     "name": "stdout",
     "output_type": "stream",
     "text": [
      "increase(5) has this value: 6\n"
     ]
    }
   ],
   "source": [
    "def increase(x):\n",
    "    return x+1\n",
    "print(\"increase(5) has this value:\", increase(5))"
   ]
  },
  {
   "cell_type": "markdown",
   "id": "f8491bf6-6028-42c1-b09e-3c54ea969a2f",
   "metadata": {},
   "source": [
    "Variables with a given name have values independent of that variable outside a function. "
   ]
  },
  {
   "cell_type": "code",
   "execution_count": 7,
   "id": "e8c47ef1-2849-4206-b754-858e76a5252c",
   "metadata": {
    "collapsed": true
   },
   "outputs": [
    {
     "name": "stdout",
     "output_type": "stream",
     "text": [
      "x in variable_test has the value  3\n",
      "outside of variable_test(), x is  5\n"
     ]
    }
   ],
   "source": [
    "def variable_test():\n",
    "    x = 3\n",
    "    print(\"x in variable_test has the value \", x)\n",
    "x = 5\n",
    "variable_test()\n",
    "print(\"outside of variable_test(), x is \", x)"
   ]
  }
 ],
 "metadata": {
  "kernelspec": {
   "display_name": "Python 3 (ipykernel)",
   "language": "python",
   "name": "python3"
  },
  "language_info": {
   "codemirror_mode": {
    "name": "ipython",
    "version": 3
   },
   "file_extension": ".py",
   "mimetype": "text/x-python",
   "name": "python",
   "nbconvert_exporter": "python",
   "pygments_lexer": "ipython3",
   "version": "3.11.5"
  }
 },
 "nbformat": 4,
 "nbformat_minor": 5
}
