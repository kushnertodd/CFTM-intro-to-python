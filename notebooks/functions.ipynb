{
 "cells": [
  {
   "cell_type": "markdown",
   "id": "d23ad8bb-2661-45c8-b787-4ca69b89d60c",
   "metadata": {},
   "source": [
    "## Functions\n",
    "When a group of instructions need to be used many times in programs, *functions* save time in programming. \n",
    "Functions can take values as *arguments*, and return values if needed. \n",
    "Python offers a library of useful functions.\n",
    "Functions are defined with `def`.\n",
    "This is an example of a function with no arguments."
   ]
  },
  {
   "cell_type": "code",
   "execution_count": 6,
   "id": "4b6090a9-5d43-4f23-93df-5127b0133d29",
   "metadata": {
    "collapsed": true
   },
   "outputs": [
    {
     "name": "stdout",
     "output_type": "stream",
     "text": [
      "hello() prints this.\n",
      "hello\n"
     ]
    }
   ],
   "source": [
    "def hello():\n",
    "    print(\"hello\")\n",
    "print(\"hello() prints this.\")\n",
    "hello()"
   ]
  },
  {
   "cell_type": "markdown",
   "id": "a2cecc84-ec73-4ef8-b3a2-13841bda632b",
   "metadata": {},
   "source": [
    "This is an example of a function with arguments."
   ]
  },
  {
   "cell_type": "code",
   "execution_count": 4,
   "id": "a62545d8-5894-4767-8634-de2be5667318",
   "metadata": {
    "collapsed": true
   },
   "outputs": [
    {
     "name": "stdout",
     "output_type": "stream",
     "text": [
      "this prints \"hello\".\n",
      "hello\n"
     ]
    }
   ],
   "source": [
    "def print_this(s):\n",
    "    print(s)\n",
    "print('this prints \"hello\".')\n",
    "print_this(\"hello\")    "
   ]
  },
  {
   "cell_type": "markdown",
   "id": "d169b1b4-62c0-48cd-9607-caf1eaef7236",
   "metadata": {},
   "source": [
    "Function can return a value with the `return` statement."
   ]
  },
  {
   "cell_type": "code",
   "execution_count": 1,
   "id": "5cf4c1dd-550c-4706-a164-e1c77abd9281",
   "metadata": {
    "collapsed": true
   },
   "outputs": [
    {
     "name": "stdout",
     "output_type": "stream",
     "text": [
      "increase(5) has this value: 6\n"
     ]
    }
   ],
   "source": [
    "def increase(x):\n",
    "    return x+1\n",
    "print(\"increase(5) has this value:\", increase(5))"
   ]
  },
  {
   "cell_type": "markdown",
   "id": "f8491bf6-6028-42c1-b09e-3c54ea969a2f",
   "metadata": {},
   "source": [
    "Variables with a given name have values independent of that variable outside a function. "
   ]
  },
  {
   "cell_type": "code",
   "execution_count": 7,
   "id": "e8c47ef1-2849-4206-b754-858e76a5252c",
   "metadata": {
    "collapsed": true
   },
   "outputs": [
    {
     "name": "stdout",
     "output_type": "stream",
     "text": [
      "x in variable_test has the value  3\n",
      "outside of variable_test(), x is  5\n"
     ]
    }
   ],
   "source": [
    "def variable_test():\n",
    "    x = 3\n",
    "    print(\"x in variable_test has the value \", x)\n",
    "x = 5\n",
    "variable_test()\n",
    "print(\"outside of variable_test(), x is \", x)"
   ]
  },
  {
   "cell_type": "markdown",
   "id": "60edefa9",
   "metadata": {},
   "source": [
    "## `global` Keyword\n",
    "Normally, when you create a variable inside a function, that variable is local, and can only be used inside that function.\n",
    "\n",
    "To create a global variable that can be used outside a function, you can use the `global` keyword.\n",
    "Here, `z` is a global variable that can be accessed by the last instruction."
   ]
  },
  {
   "cell_type": "code",
   "execution_count": 8,
   "id": "69f9c270",
   "metadata": {},
   "outputs": [
    {
     "name": "stdout",
     "output_type": "stream",
     "text": [
      "Python is fantastic\n"
     ]
    }
   ],
   "source": [
    "z = 3\n",
    "def myfunc():\n",
    "  global z\n",
    "  z = \"fantastic\"\n",
    "myfunc()\n",
    "print(\"Python is \" + z)"
   ]
  },
  {
   "cell_type": "markdown",
   "id": "62bb4139",
   "metadata": {},
   "source": [
    "Removing the `global` will cause the `z` inside the function to be local only."
   ]
  },
  {
   "cell_type": "code",
   "execution_count": 11,
   "id": "aea55fcd",
   "metadata": {
    "collapsed": true
   },
   "outputs": [
    {
     "name": "stdout",
     "output_type": "stream",
     "text": [
      "Python is 3\n"
     ]
    }
   ],
   "source": [
    "z = 3\n",
    "def myfunc():\n",
    "  z = \"fantastic\"\n",
    "myfunc()\n",
    "print(\"Python is \" + str(z))"
   ]
  },
  {
   "cell_type": "markdown",
   "id": "ee9336bd",
   "metadata": {},
   "source": [
    "## Keyword Arguments\n",
    "You can also send arguments using *key = value*.\n",
    "You can send arguments in any order that way."
   ]
  },
  {
   "cell_type": "code",
   "execution_count": 12,
   "id": "5a433341",
   "metadata": {
    "collapsed": true
   },
   "outputs": [
    {
     "name": "stdout",
     "output_type": "stream",
     "text": [
      "The youngest child is Tobias\n"
     ]
    }
   ],
   "source": [
    "def my_function(child3, child2, child1):\n",
    "  print(\"The youngest child is \" + child3)\n",
    "\n",
    "my_function(child1 = \"Emil\", child3 = \"Tobias\", child2 = \"Linus\")"
   ]
  },
  {
   "cell_type": "markdown",
   "id": "3edda996",
   "metadata": {},
   "source": [
    "## Default Parameter Value\n",
    "You can specify a default value for a parameter.\n",
    "Calling the function without an argument uses the default value."
   ]
  },
  {
   "cell_type": "code",
   "execution_count": 13,
   "id": "668f089f",
   "metadata": {
    "collapsed": true
   },
   "outputs": [
    {
     "name": "stdout",
     "output_type": "stream",
     "text": [
      "I am from Sweden\n",
      "I am from India\n",
      "I am from Norway\n",
      "I am from Brazil\n"
     ]
    }
   ],
   "source": [
    "def my_function(country = \"Norway\"):\n",
    "  print(\"I am from \" + country)\n",
    "\n",
    "my_function(\"Sweden\")\n",
    "my_function(\"India\")\n",
    "my_function()\n",
    "my_function(\"Brazil\")\n"
   ]
  },
  {
   "cell_type": "markdown",
   "id": "e2faa2da",
   "metadata": {},
   "source": [
    "## Passing a List as an Argument\n",
    "An argument can be any data type (string, number, list, dictionary, etc.)."
   ]
  },
  {
   "cell_type": "code",
   "execution_count": 14,
   "id": "0840a974",
   "metadata": {
    "collapsed": true
   },
   "outputs": [
    {
     "name": "stdout",
     "output_type": "stream",
     "text": [
      "red\n",
      "blue\n",
      "green\n"
     ]
    }
   ],
   "source": [
    "def print_list(L):\n",
    "  for x in L:\n",
    "    print(x)\n",
    "colors = [\"red\", \"blue\", \"green\"]\n",
    "print_list(colors)"
   ]
  }
 ],
 "metadata": {
  "kernelspec": {
   "display_name": "Python 3 (ipykernel)",
   "language": "python",
   "name": "python3"
  },
  "language_info": {
   "codemirror_mode": {
    "name": "ipython",
    "version": 3
   },
   "file_extension": ".py",
   "mimetype": "text/x-python",
   "name": "python",
   "nbconvert_exporter": "python",
   "pygments_lexer": "ipython3",
   "version": "3.11.5"
  }
 },
 "nbformat": 4,
 "nbformat_minor": 5
}
