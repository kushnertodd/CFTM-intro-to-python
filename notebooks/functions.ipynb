{
 "cells": [
  {
   "cell_type": "markdown",
   "id": "d23ad8bb-2661-45c8-b787-4ca69b89d60c",
   "metadata": {},
   "source": [
    "## Functions\n",
    "When a group of instructions need to be used many times in programs, *functions* save time in programming. \n",
    "Functions can take values as *arguments*, and return values if needed. \n",
    "Python offers a library of useful functions.\n",
    "Functions are defined with `def`.\n",
    "This is an example of a function with no arguments."
   ]
  },
  {
   "cell_type": "code",
   "execution_count": 6,
   "id": "4b6090a9-5d43-4f23-93df-5127b0133d29",
   "metadata": {
    "collapsed": true
   },
   "outputs": [
    {
     "name": "stdout",
     "output_type": "stream",
     "text": [
      "hello() prints this.\n",
      "hello\n"
     ]
    }
   ],
   "source": [
    "def hello():\n",
    "    print(\"hello\")\n",
    "print(\"hello() prints this.\")\n",
    "hello()"
   ]
  },
  {
   "cell_type": "markdown",
   "id": "a2cecc84-ec73-4ef8-b3a2-13841bda632b",
   "metadata": {},
   "source": [
    "This is an example of a function with arguments."
   ]
  },
  {
   "cell_type": "code",
   "execution_count": 4,
   "id": "a62545d8-5894-4767-8634-de2be5667318",
   "metadata": {
    "collapsed": true
   },
   "outputs": [
    {
     "name": "stdout",
     "output_type": "stream",
     "text": [
      "this prints \"hello\".\n",
      "hello\n"
     ]
    }
   ],
   "source": [
    "def print_this(s):\n",
    "    print(s)\n",
    "print('this prints \"hello\".')\n",
    "print_this(\"hello\")    "
   ]
  },
  {
   "cell_type": "markdown",
   "id": "d169b1b4-62c0-48cd-9607-caf1eaef7236",
   "metadata": {},
   "source": [
    "Function can return a value."
   ]
  },
  {
   "cell_type": "code",
   "execution_count": 1,
   "id": "5cf4c1dd-550c-4706-a164-e1c77abd9281",
   "metadata": {
    "collapsed": true
   },
   "outputs": [
    {
     "name": "stdout",
     "output_type": "stream",
     "text": [
      "increase(5) has this value: 6\n"
     ]
    }
   ],
   "source": [
    "def increase(x):\n",
    "    return x+1\n",
    "print(\"increase(5) has this value:\", increase(5))"
   ]
  },
  {
   "cell_type": "markdown",
   "id": "f8491bf6-6028-42c1-b09e-3c54ea969a2f",
   "metadata": {},
   "source": [
    "Variables with a given name have values independent of that variable outside a function. "
   ]
  },
  {
   "cell_type": "code",
   "execution_count": 7,
   "id": "e8c47ef1-2849-4206-b754-858e76a5252c",
   "metadata": {
    "collapsed": true
   },
   "outputs": [
    {
     "name": "stdout",
     "output_type": "stream",
     "text": [
      "x in variable_test has the value  3\n",
      "outside of variable_test(), x is  5\n"
     ]
    }
   ],
   "source": [
    "def variable_test():\n",
    "    x = 3\n",
    "    print(\"x in variable_test has the value \", x)\n",
    "x = 5\n",
    "variable_test()\n",
    "print(\"outside of variable_test(), x is \", x)"
   ]
  },
  {
   "cell_type": "markdown",
   "id": "60edefa9",
   "metadata": {},
   "source": [
    "he global Keyword\n",
    "Normally, when you create a variable inside a function, that variable is local, and can only be used inside that function.\n",
    "\n",
    "To create a global variable inside a function, you can use the global keyword.\n",
    "\n",
    "Example\n",
    "If you use the global keyword, the variable belongs to the global scope:"
   ]
  },
  {
   "cell_type": "code",
   "execution_count": 5,
   "id": "69f9c270",
   "metadata": {},
   "outputs": [
    {
     "name": "stdout",
     "output_type": "stream",
     "text": [
      "Python is fantastic\n"
     ]
    }
   ],
   "source": [
    "z = 3\n",
    "def myfunc():\n",
    "  global z\n",
    "  z = \"fantastic\"\n",
    "\n",
    "myfunc()\n",
    "\n",
    "print(\"Python is \" + z)"
   ]
  },
  {
   "cell_type": "markdown",
   "id": "804554c7",
   "metadata": {},
   "source": [
    "without defining the variable in the global scope, you get an error"
   ]
  },
  {
   "cell_type": "code",
   "execution_count": 6,
   "id": "66c9d892",
   "metadata": {},
   "outputs": [
    {
     "ename": "NameError",
     "evalue": "name 'q' is not defined",
     "output_type": "error",
     "traceback": [
      "\u001b[1;31m---------------------------------------------------------------------------\u001b[0m",
      "\u001b[1;31mNameError\u001b[0m                                 Traceback (most recent call last)",
      "Cell \u001b[1;32mIn[6], line 6\u001b[0m\n\u001b[0;32m      2\u001b[0m   q \u001b[38;5;241m=\u001b[39m \u001b[38;5;124m\"\u001b[39m\u001b[38;5;124mfantastic\u001b[39m\u001b[38;5;124m\"\u001b[39m\n\u001b[0;32m      4\u001b[0m myfunc()\n\u001b[1;32m----> 6\u001b[0m \u001b[38;5;28mprint\u001b[39m(\u001b[38;5;124m\"\u001b[39m\u001b[38;5;124mPython is \u001b[39m\u001b[38;5;124m\"\u001b[39m \u001b[38;5;241m+\u001b[39m q)\n",
      "\u001b[1;31mNameError\u001b[0m: name 'q' is not defined"
     ]
    }
   ],
   "source": [
    "\n",
    "def myfunc():\n",
    "  q = \"fantastic\"\n",
    "\n",
    "myfunc()\n",
    "\n",
    "print(\"Python is \" + q)"
   ]
  },
  {
   "cell_type": "code",
   "execution_count": null,
   "id": "194178a1",
   "metadata": {},
   "outputs": [],
   "source": []
  },
  {
   "cell_type": "markdown",
   "id": "bdf2758b",
   "metadata": {},
   "source": [
    "A function is a block of code which only runs when it is called.\n",
    "\n",
    "You can pass data, known as parameters, into a function.\n",
    "\n",
    "A function can return data as a result.\n",
    "\n",
    "Creating a Function\n",
    "In Python a function is defined using the def keyword:"
   ]
  },
  {
   "cell_type": "code",
   "execution_count": null,
   "id": "debb0f15",
   "metadata": {},
   "outputs": [],
   "source": [
    "def my_function():\n",
    "  print(\"Hello from a function\")"
   ]
  },
  {
   "cell_type": "markdown",
   "id": "2efcac80",
   "metadata": {},
   "source": [
    "Calling a Function\n",
    "To call a function, use the function name followed by parenthesis:"
   ]
  },
  {
   "cell_type": "code",
   "execution_count": null,
   "id": "7d03dfe0",
   "metadata": {},
   "outputs": [],
   "source": [
    "def my_function():\n",
    "  print(\"Hello from a function\")\n",
    "\n",
    "my_function()"
   ]
  },
  {
   "cell_type": "markdown",
   "id": "54018a6c",
   "metadata": {},
   "source": [
    "Arguments\n",
    "Information can be passed into functions as arguments.\n",
    "\n",
    "Arguments are specified after the function name, inside the parentheses. You can add as many arguments as you want, just separate them with a comma.\n",
    "\n",
    "The following example has a function with one argument (fname). When the function is called, we pass along a first name, which is used inside the function to print the full name:"
   ]
  },
  {
   "cell_type": "code",
   "execution_count": null,
   "id": "147b8cc8",
   "metadata": {},
   "outputs": [],
   "source": [
    "def my_function(fname):\n",
    "  print(fname + \" Refsnes\")\n",
    "\n",
    "my_function(\"Emil\")\n",
    "my_function(\"Tobias\")\n",
    "my_function(\"Linus\")"
   ]
  },
  {
   "cell_type": "markdown",
   "id": "ee9336bd",
   "metadata": {},
   "source": [
    "Keyword Arguments\n",
    "You can also send arguments with the key = value syntax.\n",
    "\n",
    "This way the order of the arguments does not matter."
   ]
  },
  {
   "cell_type": "code",
   "execution_count": null,
   "id": "5a433341",
   "metadata": {},
   "outputs": [],
   "source": [
    "def my_function(child3, child2, child1):\n",
    "  print(\"The youngest child is \" + child3)\n",
    "\n",
    "my_function(child1 = \"Emil\", child2 = \"Tobias\", child3 = \"Linus\")"
   ]
  },
  {
   "cell_type": "markdown",
   "id": "3edda996",
   "metadata": {},
   "source": [
    "Default Parameter Value\n",
    "The following example shows how to use a default parameter value.\n",
    "\n",
    "If we call the function without argument, it uses the default value:"
   ]
  },
  {
   "cell_type": "code",
   "execution_count": null,
   "id": "668f089f",
   "metadata": {},
   "outputs": [],
   "source": [
    "def my_function(country = \"Norway\"):\n",
    "  print(\"I am from \" + country)\n",
    "\n",
    "my_function(\"Sweden\")\n",
    "my_function(\"India\")\n",
    "my_function()\n",
    "my_function(\"Brazil\")\n"
   ]
  },
  {
   "cell_type": "markdown",
   "id": "e2faa2da",
   "metadata": {},
   "source": [
    "Passing a List as an Argument\n",
    "You can send any data types of argument to a function (string, number, list, dictionary etc.), and it will be treated as the same data type inside the function.\n",
    "\n",
    "E.g. if you send a List as an argument, it will still be a List when it reaches the function:"
   ]
  },
  {
   "cell_type": "code",
   "execution_count": null,
   "id": "0840a974",
   "metadata": {},
   "outputs": [],
   "source": [
    "def my_function(food):\n",
    "  for x in food:\n",
    "    print(x)\n",
    "\n",
    "fruits = [\"apple\", \"banana\", \"cherry\"]\n",
    "\n",
    "my_function(fruits)"
   ]
  },
  {
   "cell_type": "markdown",
   "id": "b63b485d",
   "metadata": {},
   "source": [
    "Return Values\n",
    "To let a function return a value, use the return statement:"
   ]
  },
  {
   "cell_type": "code",
   "execution_count": null,
   "id": "6ef458ec",
   "metadata": {},
   "outputs": [],
   "source": [
    "def my_function(x):\n",
    "  return 5 * x\n",
    "\n",
    "print(my_function(3))\n",
    "print(my_function(5))\n",
    "print(my_function(9))"
   ]
  },
  {
   "cell_type": "markdown",
   "id": "842aed12",
   "metadata": {},
   "source": []
  }
 ],
 "metadata": {
  "kernelspec": {
   "display_name": "Python 3 (ipykernel)",
   "language": "python",
   "name": "python3"
  },
  "language_info": {
   "codemirror_mode": {
    "name": "ipython",
    "version": 3
   },
   "file_extension": ".py",
   "mimetype": "text/x-python",
   "name": "python",
   "nbconvert_exporter": "python",
   "pygments_lexer": "ipython3",
   "version": "3.11.5"
  }
 },
 "nbformat": 4,
 "nbformat_minor": 5
}
