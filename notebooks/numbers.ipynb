{
 "cells": [
  {
   "cell_type": "markdown",
   "id": "f1dffd36-cddf-499c-921c-f7e2c8674b02",
   "metadata": {},
   "source": [
    "<a id=\"numbers\"></a>\n",
    "# Numbers\n",
    "Numbers in Python are either *integers*, which are signed whole numbers, and *real numbers* that can have a fractional part. \n",
    "When you do arithmetic on them you can use either of the types."
   ]
  },
  {
   "cell_type": "code",
   "execution_count": null,
   "id": "a8881606-6b80-4db2-83b0-1ae8391cddbe",
   "metadata": {},
   "outputs": [],
   "source": [
    "x = 5 + 3.2\n",
    "print(\"5 + 3.2 is \", x)"
   ]
  },
  {
   "cell_type": "markdown",
   "id": "38580422-9c75-419f-a18a-c4f87725cee6",
   "metadata": {},
   "source": [
    "## Number operators\n",
    "The usual arithmetic operators can be used, like addition `+` and subtraction `-`. \n"
   ]
  },
  {
   "cell_type": "code",
   "execution_count": null,
   "id": "286b839c-3a49-442d-8adc-9d2b4a25709d",
   "metadata": {},
   "outputs": [],
   "source": [
    "x = 5 + 3\n",
    "print(\"5 + 3 is \", x)\n",
    "x = 4 - 1\n",
    "print(\"4 - 1 is \", x)"
   ]
  },
  {
   "cell_type": "markdown",
   "id": "30e79e26-99a4-442a-951e-d2ebaf45ff64",
   "metadata": {},
   "source": [
    "You can do multiplication with `*` instead of `x`. "
   ]
  },
  {
   "cell_type": "code",
   "execution_count": null,
   "id": "0e25d00e-287e-449f-883a-afdfef9f87b4",
   "metadata": {},
   "outputs": [],
   "source": [
    "x = 4 * 3.2\n",
    "print(\"4 * 3.2 is \", x)"
   ]
  },
  {
   "cell_type": "markdown",
   "id": "551e835f-3c3f-4c9f-8fd3-654a3a58b476",
   "metadata": {},
   "source": [
    "We do division with `\\` instead of $\\div$."
   ]
  },
  {
   "cell_type": "code",
   "execution_count": null,
   "id": "7c6b4e2f-08d6-49d9-812d-bbfd765251ca",
   "metadata": {},
   "outputs": [],
   "source": [
    "x = x / 2.0\n",
    "print(\"x / 2.0 is \", x)"
   ]
  },
  {
   "cell_type": "markdown",
   "id": "20d06b00-7e9f-49de-86a8-eb79b27e8c08",
   "metadata": {},
   "source": [
    "There are some special operators on numbers. \n",
    "We compute exponentials, say $3^2$, like this."
   ]
  },
  {
   "cell_type": "code",
   "execution_count": null,
   "id": "978498ca-9627-4a27-b0b6-72543f0b8c8c",
   "metadata": {},
   "outputs": [],
   "source": [
    "x = 3**2\n",
    "print(\"3**2 is \", x)"
   ]
  },
  {
   "cell_type": "markdown",
   "id": "eab106da-e40d-41e8-b9a3-2a4c3cd103e8",
   "metadata": {},
   "source": [
    "Another number operator is *modulo*, like \"9 modulo 2\", which gives the remainder after dividing 9 by 2. \n",
    "You can do modulo operations with `%`."
   ]
  },
  {
   "cell_type": "code",
   "execution_count": null,
   "id": "1ca02bd0-5110-426f-88d6-2fa4d770d405",
   "metadata": {},
   "outputs": [],
   "source": [
    "x = 9 % 2\n",
    "print(\"9 % 2 is \", x)"
   ]
  },
  {
   "cell_type": "markdown",
   "id": "f299a8cc-64c6-4b13-86bd-85d607038c1a",
   "metadata": {},
   "source": [
    "## Operator shortcuts\n",
    "Some operators are used to change a variable's value, like `x = x + 1`. \n",
    "There is a shortcut for each of the operators `+`, `-`, `*`, `/`, `**`, and `%`.\n",
    "\n",
    "For addition, `x = x + 1`, the shortcut is `x += 1`. "
   ]
  },
  {
   "cell_type": "code",
   "execution_count": null,
   "id": "f385d08f-3548-47f0-ae9d-e4d814b19818",
   "metadata": {},
   "outputs": [],
   "source": [
    "x = 3\n",
    "print(\"x starts as \", x)\n",
    "x += 2\n",
    "print(\"after x += 2, x is \", x)"
   ]
  },
  {
   "cell_type": "markdown",
   "id": "3e5f4372-25ab-498b-9d40-ea5813f4a99b",
   "metadata": {},
   "source": [
    "For subtraction, `x = x - 1`, the shortcut is `x -= 1`"
   ]
  },
  {
   "cell_type": "code",
   "execution_count": null,
   "id": "728bf3fd-f21d-4e16-93dd-ee5343d1ac7d",
   "metadata": {},
   "outputs": [],
   "source": [
    "x -= 1\n",
    "print(\"after x -= 1, x is \", x)"
   ]
  },
  {
   "cell_type": "markdown",
   "id": "245ce61a-4193-4b98-811b-4e7889aa3368",
   "metadata": {},
   "source": [
    "For multiplication, `x = x * 4`, the shortcut is `x *= 4`."
   ]
  },
  {
   "cell_type": "code",
   "execution_count": null,
   "id": "09d8854a-a64c-4019-b53b-baea4e86331f",
   "metadata": {},
   "outputs": [],
   "source": [
    "x *= 4\n",
    "print(\"after x *= 4, x is \", x)"
   ]
  },
  {
   "cell_type": "markdown",
   "id": "e2e4b341-7683-4b1c-a381-337bf621ba06",
   "metadata": {},
   "source": [
    "For division, `x = x / 1`, the shortcut is `x /= 1`."
   ]
  },
  {
   "cell_type": "code",
   "execution_count": null,
   "id": "00939fae-5b4e-4b05-a962-76388423ffe9",
   "metadata": {},
   "outputs": [],
   "source": [
    "x /= 4\n",
    "print(\"after x /= 4, x is \", x)"
   ]
  },
  {
   "cell_type": "markdown",
   "id": "7038bfec-41b2-4fee-a9c7-5bd47b74f485",
   "metadata": {},
   "source": [
    "For applying exponents, `x = x ** 2`, the shortcut is `x **= 2`."
   ]
  },
  {
   "cell_type": "code",
   "execution_count": null,
   "id": "068c2ef1-0d66-4d08-b1f0-44ae0a63dd7c",
   "metadata": {},
   "outputs": [],
   "source": [
    "x **= 2\n",
    "print(\"after x **= 2, x is \", x)"
   ]
  },
  {
   "cell_type": "markdown",
   "id": "f59ba848-a923-4c06-a61f-585e82fa41c8",
   "metadata": {},
   "source": [
    "For `x = x + 3`, the shortcut is `x += 3`."
   ]
  },
  {
   "cell_type": "code",
   "execution_count": null,
   "id": "487f4f93-df47-4256-beb2-28bb9cfa3b0f",
   "metadata": {},
   "outputs": [],
   "source": [
    "x %= 3\n",
    "print(\"after x %= 3, x is \", x)"
   ]
  },
  {
   "cell_type": "markdown",
   "id": "d462f152",
   "metadata": {},
   "source": [
    "## Number functions"
   ]
  },
  {
   "cell_type": "markdown",
   "id": "9682f79d-26cb-4f8a-8ea8-5ea1cdfb4d25",
   "metadata": {},
   "source": [
    "### `abs` function\n",
    "The `abs` function is a function that gives a value when it is done. It takes a number that might be negative and gives the absolute value of it."
   ]
  },
  {
   "cell_type": "code",
   "execution_count": 6,
   "id": "9738aa94-607d-447e-88be-eb2e6687c554",
   "metadata": {
    "collapsed": true
   },
   "outputs": [
    {
     "name": "stdout",
     "output_type": "stream",
     "text": [
      "abs( 3 ) is  3\n",
      "abs( -5 ) is  5\n",
      "abs( -4.3 ) is  4.3\n"
     ]
    }
   ],
   "source": [
    "x = 3\n",
    "y = -5\n",
    "z = -4.3\n",
    "print(\"abs(\", x, \") is \", abs(x))\n",
    "print(\"abs(\", y, \") is \", abs(y))\n",
    "print(\"abs(\", z, \") is \", abs(z))"
   ]
  },
  {
   "cell_type": "markdown",
   "id": "84d0b598-3cd6-443f-987e-823212c84b6f",
   "metadata": {},
   "source": [
    "### `max` function\n",
    "The value of the `max` function is the largest of the numbers give given to it as an argument.\n",
    "`(1, 12, 9)` is a *list* of numbers, which is discussed further below."
   ]
  },
  {
   "cell_type": "code",
   "execution_count": 5,
   "id": "dbe7efc4-5c9c-45b0-9ad7-bba1f1fa7081",
   "metadata": {
    "collapsed": true
   },
   "outputs": [
    {
     "name": "stdout",
     "output_type": "stream",
     "text": [
      "the maximum of  (1, 12, 9)  is  12\n"
     ]
    }
   ],
   "source": [
    "L = (1, 12, 9)\n",
    "print(\"the maximum of \", L, \" is \", max(L))"
   ]
  },
  {
   "cell_type": "markdown",
   "id": "13dd4575-f427-4b03-a661-1434bcaca249",
   "metadata": {},
   "source": [
    "### `min` function\n",
    "The value of the `min` function is the smallest of the numbers give given to it as an argument."
   ]
  },
  {
   "cell_type": "code",
   "execution_count": 4,
   "id": "eaf8c306-5a71-47e8-b985-6019c67eba63",
   "metadata": {
    "collapsed": true
   },
   "outputs": [
    {
     "name": "stdout",
     "output_type": "stream",
     "text": [
      "the minimum of  (1, 12, 9)  is  1\n"
     ]
    }
   ],
   "source": [
    "L = (1, 12, 9)\n",
    "print(\"the minimum of \", L, \" is \", min(L))"
   ]
  },
  {
   "cell_type": "markdown",
   "id": "3829dd0c-7d69-4d37-871e-51674f0946b2",
   "metadata": {},
   "source": [
    "### `round` function\n",
    "The `round` function takes a real number and reduces the size of the fraction. \n",
    "It gives the integer value without the fraction if only the number is given as the argument. \n",
    "If a second argument is a number, it will keep this many digits in the fractional part."
   ]
  },
  {
   "cell_type": "code",
   "execution_count": 3,
   "id": "f108e3aa-5f28-4549-80b2-5f2146d9ecac",
   "metadata": {
    "collapsed": true
   },
   "outputs": [
    {
     "name": "stdout",
     "output_type": "stream",
     "text": [
      "round( 5.34 ) is  5\n",
      "round( 9.2345 , 2) is  9.23\n",
      "round( -8.431 ) is  -8\n"
     ]
    }
   ],
   "source": [
    "x = 5.34\n",
    "y = 9.2345\n",
    "z = -8.431\n",
    "print(\"round(\", x, \") is \", round(x))\n",
    "print(\"round(\", y, \", 2) is \", round(y, 2))\n",
    "print(\"round(\", z, \") is \", round(z))"
   ]
  }
 ],
 "metadata": {
  "kernelspec": {
   "display_name": "Python 3 (ipykernel)",
   "language": "python",
   "name": "python3"
  },
  "language_info": {
   "codemirror_mode": {
    "name": "ipython",
    "version": 3
   },
   "file_extension": ".py",
   "mimetype": "text/x-python",
   "name": "python",
   "nbconvert_exporter": "python",
   "pygments_lexer": "ipython3",
   "version": "3.11.5"
  }
 },
 "nbformat": 4,
 "nbformat_minor": 5
}
