{
 "cells": [
  {
   "cell_type": "markdown",
   "id": "e6805f1d",
   "metadata": {},
   "source": [
    "# Jupyter\n",
    "\n",
    "[Notebooks](#notebooks)  \n",
    "[Cells](#cells)  \n",
    "[Markdown](#markdown)  \n",
    "[Code](#code)\n",
    "\n",
    "<a id=\"notebooks\"></a>\n",
    "## Notebooks\n",
    "A Jupyer *Notebooks* is a browser pages allow mixing explanations and Python program code and allows you to run those programs from the browser.\n",
    "When you start Jupyter, you will see the Jupyter home page listing all the Notebook files.\n",
    "\n",
    "![Jupyter home page](jupyter-home-page.png)\n",
    "\n",
    "The notebooks are files having the `.ipynb` extension.\n",
    "You opened the `python_intro.ipynb` notebook from the home page to see the \"Introduction to Programming with Python\" notebook.\n",
    "A notebook will have links that will open other notebooks in the browser.\n",
    "You can go back to previous notebooks using the browser \"back\" button.\n",
    "You reached this notebook by selecting the Background link and then the Jupyter link.\n",
    "\n",
    "A notebook is like a text editor that lets you modify the text and code on the page.\n",
    "If a notebook is stored locally (as opposed to running Jupyter from a website),\n",
    "you can change a notebook and save your changes with the File/Save As menu item to save a modified version of a notebook.\n",
    "\n",
    "![Jupyter Save As](jupyter-save-as.png)\n",
    "\n",
    "When you reopen the notebook again, you see your modified version of the notebook.\n",
    "\n",
    "You can create new notebooks with the File/New Notebook menu item.\n",
    "\n",
    "![Jupyter New Notebook](jupyter-new-notebook.png)\n",
    "\n",
    "You will see a new notebook page.\n",
    "\n",
    "![Jupyter New Notebook Page](jupyter-new-notebook-page.png)\n",
    "\n",
    "You can then give the notebook a name with the File/Rename menu item.\n",
    "\n",
    "![Jupyter Notebook Rename](jupyter-notebook-rename.png)\n",
    "\n",
    "You can then link to that page from another notebook, as described under Cells below.\n",
    "\n",
    "<a id=\"cells\"></a>\n",
    "## Cells\n",
    "A Jupyter page contains two types of *cells* that contain either text, called *markdown*, or program code.\n",
    "\n",
    "- A Markdown cell contains formatted text using special language somewhat like HTML.\n",
    "- A code cell contains Python code to be executed. When the code is run, the notebook displays the output below the code cell that generated it.\n",
    "\n",
    "You can change the text in a markdown cell by selecting it and typing *Enter*.\n",
    "You can convert that cell to formatted text by typing *Shift-Enter*.\n",
    "\n",
    "You can always change the text in a code cell by selecting the cell.\n",
    "You can run the code in a code cell by selecting the cell and typing *Shift-Enter*, or selecting the Cell/Run Cells menu item, The output of the code will appear below the cell.\n",
    "Here is a simple program to run."
   ]
  },
  {
   "cell_type": "code",
   "execution_count": null,
   "id": "857ef8c2",
   "metadata": {},
   "outputs": [],
   "source": [
    "print(\"Hello, world.\")"
   ]
  },
  {
   "cell_type": "markdown",
   "id": "0a5ed9da",
   "metadata": {},
   "source": [
    "It will print `Hello world.` below the cell.\n",
    "\n",
    "You can create a new cell below a cell by selecting the cell and typing *B* or selecting the Insert/Insert Cell below menu item.\n",
    "The cell will initially be a code cell.\n",
    "You can change the cell to a markdown cell by selecting the cell and typing *M* or selecting the Cell/Cell Type/Markdown menu item.\n",
    "You can change the type of a cell at any time by typing *B* or *M* after selecting the cell, or using the Cell/Cell Type/Markdown or Cell/Cell Type/Code menu items.\n",
    "\n",
    "You can delete a cell by selecting it and typing *D* and *D*, or selecting the Edit/Delete Cells menu item.\n",
    "The Edit menu has commands for copying/pasting cells, moving cells, combining adjacent cells, and splitting cells.\n",
    "\n",
    "<a id=\"markdown\"></a>\n",
    "## Markdown\n",
    "[Markdown](https://jupyter-notebook.readthedocs.io/en/stable/examples/Notebook/Working%20With%20Markdown%20Cells.html) allows putting formatted text on a page, including bolding/italicizing, headings, lists, tables, images, and links to other notebooks.\n",
    "You can modify a markdown cell by clicking on the cell to select it and typing *Enter*.\n",
    "Markdown is a topic a bit beyond this notebook.\n",
    "You can go to that link to get an introduction to markdown.\n",
    "There is no need to change the markdown text cells in these notebooks if you are not creating modified versions of these notesbooks.\n",
    "\n",
    "<a id=\"code\"></a>\n",
    "## Code\n",
    "Code cells contain any valid Python code.\n",
    "You can change the code and it will run and you type *Shift-Enter*.\n",
    "These cells are \"sandboxes\" where you can then modify the code in any way and run it to learn how Python constructs work.\n",
    "You can modify the code to create different examples.\n",
    "The modified code will be saved if you save the notebook.\n"
   ]
  }
 ],
 "metadata": {
  "kernelspec": {
   "display_name": "Python 3 (ipykernel)",
   "language": "python",
   "name": "python3"
  },
  "language_info": {
   "codemirror_mode": {
    "name": "ipython",
    "version": 3
   },
   "file_extension": ".py",
   "mimetype": "text/x-python",
   "name": "python",
   "nbconvert_exporter": "python",
   "pygments_lexer": "ipython3",
   "version": "3.11.5"
  }
 },
 "nbformat": 4,
 "nbformat_minor": 5
}
