{
 "cells": [
  {
   "cell_type": "markdown",
   "id": "ca2fdb3f-52b8-4f81-9ec7-6109d4107364",
   "metadata": {},
   "source": [
    "<a id=\"dictionaries\"></a>\n",
    "## Dictionaries\n",
    "*Dictionaries* are a compound data type similar to *lists*. \n",
    "In a dictionary you look up a value using another value, a *key*, rather than looking up a value by position as in a list. \n",
    "This is like a real dictionary, you look up a definition of a word using the word. "
   ]
  },
  {
   "cell_type": "markdown",
   "id": "1387100c",
   "metadata": {},
   "source": [
    "## Creating dictionaries"
   ]
  },
  {
   "cell_type": "code",
   "execution_count": 11,
   "id": "fdb25451-a1cd-4538-b5af-412b5cdb5df1",
   "metadata": {
    "collapsed": true
   },
   "outputs": [
    {
     "name": "stdout",
     "output_type": "stream",
     "text": [
      "{'leaf': 'green', 'sky': 'blue', 'apple': 'red'}\n"
     ]
    }
   ],
   "source": [
    "D = {\"leaf\": \"green\", \"sky\": \"blue\", \"apple\": \"red\"}\n",
    "print(D)"
   ]
  },
  {
   "cell_type": "markdown",
   "id": "06e353fe-6ef9-493b-9b95-cf263bb9d233",
   "metadata": {},
   "source": [
    "The dictionary can be shown like this."
   ]
  },
  {
   "cell_type": "markdown",
   "id": "81691043-163b-4b48-bf7d-26e2480d2d3a",
   "metadata": {},
   "source": [
    "![dict1.jpg](dict1.jpg)"
   ]
  },
  {
   "cell_type": "markdown",
   "id": "79b58860",
   "metadata": {},
   "source": [
    "## Dictionaries and variables\n",
    "There is not room to store whole dictionary in a variable, so the variable stores a *pointer* to the dictionary. \n",
    "That can be shown like this. "
   ]
  },
  {
   "cell_type": "markdown",
   "id": "79f0a0e6",
   "metadata": {},
   "source": [
    "![dict2.jpg](dict2.jpg)"
   ]
  },
  {
   "cell_type": "markdown",
   "id": "1a25d6db",
   "metadata": {},
   "source": [
    "When a dictionary is assigned to a variable and that variable is assigned to another variable, the entire dictionary isn't copied into the second variable. \n",
    "Only the pointer is copied."
   ]
  },
  {
   "cell_type": "markdown",
   "id": "41817f06",
   "metadata": {},
   "source": [
    "![dict3.jpg](dict3.jpg)"
   ]
  },
  {
   "cell_type": "markdown",
   "id": "38c61b83",
   "metadata": {},
   "source": [
    "We can show that when both variables are pointing to the same dictionary, when we change the dictionary through the first variable, and we will se the change looking through the second variable."
   ]
  },
  {
   "cell_type": "code",
   "execution_count": 7,
   "id": "58d15e56",
   "metadata": {
    "collapsed": true
   },
   "outputs": [
    {
     "name": "stdout",
     "output_type": "stream",
     "text": [
      "{'leaf': 'green', 'sky': 'blue', 'apple': 'red'}\n",
      "D is  {'leaf': 'green', 'sky': 'blue', 'apple': 'yellow'}\n",
      "E is  {'leaf': 'green', 'sky': 'blue', 'apple': 'yellow'}\n"
     ]
    }
   ],
   "source": [
    "D = { \"leaf\": \"green\", \"sky\": \"blue\", \"apple\": \"red\"}\n",
    "E = D\n",
    "print(E)\n",
    "D[\"apple\"] = \"yellow\"\n",
    "print('D is ', D)\n",
    "print('E is ', E)"
   ]
  },
  {
   "cell_type": "markdown",
   "id": "c8805bcd",
   "metadata": {},
   "source": [
    "<img src=\"dict4.jpg\" width=\"400\">"
   ]
  },
  {
   "cell_type": "markdown",
   "id": "697489a2",
   "metadata": {},
   "source": [
    "## `copy` function\n",
    "To assign a dictionary  to another variable and be able to change the dictionary through the second variable without affecting the first dictionary , the `copy` function makes a copy of the dictionary before assigning it to the second variable. \n",
    "Changing the second dictionary then doesn't change the first dictionary."
   ]
  },
  {
   "cell_type": "code",
   "execution_count": 15,
   "id": "5dbdf1ef",
   "metadata": {
    "collapsed": true
   },
   "outputs": [
    {
     "name": "stdout",
     "output_type": "stream",
     "text": [
      "{'leaf': 'green', 'sky': 'blue', 'apple': 'red'}\n",
      "after D[\"apple\"] = \"yellow\"\n",
      "D is  {'leaf': 'green', 'sky': 'blue', 'apple': 'yellow'}\n",
      "E is  {'leaf': 'green', 'sky': 'blue', 'apple': 'red'}\n"
     ]
    }
   ],
   "source": [
    "D = { \"leaf\": \"green\", \"sky\": \"blue\", \"apple\": \"red\"}\n",
    "E = D.copy()\n",
    "print(E)\n",
    "D[\"apple\"] = \"yellow\"\n",
    "print('after D[\"apple\"] = \"yellow\"')\n",
    "print(\"D is \", D)\n",
    "print(\"E is \", E)"
   ]
  },
  {
   "cell_type": "markdown",
   "id": "f9053b90",
   "metadata": {},
   "source": [
    "![dict5.jpg ](dict5.jpg)"
   ]
  },
  {
   "cell_type": "markdown",
   "id": "bbb7606e",
   "metadata": {},
   "source": [
    "## Getting data from dictionaries\n",
    "Each dictionary item can be accessed with '[' and ']', where *dictionary*`[`*key*`]` gives the value that is assigned for that key in the dictionary. "
   ]
  },
  {
   "cell_type": "code",
   "execution_count": 1,
   "id": "79ee67a7-7286-4218-acfe-b9b4d2d7a0af",
   "metadata": {
    "collapsed": true
   },
   "outputs": [
    {
     "name": "stdout",
     "output_type": "stream",
     "text": [
      "D[\"leaf\"] is  green\n",
      "D[\"apple\"] is  red\n"
     ]
    }
   ],
   "source": [
    "D = {\"leaf\": \"green\", \"sky\": \"blue\", \"apple\": \"red\"}\n",
    "print('D[\"leaf\"] is ', D[\"leaf\"])\n",
    "print('D[\"apple\"] is ', D[\"apple\"])"
   ]
  },
  {
   "cell_type": "markdown",
   "id": "4301966a-356b-430f-9d60-12e433374f70",
   "metadata": {},
   "source": [
    "The value of a dictionary item for a key can be changed by assigning that item with the key in square brackets `[` and `]`. "
   ]
  },
  {
   "cell_type": "code",
   "execution_count": 2,
   "id": "d6806c30-f2bd-42a3-a82b-0ab21d6e527c",
   "metadata": {
    "collapsed": true
   },
   "outputs": [
    {
     "name": "stdout",
     "output_type": "stream",
     "text": [
      "D[\"apple\"] is  honeycrisp\n"
     ]
    }
   ],
   "source": [
    "D[\"apple\"] = \"honeycrisp\"\n",
    "print('D[\"apple\"] is ', D[\"apple\"])"
   ]
  },
  {
   "cell_type": "markdown",
   "id": "9c9e4dfa-0156-432c-b63e-57aebf6d02ca",
   "metadata": {},
   "source": [
    "New dictionary items can be created by assigning a value with a new key in square brackets `[` and `]`. "
   ]
  },
  {
   "cell_type": "code",
   "execution_count": 3,
   "id": "3a80f935-0f67-4ef7-8acb-623842f9e729",
   "metadata": {
    "collapsed": true
   },
   "outputs": [
    {
     "name": "stdout",
     "output_type": "stream",
     "text": [
      "{'leaf': 'green', 'sky': 'blue', 'apple': 'red', 'earth': 'brown'}\n"
     ]
    }
   ],
   "source": [
    "D = { \"leaf\": \"green\", \"sky\": \"blue\", \"apple\": \"red\"}\n",
    "D[\"earth\"] = \"brown\"\n",
    "print(D)"
   ]
  },
  {
   "cell_type": "markdown",
   "id": "a3c5cea7",
   "metadata": {},
   "source": [
    "You can test if an item is in a dictionary with the `in` and `not in` operators."
   ]
  },
  {
   "cell_type": "code",
   "execution_count": 4,
   "id": "aff91db8",
   "metadata": {
    "collapsed": true
   },
   "outputs": [
    {
     "name": "stdout",
     "output_type": "stream",
     "text": [
      "\"leaf\" in  {'leaf': 'green', 'sky': 'blue', 'apple': 'red'} True\n",
      "\"leaf\" not in  {'leaf': 'green', 'sky': 'blue', 'apple': 'red'} False\n"
     ]
    }
   ],
   "source": [
    "D = { \"leaf\": \"green\", \"sky\": \"blue\", \"apple\": \"red\"}\n",
    "print('\"leaf\" in ', D, \"leaf\" in D)\n",
    "print('\"leaf\" not in ', D, \"leaf\" not in D)"
   ]
  },
  {
   "cell_type": "markdown",
   "id": "a64729cf",
   "metadata": {
    "tags": []
   },
   "source": [
    "### `get` function\n",
    "The `get` the value for a key in a dictionary."
   ]
  },
  {
   "cell_type": "code",
   "execution_count": 5,
   "id": "06b0e2ec",
   "metadata": {
    "collapsed": true
   },
   "outputs": [
    {
     "name": "stdout",
     "output_type": "stream",
     "text": [
      "D.get(\"leaf\") is  green\n",
      "this is the same as D[\"leaf\"]  green\n"
     ]
    }
   ],
   "source": [
    "D = {\"leaf\": \"green\", \"sky\": \"blue\", \"apple\": \"red\"}\n",
    "print('D.get(\"leaf\") is ', D.get(\"leaf\"))\n",
    "print('this is the same as D[\"leaf\"] ', D[\"leaf\"])"
   ]
  },
  {
   "cell_type": "markdown",
   "id": "fa4f1961",
   "metadata": {},
   "source": [
    "### `keys` function\n",
    "The `keys` function gives a list of the dictionary keys. The keys are not actually in `list` form, you need the `list` function to convert them to a list."
   ]
  },
  {
   "cell_type": "code",
   "execution_count": 6,
   "id": "4defa7b6",
   "metadata": {
    "collapsed": true
   },
   "outputs": [
    {
     "name": "stdout",
     "output_type": "stream",
     "text": [
      "D.keys() as a list is  ['leaf', 'sky', 'apple']\n"
     ]
    }
   ],
   "source": [
    "D = {\"leaf\": \"green\", \"sky\": \"blue\", \"apple\": \"red\"}\n",
    "print(\"D.keys() as a list is \", list(D.keys()))"
   ]
  },
  {
   "cell_type": "markdown",
   "id": "102f9a8b",
   "metadata": {
    "tags": []
   },
   "source": [
    "## `len` function\n",
    "The `len` function has the value of the dictionary length."
   ]
  },
  {
   "cell_type": "code",
   "execution_count": 7,
   "id": "42104718",
   "metadata": {
    "collapsed": true
   },
   "outputs": [
    {
     "name": "stdout",
     "output_type": "stream",
     "text": [
      "len(D) is  3\n"
     ]
    }
   ],
   "source": [
    "D = {\"leaf\": \"green\", \"sky\": \"blue\", \"apple\": \"red\"}\n",
    "print(\"len(D) is \", len(D))"
   ]
  },
  {
   "cell_type": "markdown",
   "id": "6f4ef97b",
   "metadata": {},
   "source": [
    "### `values` function\n",
    "The `values` function gives a list of the dictionary values. The keys are not actually in `list` form, you need the `list` function to convert them to a list."
   ]
  },
  {
   "cell_type": "code",
   "execution_count": 8,
   "id": "ca1d07a0",
   "metadata": {
    "collapsed": true
   },
   "outputs": [
    {
     "name": "stdout",
     "output_type": "stream",
     "text": [
      "D.values() as a list is  ['green', 'blue', 'red']\n"
     ]
    }
   ],
   "source": [
    "D = {\"leaf\": \"green\", \"sky\": \"blue\", \"apple\": \"red\"}\n",
    "print(\"D.values() as a list is \", list(D.values()))"
   ]
  },
  {
   "cell_type": "markdown",
   "id": "585a4ab2",
   "metadata": {},
   "source": [
    "## Functions that change dictionaries"
   ]
  },
  {
   "cell_type": "markdown",
   "id": "0d2d2678",
   "metadata": {},
   "source": [
    "## `clear` function\n",
    "The `clear` function removes all items from a dictionary."
   ]
  },
  {
   "cell_type": "code",
   "execution_count": 9,
   "id": "0eeda698",
   "metadata": {
    "collapsed": true
   },
   "outputs": [
    {
     "name": "stdout",
     "output_type": "stream",
     "text": [
      "D before clear() is  {'leaf': 'green', 'sky': 'blue', 'apple': 'red'}\n",
      "D after clear() is  {}\n"
     ]
    }
   ],
   "source": [
    "D = { \"leaf\": \"green\", \"sky\": \"blue\", \"apple\": \"red\"}\n",
    "print(\"D before clear() is \", D)\n",
    "D.clear()\n",
    "print(\"D after clear() is \", D)"
   ]
  },
  {
   "cell_type": "markdown",
   "id": "277696fa-e18c-4330-a4c5-3dfe59aba726",
   "metadata": {},
   "source": [
    "## `pop` function and `del` operator\n",
    "The `pop` function can remove an item from a dictionary. \n",
    "The key of the value to remove is the first argument to `pop`. \n",
    "The dictionary is one value smaller after `pop`. "
   ]
  },
  {
   "cell_type": "code",
   "execution_count": 10,
   "id": "d9d764b2-cf43-4e0c-baeb-4c88c586c68f",
   "metadata": {
    "collapsed": true
   },
   "outputs": [
    {
     "name": "stdout",
     "output_type": "stream",
     "text": [
      "after D.pop(\"leaf\"), D is  {'sky': 'blue', 'apple': 'red'}\n"
     ]
    }
   ],
   "source": [
    "D = {\"leaf\": \"green\", \"sky\": \"blue\", \"apple\": \"red\"}\n",
    "D.pop(\"leaf\")\n",
    "print('after D.pop(\"leaf\"), D is ', D)"
   ]
  },
  {
   "cell_type": "markdown",
   "id": "00ba3863",
   "metadata": {},
   "source": [
    "The `del` operator can remove an item too."
   ]
  },
  {
   "cell_type": "code",
   "execution_count": 11,
   "id": "e84584b8",
   "metadata": {},
   "outputs": [
    {
     "name": "stdout",
     "output_type": "stream",
     "text": [
      "after del D[\"sky\"], D is  {'leaf': 'green', 'apple': 'red'}\n"
     ]
    }
   ],
   "source": [
    "D = {\"leaf\": \"green\", \"sky\": \"blue\", \"apple\": \"red\"}\n",
    "del D[\"sky\"]\n",
    "print('after del D[\"sky\"], D is ', D)"
   ]
  },
  {
   "cell_type": "markdown",
   "id": "111adcdd",
   "metadata": {},
   "source": [
    "## Tests with dictionaries\n",
    "The `in` operator tests if a key is in a dictionary."
   ]
  },
  {
   "cell_type": "markdown",
   "id": "a790b5a6",
   "metadata": {},
   "source": [
    "## `in` in dictionaries\n",
    "`in` can be used to test if a key is in a dictionary."
   ]
  },
  {
   "cell_type": "code",
   "execution_count": 12,
   "id": "74766192",
   "metadata": {
    "collapsed": true
   },
   "outputs": [
    {
     "name": "stdout",
     "output_type": "stream",
     "text": [
      "\"sky\" is in  {'sky': 'blue', 'leaf': 'green'}\n"
     ]
    }
   ],
   "source": [
    "D = {\"sky\": \"blue\", \"leaf\": \"green\"}\n",
    "if \"sky\" in D:\n",
    "    print('\"sky\" is in ', D)\n",
    "if \"red\" in D:\n",
    "    print('\"red\" is in ', D)"
   ]
  },
  {
   "cell_type": "markdown",
   "id": "120d9015",
   "metadata": {},
   "source": [
    "`in` can also be used to loop through the keys and values in a dictionary.\n",
    "`.items()` has to be used at the end of the dictionary."
   ]
  },
  {
   "cell_type": "code",
   "execution_count": 13,
   "id": "d82e36fd",
   "metadata": {
    "collapsed": true
   },
   "outputs": [
    {
     "name": "stdout",
     "output_type": "stream",
     "text": [
      "key  leaf  value  green\n",
      "key  sky  value  blue\n",
      "key  apple  value  red\n"
     ]
    }
   ],
   "source": [
    "for k, v in {\"leaf\": \"green\", \"sky\": \"blue\", \"apple\": \"red\"}.items():\n",
    "     print(\"key \", k, \" value \", v)"
   ]
  },
  {
   "cell_type": "markdown",
   "id": "e4fba93e",
   "metadata": {},
   "source": [
    "## `not in` in dictionaries\n",
    "`not in` can be used to test if a key is not in a dictionary."
   ]
  },
  {
   "cell_type": "code",
   "execution_count": 14,
   "id": "c59ec0e7",
   "metadata": {
    "collapsed": true
   },
   "outputs": [
    {
     "name": "stdout",
     "output_type": "stream",
     "text": [
      "False\n",
      "True\n"
     ]
    }
   ],
   "source": [
    "print(\"leaf\" not in {\"leaf\": \"green\", \"sky\": \"blue\", \"apple\": \"red\"})\n",
    "print(\"yellow\" not in {\"leaf\": \"green\", \"sky\": \"blue\", \"apple\": \"red\"})"
   ]
  },
  {
   "cell_type": "markdown",
   "id": "9eb229b8",
   "metadata": {},
   "source": [
    "<a id=\"for-loop-dictionaries\"></a>\n",
    "## `for` loop with dictionaries\n",
    "\n",
    "This `for` loop runs for each item in a dictionary.\n",
    "`in` can also be used to loop through the keys and values in a dictionary. .items() has to be used at the end of the dictionary.\n",
    "Note that two variables are used in the `for` loop,\n",
    "the key and the value for each item."
   ]
  },
  {
   "cell_type": "code",
   "execution_count": 15,
   "id": "299f3ad8",
   "metadata": {
    "collapsed": true
   },
   "outputs": [
    {
     "name": "stdout",
     "output_type": "stream",
     "text": [
      "key  leaf  value  green\n",
      "key  sky  value  blue\n",
      "key  apple  value  red\n"
     ]
    }
   ],
   "source": [
    "for k, v in {\"leaf\": \"green\", \"sky\": \"blue\", \"apple\": \"red\"}.items():\n",
    "     print(\"key \", k, \" value \", v)"
   ]
  },
  {
   "cell_type": "markdown",
   "id": "4dab808d",
   "metadata": {},
   "source": [
    "You can loop throught just the keys with the `keys` function"
   ]
  },
  {
   "cell_type": "code",
   "execution_count": 16,
   "id": "48ac6ed8",
   "metadata": {
    "collapsed": true
   },
   "outputs": [
    {
     "name": "stdout",
     "output_type": "stream",
     "text": [
      "key  leaf\n",
      "key  sky\n",
      "key  apple\n"
     ]
    }
   ],
   "source": [
    "for k in {\"leaf\": \"green\", \"sky\": \"blue\", \"apple\": \"red\"}.keys():\n",
    "     print(\"key \", k)"
   ]
  },
  {
   "cell_type": "markdown",
   "id": "31d5836c",
   "metadata": {},
   "source": [
    "You can loop through the values with the `values` function"
   ]
  },
  {
   "cell_type": "code",
   "execution_count": 19,
   "id": "3264d7f0",
   "metadata": {
    "collapsed": true
   },
   "outputs": [
    {
     "name": "stdout",
     "output_type": "stream",
     "text": [
      " value  green\n",
      " value  blue\n",
      " value  red\n"
     ]
    }
   ],
   "source": [
    "for v in {\"leaf\": \"green\", \"sky\": \"blue\", \"apple\": \"red\"}.values():\n",
    "     print(\" value \", v)"
   ]
  },
  {
   "cell_type": "markdown",
   "id": "094ce829",
   "metadata": {},
   "source": [
    "<a id=\"dictionary-comprehensions\"></a>\n",
    "## Dictionary comprehensions\n",
    "\n",
    "Dictionaries can be made using `for` loops. \n",
    "A *dictionary comprehension* has a `for` loop inside `{` and `}` to create the items in a dictionary. \n",
    "Dictionary comprehensions look like:\n",
    "\n",
    "`[`*key*: *value* `for` *variable* `in` *group*`]`\n",
    "\n",
    "where the *key* gives a value for the key and the *value*  gives the key value, either or both using the *variable*."
   ]
  },
  {
   "cell_type": "code",
   "execution_count": 20,
   "id": "7dc8ec29",
   "metadata": {
    "collapsed": true
   },
   "outputs": [
    {
     "name": "stdout",
     "output_type": "stream",
     "text": [
      "keys[i]: values[i] for i in range(len(keys))} is {'sky': 'blue', 'leaf': 'green'}\n"
     ]
    }
   ],
   "source": [
    "keys = [\"sky\", \"leaf\"]\n",
    "values = [\"blue\", \"green\"]\n",
    "colors = {keys[i]: values[i] for i in range(len(keys))}\n",
    "print(\"keys[i]: values[i] for i in range(len(keys))} is \", end=\"\")\n",
    "print(colors)"
   ]
  },
  {
   "cell_type": "markdown",
   "id": "d7eb678a",
   "metadata": {},
   "source": [
    "Dictionary comprehensions can make creating many different kinds of dictionaries easier because any formula or `for` loop can be used."
   ]
  }
 ],
 "metadata": {
  "kernelspec": {
   "display_name": "Python 3 (ipykernel)",
   "language": "python",
   "name": "python3"
  },
  "language_info": {
   "codemirror_mode": {
    "name": "ipython",
    "version": 3
   },
   "file_extension": ".py",
   "mimetype": "text/x-python",
   "name": "python",
   "nbconvert_exporter": "python",
   "pygments_lexer": "ipython3",
   "version": "3.11.5"
  }
 },
 "nbformat": 4,
 "nbformat_minor": 5
}
