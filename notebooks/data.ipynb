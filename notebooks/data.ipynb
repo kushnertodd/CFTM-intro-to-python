{
 "cells": [
  {
   "cell_type": "markdown",
   "id": "ddc84f49-9a41-42f6-ba89-da8ee6f43501",
   "metadata": {
    "tags": []
   },
   "source": [
    "# Data Types\n",
    "Numbers and strings are only two types of data in Python. \n",
    "Numbers and strings start as *literal constants* and are the most basic types of data in Python. \n",
    "`\"hello\"` and `5` are literal constants.\n",
    "Python instructions can combine these values with different *operations* and can store them in variables. \n",
    "Instructions can use literal constants or can use the values stored in variables. \n",
    "Values can be combined it collections such as lists and dictionaries.\n",
    "\n",
    "In Python, the data type is set when you assign a value to a variable:\n",
    "x = \"Hello World\"\tstr\t\n",
    "x = 20\tint\t\n",
    "x = 20.5\tfloat\t\n",
    "x = [\"apple\", \"banana\", \"cherry\"]\tlist\t\n",
    "x = range(6)\trange\t\n",
    "x = {\"name\" : \"John\", \"age\" : 36}\tdict\n",
    "\n",
    "[Numbers](./numbers.ipynb)    \n",
    "[Strings](./strings.ipynb)  \n",
    "[Lists](./lists.ipynb)  \n",
    "[Dictionaries](./dictionaries.ipynb)  \n",
    "[Example](./data-structures.ipynb)"
   ]
  },
  {
   "cell_type": "code",
   "execution_count": null,
   "id": "24e65031",
   "metadata": {},
   "outputs": [],
   "source": []
  }
 ],
 "metadata": {
  "kernelspec": {
   "display_name": "Python 3 (ipykernel)",
   "language": "python",
   "name": "python3"
  },
  "language_info": {
   "codemirror_mode": {
    "name": "ipython",
    "version": 3
   },
   "file_extension": ".py",
   "mimetype": "text/x-python",
   "name": "python",
   "nbconvert_exporter": "python",
   "pygments_lexer": "ipython3",
   "version": "3.11.5"
  }
 },
 "nbformat": 4,
 "nbformat_minor": 5
}
