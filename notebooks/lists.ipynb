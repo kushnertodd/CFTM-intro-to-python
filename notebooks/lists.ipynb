{
 "cells": [
  {
   "cell_type": "markdown",
   "id": "a38021ef-1d62-4f3e-9960-fe74d05016b5",
   "metadata": {},
   "source": [
    "\n",
    "<a id=\"lists\"></a>\n",
    "# Lists\n",
    "The simplest compound data type are *lists*. "
   ]
  },
  {
   "cell_type": "markdown",
   "id": "f044f682",
   "metadata": {},
   "source": [
    "## Creating lists\n",
    "Lists collect a series of other data type values in order between square brackets `[` and `]`. \n",
    "As with strings, the first element is 0 rather than 1."
   ]
  },
  {
   "cell_type": "code",
   "execution_count": 1,
   "id": "ca0d087f-b58d-4948-bf27-fd56a507e757",
   "metadata": {
    "collapsed": true
   },
   "outputs": [
    {
     "name": "stdout",
     "output_type": "stream",
     "text": [
      "[5, 9, 1]\n"
     ]
    }
   ],
   "source": [
    "L = [5, 9, 1]\n",
    "print(L)"
   ]
  },
  {
   "cell_type": "markdown",
   "id": "0944fb82",
   "metadata": {},
   "source": [
    "The list can be shown like this."
   ]
  },
  {
   "cell_type": "markdown",
   "id": "f418c4a6",
   "metadata": {},
   "source": [
    "![list1.jpg](list1.jpg)"
   ]
  },
  {
   "cell_type": "markdown",
   "id": "038c1b31",
   "metadata": {},
   "source": [
    "Lists can be combinations of any data types."
   ]
  },
  {
   "cell_type": "code",
   "execution_count": 2,
   "id": "bb964964",
   "metadata": {
    "scrolled": true
   },
   "outputs": [
    {
     "name": "stdout",
     "output_type": "stream",
     "text": [
      "[5, '9', 1.0]\n"
     ]
    }
   ],
   "source": [
    "L = [5, \"9\", 1.0]\n",
    "print(L)"
   ]
  },
  {
   "cell_type": "markdown",
   "id": "51c55a84",
   "metadata": {},
   "source": [
    "## Lists and variables\n",
    "There is not room to store the whole list in a variable, so the variable stores a *pointer* to the list. \n",
    "That can be shown like this. "
   ]
  },
  {
   "cell_type": "markdown",
   "id": "a8e0ef63",
   "metadata": {},
   "source": [
    "![list2.jpg](list2.jpg)"
   ]
  },
  {
   "cell_type": "markdown",
   "id": "698128e7",
   "metadata": {},
   "source": [
    "When a list is assigned to a variable and that variable is assigned to another variable, the entire list isn't copied into the second variable. \n",
    "Only the *pointer* is copied."
   ]
  },
  {
   "cell_type": "markdown",
   "id": "2fa31b2a",
   "metadata": {},
   "source": [
    "![list3.jpg](list3.jpg)"
   ]
  },
  {
   "cell_type": "markdown",
   "id": "51a3ec5c",
   "metadata": {},
   "source": [
    "We can show that when both variables are pointing to the same list, when we change the list through the first variable we will see the change when looking through the second variable."
   ]
  },
  {
   "cell_type": "code",
   "execution_count": 8,
   "id": "6e9409bc",
   "metadata": {
    "collapsed": true
   },
   "outputs": [
    {
     "name": "stdout",
     "output_type": "stream",
     "text": [
      "[5, 9, 1]\n",
      "after L[1] = 2, L is  [5, 2, 1]  and M is  [5, 2, 1]\n"
     ]
    }
   ],
   "source": [
    "L = [5, 9, 1]\n",
    "M = L\n",
    "print(M)\n",
    "L[1] = 2\n",
    "print(\"after L[1] = 2, L is \", L, \" and M is \", M)"
   ]
  },
  {
   "cell_type": "markdown",
   "id": "6498713b",
   "metadata": {},
   "source": [
    "<img src=\"list4.jpg\" width=\"400\">"
   ]
  },
  {
   "cell_type": "markdown",
   "id": "91d55e3a",
   "metadata": {},
   "source": [
    "### `copy` function\n",
    "To assign a list to another variable and be able to change the list through the second variable without affecting the first list, the `copy` function makes a copy of the list before assigning it to the second variable. \n",
    "Changing the second list then doesn't change the first list."
   ]
  },
  {
   "cell_type": "code",
   "execution_count": 9,
   "id": "09b71aaa",
   "metadata": {
    "collapsed": true
   },
   "outputs": [
    {
     "name": "stdout",
     "output_type": "stream",
     "text": [
      "[5, 9, 1]\n",
      "after L[1] = 2, L is  [5, 2, 1]  and M is  [5, 9, 1]\n"
     ]
    }
   ],
   "source": [
    "L = [5, 9, 1]\n",
    "M = L.copy()\n",
    "print(M)\n",
    "L[1] = 2\n",
    "print(\"after L[1] = 2, L is \", L, \" and M is \", M)"
   ]
  },
  {
   "cell_type": "markdown",
   "id": "a3436bbd",
   "metadata": {},
   "source": [
    "![list5.jpg](list5.jpg)"
   ]
  },
  {
   "cell_type": "markdown",
   "id": "14fb04ef",
   "metadata": {},
   "source": [
    "## Operations on lists"
   ]
  },
  {
   "cell_type": "markdown",
   "id": "fd7b37eb-2e53-47d4-9dd8-716d2394294c",
   "metadata": {},
   "source": [
    "Lists can be combined with the `+` add operator. "
   ]
  },
  {
   "cell_type": "code",
   "execution_count": 3,
   "id": "25c3196c-aeee-4e53-ac6d-0c143127485f",
   "metadata": {},
   "outputs": [
    {
     "name": "stdout",
     "output_type": "stream",
     "text": [
      "[5, 9, 10] + [4, 7] is  3\n"
     ]
    }
   ],
   "source": [
    "print(\"[5, 9, 10] + [4, 7] is \", L = [5, 9, 10] + [4, 7])"
   ]
  },
  {
   "cell_type": "markdown",
   "id": "25402114-3746-44ff-a6a1-f3bac9754424",
   "metadata": {},
   "source": [
    "The `+=` shortcut works as well."
   ]
  },
  {
   "cell_type": "code",
   "execution_count": 6,
   "id": "f2e48add-707d-487d-bae4-3dc4dfd54a0f",
   "metadata": {},
   "outputs": [
    {
     "name": "stdout",
     "output_type": "stream",
     "text": [
      "[5, 9, 10] + [4, 7] is  [5, 9, 10, 4, 7]\n"
     ]
    }
   ],
   "source": [
    "L = [5, 9, 10]\n",
    "L += [4, 7]\n",
    "print(\"[5, 9, 10] + [4, 7] is \", L)"
   ]
  },
  {
   "cell_type": "markdown",
   "id": "32763ae2-6904-4e66-8a41-6cf24d78011f",
   "metadata": {},
   "source": [
    "Lists can be repeated with the `*` multiplication operator. "
   ]
  },
  {
   "cell_type": "code",
   "execution_count": 5,
   "id": "5dc2c886-e9c3-4de3-bca7-1b04b742b05a",
   "metadata": {
    "collapsed": true
   },
   "outputs": [
    {
     "name": "stdout",
     "output_type": "stream",
     "text": [
      "[1, 2] * 3 is  [1, 2, 1, 2, 1, 2]\n"
     ]
    }
   ],
   "source": [
    "L = [1, 2] * 3\n",
    "print(\"[1, 2] * 3 is \", L)"
   ]
  },
  {
   "cell_type": "markdown",
   "id": "64afdae5-14d8-4f9c-ab3f-3cf2bb18ea73",
   "metadata": {},
   "source": [
    "The `*=` shortcut works as well."
   ]
  },
  {
   "cell_type": "code",
   "execution_count": 4,
   "id": "963d4945-37c6-4cc6-94a2-4de817f5c624",
   "metadata": {
    "collapsed": true
   },
   "outputs": [
    {
     "name": "stdout",
     "output_type": "stream",
     "text": [
      "[4, 5] * 2 is  [4, 5, 4, 5]\n"
     ]
    }
   ],
   "source": [
    "L = [4, 5]\n",
    "L *= 2\n",
    "print(\"[4, 5] * 2 is \", L)"
   ]
  },
  {
   "cell_type": "markdown",
   "id": "b4830550-7d6b-4157-ae90-6450991c09c2",
   "metadata": {},
   "source": [
    "## Getting data from lists\n",
    "Each list item value can be accessed  with `[` and `]`, where *list*`[`*position*`]` gives the item at *position* in the list. \n",
    "List operators and functions count item positions from 0 rather than 1.\n",
    "The list can count *position* from the beginning of the list or if *position* is negative, it can count from the back of the list. "
   ]
  },
  {
   "cell_type": "code",
   "execution_count": 31,
   "id": "d89273a5-8c39-43c2-81c3-dcac0d8e382b",
   "metadata": {
    "collapsed": true
   },
   "outputs": [
    {
     "name": "stdout",
     "output_type": "stream",
     "text": [
      "x is  5\n",
      "y is  9\n",
      "z is  1\n"
     ]
    }
   ],
   "source": [
    "L = [5, 9, 1]\n",
    "x = L[0]\n",
    "y = L[-2]\n",
    "z = L[2]\n",
    "print(\"x is \", x)\n",
    "print(\"y is \", y)\n",
    "print(\"z is \", z)"
   ]
  },
  {
   "cell_type": "markdown",
   "id": "100239a7-40d9-411f-b960-18cfd686428c",
   "metadata": {},
   "source": [
    "The value of an list item can be changed in the list by assigning an item with its position in square brackets `[` and `]`. \n",
    "Like before, positions start from 0. "
   ]
  },
  {
   "cell_type": "code",
   "execution_count": 7,
   "id": "09eee661-deaf-42f4-a3ce-e596a4485ebf",
   "metadata": {
    "collapsed": true
   },
   "outputs": [
    {
     "name": "stdout",
     "output_type": "stream",
     "text": [
      "[4, 6, 2]\n"
     ]
    }
   ],
   "source": [
    "L = [5, 9, 1]\n",
    "L[0] = 4 \n",
    "L[-2] = 6 \n",
    "L[2] = 2 \n",
    "print(L)"
   ]
  },
  {
   "cell_type": "markdown",
   "id": "c2fb3249",
   "metadata": {},
   "source": [
    "### Slices\n",
    "Lists that are part of other lists are *slices* or *sublists*. \n",
    "The slice operator looks like *variable*`[`*start*`:`*end*`]` where the slice are all the items from the item in the *start* position to the item *just before* the *end* position. \n",
    "The slice operator does not affect the original list, only the list slice is given as the slice\n",
    "value.\n",
    "\n",
    "A slice that has no *start* starts from the beginning of the list. \n",
    "A slice that has no *end* goes to the end of the list. "
   ]
  },
  {
   "cell_type": "code",
   "execution_count": 10,
   "id": "05d5ee67",
   "metadata": {
    "collapsed": true
   },
   "outputs": [
    {
     "name": "stdout",
     "output_type": "stream",
     "text": [
      "L[0:1] is  [5]\n",
      "L[:3] is  [5, 19, 1]\n",
      "L[4:] is  [8, 21]\n"
     ]
    }
   ],
   "source": [
    "L = [5, 19, 1, 10, 8, 21]\n",
    "x = L[:1]\n",
    "print(\"L[0:1] is \", x)\n",
    "x = L[:3]\n",
    "print(\"L[:3] is \", x)\n",
    "x = L[4:]\n",
    "print(\"L[4:] is \", x)"
   ]
  },
  {
   "cell_type": "markdown",
   "id": "09192e3f",
   "metadata": {},
   "source": [
    "Change a range of tem Values\n",
    "To change the value of items within a specific range, define a list with the new values, and refer to the range of index numbers where you want to insert the new values:"
   ]
  },
  {
   "cell_type": "code",
   "execution_count": null,
   "id": "7df44bd6",
   "metadata": {},
   "outputs": [],
   "source": [
    "thislist = [\"apple\", \"banana\", \"cherry\", \"orange\", \"kiwi\", \"mango\"]\n",
    "thislist[1:3] = [\"blackcurrant\", \"watermelon\"]\n",
    "print(thislist)"
   ]
  },
  {
   "cell_type": "markdown",
   "id": "fd795352",
   "metadata": {},
   "source": [
    "### `count` function\n",
    "Return the number of times the value \"cherry\" appears in the fruits list:"
   ]
  },
  {
   "cell_type": "code",
   "execution_count": null,
   "id": "eb948e60",
   "metadata": {},
   "outputs": [],
   "source": [
    "fruits = ['apple', 'banana', 'cherry']\n",
    "\n",
    "x = fruits.count(\"cherry\")"
   ]
  },
  {
   "cell_type": "markdown",
   "id": "1153b1c5",
   "metadata": {},
   "source": [
    "## `index` function\n",
    "The `index` function finds the position of an item in a list.\n",
    "The index begins at 0."
   ]
  },
  {
   "cell_type": "code",
   "execution_count": 6,
   "id": "6abaabd3",
   "metadata": {
    "collapsed": true
   },
   "outputs": [
    {
     "name": "stdout",
     "output_type": "stream",
     "text": [
      "1\n"
     ]
    }
   ],
   "source": [
    "  print([\"a\", \"b\", \"c\"].index(\"b\"))"
   ]
  },
  {
   "cell_type": "markdown",
   "id": "f0ce2de8-001b-4ba7-9aef-6af8c49ff276",
   "metadata": {
    "tags": []
   },
   "source": [
    "## `len` function\n",
    "The `len` function gives the value of the list length."
   ]
  },
  {
   "cell_type": "code",
   "execution_count": 5,
   "id": "f0744bc1-ee9b-40e9-a567-d102587fcc14",
   "metadata": {
    "collapsed": true
   },
   "outputs": [
    {
     "name": "stdout",
     "output_type": "stream",
     "text": [
      "3\n"
     ]
    }
   ],
   "source": [
    "L = [5, 9, 1]\n",
    "print(len(L))"
   ]
  },
  {
   "cell_type": "code",
   "execution_count": 55,
   "id": "02a44c80-a6d2-4db1-8f16-8681d95ef3fa",
   "metadata": {
    "collapsed": true
   },
   "outputs": [
    {
     "name": "stdout",
     "output_type": "stream",
     "text": [
      "after L.insert(0, 7), L is  [7, 5, 9, 1]\n"
     ]
    }
   ],
   "source": [
    "L = [5, 9, 1]\n",
    "L.insert(0, 7)\n",
    "print(\"after L.insert(0, 7), L is \", L)"
   ]
  },
  {
   "cell_type": "markdown",
   "id": "e4e961ac",
   "metadata": {},
   "source": [
    "## `range` function\n",
    "The `range` function creates a list with a range of values. \n",
    "The three forms of it are\n",
    "- `range(`*stop*`)`\n",
    "- `range(`*start*, *stop*`)`\n",
    "- `range(`*start*, *stop*, *step*`)`\n",
    "\n",
    "`range` does not directly return a list. It is used in loops described in [Instruction control](./instruction-control.ipynb).\n",
    "You use `list` to return a `range` as a list."
   ]
  },
  {
   "cell_type": "code",
   "execution_count": 8,
   "id": "76fc7536",
   "metadata": {
    "collapsed": true
   },
   "outputs": [
    {
     "name": "stdout",
     "output_type": "stream",
     "text": [
      "[0, 1, 2, 3, 4, 5, 6, 7, 8, 9]\n",
      "[1, 2, 3, 4, 5, 6, 7, 8, 9, 10]\n",
      "[0, 5, 10, 15, 20, 25]\n",
      "[0, -1, -2, -3, -4, -5, -6, -7, -8, -9]\n",
      "[]\n"
     ]
    }
   ],
   "source": [
    "print(list(range(10)))\n",
    "print(list(range(1, 11)))\n",
    "print(list(range(0, 30, 5)))\n",
    "print(list(range(0, -10, -1)))\n",
    "print(list(range(0)))"
   ]
  },
  {
   "cell_type": "markdown",
   "id": "831dd3b9-f74c-4b11-9157-2287c7e03a60",
   "metadata": {},
   "source": [
    "## `sum`, `min`, `max` functions\n",
    "\n",
    "Lists that are just numbers have functions to give the sum, minimum, and maximum. "
   ]
  },
  {
   "cell_type": "code",
   "execution_count": 48,
   "id": "ee831d4a-8b3f-4dd4-9dd3-634dabf2312f",
   "metadata": {
    "collapsed": true
   },
   "outputs": [
    {
     "name": "stdout",
     "output_type": "stream",
     "text": [
      "sum( [4, 1, 8, 2] ) =  15\n",
      "min( [4, 1, 8, 2] ) =  1\n",
      "max( [4, 1, 8, 2] ) =  8\n"
     ]
    }
   ],
   "source": [
    "L = [4, 1, 8, 2]\n",
    "print(\"sum(\", L, \") = \", sum(L))\n",
    "print(\"min(\", L, \") = \", min(L))\n",
    "print(\"max(\", L, \") = \", max(L))"
   ]
  },
  {
   "cell_type": "markdown",
   "id": "cd4a632b",
   "metadata": {},
   "source": [
    "## Functions that change lists\n",
    "Some functions change lists in place."
   ]
  },
  {
   "cell_type": "markdown",
   "id": "8362189b",
   "metadata": {},
   "source": [
    "### `append` function\n",
    "New items can be added at the end of the list with the `append` function."
   ]
  },
  {
   "cell_type": "markdown",
   "id": "2a72509e",
   "metadata": {},
   "source": [
    "When the `append` function is called for a list, \n",
    "the way it is called is *list*.`append(`*item*`)`. \n",
    "The list is still given to `append` as an argument even though it is not passed between `(` and `)`. \n",
    "When a list is given as an argument to a function, the pointer is given to the function.\n",
    "Those functions then can use the pointer to change the list,\n",
    "then the list will still be changed when the function is done. \n",
    "\n",
    "<img  src=\"list6.jpg\" width=\"400\">"
   ]
  },
  {
   "cell_type": "code",
   "execution_count": 13,
   "id": "0f7a11fa",
   "metadata": {
    "collapsed": true
   },
   "outputs": [
    {
     "name": "stdout",
     "output_type": "stream",
     "text": [
      "after L.append(15), L is  [5, 9, 1, 15]\n"
     ]
    }
   ],
   "source": [
    "L = [5, 9, 1]\n",
    "L.append(15)\n",
    "print(\"after L.append(15), L is \", L)"
   ]
  },
  {
   "cell_type": "markdown",
   "id": "4ef32678",
   "metadata": {},
   "source": [
    "### `clear` function\n",
    "The clear() method removes all items from a list."
   ]
  },
  {
   "cell_type": "code",
   "execution_count": null,
   "id": "386b0257",
   "metadata": {},
   "outputs": [],
   "source": [
    "thislist = [\"apple\", \"banana\", \"cherry\"]\n",
    "thislist.clear()\n",
    "print(thislist)"
   ]
  },
  {
   "cell_type": "markdown",
   "id": "93815cd4",
   "metadata": {
    "tags": []
   },
   "source": [
    "### `extend` function\n",
    "A list can be added to the end of a list with the `extend` function, like the `+` operator. \n",
    "The list to add at the end of the first list is the argument to `extend`."
   ]
  },
  {
   "cell_type": "code",
   "execution_count": 21,
   "id": "8825a95e",
   "metadata": {
    "collapsed": true
   },
   "outputs": [
    {
     "name": "stdout",
     "output_type": "stream",
     "text": [
      "after L.extend(M), L is  [5, 9, 1, 2, 4]\n"
     ]
    }
   ],
   "source": [
    "L = [5, 9, 1]\n",
    "M = [2, 4]\n",
    "L.extend(M)\n",
    "print(\"after L.extend(M), L is \", L)"
   ]
  },
  {
   "cell_type": "markdown",
   "id": "81c52461",
   "metadata": {},
   "source": [
    "This shows `L.extend(M)`.\n",
    "\n",
    "<img  src=\"list10.jpg\" width=\"700\">"
   ]
  },
  {
   "cell_type": "markdown",
   "id": "019c482a",
   "metadata": {},
   "source": [
    "### `insert` function\n",
    "Items can be added in the beginning or the middle of the list with the `insert` function. \n",
    "The position where the item is added is the first argument to `insert`, starting from 0, and the item to add is the second argument. \n",
    "All the items after the one added are moved down the list. "
   ]
  },
  {
   "cell_type": "code",
   "execution_count": 54,
   "id": "6ba1cdca",
   "metadata": {
    "collapsed": true
   },
   "outputs": [
    {
     "name": "stdout",
     "output_type": "stream",
     "text": [
      "after L.insert(2, 4), L is  [5, 9, 4, 1]\n"
     ]
    }
   ],
   "source": [
    "L = [5, 9, 1]\n",
    "L.insert(2, 4)\n",
    "print(\"after L.insert(2, 4), L is \", L)"
   ]
  },
  {
   "cell_type": "markdown",
   "id": "406d7d93",
   "metadata": {},
   "source": [
    "This shows `L.insert(2, 4)`.\n",
    "\n",
    "<img  src=\"list7.jpg\" width=\"400\">"
   ]
  },
  {
   "cell_type": "markdown",
   "id": "dbe73153",
   "metadata": {
    "tags": []
   },
   "source": [
    "This shows `L.insert(0, 7)`.\n",
    "\n",
    "<img src=\"list8.jpg\"  width=\"400\">"
   ]
  },
  {
   "cell_type": "markdown",
   "id": "223731b9",
   "metadata": {},
   "source": [
    "### `pop` function\n",
    "The `pop` function removes an item at some position and returns the item. \n",
    "The position of the item to remove starts from 0. \n",
    "All items after the one removed are moved up the list."
   ]
  },
  {
   "cell_type": "code",
   "execution_count": 53,
   "id": "b937040d",
   "metadata": {
    "collapsed": true
   },
   "outputs": [
    {
     "name": "stdout",
     "output_type": "stream",
     "text": [
      "after L.pop(1), L is  [5, 1]  and the item removed is  9\n"
     ]
    }
   ],
   "source": [
    "L = [5, 9, 1]\n",
    "x = L.pop(1)\n",
    "print(\"L after L.pop(1) is \", L, \" and the item removed is \", x)"
   ]
  },
  {
   "cell_type": "markdown",
   "id": "4ecc680a",
   "metadata": {},
   "source": [
    "This shows `L.pop(1)`, which gives the 9 removed as the value.\n",
    "\n",
    "<img src=\"list9.jpg\" width=\"400\">"
   ]
  },
  {
   "cell_type": "markdown",
   "id": "34566a8c",
   "metadata": {},
   "source": [
    "The del keyword also removes the specified index:"
   ]
  },
  {
   "cell_type": "code",
   "execution_count": null,
   "id": "abae595f",
   "metadata": {},
   "outputs": [],
   "source": [
    "thislist = [\"apple\", \"banana\", \"cherry\"]\n",
    "del thislist[0]\n",
    "print(thislist)"
   ]
  },
  {
   "cell_type": "markdown",
   "id": "543a2a3b",
   "metadata": {},
   "source": [
    "The del keyword can also delete the list completely."
   ]
  },
  {
   "cell_type": "code",
   "execution_count": null,
   "id": "2256c74e",
   "metadata": {},
   "outputs": [],
   "source": [
    "thislist = [\"apple\", \"banana\", \"cherry\"]\n",
    "del thislist"
   ]
  },
  {
   "cell_type": "markdown",
   "id": "9c01c59b",
   "metadata": {},
   "source": [
    "### `reverse` function\n",
    "Lists items can be reversed with the `reverse` function."
   ]
  },
  {
   "cell_type": "code",
   "execution_count": 1,
   "id": "31cb79d3",
   "metadata": {},
   "outputs": [
    {
     "name": "stdout",
     "output_type": "stream",
     "text": [
      "after L.reverse(), L is  [2, 8, 1, 4]\n"
     ]
    }
   ],
   "source": [
    "L = [4, 1, 8, 2]\n",
    "L.reverse()\n",
    "print(\"after L.reverse(), L is \", L)"
   ]
  },
  {
   "cell_type": "markdown",
   "id": "ae436b86",
   "metadata": {},
   "source": [
    "This shows `L` after `L.reverse()`.\n",
    "\n",
    "<img src=\"reverse1.jpg\" width=\"400\">"
   ]
  },
  {
   "cell_type": "markdown",
   "id": "3e1cc77d",
   "metadata": {},
   "source": [
    "### `remove` function\n",
    "The first item having some value can be removed from the with the `remove` function. \n",
    "The value of the item to remove is the first argument to `remove`. \n",
    "Only the first item having the value will be removed.\n",
    "All items after the one removed are moved up the list."
   ]
  },
  {
   "cell_type": "code",
   "execution_count": 52,
   "id": "c3310bdd",
   "metadata": {
    "collapsed": true
   },
   "outputs": [
    {
     "name": "stdout",
     "output_type": "stream",
     "text": [
      "after L.remove(9), L is  [5, 1, 9]\n",
      "after L.remove(9) again, L is  [5, 1]\n"
     ]
    }
   ],
   "source": [
    "L = [5, 9, 1, 9]\n",
    "L.remove(9)\n",
    "print(\"after L.remove(9), L is \", L)\n",
    "L.remove(9)\n",
    "print(\"after L.remove(9) again, L is \", L)"
   ]
  },
  {
   "cell_type": "markdown",
   "id": "59444741",
   "metadata": {},
   "source": [
    "This shows calling `L.remove(9)` twice.\n",
    "\n",
    "<img src=\"list11.jpg\" width=\"400\">"
   ]
  },
  {
   "cell_type": "markdown",
   "id": "7e7eadb2",
   "metadata": {},
   "source": [
    "### `sort` function\n",
    "Lists can be sorted with the `sort` function into increasing number or alphabetic order.\n",
    "This shows sorting a list of numbers."
   ]
  },
  {
   "cell_type": "code",
   "execution_count": 22,
   "id": "37d4fce6-9ac9-448a-8da6-0fd7f7ffd590",
   "metadata": {
    "collapsed": true
   },
   "outputs": [
    {
     "name": "stdout",
     "output_type": "stream",
     "text": [
      "after L.sort(), L =  [1, 2, 4, 8]\n"
     ]
    }
   ],
   "source": [
    "L = [4, 1, 8, 2]\n",
    "L.sort()\n",
    "print(\"after L.sort(), L = \", L)"
   ]
  },
  {
   "cell_type": "markdown",
   "id": "db0a981f-1295-4216-a1c4-3f3690d2930b",
   "metadata": {},
   "source": [
    "This shows `L` after `L.sort()`.\n",
    "\n",
    "<img  src=\"list12.jpg\" width=\"500\">"
   ]
  },
  {
   "cell_type": "markdown",
   "id": "a2d560c9-81e3-4959-9337-f224766694fb",
   "metadata": {},
   "source": [
    "This shows sorting a list of strings."
   ]
  },
  {
   "cell_type": "code",
   "execution_count": 45,
   "id": "8b4a16c9-ad59-42f3-8f61-86e18e642602",
   "metadata": {
    "collapsed": true
   },
   "outputs": [
    {
     "name": "stdout",
     "output_type": "stream",
     "text": [
      "after L.sort(), L =  ['cat', 'dog', 'horse', 'ox']\n"
     ]
    }
   ],
   "source": [
    "L = [\"horse\", \"cat\", \"ox\", \"dog\"]\n",
    "L.sort()\n",
    "print(\"after L.sort(), L = \", L)"
   ]
  },
  {
   "cell_type": "markdown",
   "id": "2b19ef63-fa96-4f16-8b00-6a8478093114",
   "metadata": {},
   "source": [
    "This shows `L` after `L.sort()`.\n",
    "\n",
    "<img  src=\"list13.jpg\" width=\"400\">"
   ]
  },
  {
   "cell_type": "markdown",
   "id": "a85d6ee3",
   "metadata": {},
   "source": [
    "Sort Descending\n",
    "To sort descending, use the keyword argument reverse = True:"
   ]
  },
  {
   "cell_type": "code",
   "execution_count": null,
   "id": "78e78a16",
   "metadata": {},
   "outputs": [],
   "source": [
    "thislist = [\"orange\", \"mango\", \"kiwi\", \"pineapple\", \"banana\"]\n",
    "thislist.sort(reverse = True)\n",
    "print(thislist)"
   ]
  },
  {
   "cell_type": "markdown",
   "id": "d3a57851",
   "metadata": {},
   "source": [
    "Case Insensitive Sort\n",
    "By default the sort() method is case sensitive, resulting in all capital letters being sorted before lower case letters:"
   ]
  },
  {
   "cell_type": "code",
   "execution_count": null,
   "id": "b5ed42ec",
   "metadata": {},
   "outputs": [],
   "source": [
    "thislist = [\"banana\", \"Orange\", \"Kiwi\", \"cherry\"]\n",
    "thislist.sort()\n",
    "print(thislist)"
   ]
  },
  {
   "cell_type": "markdown",
   "id": "3a6d19a0",
   "metadata": {},
   "source": [
    "Luckily we can use built-in functions as key functions when sorting a list.\n",
    "\n",
    "So if you want a case-insensitive sort function, use str.lower as a key function:"
   ]
  },
  {
   "cell_type": "code",
   "execution_count": null,
   "id": "ee7208bb",
   "metadata": {},
   "outputs": [],
   "source": [
    "thislist = [\"banana\", \"Orange\", \"Kiwi\", \"cherry\"]\n",
    "thislist.sort(key = str.lower)\n",
    "print(thislist)\n"
   ]
  },
  {
   "cell_type": "markdown",
   "id": "0010ffdf-550b-46b7-8307-f9d3e39797d1",
   "metadata": {},
   "source": [
    "## Lists from strings: `split` function\n",
    "Lists can be created from strings with the `split` function.\n",
    "Using `split` with no arguments splits a string at spaces.\n",
    "\n",
    "<img src=\"split1.jpg\" width=\"400\">"
   ]
  },
  {
   "cell_type": "code",
   "execution_count": 41,
   "id": "9d03c0e9-4b3d-4791-8b68-b5b687c63f31",
   "metadata": {
    "collapsed": true
   },
   "outputs": [
    {
     "name": "stdout",
     "output_type": "stream",
     "text": [
      "s.split(\",\") is  ['The cat in the hat']\n"
     ]
    }
   ],
   "source": [
    "s = \"The cat in the hat\"\n",
    "print('s.split(\",\") is ', s.split(\",\"))"
   ]
  },
  {
   "cell_type": "markdown",
   "id": "eeedcd35-d3d0-4f3c-8ff7-3c1b24b323ab",
   "metadata": {},
   "source": [
    "`split` can split strings separated by a particular string given as a second argument. "
   ]
  },
  {
   "cell_type": "code",
   "execution_count": 40,
   "id": "e6806ba6-8e93-4741-be8f-e604b319b3b2",
   "metadata": {
    "collapsed": true
   },
   "outputs": [
    {
     "name": "stdout",
     "output_type": "stream",
     "text": [
      "s.split(\",\") is  ['first', 'second', 'third']\n"
     ]
    }
   ],
   "source": [
    "s = \"first,second,third\"\n",
    "print('s.split(\",\") is ', s.split(\",\"))"
   ]
  },
  {
   "cell_type": "markdown",
   "id": "f939ab09-ac9f-44b4-bbf5-49bb3e38fe9e",
   "metadata": {},
   "source": [
    "## Strings from lists: `join` function\n",
    "Strings can be created from list items by joining the list items separated by a particular string."
   ]
  },
  {
   "cell_type": "code",
   "execution_count": 39,
   "id": "2a08cb59-f1ee-4c2e-ac64-6cb2098e75d1",
   "metadata": {
    "collapsed": true
   },
   "outputs": [
    {
     "name": "stdout",
     "output_type": "stream",
     "text": [
      "\" \".join( ['first', 'second', 'third'] ) is  first second third\n",
      "\"\".join( ['O', 'N', 'E'] ) is  ONE\n"
     ]
    }
   ],
   "source": [
    "L = [\"first\", \"second\", \"third\"]\n",
    "print('\" \".join(', L, \") is \", \" \".join(L))\n",
    "L = [\"O\", \"N\", \"E\"]\n",
    "print('\"\".join(', L, \") is \", \"\".join(L))"
   ]
  },
  {
   "cell_type": "markdown",
   "id": "fa5d678e-e220-4a8e-b713-02f5e1e753c2",
   "metadata": {},
   "source": [
    "This shows `\" \".join(L)`.\n",
    "\n",
    "<img src=\"join1.jpg\" width=\"400\">"
   ]
  },
  {
   "cell_type": "markdown",
   "id": "e475d5ae",
   "metadata": {},
   "source": [
    "## Tests with lists\n",
    "Test whether an item is in a list with `in` and `not in`."
   ]
  },
  {
   "cell_type": "code",
   "execution_count": 2,
   "id": "83daed13",
   "metadata": {
    "collapsed": true
   },
   "outputs": [
    {
     "name": "stdout",
     "output_type": "stream",
     "text": [
      "\"this\" in [\"this\", \"that\"] True\n",
      "\"this\" not in [\"this\", \"that\"] False\n"
     ]
    }
   ],
   "source": [
    "print('\"this\" in [\"this\", \"that\"]', \"this\" in [\"this\", \"that\"] )\n",
    "print('\"this\" not in [\"this\", \"that\"]', \"this\" not in [\"this\", \"that\"] )"
   ]
  },
  {
   "cell_type": "markdown",
   "id": "aa2c3866",
   "metadata": {},
   "source": [
    "### `in` in lists\n",
    "`in` can be used to test if an item is in a list."
   ]
  },
  {
   "cell_type": "code",
   "execution_count": 12,
   "id": "700d2c0f",
   "metadata": {
    "collapsed": true
   },
   "outputs": [
    {
     "name": "stdout",
     "output_type": "stream",
     "text": [
      "True\n",
      "False\n"
     ]
    }
   ],
   "source": [
    "L = [1, 3, 9]\n",
    "if 1 in L:\n",
    "    print(\"1 is in \", L)\n",
    "if 4 in L:\n",
    "    print(\"4 is in \", L)"
   ]
  },
  {
   "cell_type": "markdown",
   "id": "50cf2384",
   "metadata": {},
   "source": [
    "`in` can also be used to loop through the items in a list."
   ]
  },
  {
   "cell_type": "code",
   "execution_count": 10,
   "id": "7584f0a2",
   "metadata": {
    "collapsed": true
   },
   "outputs": [
    {
     "name": "stdout",
     "output_type": "stream",
     "text": [
      "1\n",
      "2\n",
      "3\n"
     ]
    }
   ],
   "source": [
    "for x in [1, 2, 3]:\n",
    "     print(x)"
   ]
  },
  {
   "cell_type": "markdown",
   "id": "ce99f695",
   "metadata": {},
   "source": [
    "## `not in` in lists\n",
    "`not in` can be used to test if an item is not in a list."
   ]
  },
  {
   "cell_type": "code",
   "execution_count": 11,
   "id": "1c386a95",
   "metadata": {},
   "outputs": [
    {
     "name": "stdout",
     "output_type": "stream",
     "text": [
      "False\n",
      "True\n"
     ]
    }
   ],
   "source": [
    "print(1 not in [1, 2, 3])\n",
    "print(4 not in [1, 2, 3])"
   ]
  },
  {
   "cell_type": "markdown",
   "id": "d0e810b3",
   "metadata": {},
   "source": [
    "<a id=\"for-loop\"></a>\n",
    "## `for` loop with lists\n",
    "This `for` loop runs for each item in a list."
   ]
  },
  {
   "cell_type": "code",
   "execution_count": null,
   "id": "dbdd85d7",
   "metadata": {},
   "outputs": [],
   "source": [
    "L = [\"first\", \"second\", \"third\"]\n",
    "for i in L:\n",
    "    print(\"the next item in \", L, \" is \", i)"
   ]
  },
  {
   "cell_type": "markdown",
   "id": "08fecccb",
   "metadata": {},
   "source": [
    "Loop Through the Index Numbers\n",
    "You can also loop through the list items by referring to their index number.\n",
    "\n",
    "Use the range() and len() functions to create a suitable iterable."
   ]
  },
  {
   "cell_type": "code",
   "execution_count": null,
   "id": "9f015ab0",
   "metadata": {},
   "outputs": [],
   "source": [
    "thislist = [\"apple\", \"banana\", \"cherry\"]\n",
    "for i in range(len(thislist)):\n",
    "  print(thislist[i])"
   ]
  },
  {
   "cell_type": "markdown",
   "id": "9642d74a",
   "metadata": {},
   "source": [
    "Using a While Loop\n",
    "You can loop through the list items by using a while loop.\n",
    "\n",
    "Use the len() function to determine the length of the list, then start at 0 and loop your way through the list items by referring to their indexes.\n",
    "\n",
    "Remember to increase the index by 1 after each iteration."
   ]
  },
  {
   "cell_type": "code",
   "execution_count": null,
   "id": "20aac66a",
   "metadata": {},
   "outputs": [],
   "source": [
    "thislist = [\"apple\", \"banana\", \"cherry\"]\n",
    "i = 0\n",
    "while i < len(thislist):\n",
    "  print(thislist[i])\n",
    "  i = i + 1"
   ]
  },
  {
   "cell_type": "markdown",
   "id": "4bc16d1d",
   "metadata": {},
   "source": [
    "<a id=\"list-comprehensions\"></a>\n",
    "## List comprehensions\n",
    "Lists can be made using `for` loops. \n",
    "A *list comprehension* has a `for` loop inside `[` and `]` to create the items in a list. \n",
    "List comprehensions look like:\n",
    "\n",
    "`[`*formula* `for` *variable* `in` *group*`]`\n",
    "\n",
    "where the *formula* gives a value using the *variable* and the *variable* has the value of each item in the group.\n",
    "This can be an easy shorthand compared to creating the list manually.\n"
   ]
  },
  {
   "cell_type": "code",
   "execution_count": null,
   "id": "171627a4",
   "metadata": {},
   "outputs": [],
   "source": [
    "L = []\n",
    "for i in range(5):\n",
    "  L.append(i)\n",
    "print(\"L produced manually is \", L)\n",
    "L = [i for i in range(5)]\n",
    "print(\"[i for i in range(5)] produces \", L)\n",
    "L = [2*i for i in range(5)]\n",
    "print(\"[2*i for i in range(5)] produces \", L)\n",
    "L = [c for c in \"abc\"]\n",
    "print('[c for c in \"abc\"] produces ', L)"
   ]
  },
  {
   "cell_type": "markdown",
   "id": "f34a5371",
   "metadata": {},
   "source": [
    "If the formula does not use the variable, the list will just repeat the value of the formula."
   ]
  },
  {
   "cell_type": "code",
   "execution_count": null,
   "id": "ec1f6088",
   "metadata": {},
   "outputs": [],
   "source": [
    "L = [1 for i in range(5)]\n",
    "print(\"[1 for i in range(5)] produces \", L)"
   ]
  },
  {
   "cell_type": "markdown",
   "id": "0aa9e62f",
   "metadata": {},
   "source": [
    "List comprehensions can make creating many different kinds of lists easier because any formula or `for` loop can be used."
   ]
  }
 ],
 "metadata": {
  "kernelspec": {
   "display_name": "Python 3 (ipykernel)",
   "language": "python",
   "name": "python3"
  },
  "language_info": {
   "codemirror_mode": {
    "name": "ipython",
    "version": 3
   },
   "file_extension": ".py",
   "mimetype": "text/x-python",
   "name": "python",
   "nbconvert_exporter": "python",
   "pygments_lexer": "ipython3",
   "version": "3.11.5"
  }
 },
 "nbformat": 4,
 "nbformat_minor": 5
}
