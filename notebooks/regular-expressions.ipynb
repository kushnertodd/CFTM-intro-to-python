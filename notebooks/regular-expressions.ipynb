{
 "cells": [
  {
   "cell_type": "markdown",
   "id": "d11f8b54-2ad1-4936-a57c-578f3ee4a5d9",
   "metadata": {},
   "source": [
    "## Regular Expressions\n",
    "*Regular expressions* are *patterns* that match parts of strings. \n",
    "A regular expression can tell if a string matches a pattern.\n",
    "Regular expressions are defined inside a Python library called `re`.\n",
    "`import` allows using a Python library in a program.\n",
    "\n",
    "The variable name `p` will be used to store patterns."
   ]
  },
  {
   "cell_type": "code",
   "execution_count": 1,
   "id": "27dce34a-dfb7-42c8-a46e-02697fefad39",
   "metadata": {
    "collapsed": true
   },
   "outputs": [
    {
     "name": "stdout",
     "output_type": "stream",
     "text": [
      "re.search( match ,  this needs to be matched ) is True\n"
     ]
    }
   ],
   "source": [
    "import re\n",
    "s = \"this needs to be matched\"\n",
    "p = \"match\"\n",
    "if re.search(p, s):\n",
    "    print(\"re.search(\", p, \", \", s, \") is True\")"
   ]
  },
  {
   "cell_type": "markdown",
   "id": "d17453e7-c169-4e71-a596-cd66006ff9fe",
   "metadata": {},
   "source": [
    "A pattern is made of normal string keyboard characters and escape characters, but some characters and escape characters have special meaning in patterns. \n",
    "- period `.` matches any character\n",
    "- the escape character `\\.` is needed to match a period, because a period has a special meaning\n",
    "- the escape character `\\d` matches any number character, or *digit*, 0 to 9\n",
    "- the escape character `\\D` is the opposite of `\\d` and matches anything that is not a digit\n",
    "- the escape character `\\w` matches any digit or alphabet character a to z, or A to Z\n",
    "- the escape character `\\W` is the opposite of `\\w` and matches anything that is not a digit or alphabet character\n",
    "- the escape character `\\s` matches any *space character* which are spaces `\" \"`, tabs `\\t`, or newlines `\\n`\n",
    "- the escape character `\\S` is the opposite of `\\s` and matches anything that is not a space character\n",
    "\n",
    "<img src=\"regex1.jpg\" width=\"300\">"
   ]
  },
  {
   "cell_type": "code",
   "execution_count": 2,
   "id": "bb0d5611-d034-42c7-ab57-7e658a92902f",
   "metadata": {
    "collapsed": true
   },
   "outputs": [
    {
     "name": "stdout",
     "output_type": "stream",
     "text": [
      "re.search( \\d\\d ,  there are 12 months in the year ) is True\n"
     ]
    }
   ],
   "source": [
    "import re\n",
    "s = \"there are 12 months in the year\"\n",
    "p = \"\\d\\d\"\n",
    "if re.search(p, s):\n",
    "    print(\"re.search(\", p, \", \", s, \") is True\")"
   ]
  },
  {
   "cell_type": "markdown",
   "id": "108d1feb-6f79-436c-a110-032be5ae748f",
   "metadata": {},
   "source": [
    "There are special characters that control how characters match in a pattern.\n",
    "- plus `+` means the normal character or escape character just before it will match one or more of that character in the string\n",
    "- star `*` means the normal character or escape character just before it will match zero or more of that character in the string\n",
    "- question mark `?` means the normal character or escape character just before it will match if that character is in the string but will still match if it is missing\n",
    "- caret `^` at the beginning of the pattern means the pattern must match starting at the beginning of the string\n",
    "- dollar sign `$` at the end of the pattern means the pattern must matsh ending at the end of the string\n",
    "- to match a plus, star, question mark, caret, or dollar sign, the escape character version must be used, `\\+`, `\\*`. `\\?`, `\\^`, or `\\$`"
   ]
  },
  {
   "cell_type": "code",
   "execution_count": 3,
   "id": "d6a71d4e-2162-4aaf-9e0d-a33cff5cf289",
   "metadata": {
    "collapsed": true
   },
   "outputs": [
    {
     "name": "stdout",
     "output_type": "stream",
     "text": [
      "re.search( \\d+ ,  there are 12 months in the year ) is True\n"
     ]
    }
   ],
   "source": [
    "import re\n",
    "s = \"there are 12 months in the year\"\n",
    "p = \"\\d+\"\n",
    "if re.search(p, s):\n",
    "   print(\"re.search(\", p, \", \", s, \") is True\")"
   ]
  },
  {
   "cell_type": "markdown",
   "id": "4135a94c-b350-4db7-980a-ea764389933f",
   "metadata": {},
   "source": [
    "The pattern to match a date like '*month*/*day*/*year*, where month and day are two digits like \"03/05/2011\", is `\\d\\d/\\d\\d/\\d\\d\\d\\d`, where the `\\d` are escape characters and slash `/` matches a normal slash.\n",
    "\n",
    "<img src=\"regex2.jpg\" width=\"200\">"
   ]
  },
  {
   "cell_type": "code",
   "execution_count": 4,
   "id": "25370a51-e653-40a6-aa2c-62a50115de78",
   "metadata": {
    "collapsed": true
   },
   "outputs": [
    {
     "name": "stdout",
     "output_type": "stream",
     "text": [
      "re.search( \\d\\d/\\d\\d/\\d\\d\\d\\d ,  03/05/2011 ) is True\n"
     ]
    }
   ],
   "source": [
    "import re\n",
    "s = \"03/05/2011\"\n",
    "p = \"\\d\\d/\\d\\d/\\d\\d\\d\\d\"\n",
    "if re.search(p, s):\n",
    "   print(\"re.search(\", p, \", \", s, \") is True\")"
   ]
  },
  {
   "cell_type": "markdown",
   "id": "2e05857a-72f2-44e0-87cf-68574bbfb773",
   "metadata": {},
   "source": [
    "There are special characters to control how many times characters will match in a pattern.\n",
    "- `{`*count*`}` will match the character just before it *count* times\n",
    "- `{`*min-count*`,`*max-count*`}` will match the character just before it at least *min-count* times but at most *max-count* times\n",
    "The pattern to match a date can be `\\d{2}/\\d{2}/\\d{4}` this way.\n",
    "\n",
    "<img src=\"regex3.jpg\" width=\"200\">"
   ]
  },
  {
   "cell_type": "code",
   "execution_count": 5,
   "id": "3f53f228-c5cd-48ef-ad81-9798a733f6f8",
   "metadata": {
    "collapsed": true
   },
   "outputs": [
    {
     "name": "stdout",
     "output_type": "stream",
     "text": [
      "re.search( \\d{2}/\\d{2}/\\d{4} ,  03/05/2011 ) is True\n"
     ]
    }
   ],
   "source": [
    "import re\n",
    "s = \"03/05/2011\"\n",
    "p = \"\\d{2}/\\d{2}/\\d{4}\"\n",
    "if re.search(p, s):\n",
    "   print(\"re.search(\", p, \", \", s, \") is True\")"
   ]
  },
  {
   "cell_type": "markdown",
   "id": "49ee864e-a452-481f-a226-a0829d5acffa",
   "metadata": {},
   "source": [
    "Groups of characters and escape characters can match together using `(` and `)`."
   ]
  },
  {
   "cell_type": "code",
   "execution_count": 6,
   "id": "0c5bf59b-bac3-416d-973d-c5e44b217e69",
   "metadata": {
    "collapsed": true
   },
   "outputs": [
    {
     "name": "stdout",
     "output_type": "stream",
     "text": [
      "re.search( (an){2} ,  banana ) is True\n"
     ]
    }
   ],
   "source": [
    "import re\n",
    "s = \"banana\"\n",
    "p = \"(an){2}\"\n",
    "if re.search(p, s):\n",
    "   print(\"re.search(\", p, \", \", s, \") is True\")"
   ]
  },
  {
   "cell_type": "markdown",
   "id": "cb36118b-abe4-453a-b24d-67d912a2e2c9",
   "metadata": {},
   "source": [
    "The `|` can be used in a group inside `(` and `)` to let either of two patterns to match."
   ]
  },
  {
   "cell_type": "code",
   "execution_count": 7,
   "id": "3f5fa30e-4654-4646-a7dd-88c249a7440d",
   "metadata": {
    "collapsed": true
   },
   "outputs": [
    {
     "name": "stdout",
     "output_type": "stream",
     "text": [
      "re.search( a (long|short) day ,  this has been a long day ) is True\n"
     ]
    }
   ],
   "source": [
    "import re\n",
    "s = \"this has been a long day\"\n",
    "p = \"a (long|short) day\"\n",
    "if re.search(p, s):\n",
    "   print(\"re.search(\", p, \", \", s, \") is True\")"
   ]
  },
  {
   "cell_type": "markdown",
   "id": "8e2d540b-80cc-4243-b2f8-5d22a2b8f9be",
   "metadata": {},
   "source": [
    "When you match a pattern with escape characters, you can get the exact part of the string matched with the `group` function."
   ]
  },
  {
   "cell_type": "code",
   "execution_count": 8,
   "id": "85846c33-469b-4ba5-9fbd-cefa27b3133f",
   "metadata": {
    "collapsed": true
   },
   "outputs": [
    {
     "name": "stdout",
     "output_type": "stream",
     "text": [
      "after re.search( \\d{2}/\\d{2}/\\d{4} ,  today 03/05/2011 is March 5th, 2011 ), m.group() is  03/05/2011\n"
     ]
    }
   ],
   "source": [
    "import re\n",
    "s = \"today 03/05/2011 is March 5th, 2011\"\n",
    "p = \"\\d{2}/\\d{2}/\\d{4}\"\n",
    "m = re.search(p, s)\n",
    "if m:\n",
    "    print(\"after re.search(\", p, \", \", s, \"), m.group() is \", m.group())"
   ]
  },
  {
   "cell_type": "markdown",
   "id": "35ef1bd0-01e6-4f14-9b10-8c9542b22221",
   "metadata": {},
   "source": [
    "By grouping parts of the pattern with `(` and `)`, the `group` function can give the part of the string matched by each group.\n",
    "\n",
    "<img src=\"regex4.jpg\" width=\"300\">"
   ]
  },
  {
   "cell_type": "code",
   "execution_count": 9,
   "id": "14a0e69c-6bbc-46a1-a902-58aa40c69774",
   "metadata": {
    "collapsed": true
   },
   "outputs": [
    {
     "name": "stdout",
     "output_type": "stream",
     "text": [
      "s starts as  on 03/05/2011 it rained\n",
      "p starts as  (\\d{2})/(\\d{2})/(\\d{4})\n",
      "after re.search(p, s), m.group() is  03/05/2011\n",
      "m.group(1) is the month  03\n",
      "m.group(2) is the day  05\n",
      "m.group(3) is the year  2011\n"
     ]
    }
   ],
   "source": [
    "import re\n",
    "s = \"on 03/05/2011 it rained\"\n",
    "print(\"s starts as \", s)\n",
    "p = \"(\\d{2})/(\\d{2})/(\\d{4})\"\n",
    "print(\"p starts as \", p)\n",
    "m = re.search(p, s)\n",
    "if m:\n",
    "    print(\"after re.search(p, s), m.group() is \", m.group())\n",
    "    print(\"m.group(1) is the month \", m.group(1))\n",
    "    print(\"m.group(2) is the day \", m.group(2))\n",
    "    print(\"m.group(3) is the year \", m.group(3))"
   ]
  },
  {
   "cell_type": "markdown",
   "id": "7719602f-179e-4638-a668-b8c2301a7c43",
   "metadata": {},
   "source": [
    "Building a regular expression can be tricky, and you can use tools like `regex101.com` to visualize how a given regular expression will match some input text."
   ]
  },
  {
   "cell_type": "markdown",
   "id": "71d65242",
   "metadata": {},
   "source": [
    "## Regex functions"
   ]
  },
  {
   "cell_type": "markdown",
   "id": "64924648",
   "metadata": {},
   "source": [
    "The findall() Function\n",
    "The findall() function returns a list containing all matches.\n",
    "The list contains the matches in the order they are found.\n",
    "\n",
    "If no matches are found, an empty list is returned"
   ]
  },
  {
   "cell_type": "code",
   "execution_count": 10,
   "id": "ceff0b9a",
   "metadata": {
    "collapsed": true
   },
   "outputs": [
    {
     "name": "stdout",
     "output_type": "stream",
     "text": [
      "['ai', 'ai']\n"
     ]
    }
   ],
   "source": [
    "import re\n",
    "\n",
    "txt = \"The rain in Spain\"\n",
    "x = re.findall(\"ai\", txt)\n",
    "print(x)"
   ]
  },
  {
   "cell_type": "markdown",
   "id": "fda71cd7",
   "metadata": {},
   "source": [
    "The split() Function\n",
    "The split() function returns a list where the string has been split at each match.\n",
    "\n",
    "Split at each white-space character:"
   ]
  },
  {
   "cell_type": "code",
   "execution_count": 11,
   "id": "ad291731",
   "metadata": {
    "collapsed": true
   },
   "outputs": [
    {
     "name": "stdout",
     "output_type": "stream",
     "text": [
      "['The', 'rain', 'in', 'Spain']\n"
     ]
    }
   ],
   "source": [
    "import re\n",
    "\n",
    "txt = \"The rain in Spain\"\n",
    "x = re.split(\"\\s\", txt)\n",
    "print(x)"
   ]
  },
  {
   "cell_type": "markdown",
   "id": "be2d7c09",
   "metadata": {},
   "source": [
    "The sub() Function\n",
    "The sub() function replaces the matches with the text of your choice:\n",
    "\n",
    "Example\n",
    "Replace every white-space character with the number 9:"
   ]
  },
  {
   "cell_type": "code",
   "execution_count": 12,
   "id": "9033a776",
   "metadata": {
    "collapsed": true
   },
   "outputs": [
    {
     "name": "stdout",
     "output_type": "stream",
     "text": [
      "The9rain9in9Spain\n"
     ]
    }
   ],
   "source": [
    "import re\n",
    "\n",
    "txt = \"The rain in Spain\"\n",
    "x = re.sub(\"\\s\", \"9\", txt)\n",
    "print(x)"
   ]
  },
  {
   "cell_type": "code",
   "execution_count": null,
   "id": "471a6c78",
   "metadata": {},
   "outputs": [],
   "source": []
  }
 ],
 "metadata": {
  "kernelspec": {
   "display_name": "Python 3 (ipykernel)",
   "language": "python",
   "name": "python3"
  },
  "language_info": {
   "codemirror_mode": {
    "name": "ipython",
    "version": 3
   },
   "file_extension": ".py",
   "mimetype": "text/x-python",
   "name": "python",
   "nbconvert_exporter": "python",
   "pygments_lexer": "ipython3",
   "version": "3.11.5"
  }
 },
 "nbformat": 4,
 "nbformat_minor": 5
}
