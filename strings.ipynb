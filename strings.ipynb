{
 "cells": [
  {
   "cell_type": "markdown",
   "id": "ae7225da-45a6-4ae0-975a-e50dca37eb1c",
   "metadata": {},
   "source": [
    "<a id=\"strings\"></a>\n",
    "# Strings\n",
    "\n",
    "Strings are text that is made up of *characters*, which are letters, numbers, punctuation, and some special characters called *escape characters*. \n",
    "Strings have operations and functions that combine, remove, search, and replace for parts of text. \n",
    "This is the string `\"hello\"`. Each character has a *position* in the string, and the positions start counting from `0` rather than `1`.\n",
    "\n",
    "<img src=\"string1.jpg\" width=\"400\">"
   ]
  },
  {
   "cell_type": "markdown",
   "id": "fe0854b0",
   "metadata": {},
   "source": [
    "Strings are text that can be inside either two double quotes `\"` or two single quotes `'`. \n",
    "The same quote starts and ends the string. "
   ]
  },
  {
   "cell_type": "code",
   "execution_count": 1,
   "id": "a3460972",
   "metadata": {
    "collapsed": true
   },
   "outputs": [
    {
     "name": "stdout",
     "output_type": "stream",
     "text": [
      "this is a double-quoted string.\n",
      "this is a single-quoted string.\n"
     ]
    }
   ],
   "source": [
    "print(\"this is a double-quoted string.\")\n",
    "print('this is a single-quoted string.')"
   ]
  },
  {
   "cell_type": "markdown",
   "id": "00303492",
   "metadata": {},
   "source": [
    "If you need to put a double quote in a string, you can use a single-quoted string. \n",
    "If you need to put a single quote in a string, you can use a double-quoted string."
   ]
  },
  {
   "cell_type": "code",
   "execution_count": 2,
   "id": "84817b51",
   "metadata": {
    "collapsed": true
   },
   "outputs": [
    {
     "name": "stdout",
     "output_type": "stream",
     "text": [
      "this is a double-quoted string with a single quote ' in it.\n",
      "this is a single-quoted string with a double quote \" in it.\n"
     ]
    }
   ],
   "source": [
    "print(\"this is a double-quoted string with a single quote ' in it.\")\n",
    "print('this is a single-quoted string with a double quote \" in it.')"
   ]
  },
  {
   "cell_type": "markdown",
   "id": "523a1eeb-8208-4e79-9f3f-ab4aa6e387a9",
   "metadata": {},
   "source": [
    "## Escape characters\n",
    "Escape characters are characters following a *backslash* character `\\` in a string. \n",
    "If you need to put both a double quote and a single quote in a string, you can use a single-quoted or double-quoted string,\n",
    "you use an *escape character* backward-quote `\\` to keep that quote from ending the string."
   ]
  },
  {
   "cell_type": "code",
   "execution_count": null,
   "id": "3ba66f78",
   "metadata": {},
   "outputs": [],
   "source": [
    "print(\"this double-quoted string has both a double quote \\\" and single quote ' inside.\")\n",
    "print('this single-quoted string has both a double quote \" and single quote \\' inside.')"
   ]
  },
  {
   "cell_type": "markdown",
   "id": "86b21ca6",
   "metadata": {},
   "source": [
    "The backslash gives a special meaning to the character that follows it. \n",
    "`\\t` means the tab key on the keyboard, and `\\n` is the enter key, called a [*newline*](#glossary_newline). \n",
    "Because the backslash `\\`  changes the meaning of the character that follows it, to really get a backslash you need to use `\\\\`."
   ]
  },
  {
   "cell_type": "code",
   "execution_count": null,
   "id": "89d39bb2-a354-4b79-9af1-06c1ed2b5a23",
   "metadata": {},
   "outputs": [],
   "source": [
    "print('this is the tab \"\\t\" character')\n",
    "print('this is the enter \"\\n\" character')\n",
    "print('this is the backslash \"\\\\\" character')"
   ]
  },
  {
   "cell_type": "markdown",
   "id": "763de23f-111e-4d3a-be1d-202ad8285216",
   "metadata": {},
   "source": [
    "You can put a double quote in a double-quoted string by using backslash to escape it, an *escaped* double quote, that can go into a double-quoted string but not end the string. "
   ]
  },
  {
   "cell_type": "code",
   "execution_count": null,
   "id": "9d6eee31-3d96-46b1-8c03-15f391f3a0ca",
   "metadata": {},
   "outputs": [],
   "source": [
    "print(\"this is a double-quoted string with a double quote \\\" in it\")"
   ]
  },
  {
   "cell_type": "markdown",
   "id": "5bd8abb9-780f-4cb4-995d-2f0462da2815",
   "metadata": {},
   "source": [
    "An escaped single quote can be put in a single-quoted string the same way."
   ]
  },
  {
   "cell_type": "code",
   "execution_count": null,
   "id": "35b924ff-699d-4584-aa1b-5a934b9b1425",
   "metadata": {},
   "outputs": [],
   "source": [
    "print('this is a single-quoted string with a single quote \\' in it')"
   ]
  },
  {
   "cell_type": "markdown",
   "id": "36c11941-95b1-406b-9154-6c0068b0d44d",
   "metadata": {},
   "source": [
    "Putting a single quote in the formatted string starting with `f'` and ending with a `'` needs an escaped single quote. "
   ]
  },
  {
   "cell_type": "code",
   "execution_count": null,
   "id": "befb280c-63e7-474f-b274-61d28b84d404",
   "metadata": {},
   "outputs": [],
   "source": [
    "print(f'this is a formatted string with a single quote \\' in it')"
   ]
  },
  {
   "cell_type": "markdown",
   "id": "0cf775d5-8bd7-46b6-bdfe-4329a7c6ca0f",
   "metadata": {},
   "source": [
    "## Operations on strings\n",
    "Strings can be combined with the `+` add operator. "
   ]
  },
  {
   "cell_type": "code",
   "execution_count": 4,
   "id": "51d1c9d6-5c15-4600-8179-c0f2a55060a4",
   "metadata": {
    "collapsed": true
   },
   "outputs": [
    {
     "name": "stdout",
     "output_type": "stream",
     "text": [
      "s is  Again and again ...\n"
     ]
    }
   ],
   "source": [
    "s = \"Again and \"\n",
    "s = s + \"again ...\"\n",
    "print(\"s is \", s)"
   ]
  },
  {
   "cell_type": "markdown",
   "id": "3e4bbef9-b84b-45e7-96fa-64e598390b7a",
   "metadata": {},
   "source": [
    "The `+=` shortcut works as well."
   ]
  },
  {
   "cell_type": "code",
   "execution_count": 5,
   "id": "ff7b9a4d-fc2f-4585-af73-b4bcec0385ec",
   "metadata": {
    "collapsed": true
   },
   "outputs": [
    {
     "name": "stdout",
     "output_type": "stream",
     "text": [
      "s is  Again and again ...\n"
     ]
    }
   ],
   "source": [
    "s = \"Again and \"\n",
    "s += \"again ...\"\n",
    "print(\"s is \", s)"
   ]
  },
  {
   "cell_type": "markdown",
   "id": "e92d0075-869c-4010-8649-91945a9e7fe9",
   "metadata": {},
   "source": [
    "Strings can be repeated with the `*` multiplication operator. "
   ]
  },
  {
   "cell_type": "code",
   "execution_count": 6,
   "id": "8ec2d0a0-22d3-49c7-9987-854814b38f4f",
   "metadata": {
    "collapsed": true
   },
   "outputs": [
    {
     "name": "stdout",
     "output_type": "stream",
     "text": [
      "s is  hello hello hello \n"
     ]
    }
   ],
   "source": [
    "s = \"hello \" * 3\n",
    "print(\"s is \", s)"
   ]
  },
  {
   "cell_type": "markdown",
   "id": "d07a7d08-7aa3-488e-a522-eabeb9b19305",
   "metadata": {},
   "source": [
    "The `*=` shortcut works as well."
   ]
  },
  {
   "cell_type": "code",
   "execution_count": 24,
   "id": "6763697e-c682-423c-b0a7-f38071ce2c66",
   "metadata": {
    "collapsed": true
   },
   "outputs": [
    {
     "name": "stdout",
     "output_type": "stream",
     "text": [
      "s is  hello hello hello \n"
     ]
    }
   ],
   "source": [
    "s = \"hello \"\n",
    "s *= 3\n",
    "print(\"s is \", s)"
   ]
  },
  {
   "cell_type": "markdown",
   "id": "bfe61d94-4976-4512-ba4e-9eb6bc52512d",
   "metadata": {},
   "source": [
    "## Characters in strings\n",
    "Characters in strings can accessed with '[' and ']', where *string*`[`*position*`]` gives the character at *position* in the string. \n",
    "Python operators and functions count character positions from 0 rather than 1. \n",
    "The string can count *position* from the beginning of the string, or if *position* is negative, it can count from the back of the string. "
   ]
  },
  {
   "cell_type": "code",
   "execution_count": 10,
   "id": "2872c2de-5b17-4d9f-aef9-2b37f3952fd6",
   "metadata": {
    "collapsed": true
   },
   "outputs": [
    {
     "name": "stdout",
     "output_type": "stream",
     "text": [
      "s starts as  A red hat\n",
      "positions:   012345678\n",
      "s[0] is  A\n",
      "s[3] is  e\n",
      "s[-1] is  t\n"
     ]
    }
   ],
   "source": [
    "s = \"A red hat\"\n",
    "print(\"s starts as \",s)\n",
    "print(\"positions:   012345678\")\n",
    "t = s[0]\n",
    "u = s[3]\n",
    "v = s[-1]\n",
    "print(\"s[0] is \", t)\n",
    "print(\"s[3] is \", u)\n",
    "print(\"s[-1] is \", v)"
   ]
  },
  {
   "cell_type": "markdown",
   "id": "ca8798d1-decf-413a-bcdc-c620980c82b1",
   "metadata": {},
   "source": [
    "## Slices\n",
    "Strings that are part of other strings are *slices* or *substrings*. \n",
    "The slice operator looks like *variable*`[`*start*`:`*end*`]` where the slice has all the characters from the character in the *start* position to the character *just before* the *end* position. \n",
    "\n",
    "A slice that has no *start* starts from the beginning of the string. \n",
    "A slice that has no *end* goes to the end of the string. "
   ]
  },
  {
   "cell_type": "code",
   "execution_count": 11,
   "id": "93c8c38f-8cd7-4325-86b0-a35f42086bb0",
   "metadata": {
    "collapsed": true
   },
   "outputs": [
    {
     "name": "stdout",
     "output_type": "stream",
     "text": [
      "s starts as  A red hat\n",
      "positions:   012345678\n",
      "s[:1] is  A\n",
      "s[2:5] is  red\n",
      "s[6:] is  hat\n"
     ]
    }
   ],
   "source": [
    "s = \"A red hat\"\n",
    "print(\"s starts as \", s)\n",
    "print(\"positions:   012345678\")\n",
    "t = s[:1]\n",
    "print(\"s[:1] is \", t)\n",
    "t = s[2:5]\n",
    "print(\"s[2:5] is \", t)\n",
    "t = s[6:]\n",
    "print(\"s[6:] is \", t)"
   ]
  },
  {
   "cell_type": "markdown",
   "id": "129c4b78-8d70-4eea-ab0a-b9022da3f91a",
   "metadata": {},
   "source": [
    "## `len` function\n",
    "The `len` function gives the value of the string length."
   ]
  },
  {
   "cell_type": "code",
   "execution_count": 15,
   "id": "4ffcb37c-d352-4e95-b85f-7f71b374c9b5",
   "metadata": {},
   "outputs": [
    {
     "name": "stdout",
     "output_type": "stream",
     "text": [
      "len( A red hat ) is  9\n"
     ]
    }
   ],
   "source": [
    "s = \"A red hat\"\n",
    "length = len(s)\n",
    "print(\"len(\", s, \") is \", length)"
   ]
  },
  {
   "cell_type": "markdown",
   "id": "8f707b54-a9f6-454b-995f-f72ce06db997",
   "metadata": {},
   "source": [
    "## `find` function\n",
    "The `find` function gives the first position where you can find a substring in a string. \n",
    "The link https://docs.python.org/3/library/stdtypes.html#string-methods gives a full list of string functions."
   ]
  },
  {
   "cell_type": "code",
   "execution_count": 43,
   "id": "59b027aa-a2ec-442e-aaf4-8b738db5fc88",
   "metadata": {
    "collapsed": true
   },
   "outputs": [
    {
     "name": "stdout",
     "output_type": "stream",
     "text": [
      "s starts as  A red hat\n",
      "positions:   012345678\n",
      "s.find(\"red\") is  2\n"
     ]
    }
   ],
   "source": [
    "s = \"A red hat\"\n",
    "print(\"s starts as \", s)\n",
    "print(\"positions:   012345678\")\n",
    "print('s.find(\"red\") is ', s.find(\"red\"))"
   ]
  },
  {
   "cell_type": "markdown",
   "id": "515060da-4ab6-4f80-a8cc-498ee93a6cd1",
   "metadata": {
    "tags": []
   },
   "source": [
    "## `count` function\n",
    "The `count` function will count how many times a substring can be found in a string."
   ]
  },
  {
   "cell_type": "code",
   "execution_count": 46,
   "id": "18706dc8-2843-43fc-bb00-3ba6a00972d3",
   "metadata": {
    "collapsed": true
   },
   "outputs": [
    {
     "name": "stdout",
     "output_type": "stream",
     "text": [
      "s starts as  the cat in the hat is at the store.\n",
      "s.count(\"the\") is  3\n",
      "s.count(\"at\") is  3\n"
     ]
    }
   ],
   "source": [
    "s = \"the cat in the hat is at the store.\"\n",
    "print(\"s starts as \", s)\n",
    "print('s.count(\"the\") is ', s.count(\"the\"))\n",
    "print('s.count(\"at\") is ', s.count(\"at\"))"
   ]
  },
  {
   "cell_type": "markdown",
   "id": "6202d681-b057-4386-9e99-f28e75c91898",
   "metadata": {},
   "source": [
    "## `upper` function\n",
    "The `upper` function makes all alphabet characters in a string into capitals or [*uppercase*](#glossary_uppercase)."
   ]
  },
  {
   "cell_type": "code",
   "execution_count": 26,
   "id": "8fb9b63c-4336-450c-a6fc-1d73737fd694",
   "metadata": {},
   "outputs": [
    {
     "name": "stdout",
     "output_type": "stream",
     "text": [
      "s starts as  the cat in the hat is at the store\n",
      "s.upper() is  THE CAT IN THE HAT IS AT THE STORE\n"
     ]
    }
   ],
   "source": [
    "s = \"the cat in the hat is at the store\"\n",
    "print(\"s starts as \", s)\n",
    "t = s.upper()\n",
    "print(\"s.upper() is \", t)"
   ]
  },
  {
   "cell_type": "markdown",
   "id": "096b3cb8-508f-4e1e-b52c-2263bab17004",
   "metadata": {},
   "source": [
    "## `lower` function\n",
    "The `lower` function makes all alphabet characters  in a string into small letters or [*lowercase*](#glossary_lowercase)."
   ]
  },
  {
   "cell_type": "code",
   "execution_count": 27,
   "id": "75ce1f89-8333-457c-b9dd-422937990169",
   "metadata": {
    "collapsed": true
   },
   "outputs": [
    {
     "name": "stdout",
     "output_type": "stream",
     "text": [
      "s starts as  THE CAT IN THE HAT IS AT THE STORE\n",
      "s.lower() is  the cat in the hat is at the store\n"
     ]
    }
   ],
   "source": [
    "s = \"THE CAT IN THE HAT IS AT THE STORE\"\n",
    "print(\"s starts as \", s)\n",
    "t = s.lower()\n",
    "print(\"s.lower() is \", t)"
   ]
  },
  {
   "cell_type": "markdown",
   "id": "493dbda5-88ba-4cee-9392-403ba3015cad",
   "metadata": {},
   "source": [
    "## `replace` function\n",
    "The `replace` function will find the substring of a string that matches a *pattern*, and replace it with another string.   "
   ]
  },
  {
   "cell_type": "code",
   "execution_count": 30,
   "id": "d1cdfe81-dc5d-4b55-8066-4cfc0c44c727",
   "metadata": {
    "collapsed": true
   },
   "outputs": [
    {
     "name": "stdout",
     "output_type": "stream",
     "text": [
      "s starts as  the red hat\n",
      "s.replace(\"red\", \"blue\") is  the blue hat\n"
     ]
    }
   ],
   "source": [
    "s = \"the red hat\"\n",
    "print(\"s starts as \", s)\n",
    "t = s.replace(\"red\", \"blue\")\n",
    "print('s.replace(\"red\", \"blue\") is ', t)"
   ]
  },
  {
   "cell_type": "markdown",
   "id": "01759e84-5c09-45e1-9294-8b8534ac860e",
   "metadata": {},
   "source": [
    "## `str` function \n",
    "If you have a number, the `str` function will let you use it as a string. This is taking str() of an integer."
   ]
  },
  {
   "cell_type": "code",
   "execution_count": 31,
   "id": "f5e5f435-97ac-48a2-81e4-b1d20baa1539",
   "metadata": {
    "collapsed": true
   },
   "outputs": [
    {
     "name": "stdout",
     "output_type": "stream",
     "text": [
      "str( 5 ) is  5\n"
     ]
    }
   ],
   "source": [
    "x = 5\n",
    "s = str(x)\n",
    "print(\"str(\", x, \") is \", s)"
   ]
  },
  {
   "cell_type": "markdown",
   "id": "5fed4ac4-3cca-44d1-a6fc-1fda3e5dd613",
   "metadata": {},
   "source": [
    "This is taking str() of a real number."
   ]
  },
  {
   "cell_type": "code",
   "execution_count": 32,
   "id": "5c5e9eaf-d7ba-4dbf-a52f-758245a836a2",
   "metadata": {
    "collapsed": true
   },
   "outputs": [
    {
     "name": "stdout",
     "output_type": "stream",
     "text": [
      "str( 3.1 ) is  3.1\n"
     ]
    }
   ],
   "source": [
    "x = 3.1\n",
    "s = str(x)\n",
    "print(\"str(\", x, \") is \", s)"
   ]
  },
  {
   "cell_type": "markdown",
   "id": "39e0e2b5-3aa1-43cb-bf5c-3526184ff629",
   "metadata": {},
   "source": [
    "## `int` function\n",
    "If you have a string but would like to use it as a number, the `int` function will make an integer out of it."
   ]
  },
  {
   "cell_type": "code",
   "execution_count": 35,
   "id": "bb346e2b-3ff5-4113-8b30-7fdfce2ab74f",
   "metadata": {
    "collapsed": true,
    "tags": []
   },
   "outputs": [
    {
     "name": "stdout",
     "output_type": "stream",
     "text": [
      "int( 5 ) is  5\n"
     ]
    }
   ],
   "source": [
    "s = \"5\"\n",
    "x = int(s)\n",
    "print(\"int(\", s, \") is \", x)"
   ]
  },
  {
   "cell_type": "markdown",
   "id": "da7ea7d1-8a95-4cf2-8cc2-1d31113f3020",
   "metadata": {},
   "source": [
    "If the string is not a number, you get an error."
   ]
  },
  {
   "cell_type": "code",
   "execution_count": 47,
   "id": "7404e1b4-4312-4dcf-81b8-c640fa628cd1",
   "metadata": {
    "collapsed": true,
    "tags": []
   },
   "outputs": [
    {
     "ename": "ValueError",
     "evalue": "invalid literal for int() with base 10: 'invalid'",
     "output_type": "error",
     "traceback": [
      "\u001b[1;31m---------------------------------------------------------------------------\u001b[0m",
      "\u001b[1;31mValueError\u001b[0m                                Traceback (most recent call last)",
      "Cell \u001b[1;32mIn[47], line 2\u001b[0m\n\u001b[0;32m      1\u001b[0m s \u001b[38;5;241m=\u001b[39m \u001b[38;5;124m\"\u001b[39m\u001b[38;5;124minvalid\u001b[39m\u001b[38;5;124m\"\u001b[39m\n\u001b[1;32m----> 2\u001b[0m x \u001b[38;5;241m=\u001b[39m \u001b[38;5;28mint\u001b[39m(s)\n\u001b[0;32m      3\u001b[0m \u001b[38;5;28mprint\u001b[39m(\u001b[38;5;124m\"\u001b[39m\u001b[38;5;124mint(\u001b[39m\u001b[38;5;124m\"\u001b[39m, s, \u001b[38;5;124m\"\u001b[39m\u001b[38;5;124m) is \u001b[39m\u001b[38;5;124m\"\u001b[39m, x)\n",
      "\u001b[1;31mValueError\u001b[0m: invalid literal for int() with base 10: 'invalid'"
     ]
    }
   ],
   "source": [
    "s = \"invalid\"\n",
    "x = int(s)\n",
    "print(\"int(\", s, \") is \", x)"
   ]
  },
  {
   "cell_type": "markdown",
   "id": "74a05b3d-ba57-4244-bc04-08cd911d39b1",
   "metadata": {
    "tags": []
   },
   "source": [
    "## `float` function\n",
    "If you have a string but would like to use it as a number, the `float` function will make a real number out of it."
   ]
  },
  {
   "cell_type": "code",
   "execution_count": 37,
   "id": "0986bcc9-b49d-44a9-906a-360e2c2a0e8a",
   "metadata": {
    "collapsed": true,
    "tags": []
   },
   "outputs": [
    {
     "name": "stdout",
     "output_type": "stream",
     "text": [
      "float( 3.1 ) is  3.1\n"
     ]
    }
   ],
   "source": [
    "s = \"3.1\"\n",
    "x = float(s)\n",
    "print(\"float(\", s, \") is \", x)"
   ]
  },
  {
   "cell_type": "markdown",
   "id": "f61219df-8ce5-4801-b33c-d76a3ce2a512",
   "metadata": {
    "tags": []
   },
   "source": [
    "## `input` function\n",
    "The `input` function can print a string on the console and wait for you to type some text, then give the text you typed as the value."
   ]
  },
  {
   "cell_type": "code",
   "execution_count": 38,
   "id": "755385d2-310b-4d6c-8fd8-9a9f989921f1",
   "metadata": {
    "collapsed": true
   },
   "outputs": [
    {
     "name": "stdout",
     "output_type": "stream",
     "text": [
      "Enter some text: sd\n",
      "The text you typed is  sd\n"
     ]
    }
   ],
   "source": [
    "s = input('Enter some text: ')\n",
    "print(\"The text you typed is \", s)"
   ]
  },
  {
   "cell_type": "markdown",
   "id": "4d61cea8-d1f3-4dda-abf8-4025c3dd492e",
   "metadata": {},
   "source": [
    "## `strip` function\n",
    "The `strip` function removes a *newline* at the end of a string. Lines read from a text file will end with a newline. Printing a file with a newline will add an extra blank line.\n",
    "\n",
    "<img src=\"strip1.jpg\" width=\"400\">"
   ]
  },
  {
   "cell_type": "code",
   "execution_count": 40,
   "id": "be65c301-ee87-4b27-935d-8d119b1337a2",
   "metadata": {
    "collapsed": true
   },
   "outputs": [
    {
     "name": "stdout",
     "output_type": "stream",
     "text": [
      "line from file\n",
      " before stripping\n",
      "line from file after stripping\n"
     ]
    }
   ],
   "source": [
    "s = \"line from file\\n\"\n",
    "print(s, \"before stripping\")\n",
    "print(s.strip(), \"after stripping\")"
   ]
  },
  {
   "cell_type": "markdown",
   "id": "afea53dc-648e-45dd-97dc-fe5ad9e7d307",
   "metadata": {},
   "source": [
    "## `Format` function\n",
    "The `format` function can make output look just the way you want. \n",
    "The format function looks like this.\n",
    "\n",
    "&nbsp;&nbsp;&nbsp;&nbsp;`'{:`*format* `:`*format* `...}.format(`*item*, *item*`)`\n",
    "\n",
    "where each *format* is listed below. \n",
    "\n",
    "This is an example of a `format` output that includes more than one *format*.\n",
    "\n",
    "&nbsp;&nbsp;&nbsp;&nbsp;`'{:17s}  ${:7.2f}'.format(name, total)`\n",
    "\n",
    "The `:3d` format will make a string out of an integer where the string is at least 3 characters wide, with spaces on the left if the integer is less than 3 characters long."
   ]
  },
  {
   "cell_type": "code",
   "execution_count": 22,
   "id": "c065dc41-708d-4e0f-858a-9bff9b9c87e6",
   "metadata": {
    "collapsed": true
   },
   "outputs": [
    {
     "name": "stdout",
     "output_type": "stream",
     "text": [
      "  2  is the number 2 with format \":3d\"\n",
      " 65  is the number 65 with format \":3d\"\n",
      "138  is the number 138 with format \":3d\"\n"
     ]
    }
   ],
   "source": [
    "s ='{:3d}'.format(2)\n",
    "t ='{:3d}'.format(65)\n",
    "u ='{:3d}'.format(138)\n",
    "print(s, ' is the number 2 with format \":3d\"')\n",
    "print(t, ' is the number 65 with format \":3d\"')\n",
    "print(u, ' is the number 138 with format \":3d\"')"
   ]
  },
  {
   "cell_type": "markdown",
   "id": "8608a881-3b24-4d40-bb8e-dcc09522ed4f",
   "metadata": {},
   "source": [
    "The `:<3d` format will make a string out of an integer where the string is at least 3 characters wide, with spaces on the right if the integer is less than 3 characters long."
   ]
  },
  {
   "cell_type": "code",
   "execution_count": 21,
   "id": "1154439b-45e8-420f-bc63-98d47a796dc5",
   "metadata": {
    "collapsed": true
   },
   "outputs": [
    {
     "name": "stdout",
     "output_type": "stream",
     "text": [
      "2    is the number 2 with format \"<:3d\"\n",
      "65   is the number 65 with format \"<:3d\"\n",
      "138  is the number 138 with format \"<:3d\"\n"
     ]
    }
   ],
   "source": [
    "s ='{:<3d}'.format(2)\n",
    "t ='{:<3d}'.format(65)\n",
    "u ='{:<3d}'.format(138)\n",
    "print(s, ' is the number 2 with format \"<:3d\"')\n",
    "print(t, ' is the number 65 with format \"<:3d\"')\n",
    "print(u, ' is the number 138 with format \"<:3d\"')"
   ]
  },
  {
   "cell_type": "markdown",
   "id": "db8395ea-c4b1-4702-9291-2c38a42fb0eb",
   "metadata": {},
   "source": [
    "The `:^3d` format will make a string out of an integer where the string is at least 3 characters wide but with the number in the middle if the integer is less than 3 characters long."
   ]
  },
  {
   "cell_type": "code",
   "execution_count": 20,
   "id": "d3b1a79e-aecb-4b62-9eca-752d01fa0a42",
   "metadata": {
    "collapsed": true
   },
   "outputs": [
    {
     "name": "stdout",
     "output_type": "stream",
     "text": [
      " 2   is the number 2 with format \"^:3d\"\n",
      "65   is the number 65 with format \"^:3d\"\n",
      "138  is the number 138 with format \"^:3d\"\n"
     ]
    }
   ],
   "source": [
    "s ='{:^3d}'.format(2)\n",
    "t ='{:^3d}'.format(65)\n",
    "u ='{:^3d}'.format(138)\n",
    "print(s, ' is the number 2 with format \"^:3d\"')\n",
    "print(t, ' is the number 65 with format \"^:3d\"')\n",
    "print(u, ' is the number 138 with format \"^:3d\"')"
   ]
  },
  {
   "cell_type": "markdown",
   "id": "1d9ef697-62df-4192-b8e1-74eddbf32a02",
   "metadata": {},
   "source": [
    "For real numbers, the `:2f` format will make a string out of a real number where the string has up to 2 numbers in the fraction, with zeros on the right if the fraction of the real number has less than 2 digits."
   ]
  },
  {
   "cell_type": "code",
   "execution_count": 41,
   "id": "9583a2b9-b96f-4970-b667-278139e6c114",
   "metadata": {
    "collapsed": true
   },
   "outputs": [
    {
     "name": "stdout",
     "output_type": "stream",
     "text": [
      "4.00  is the 4 with format \":.2f\"\n",
      "1.90  is the 1.9 with format \":.2f\"\n",
      "8.26  is the 8.26 with format \":.2f\"\n"
     ]
    }
   ],
   "source": [
    "s ='{:.2f}'.format(4)\n",
    "t ='{:.2f}'.format(1.9)\n",
    "u ='{:.2f}'.format(8.26)\n",
    "print(s, ' is the 4 with format \":.2f\"')\n",
    "print(t, ' is the 1.9 with format \":.2f\"')\n",
    "print(u, ' is the 8.26 with format \":.2f\"')"
   ]
  },
  {
   "cell_type": "markdown",
   "id": "e51010f1-82e9-499e-9b2c-428b3714fcbd",
   "metadata": {},
   "source": [
    "For strings, he `:5s` format will make a string at least 5 characters wide but with spaces on the right if the string is less than 3 characters long. \n",
    "The `:>5s` will make the string at least 5 characters long but with spaces on the left, and `^5s` will make the string at least 5 characters long but in\n",
    "the center of the string."
   ]
  },
  {
   "cell_type": "code",
   "execution_count": 17,
   "id": "a8bead56-b681-4a3d-a74b-226204a726a7",
   "metadata": {
    "collapsed": true
   },
   "outputs": [
    {
     "name": "stdout",
     "output_type": "stream",
     "text": [
      "one    is the \"one\" with format \":5s\"\n",
      "  one  is the \"one\" with format \":>5s\"\n",
      " one   is the \"one\" with format \":^5s\"\n",
      "eight  is the \"eight\" with format \":5s\"\n"
     ]
    }
   ],
   "source": [
    "s ='{:5s}'.format(\"one\")\n",
    "t ='{:>5s}'.format(\"one\")\n",
    "u ='{:^5s}'.format(\"one\")\n",
    "v ='{:^5s}'.format(\"eight\")\n",
    "print(s, ' is the \"one\" with format \":5s\"')\n",
    "print(t, ' is the \"one\" with format \":>5s\"')\n",
    "print(u, ' is the \"one\" with format \":^5s\"')\n",
    "print(v, ' is the \"eight\" with format \":5s\"')"
   ]
  }
 ],
 "metadata": {
  "kernelspec": {
   "display_name": "Python 3 (ipykernel)",
   "language": "python",
   "name": "python3"
  },
  "language_info": {
   "codemirror_mode": {
    "name": "ipython",
    "version": 3
   },
   "file_extension": ".py",
   "mimetype": "text/x-python",
   "name": "python",
   "nbconvert_exporter": "python",
   "pygments_lexer": "ipython3",
   "version": "3.11.5"
  }
 },
 "nbformat": 4,
 "nbformat_minor": 5
}
