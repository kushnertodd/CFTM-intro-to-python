{
 "cells": [
  {
   "cell_type": "markdown",
   "id": "58c94c69",
   "metadata": {},
   "source": [
    "## Variables\n",
    "Programs pass values from instruction to instruction using *variables*. \n",
    "This stores 5 in a variable named `x` and prints it out.\n",
    " `=` assigns 5 to `x`. "
   ]
  },
  {
   "cell_type": "code",
   "execution_count": null,
   "id": "b959830f",
   "metadata": {},
   "outputs": [],
   "source": [
    "x = 5\n",
    "print(\"x is \", x)"
   ]
  },
  {
   "cell_type": "markdown",
   "id": "d5f6b7de",
   "metadata": {},
   "source": [
    "The variable can be shown like this, where `x` is a name for a place in which the value 5 is stored.\n",
    "![image](variable1.jpg)\n",
    "Another way to print the variable `x` is with a *formatted string*, beginning with `f’` and ending with `'`. \n",
    "This prints out the value of the variable `x` in a formatted string, surrounding the variable `x` with `{` and `}`. \n",
    "Any Python value can be used between `{` and `}`. This can print a variable in a more concise way."
   ]
  },
  {
   "cell_type": "code",
   "execution_count": null,
   "id": "e22a8535",
   "metadata": {},
   "outputs": [],
   "source": [
    "x = 5\n",
    "print(f'x is {x}.')"
   ]
  },
  {
   "cell_type": "markdown",
   "id": "90eeb57e",
   "metadata": {},
   "source": [
    "A variable can be assigned a  value and then be assigned to another  value to replace it. This stores 5 in the variable `x`, and prints it out. \n",
    "It then stores 7 in `x` and prints it out."
   ]
  },
  {
   "cell_type": "code",
   "execution_count": null,
   "id": "76aece95",
   "metadata": {},
   "outputs": [],
   "source": [
    "x = 5\n",
    "print(f'first x is {x}')\n",
    "x = 7\n",
    "print(f'then x is {x}')"
   ]
  },
  {
   "cell_type": "markdown",
   "id": "409944f3",
   "metadata": {},
   "source": [
    "This can be shown like this, where `x` has the data 5 stored in it that is then replaced with the data 7, where `→` means \"set to new value\".\n",
    "![variable2.jpg](variable2.jpg)\n",
    "A variable can also be assigned the value of another variable. \n",
    "This stores 5 in the variable `x`, then assigns the variable `y` to the value of `x` and prints it out."
   ]
  },
  {
   "cell_type": "code",
   "execution_count": null,
   "id": "9b438088",
   "metadata": {},
   "outputs": [],
   "source": [
    "x = 5\n",
    "y = x\n",
    "print(f'x is {x} and y is {y}')"
   ]
  },
  {
   "cell_type": "markdown",
   "id": "4cc447ea",
   "metadata": {},
   "source": [
    "![image](variable3.jpg)\n",
    "Variables can store text strings as well as numbers.\n",
    "This stores a string in the variable `s` and prints it out."
   ]
  },
  {
   "cell_type": "code",
   "execution_count": null,
   "id": "fc018780",
   "metadata": {},
   "outputs": [],
   "source": [
    "s = \"Hello world\"\n",
    "print(f'the text is \"{s}\"')"
   ]
  },
  {
   "cell_type": "markdown",
   "id": "981e62a7",
   "metadata": {},
   "source": [
    "### A note on variable names\n",
    "Variable names start with a [*lowercase*](#glossary_lowercase) letter, `a` to `z`, or an [*uppercase*](#glossary_uppercase) letter, `A` to `Z`, or `_`. They can have a `_`, letter, or number inside but no other punctuation in them. They can not have a number at the beginning. "
   ]
  },
  {
   "cell_type": "code",
   "execution_count": null,
   "id": "25025f6a",
   "metadata": {},
   "outputs": [],
   "source": [
    "x = 2\n",
    "x_y = 3\n",
    "_x = 4\n",
    "print(f'x is {x}, x_y is {3}, _x is {4}')"
   ]
  },
  {
   "cell_type": "markdown",
   "id": "5bb3bb26",
   "metadata": {},
   "source": [
    "Capital and small letters matter, the variable name must always look exactly the same everywhere."
   ]
  },
  {
   "cell_type": "code",
   "execution_count": null,
   "id": "eb9828bf",
   "metadata": {},
   "outputs": [],
   "source": [
    "X = 5\n",
    "x = 6\n",
    "print(f'X is {X}, x is {x}')"
   ]
  },
  {
   "cell_type": "markdown",
   "id": "8dc40125",
   "metadata": {},
   "source": [
    "In the code here we will use different variable names for different types of data. They will be these:\n",
    "- `s`, `t`, `u`, `v`, and so on will have *string* values\n",
    "- `x`, `y`, `z`, and sometimes `n` will have number values"
   ]
  }
 ],
 "metadata": {
  "kernelspec": {
   "display_name": "Python 3 (ipykernel)",
   "language": "python",
   "name": "python3"
  },
  "language_info": {
   "codemirror_mode": {
    "name": "ipython",
    "version": 3
   },
   "file_extension": ".py",
   "mimetype": "text/x-python",
   "name": "python",
   "nbconvert_exporter": "python",
   "pygments_lexer": "ipython3",
   "version": "3.11.5"
  }
 },
 "nbformat": 4,
 "nbformat_minor": 5
}
